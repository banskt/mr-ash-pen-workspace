{
 "cells": [
  {
   "cell_type": "code",
   "execution_count": 1,
   "id": "d2e1c8c6",
   "metadata": {},
   "outputs": [],
   "source": [
    "%load_ext autoreload\n",
    "%autoreload 2\n",
    "\n",
    "#expr_path = '/home/sbanerjee/Documents/work/sparse-regression/gradvi-experiments/dsc/functions'\n",
    "expr_path = '/home/saikat/Documents/work/sparse-regression/mr-ash-penalized/gradvi-experiments/dsc/functions'\n",
    "\n",
    "import numpy as np\n",
    "import sys\n",
    "sys.path.append(expr_path)\n",
    "import simulate\n",
    "\n",
    "import matplotlib\n",
    "import matplotlib.pyplot as plt\n",
    "from pymir import mpl_stylesheet\n",
    "from pymir import mpl_utils\n",
    "mpl_stylesheet.banskt_presentation(splinecolor = 'black', dpi = 72)\n",
    "from mpl_toolkits.axes_grid1 import make_axes_locatable"
   ]
  },
  {
   "cell_type": "code",
   "execution_count": 90,
   "id": "9e1c5459",
   "metadata": {},
   "outputs": [],
   "source": [
    "rholist = [0.9, 0.9]\n",
    "ntrain  = 500\n",
    "ntest   = 500\n",
    "npred   = 2000\n",
    "pcausal = 10\n",
    "min_block_size = 100\n",
    "pve = 0.6\n",
    "signal = \"normal\"\n",
    "bfix = None\n",
    "\n",
    "xtrain, ytrain, xtest, ytest, btrue, strue = \\\n",
    "    simulate.linear_model(\n",
    "        ntrain, npred, pcausal, pve, ntest = ntest,\n",
    "        corr_method = 'blockdiag', rho = rholist, min_block_size = min_block_size,\n",
    "        signal = signal, bfix = bfix, #signal_params = {'loc': 10},\n",
    "        seed = None)"
   ]
  },
  {
   "cell_type": "code",
   "execution_count": 91,
   "id": "fb4f7a94",
   "metadata": {},
   "outputs": [
    {
     "name": "stderr",
     "output_type": "stream",
     "text": [
      "R[write to console]: For an X with many columns, please consider installing  the Rfast package for more efficient credible set (CS)  calculations.\n",
      "\n"
     ]
    }
   ],
   "source": [
    "import rpy2.robjects as robj\n",
    "import rpy2.robjects.vectors as rvec\n",
    "from rpy2.robjects.packages import importr\n",
    "from rpy2.robjects import numpy2ri\n",
    "numpy2ri.activate()\n",
    "\n",
    "def array_reduce(x):\n",
    "    ndim = x.ndim\n",
    "    if ndim == 1:\n",
    "        res = x[0] if x.shape[0] == 1 else x\n",
    "    elif ndim == 2:\n",
    "        res = x.reshape(-1) if x.shape[1] == 1 else x\n",
    "    return res\n",
    "\n",
    "\n",
    "def robj2dict_recursive(obj):\n",
    "    res = dict()\n",
    "    for key in obj.names:\n",
    "        elem = obj.rx2(key)\n",
    "        if isinstance(elem, (rvec.FloatVector, rvec.IntVector)):\n",
    "            res[key] = array_reduce(np.array(elem))\n",
    "        elif isinstance(elem, rvec.StrVector):\n",
    "            print (f\"ERROR: Abnormal StrVector output\")\n",
    "        elif isinstance(elem, np.ndarray):\n",
    "            res[key] = array_reduce(elem)\n",
    "        elif isinstance(elem, rvec.ListVector):\n",
    "            res[key] = robj2dict_recursive(elem)\n",
    "    return res\n",
    "\n",
    "def susie_r2py_wrapper(X, y, L = 20, tol = 0.001,\n",
    "                       scaled_prior_variance = 0.2,\n",
    "                       estimate_prior_variance = False):\n",
    "    susieR = importr('susieR')\n",
    "    \n",
    "    n, p     = X.shape\n",
    "    r_X      = robj.r.matrix(X, nrow = n, ncol = p)\n",
    "    r_y      = rvec.FloatVector(y)\n",
    "    \n",
    "    r_fit    = susieR.susie(r_X, r_y, \n",
    "                L = L, max_iter = 2000, tol = tol,\n",
    "                scaled_prior_variance = scaled_prior_variance,\n",
    "                estimate_prior_variance = estimate_prior_variance)\n",
    "    coef     = robj.r.coef(r_fit)\n",
    "    # coef = np.sum(res['alpha'] * res['mu'], axis = 0) / res['X_column_scale_factors']\n",
    "\n",
    "    fit_dict = robj2dict_recursive(r_fit)\n",
    "    fit_dict['coef'] = coef[1:]\n",
    "    return fit_dict\n",
    "\n",
    "susie = susie_r2py_wrapper(xtrain, ytrain, L = 10, estimate_prior_variance = True)"
   ]
  },
  {
   "cell_type": "code",
   "execution_count": 92,
   "id": "27809558",
   "metadata": {},
   "outputs": [
    {
     "data": {
      "text/plain": [
       "dict_keys(['alpha', 'mu', 'mu2', 'Xr', 'KL', 'lbf', 'lbf_variable', 'sigma2', 'V', 'pi', 'null_index', 'elbo', 'niter', 'intercept', 'fitted', 'sets', 'pip', 'X_column_scale_factors', 'coef'])"
      ]
     },
     "execution_count": 92,
     "metadata": {},
     "output_type": "execute_result"
    }
   ],
   "source": [
    "susie.keys()"
   ]
  },
  {
   "cell_type": "code",
   "execution_count": 93,
   "id": "f23b994a",
   "metadata": {},
   "outputs": [
    {
     "data": {
      "image/png": "[encoded data removed]",
      "text/plain": [
       "<Figure size 432x432 with 1 Axes>"
      ]
     },
     "metadata": {
      "needs_background": "light"
     },
     "output_type": "display_data"
    }
   ],
   "source": [
    "fig = plt.figure(figsize = (6, 6))\n",
    "ax1 = fig.add_subplot(111)\n",
    "ax1.scatter(btrue, susie['coef'])\n",
    "mpl_utils.plot_diag(ax1)\n",
    "plt.show()"
   ]
  },
  {
   "cell_type": "code",
   "execution_count": 135,
   "id": "39ced37e",
   "metadata": {},
   "outputs": [],
   "source": [
    "'''\n",
    "GradVI\n",
    "'''\n",
    "\n",
    "from gradvi.inference import LinearRegression\n",
    "from gradvi.priors import Ash\n",
    "\n",
    "def initialize_ash_prior(k, scale = 2, sparsity = None):\n",
    "    w = np.zeros(k)\n",
    "    w[0] = 1 / k if sparsity is None else sparsity\n",
    "    w[1:(k-1)] = np.repeat((1 - w[0])/(k-1), (k - 2))\n",
    "    w[k-1] = 1 - np.sum(w)\n",
    "    sk = np.abs((np.power(scale, np.arange(k) / k) - 1))\n",
    "    return w, sk\n",
    "\n",
    "winit, sk = initialize_ash_prior(20, scale = 2)\n",
    "prior = Ash(sk, wk = winit, scaled = True)\n",
    "gv1 = LinearRegression()\n",
    "gv1.fit(xtrain, ytrain, prior, s2_init = 1.0)"
   ]
  },
  {
   "cell_type": "code",
   "execution_count": 158,
   "id": "a74475d8",
   "metadata": {},
   "outputs": [],
   "source": [
    "from gradvi.models import LinearModel\n",
    "gv1nm = LinearModel(\n",
    "    gv1._X, gv1._y, gv1.theta, gv1.residual_var, gv1.prior,\n",
    "    dj = gv1._dj, objtype = 'reparametrize', debug = True).get_normal_means_model()\n",
    "phi, _, _ =  gv1nm.posterior()\n",
    "gv1_mrash_pip = 1 - phi [:, 0]"
   ]
  },
  {
   "cell_type": "code",
   "execution_count": 136,
   "id": "6d1ca0ee",
   "metadata": {},
   "outputs": [
    {
     "data": {
      "image/png": "[encoded data removed]",
      "text/plain": [
       "<Figure size 432x432 with 1 Axes>"
      ]
     },
     "metadata": {
      "needs_background": "light"
     },
     "output_type": "display_data"
    }
   ],
   "source": [
    "fig = plt.figure(figsize = (6, 6))\n",
    "ax1 = fig.add_subplot(111)\n",
    "ax1.scatter(btrue, gv1.coef)\n",
    "mpl_utils.plot_diag(ax1)\n",
    "plt.show()"
   ]
  },
  {
   "cell_type": "code",
   "execution_count": 155,
   "id": "1d072b6a",
   "metadata": {},
   "outputs": [
    {
     "data": {
      "text/plain": [
       "10.0"
      ]
     },
     "execution_count": 155,
     "metadata": {},
     "output_type": "execute_result"
    }
   ],
   "source": [
    "btrue_binary = np.zeros_like(btrue)\n",
    "btrue_binary[btrue != 0] = 1\n",
    "np.sum(btrue_binary)"
   ]
  },
  {
   "cell_type": "code",
   "execution_count": null,
   "id": "da9dc0f6",
   "metadata": {},
   "outputs": [],
   "source": []
  },
  {
   "cell_type": "code",
   "execution_count": 159,
   "id": "167d4bee",
   "metadata": {},
   "outputs": [
    {
     "data": {
      "image/png": "[encoded data removed]",
      "text/plain": [
       "<Figure size 432x432 with 1 Axes>"
      ]
     },
     "metadata": {
      "needs_background": "light"
     },
     "output_type": "display_data"
    }
   ],
   "source": [
    "from sklearn import metrics as sk_metrics\n",
    "\n",
    "def plot_fdr_recall(ax, btrue, bpred, label, color):\n",
    "    precision, recall, thresholds = sk_metrics.precision_recall_curve(btrue, bpred)\n",
    "    ax.plot(1 - precision, recall, label = label, color = color)\n",
    "    return\n",
    "\n",
    "fig = plt.figure(figsize = (6, 6))\n",
    "ax1 = fig.add_subplot(111)\n",
    "plot_fdr_recall(ax1, btrue_binary, susie['pip'], 'Susie', 'blue')\n",
    "plot_fdr_recall(ax1, btrue_binary, gv1_mrash_pip, 'Mr.Ash', 'red')\n",
    "#mpl_utils.plot_diag(ax1)\n",
    "ax1.legend()\n",
    "plt.show()"
   ]
  },
  {
   "cell_type": "code",
   "execution_count": 143,
   "id": "b163c54c",
   "metadata": {},
   "outputs": [
    {
     "data": {
      "text/plain": [
       "array([0.03384939, 0.01542241, 0.01176616, ..., 0.06975758, 0.0764715 ,\n",
       "       0.06577323])"
      ]
     },
     "execution_count": 143,
     "metadata": {},
     "output_type": "execute_result"
    }
   ],
   "source": [
    "gv1.theta"
   ]
  },
  {
   "cell_type": "code",
   "execution_count": 146,
   "id": "7ec44513",
   "metadata": {},
   "outputs": [
    {
     "data": {
      "text/plain": [
       "0.8605773340597782"
      ]
     },
     "execution_count": 146,
     "metadata": {},
     "output_type": "execute_result"
    }
   ],
   "source": [
    "gv1.residual_var"
   ]
  },
  {
   "cell_type": "code",
   "execution_count": 144,
   "id": "6a8fd0c9",
   "metadata": {},
   "outputs": [
    {
     "data": {
      "text/plain": [
       "{'_is_debug': False,\n",
       " '_loglevel': None,\n",
       " 'logger':                                           gradvi:<Logger gradvi (WARNING)>\n",
       "                        gradvi.optimize.root_find:<Logger gradvi.optimize.root_find (WARNING)>\n",
       "               gradvi.inference.linear_regression:<Logger gradvi.inference.linear_regression (WARNING)>\n",
       "                       gradvi.models.linear_model:<Logger gradvi.models.linear_model (DEBUG)>\n",
       "                       gradvi.normal_means.nm_ash:<Logger gradvi.normal_means.nm_ash (WARNING)>\n",
       "  gradvi.normal_means.normal_means_from_posterior:<Logger gradvi.normal_means.normal_means_from_posterior (WARNING)>,\n",
       " '_y': array([0.03384939, 0.01542241, 0.01176616, ..., 0.06975758, 0.0764715 ,\n",
       "        0.06577323]),\n",
       " '_wk': array([9.98292762e-01, 8.27132498e-10, 9.77758565e-10, 1.45063178e-09,\n",
       "        2.10067430e-09, 2.75069126e-09, 3.41312028e-09, 4.31073542e-09,\n",
       "        5.86099681e-09, 8.87865956e-09, 1.51338977e-08, 2.85443854e-08,\n",
       "        5.76623530e-08, 1.21434919e-07, 2.67281930e-07, 6.44735057e-07,\n",
       "        1.87968430e-06, 7.80629145e-06, 6.12782739e-05, 1.63510841e-03]),\n",
       " '_sk': array([0.        , 0.03526492, 0.07177346, 0.10956947, 0.14869835,\n",
       "        0.18920712, 0.23114441, 0.27456063, 0.31950791, 0.36604026,\n",
       "        0.41421356, 0.4640857 , 0.51571657, 0.5691682 , 0.62450479,\n",
       "        0.68179283, 0.74110113, 0.80250093, 0.86606598, 0.93187266]),\n",
       " '_k': 20,\n",
       " '_sj2': array([0.00172115, 0.00172115, 0.00172115, ..., 0.00172115, 0.00172115,\n",
       "        0.00172115]),\n",
       " '_n': 2000,\n",
       " '_is_scaled': True,\n",
       " '_scale': 0.8605773340597782,\n",
       " '_d': array([500., 500., 500., ..., 500., 500., 500.]),\n",
       " '_is_homogeneous': False,\n",
       " '_nonzero_widx': array([ 0,  1,  2,  3,  4,  5,  6,  7,  8,  9, 10, 11, 12, 13, 14, 15, 16,\n",
       "        17, 18, 19]),\n",
       " 'randomseed': 0.5774763887082361,\n",
       " '_v2': array([[0.002     , 0.00324361, 0.00715143, ..., 0.64600773, 0.75207029,\n",
       "         0.87038665],\n",
       "        [0.002     , 0.00324361, 0.00715143, ..., 0.64600773, 0.75207029,\n",
       "         0.87038665],\n",
       "        [0.002     , 0.00324361, 0.00715143, ..., 0.64600773, 0.75207029,\n",
       "         0.87038665],\n",
       "        ...,\n",
       "        [0.002     , 0.00324361, 0.00715143, ..., 0.64600773, 0.75207029,\n",
       "         0.87038665],\n",
       "        [0.002     , 0.00324361, 0.00715143, ..., 0.64600773, 0.75207029,\n",
       "         0.87038665],\n",
       "        [0.002     , 0.00324361, 0.00715143, ..., 0.64600773, 0.75207029,\n",
       "         0.87038665]]),\n",
       " '_logv2': array([[-6.2146081 , -5.73106688, -4.94044295, ..., -0.4369438 ,\n",
       "         -0.28492549, -0.13881774],\n",
       "        [-6.2146081 , -5.73106688, -4.94044295, ..., -0.4369438 ,\n",
       "         -0.28492549, -0.13881774],\n",
       "        [-6.2146081 , -5.73106688, -4.94044295, ..., -0.4369438 ,\n",
       "         -0.28492549, -0.13881774],\n",
       "        ...,\n",
       "        [-6.2146081 , -5.73106688, -4.94044295, ..., -0.4369438 ,\n",
       "         -0.28492549, -0.13881774],\n",
       "        [-6.2146081 , -5.73106688, -4.94044295, ..., -0.4369438 ,\n",
       "         -0.28492549, -0.13881774],\n",
       "        [-6.2146081 , -5.73106688, -4.94044295, ..., -0.4369438 ,\n",
       "         -0.28492549, -0.13881774]])}"
      ]
     },
     "execution_count": 144,
     "metadata": {},
     "output_type": "execute_result"
    }
   ],
   "source": [
    "gv1nm.__dict__"
   ]
  },
  {
   "cell_type": "code",
   "execution_count": 147,
   "id": "6475a0f7",
   "metadata": {},
   "outputs": [
    {
     "data": {
      "text/plain": [
       "array([3.87421916e-06, 1.35679951e-06, 1.00574228e-06, ...,\n",
       "       2.34643500e-05, 3.41856907e-05, 1.89198255e-05])"
      ]
     },
     "execution_count": 147,
     "metadata": {},
     "output_type": "execute_result"
    }
   ],
   "source": [
    "gv1nm.shrinkage_operator(jac = False)"
   ]
  },
  {
   "cell_type": "code",
   "execution_count": 148,
   "id": "19c68bd4",
   "metadata": {},
   "outputs": [
    {
     "data": {
      "text/plain": [
       "array([3.87421916e-06, 1.35679951e-06, 1.00574228e-06, ...,\n",
       "       2.34643500e-05, 3.41856907e-05, 1.89198255e-05])"
      ]
     },
     "execution_count": 148,
     "metadata": {},
     "output_type": "execute_result"
    }
   ],
   "source": [
    "gv1.coef"
   ]
  },
  {
   "cell_type": "code",
   "execution_count": 151,
   "id": "8d6f850f",
   "metadata": {},
   "outputs": [],
   "source": [
    "phi, _, _ =  gv1nm.posterior()"
   ]
  },
  {
   "cell_type": "code",
   "execution_count": 152,
   "id": "0933fac5",
   "metadata": {},
   "outputs": [
    {
     "data": {
      "text/plain": [
       "(2000, 20)"
      ]
     },
     "execution_count": 152,
     "metadata": {},
     "output_type": "execute_result"
    }
   ],
   "source": [
    "phi.shape"
   ]
  },
  {
   "cell_type": "code",
   "execution_count": 154,
   "id": "a028df02",
   "metadata": {},
   "outputs": [
    {
     "data": {
      "text/plain": [
       "array([0.99988528, 0.99991182, 0.99991432, ..., 0.99966285, 0.99955192,\n",
       "       0.99971168])"
      ]
     },
     "execution_count": 154,
     "metadata": {},
     "output_type": "execute_result"
    }
   ],
   "source": [
    "gv1_mrash_pip = 1 - phi[:, 0]"
   ]
  },
  {
   "cell_type": "code",
   "execution_count": null,
   "id": "cd6dcc24",
   "metadata": {},
   "outputs": [],
   "source": []
  },
  {
   "cell_type": "code",
   "execution_count": 138,
   "id": "b25a4641",
   "metadata": {},
   "outputs": [
    {
     "data": {
      "text/plain": [
       "{'_b': array([3.87421916e-06, 1.35679951e-06, 1.00574228e-06, ...,\n",
       "        2.34643500e-05, 3.41856907e-05, 1.89198255e-05]),\n",
       " '_prior': <gradvi.priors.ash.Ash at 0x7f625ff58190>,\n",
       " '_sj2': 0.0017211546681195574,\n",
       " '_z0': array([3.87421916e-06, 1.35679951e-06, 1.00574228e-06, ...,\n",
       "        2.34643500e-05, 3.41856907e-05, 1.89198255e-05]),\n",
       " '_method': 'trisection',\n",
       " '_scale': 0.8605773340597782,\n",
       " '_d': 499.9999999999997,\n",
       " '_bracket': None,\n",
       " '_is_debug': False,\n",
       " 'logger':                                           gradvi:<Logger gradvi (WARNING)>\n",
       "                        gradvi.optimize.root_find:<Logger gradvi.optimize.root_find (WARNING)>\n",
       "               gradvi.inference.linear_regression:<Logger gradvi.inference.linear_regression (WARNING)>\n",
       "                       gradvi.models.linear_model:<Logger gradvi.models.linear_model (DEBUG)>\n",
       "                       gradvi.normal_means.nm_ash:<Logger gradvi.normal_means.nm_ash (WARNING)>\n",
       "  gradvi.normal_means.normal_means_from_posterior:<Logger gradvi.normal_means.normal_means_from_posterior (WARNING)>,\n",
       " '_is_homogeneous': True,\n",
       " '_kwargs': {'full_output': True},\n",
       " '_binvobj': None,\n",
       " '_nmcalls': 0}"
      ]
     },
     "execution_count": 138,
     "metadata": {},
     "output_type": "execute_result"
    }
   ],
   "source": [
    "gv1nm.__dict__"
   ]
  },
  {
   "cell_type": "code",
   "execution_count": 139,
   "id": "ebbe0d87",
   "metadata": {},
   "outputs": [
    {
     "data": {
      "text/plain": [
       "array([3.87421916e-06, 1.35679951e-06, 1.00574228e-06, ...,\n",
       "       2.34643500e-05, 3.41856907e-05, 1.89198255e-05])"
      ]
     },
     "execution_count": 139,
     "metadata": {},
     "output_type": "execute_result"
    }
   ],
   "source": [
    "gv1.coef"
   ]
  },
  {
   "cell_type": "code",
   "execution_count": 141,
   "id": "6e6521b1",
   "metadata": {},
   "outputs": [
    {
     "data": {
      "text/plain": [
       "array([0.03381731, 0.01553902, 0.01173818, ..., 0.06976081, 0.07646937,\n",
       "       0.06576952])"
      ]
     },
     "execution_count": 141,
     "metadata": {},
     "output_type": "execute_result"
    }
   ],
   "source": [
    "gv1nm.response"
   ]
  },
  {
   "cell_type": "code",
   "execution_count": 18,
   "id": "9c95c2c1",
   "metadata": {},
   "outputs": [
    {
     "data": {
      "text/plain": [
       "array([-6.27570345e-04, -1.39378256e-03, -1.89437276e-03,  4.24677456e-04,\n",
       "       -5.14489366e-04, -1.91929941e-03, -1.43114822e-03, -1.07752874e-03,\n",
       "       -5.73953347e-04,  1.28281590e-04, -5.37352075e-04, -6.17583642e-04,\n",
       "        2.95216549e-04, -8.40317928e-04,  1.76282832e-03, -9.68567263e-04,\n",
       "       -1.17468917e-03, -1.26068727e-03, -2.24038027e-04, -1.82580435e-03,\n",
       "       -1.37177035e-03,  7.47092793e-04, -1.11414414e-03, -9.71461495e-06,\n",
       "       -1.02358662e-03, -4.08326233e-04, -9.67798077e-04, -1.08563273e-03,\n",
       "        9.74451978e-05, -1.27203673e-03, -5.71781635e-04, -5.93846982e-04,\n",
       "       -1.50419946e-03,  5.95721836e-04, -7.55396064e-04, -3.76810824e-04,\n",
       "       -2.59377612e-05, -2.89341695e-03, -1.16444711e-04, -8.49412011e-04,\n",
       "       -6.07765439e-04, -1.08052738e-04, -7.59776697e-04, -3.30813549e-03,\n",
       "        4.02004596e-04, -2.07747908e-03,  3.72565487e-05, -4.18039728e-04,\n",
       "       -1.12035796e-03,  2.25658780e-04, -1.09546120e-03, -1.65666809e-03,\n",
       "        3.62484168e-05, -9.49493331e-04, -4.04350727e-04, -6.66592991e-04,\n",
       "       -3.92527276e-04, -6.92387745e-04, -1.81683260e-03, -1.24388574e-03,\n",
       "        3.65432911e-04, -6.07666398e-04,  4.45005033e-04, -3.38700665e-04,\n",
       "       -7.83494225e-04, -2.27895399e-05, -1.33064487e-04, -3.09584569e-04,\n",
       "       -1.45247774e-03, -1.84694456e-03, -2.57535317e-04, -1.08203167e-04,\n",
       "       -1.39256834e-03,  2.67856110e-05, -8.46235802e-04, -1.47763922e-03,\n",
       "       -1.62834242e-04, -9.15408296e-04, -1.84813279e-03, -1.16634820e-03,\n",
       "       -6.32862489e-05, -2.10931316e-04,  8.05703188e-05, -3.15164371e-03,\n",
       "       -2.71004449e-04, -6.05691280e-04,  6.48096633e-04, -4.82942559e-04,\n",
       "       -1.38329582e-03, -2.05334519e-04, -6.93911509e-04,  7.54894300e-06,\n",
       "       -2.61875073e-03,  8.40275314e-04,  6.18589316e-04, -6.54603434e-04,\n",
       "       -1.71524181e-03, -1.43673109e-03, -4.00011839e-04, -5.54664232e-04,\n",
       "       -8.37873680e-04, -9.52783313e-04,  5.57544116e-05, -6.48974718e-04,\n",
       "        9.36752488e-05, -5.28572821e-05, -7.73909843e-04, -5.57179212e-04,\n",
       "       -1.70793306e-03, -9.74614158e-04, -1.33449111e-04,  7.54954886e-04,\n",
       "        3.06776091e-04, -8.39674556e-04, -7.91867448e-04, -1.11349745e-03,\n",
       "       -2.00675824e-03, -1.69657725e-03, -3.23912250e-03, -4.18040328e-04,\n",
       "       -1.01460910e-03, -4.16563795e-04,  4.99715312e-04, -1.39896388e-03,\n",
       "       -1.54073165e-03, -9.07174881e-04, -9.62220450e-04, -9.13028651e-04,\n",
       "       -1.98941359e-03, -2.54990923e-04, -3.44652446e-04, -2.00644807e-03,\n",
       "       -1.02466726e-03, -7.32327679e-04, -8.26012711e-04, -1.16530443e-03,\n",
       "       -9.33618067e-04, -2.30591485e-03, -2.31573726e-04, -7.18049693e-04,\n",
       "       -2.36625512e-03, -1.95744773e-05, -6.12987367e-04, -1.91260619e-03,\n",
       "       -1.44883173e-03, -1.17712759e-04, -8.79648469e-04, -1.64833369e-03,\n",
       "       -4.24945616e-04, -5.95744854e-04, -7.20031531e-04, -8.82447100e-04,\n",
       "       -3.11870705e-03, -1.95494872e-04, -5.05278174e-04, -4.83755639e-03,\n",
       "       -3.49661277e-04, -2.64382655e-04,  4.57075083e-04, -2.27989876e-04,\n",
       "       -1.73912309e-03, -1.33128071e-03, -1.55601062e-03,  1.86192076e-04,\n",
       "       -4.03948200e-04, -4.53927300e-04, -6.17432313e-04, -9.36222469e-04,\n",
       "       -2.85252765e-04, -1.05026143e-03, -2.00354826e-03, -1.17571471e-03,\n",
       "       -1.09188089e-03,  6.36651924e-04,  5.41565566e-06, -1.02073855e-04,\n",
       "       -6.16446384e-04, -5.83373046e-04, -7.50137719e-04, -9.50864950e-04,\n",
       "       -1.79822817e-03, -6.86990143e-04, -1.81939599e-04, -6.74295814e-04,\n",
       "       -1.10001143e-03, -2.71938486e-04, -1.73667812e-04, -9.42543788e-04,\n",
       "        6.48738197e-04, -1.57935185e-03, -4.71991185e-04, -4.54644795e-04,\n",
       "       -1.24400903e-03, -1.80978017e-03, -2.11181400e-04,  5.76148826e-04,\n",
       "       -8.20338469e-04, -1.40382857e-03, -2.96338836e-03,  2.81458836e-05,\n",
       "       -3.95184496e-04,  2.91301710e-04, -1.58975408e-04, -1.47524148e-03,\n",
       "       -6.83525799e-04, -2.87928833e-04, -1.25820632e-03, -2.25383131e-04,\n",
       "       -1.34438601e-03, -4.71816586e-04,  2.50585627e-04, -1.62507132e-04,\n",
       "       -2.66158999e-04, -4.63579342e-04, -1.62866629e-03, -1.10528784e-03,\n",
       "       -9.19848648e-05,  4.82588691e-04,  2.88226747e-04,  3.46032907e-04,\n",
       "       -7.54002417e-04, -1.32293837e-04, -9.39673889e-04, -2.70098511e-03,\n",
       "       -3.24271531e-04, -3.07324737e-03, -4.05317880e-04, -1.89381419e-03,\n",
       "       -5.36239042e-04, -1.63965947e-03, -5.87754452e-04, -8.47819842e-04,\n",
       "       -1.38206106e-03, -1.82339823e-03, -1.49021721e-03, -7.47962910e-04,\n",
       "       -1.67004726e-03, -1.09725892e-03,  4.66153023e-04, -3.26268327e-04,\n",
       "       -3.64052869e-04, -6.52275723e-04, -7.41105669e-04, -1.01700683e-03,\n",
       "       -1.35605349e-03, -9.55787547e-04, -3.53433425e-04, -1.87259771e-03,\n",
       "       -1.15403276e-03, -1.43023834e-03, -8.26569002e-04,  2.58016464e-04,\n",
       "       -8.98632491e-04, -3.70969179e-04, -2.09214336e-03, -6.17389924e-04,\n",
       "       -6.72689206e-04, -1.88754866e-03, -7.95990677e-05, -1.78782930e-03,\n",
       "       -1.70369548e-03, -2.57803366e-03, -6.53128359e-04, -9.89853318e-04,\n",
       "       -1.55984638e-04, -1.47942902e-03, -1.96407753e-03,  1.15249748e-04,\n",
       "       -6.73918925e-04, -4.61482049e-04, -1.33434085e-03, -3.54617994e-04,\n",
       "       -2.05484680e-03, -9.35365051e-06, -9.81103505e-04, -1.00296752e-03,\n",
       "       -1.32682812e-03, -3.07902573e-05,  6.59833031e-05, -1.76321928e-03,\n",
       "       -4.09502992e-04, -5.29367277e-04, -6.26758877e-04, -4.51492046e-04,\n",
       "       -5.80465050e-04,  2.31609260e-04, -1.24045201e-03, -1.13769978e-03,\n",
       "       -7.52445690e-04, -6.10456633e-04,  3.69111796e-04, -8.17281329e-04,\n",
       "       -2.82378266e-03, -1.34735741e-03, -1.61669605e-04, -2.73614891e-04,\n",
       "       -1.45637368e-03,  1.27671839e-04, -2.27290230e-04, -8.92914723e-04,\n",
       "        2.40543677e-04, -7.85185010e-04, -2.23817600e-04, -1.77687312e-03,\n",
       "       -7.62930061e-04, -1.14490612e-04, -5.05656049e-04, -9.34133931e-04,\n",
       "       -1.66122744e-03, -2.32338421e-04, -5.67462956e-05, -2.81333038e-04,\n",
       "       -1.65752625e-03, -1.93163061e-03, -5.49199858e-04,  8.44990459e-04,\n",
       "       -1.64561602e-03, -5.60799224e-05, -8.23783335e-04, -8.06559854e-04,\n",
       "       -2.16371723e-04, -1.04671501e-03, -1.44185205e-03, -1.53963540e-03,\n",
       "       -1.95668290e-03, -7.28129898e-04, -1.10570239e-04, -1.29696291e-03,\n",
       "       -4.09578825e-04, -5.91916052e-04,  8.34125206e-04, -1.00600434e-03,\n",
       "       -1.40743444e-04, -1.29866670e-03, -1.53272072e-03, -6.44605903e-04,\n",
       "       -1.64934538e-04, -4.70879053e-04, -2.91859575e-03,  4.71509576e-04,\n",
       "        4.32746341e-05, -1.08798955e-03, -7.77276697e-04, -1.54893188e-03,\n",
       "        1.50307721e-04, -6.16554459e-04, -4.47468671e-04,  2.02827759e-04,\n",
       "       -3.30340702e-04,  3.92001223e-05, -7.93092534e-04, -7.83363125e-04,\n",
       "       -1.34298781e-03, -4.20414967e-05, -8.60239874e-04, -6.13290747e-04,\n",
       "       -7.55700566e-04, -1.31427800e-03, -1.23265422e-03, -6.56556117e-04,\n",
       "        1.11334353e-04, -2.39839981e-04, -8.64311202e-04, -4.51018088e-04,\n",
       "       -4.03880803e-04, -7.94673452e-04, -1.04802789e-03, -1.82595483e-03,\n",
       "       -2.11299092e-03, -2.89104579e-03,  8.71472108e-04, -5.84889042e-04,\n",
       "       -9.39700821e-04, -1.21098441e-03, -4.50013648e-04, -2.56578211e-03,\n",
       "       -1.24597559e-03, -8.08278564e-04, -9.79752889e-04, -2.08834006e-03,\n",
       "        1.55511878e-03, -2.13444637e-03, -1.50744282e-03, -2.46058288e-03,\n",
       "       -3.99423704e-04,  7.85552824e-05, -1.16326712e-03, -7.35865248e-04,\n",
       "       -4.33125904e-04, -8.95650197e-05, -2.21348245e-03, -2.78910589e-03,\n",
       "       -3.11056167e-04, -1.01893325e-03, -3.38604816e-04, -1.54608915e-03,\n",
       "       -1.55863091e-04, -8.13298956e-04,  6.29498971e-05, -1.38096626e-04,\n",
       "       -3.31141128e-04, -4.87014767e-04, -1.27970103e-03, -2.45342209e-03,\n",
       "       -9.77265861e-04, -9.18591839e-04, -9.07580890e-04,  4.80843636e-04,\n",
       "       -8.92546061e-05, -2.05671835e-03,  7.52779229e-04, -1.08755276e-03,\n",
       "       -1.41147704e-03, -3.53123776e-04, -1.48807756e-03, -1.13387933e-03,\n",
       "       -1.84957595e-03, -8.63086460e-04, -2.11736371e-04, -2.20403429e-03,\n",
       "       -9.12667067e-04, -6.05477528e-04, -2.07912158e-04,  4.22331688e-05,\n",
       "       -6.50349458e-04, -1.42976008e-03, -1.48730209e-03, -8.19388619e-04,\n",
       "        8.77768344e-05, -1.00517230e-03,  1.91345957e-05, -3.42925359e-04,\n",
       "       -1.61109425e-03, -7.16125506e-04, -1.54262802e-03, -1.49154878e-03,\n",
       "       -5.48023447e-04,  9.98283427e-04,  1.26062687e-04, -1.56589947e-03,\n",
       "       -4.15527853e-04, -6.20240794e-04,  6.81830591e-04, -4.73815942e-04,\n",
       "       -2.63567092e-04, -1.51240474e-03, -3.70433594e-04, -7.16529541e-04,\n",
       "       -1.99857291e-03, -1.05068455e-03, -3.12113808e-04, -4.77450520e-04,\n",
       "       -8.38873452e-04, -8.60574320e-04, -1.15615735e-03,  2.30097692e-06,\n",
       "        1.26744056e-04, -1.50142747e-03, -1.24901317e-03, -6.82775981e-04,\n",
       "       -9.80422632e-04, -3.21808979e-04,  2.97668711e-04, -7.21002797e-04,\n",
       "       -9.62439913e-04, -1.54873904e-03, -7.23817201e-04,  4.80430407e-04,\n",
       "       -1.63200091e-03, -2.53957456e-04, -2.91302674e-03, -4.44701601e-04,\n",
       "       -1.66330719e-03, -1.13023479e-04, -2.35505817e-04, -5.62906275e-04,\n",
       "       -5.02778473e-07,  6.42798815e-04, -4.29055528e-04, -5.36776510e-04,\n",
       "       -3.13731869e-04, -1.38690312e-03,  8.05627426e-06, -1.59766216e-03,\n",
       "        1.43222327e-04, -7.26458276e-04, -4.56764845e-04, -6.46154995e-04,\n",
       "       -1.50480466e-04, -7.81616778e-04,  2.70558041e-04, -7.22319959e-04,\n",
       "       -9.10895688e-04, -1.36310961e-04, -2.29768980e-03,  6.20749458e-06,\n",
       "       -3.05316564e-04, -2.14463425e-03, -2.23127053e-04, -3.69153845e-04,\n",
       "       -1.65073874e-03, -7.00412299e-04,  5.16521785e-04, -7.08899892e-04,\n",
       "       -2.25257235e-03, -1.72400317e-03, -2.14958597e-04, -8.48762592e-04,\n",
       "       -1.34883183e-03,  4.61897022e-05, -1.04321995e-03, -1.29044428e-03,\n",
       "       -2.76444102e-04, -2.16258235e-04, -1.66725393e-03, -8.94170884e-04,\n",
       "       -5.05417199e-04,  5.49946650e-06, -6.07464728e-04, -6.47121149e-04,\n",
       "       -1.62285357e-03, -3.78023383e-04,  3.45324236e-05, -6.21180831e-04,\n",
       "       -7.72947157e-04, -1.27926395e-03, -9.65959680e-04, -9.61518271e-04,\n",
       "       -1.63690970e-03, -8.75434412e-04, -1.76848069e-05, -1.92695544e-03,\n",
       "       -2.19538678e-04, -5.04160482e-04, -4.75900380e-04, -5.49649404e-04,\n",
       "        4.54979252e-04, -6.92714004e-04, -1.39720961e-04, -2.28633125e-04,\n",
       "       -3.46735212e-04, -9.55705368e-04, -2.36970382e-03,  1.08352144e-03,\n",
       "       -1.17123178e-03, -8.72017948e-04, -1.13711632e-03, -2.78115202e-03,\n",
       "       -2.01287904e-03, -3.77050232e-04,  1.47303916e-04, -5.39658525e-04,\n",
       "       -9.87023838e-04, -3.68591470e-04, -2.82933905e-03, -1.15714172e-03,\n",
       "        6.22083136e-04, -1.11905062e-03, -3.89012939e-03, -2.81694210e-03,\n",
       "        9.23473066e-04, -1.46063485e-04, -1.18223467e-03, -1.17903242e-03,\n",
       "       -6.98801905e-04, -1.26311798e-03, -1.24092043e-03,  6.38561475e-04,\n",
       "       -1.63626743e-03,  4.15044932e-04, -2.54781729e-03, -6.17858610e-04,\n",
       "       -9.30636137e-04, -1.02819667e-03, -9.96966189e-04, -1.01198846e-03,\n",
       "       -9.13160307e-04, -5.41767530e-04, -1.29544241e-03, -2.26045303e-04,\n",
       "        1.84093128e-04, -6.12232549e-05,  1.32114848e-04, -1.63019863e-05,\n",
       "        3.58651326e-05, -1.00111669e-03, -8.32854741e-04, -7.81304023e-04,\n",
       "       -2.80404568e-04, -2.01532701e-04, -1.88209658e-03, -1.06835321e-03,\n",
       "       -7.45712137e-04, -1.03931077e-03,  5.45883827e-04, -1.55290649e-04,\n",
       "       -8.91541768e-04, -2.22853860e-03, -9.44972613e-04, -3.95297832e-04,\n",
       "       -2.08502700e-04,  1.64274997e-04, -3.14881903e-04, -4.15464838e-04,\n",
       "       -4.68247172e-04,  4.99780639e-04, -8.77568833e-04,  2.56805242e-04,\n",
       "       -6.80695167e-04, -7.68905953e-04, -7.57522768e-04, -9.31005919e-05,\n",
       "       -2.18338135e-04, -1.62953455e-03,  2.16974448e-04, -1.33693063e-03,\n",
       "       -1.37971265e-03,  4.20754343e-04, -1.27468077e-03, -2.35756951e-03,\n",
       "       -1.37769812e-03, -2.06648216e-03, -1.88542940e-03, -4.29368583e-03,\n",
       "       -4.65849705e-04, -1.84424932e-04, -3.23126643e-04, -2.43830072e-04,\n",
       "       -8.76676913e-05, -1.11246264e-03, -9.45081041e-04, -8.33460282e-04,\n",
       "       -2.44184920e-04, -4.43199965e-04, -4.87461672e-04,  6.18315803e-04,\n",
       "       -1.57826677e-03, -8.92986922e-04, -1.15002343e-03, -5.70051764e-04,\n",
       "       -6.66507653e-05,  2.17043284e-04, -1.28954476e-03, -1.07500846e-04,\n",
       "       -1.15369480e-03, -1.63193855e-03, -1.00625173e-03, -2.16490393e-04,\n",
       "       -1.43660762e-03, -1.05196121e-03, -1.82756780e-03, -1.30898262e-03,\n",
       "        3.24423618e-05, -1.09047272e-03, -7.51604033e-04,  9.24406182e-04,\n",
       "       -1.39997148e-04, -4.02149008e-04, -1.72115788e-03, -1.32090061e-03,\n",
       "       -1.59069369e-03, -2.44096236e-04, -4.02625942e-04, -1.90932494e-03,\n",
       "       -9.41313582e-04,  1.02434093e-03,  8.72013152e-05, -8.85270408e-04,\n",
       "       -3.18856134e-03, -7.41017326e-04, -1.82279411e-03, -1.92004834e-04,\n",
       "       -8.48706998e-04, -1.83260566e-03, -1.05369967e-04, -1.61548650e-03,\n",
       "       -9.54215740e-04, -2.18079316e-03, -2.41981904e-03,  3.61769920e-04,\n",
       "        3.58275539e-04, -1.00106641e-03, -1.59855714e-03, -6.87389149e-04,\n",
       "       -1.12974922e-03,  1.03584316e-04, -1.33697469e-03, -1.24066826e-03,\n",
       "       -1.73634888e-03, -2.99662341e-04, -4.41571373e-04, -2.37952561e-04,\n",
       "       -2.31243104e-04, -7.21452916e-04,  2.42964441e-04,  4.46765248e-04,\n",
       "       -8.71927415e-04, -1.30009951e-04, -4.36715134e-04, -1.94398746e-04,\n",
       "       -3.04840710e-04, -5.20191329e-04, -3.09699235e-03, -1.19581133e-03,\n",
       "       -4.17758220e-04, -3.68245144e-04,  5.90460655e-04, -1.06181543e-03,\n",
       "       -7.51876306e-04, -5.09531180e-04, -1.16580176e-03, -1.78201546e-03,\n",
       "       -6.56602032e-04,  1.70753524e-04, -2.53718393e-04, -1.76999325e-03,\n",
       "       -1.04555413e-03, -2.64210344e-04, -1.96852296e-03,  1.79441942e-04,\n",
       "       -5.02225551e-04,  9.39624718e-04, -9.31567193e-04, -5.99474492e-04,\n",
       "       -5.89503969e-04, -6.35726902e-04, -5.51899279e-03, -1.27761400e-03,\n",
       "       -4.20116347e-04, -1.08022418e-03, -2.93436959e-04, -9.78540151e-04,\n",
       "       -1.50017691e-03, -1.04592458e-03, -1.06712205e-03,  1.25884276e-04,\n",
       "        4.48508799e-04, -1.30265810e-03, -1.65655729e-03, -9.56945886e-04,\n",
       "       -2.86061264e-04,  7.17020874e-05,  2.87183085e-05, -6.78298525e-04,\n",
       "       -8.56613435e-04, -2.74277236e-03, -3.24896335e-04,  1.33479988e-04,\n",
       "       -1.46160427e-03,  1.45126367e-06, -6.51280375e-04, -1.20415551e-03,\n",
       "        3.16764898e-04,  3.29991233e-04, -1.00385638e-03, -1.17892734e-03,\n",
       "       -9.81205456e-04, -2.60158340e-03, -3.38354569e-04, -6.94257350e-04,\n",
       "       -6.81732139e-04, -5.20846954e-04,  1.17077320e-03, -1.55970260e-03,\n",
       "        1.11213049e-04,  1.31354060e-04, -9.01363619e-04, -1.56529142e-03,\n",
       "       -1.78428385e-04, -4.85540488e-04, -4.47421846e-04, -1.10274746e-03,\n",
       "       -1.07003056e-03, -1.16737689e-03, -9.88842567e-04, -8.96737863e-04,\n",
       "       -8.85063073e-04, -1.01021952e-03, -4.03183605e-04, -1.49146604e-04,\n",
       "       -4.84660402e-04, -1.00302536e-03,  6.23003031e-04, -9.23051021e-04,\n",
       "       -3.64774248e-04, -2.62149118e-05, -5.68615543e-04, -6.22527143e-04,\n",
       "       -1.75136102e-03, -1.33954619e-03, -8.06849741e-04, -1.44500250e-03,\n",
       "       -1.03548582e-03,  3.18962638e-04, -4.56801603e-04, -1.95579581e-03,\n",
       "       -9.28578445e-04, -8.85445808e-04, -9.55412638e-04, -1.08329378e-03,\n",
       "       -1.88512594e-03, -7.40093744e-04, -6.14382654e-04, -6.74750871e-05,\n",
       "       -1.93985764e-03, -7.92943555e-05, -7.66749898e-04, -1.48216125e-03,\n",
       "        3.41737561e-04, -6.69596263e-04, -1.44644403e-04, -6.45078004e-04,\n",
       "       -1.72632211e-03, -1.19822860e-03, -4.30581759e-04, -6.42906131e-04,\n",
       "       -5.25738063e-05, -1.09868613e-03, -5.22692416e-04, -7.32323627e-04,\n",
       "       -6.12157413e-04, -5.71180512e-04, -8.05419051e-04, -1.13591990e-03,\n",
       "       -3.28627593e-04, -2.62091621e-03,  4.97153810e-04, -1.65196132e-04,\n",
       "       -1.30260014e-03,  4.83866538e-06, -5.30656075e-04, -8.71600799e-05,\n",
       "       -3.06312962e-04, -8.15156917e-04, -3.77397298e-04, -1.04878859e-03,\n",
       "        2.01851073e-04, -2.32385370e-03, -1.89501027e-03, -5.30128756e-04,\n",
       "       -1.18602989e-05,  2.05322238e-04, -1.30094672e-03, -9.91577818e-04,\n",
       "       -9.02645499e-04, -9.42412133e-04, -2.22721210e-04,  5.00164119e-04,\n",
       "        1.10552503e-04,  1.27340051e-04, -2.87679591e-04, -3.91914827e-04,\n",
       "       -3.77296767e-04, -2.40202774e-03, -9.48532591e-05, -3.33441095e-03,\n",
       "       -1.81828700e-03, -5.03912378e-04, -2.99281967e-04, -3.17883907e-04,\n",
       "       -5.63328655e-04, -5.10371232e-04, -1.05519713e-03, -9.99832657e-04,\n",
       "       -3.70800646e-04, -6.89125822e-04, -1.06939354e-03, -3.61173836e-04,\n",
       "       -1.97462512e-03, -1.94451788e-03, -1.00738399e-04, -8.23601831e-04,\n",
       "       -1.04982393e-03, -1.79841002e-03,  4.96540642e-04, -1.60354907e-03,\n",
       "        1.91190829e-04, -1.03032222e-03,  2.12035107e-04, -4.91022725e-04,\n",
       "       -1.26477858e-03,  2.42526691e-04, -1.27933959e-03, -1.27030151e-03,\n",
       "        4.12069549e-04, -9.73156472e-04, -9.50177072e-04, -3.46860906e-04,\n",
       "       -6.01657565e-04, -7.56886819e-04, -3.81544959e-04, -8.39434607e-04,\n",
       "       -3.26384772e-04, -5.41912987e-04,  3.96633316e-04, -6.97539122e-04,\n",
       "       -8.48479766e-04, -1.05726121e-03, -2.44899458e-04,  3.16412632e-04,\n",
       "       -1.82031782e-04, -1.20543294e-03, -4.56490369e-04, -1.81479728e-04,\n",
       "       -2.20228986e-03, -1.38573045e-03, -3.75806020e-04, -9.17390253e-04,\n",
       "       -5.92275944e-04, -8.18366096e-05, -1.37627345e-03, -4.32761862e-04,\n",
       "       -8.09669398e-04, -3.32454541e-04, -1.53355035e-03, -1.32869720e-03,\n",
       "        8.38379455e-06, -8.46890208e-04, -3.41947062e-05,  2.47377911e-04,\n",
       "       -4.94817977e-04, -1.81845608e-03, -1.03564499e-03, -9.54644353e-04,\n",
       "        2.80864301e-04,  2.42265102e-04, -1.18636225e-03, -2.05687282e-04,\n",
       "       -2.76703416e+00, -1.43392315e-03,  2.53412723e-04,  7.12945551e-04,\n",
       "       -9.21538736e-04,  1.86257660e-04,  4.38337874e-05, -3.31698374e-04,\n",
       "       -1.05555129e-03, -1.42796384e-04, -1.60688063e-04, -4.40720782e-04,\n",
       "       -6.94720413e-04, -4.72844298e-04, -1.29511165e-03, -7.06502652e-04,\n",
       "       -1.74528578e-03, -1.40262476e-03, -9.55847040e-04, -7.58868080e-04,\n",
       "       -1.57676793e-03, -4.68694598e-05, -2.30369507e-03, -1.56049701e-04,\n",
       "       -1.00394285e-03,  4.34965737e-04, -8.55022895e-04, -1.66962810e-04,\n",
       "       -1.88586416e-03, -5.94457975e-04, -7.32799524e-05, -8.47379250e-04,\n",
       "       -2.83931380e-03, -1.28559290e-03, -8.80996174e-04, -6.57597355e-04,\n",
       "       -5.69002937e-04, -1.15947548e-03, -5.06020650e-04, -1.13390440e-03,\n",
       "        1.01343070e-03, -7.58518476e-04, -5.36358627e-04, -1.15218561e-03,\n",
       "       -8.18821289e-04, -8.34007410e-04, -3.97595537e-04, -1.28828084e-03,\n",
       "       -1.67811998e-03,  3.87897888e-04, -8.25496938e-04, -4.06075710e-04,\n",
       "       -1.49500865e-03, -3.75824672e-04, -6.41890598e-04,  4.72705559e-04,\n",
       "       -7.00581708e-04, -1.12404207e-03, -1.13457162e-03,  5.69108939e-04,\n",
       "       -3.59999418e-04, -6.09016602e-05, -1.82712015e-03,  3.48776464e-05,\n",
       "       -5.84788229e-04, -7.58299295e-04, -3.02311464e-04, -2.11385731e-03,\n",
       "       -8.21975543e-04,  2.42217058e-04, -6.86267418e-04,  3.58119180e-05])"
      ]
     },
     "execution_count": 18,
     "metadata": {},
     "output_type": "execute_result"
    }
   ],
   "source": []
  },
  {
   "cell_type": "code",
   "execution_count": null,
   "id": "203182d9",
   "metadata": {},
   "outputs": [],
   "source": []
  }
 ],
 "metadata": {
  "kernelspec": {
   "display_name": "Python 3 (ipykernel)",
   "language": "python",
   "name": "python3"
  },
  "language_info": {
   "codemirror_mode": {
    "name": "ipython",
    "version": 3
   },
   "file_extension": ".py",
   "mimetype": "text/x-python",
   "name": "python",
   "nbconvert_exporter": "python",
   "pygments_lexer": "ipython3",
   "version": "3.9.12"
  }
 },
 "nbformat": 4,
 "nbformat_minor": 5
}
