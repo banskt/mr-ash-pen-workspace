{
 "cells": [
  {
   "cell_type": "code",
   "execution_count": 1,
   "id": "972f70f8",
   "metadata": {},
   "outputs": [],
   "source": [
    "import numpy as np"
   ]
  },
  {
   "cell_type": "code",
   "execution_count": 2,
   "id": "b9a0ce6b",
   "metadata": {},
   "outputs": [],
   "source": [
    "import libmrashpen_plr_mrash"
   ]
  },
  {
   "cell_type": "code",
   "execution_count": 3,
   "id": "fbbd71d5",
   "metadata": {},
   "outputs": [],
   "source": [
    "import libmrashpen_lbfgs_driver"
   ]
  },
  {
   "cell_type": "code",
   "execution_count": 4,
   "id": "40beae6a",
   "metadata": {},
   "outputs": [
    {
     "data": {
      "text/plain": [
       "['__doc__',\n",
       " '__f2py_numpy_version__',\n",
       " '__file__',\n",
       " '__loader__',\n",
       " '__name__',\n",
       " '__package__',\n",
       " '__spec__',\n",
       " '__version__',\n",
       " '_libmrashpen_plr_mrash_error',\n",
       " 'env_precision',\n",
       " 'futils',\n",
       " 'global_parameters',\n",
       " 'normal_means_ash_scaled',\n",
       " 'plr_mrash']"
      ]
     },
     "execution_count": 4,
     "metadata": {},
     "output_type": "execute_result"
    }
   ],
   "source": [
    "dir(libmrashpen_plr_mrash)"
   ]
  },
  {
   "cell_type": "code",
   "execution_count": 5,
   "id": "f05e159e",
   "metadata": {},
   "outputs": [
    {
     "data": {
      "text/plain": [
       "['__call__',\n",
       " '__class__',\n",
       " '__delattr__',\n",
       " '__dir__',\n",
       " '__doc__',\n",
       " '__eq__',\n",
       " '__format__',\n",
       " '__ge__',\n",
       " '__getattribute__',\n",
       " '__gt__',\n",
       " '__hash__',\n",
       " '__init__',\n",
       " '__init_subclass__',\n",
       " '__le__',\n",
       " '__lt__',\n",
       " '__ne__',\n",
       " '__new__',\n",
       " '__reduce__',\n",
       " '__reduce_ex__',\n",
       " '__repr__',\n",
       " '__setattr__',\n",
       " '__sizeof__',\n",
       " '__str__',\n",
       " '__subclasshook__',\n",
       " 'plr_obj_grad_shrinkop',\n",
       " 'plr_penalty_operator',\n",
       " 'plr_shrinkage_operator']"
      ]
     },
     "execution_count": 5,
     "metadata": {},
     "output_type": "execute_result"
    }
   ],
   "source": [
    "dir(libmrashpen_plr_mrash.plr_mrash)"
   ]
  },
  {
   "cell_type": "code",
   "execution_count": 6,
   "id": "d755f9b3",
   "metadata": {},
   "outputs": [
    {
     "name": "stdout",
     "output_type": "stream",
     "text": [
      "obj,bgrad,wgrad,s2grad = plr_obj_grad_shrinkop(x,y,b,s2,wk,sk,djinv,[n,p,k])\n",
      "\n",
      "Wrapper for ``plr_obj_grad_shrinkop``.\n",
      "\n",
      "Parameters\n",
      "----------\n",
      "x : input rank-2 array('d') with bounds (n,p)\n",
      "y : input rank-1 array('d') with bounds (n)\n",
      "b : input rank-1 array('d') with bounds (p)\n",
      "s2 : input float\n",
      "wk : input rank-1 array('d') with bounds (k)\n",
      "sk : input rank-1 array('d') with bounds (k)\n",
      "djinv : input rank-1 array('d') with bounds (p)\n",
      "\n",
      "Other Parameters\n",
      "----------------\n",
      "n : input int, optional\n",
      "    Default: shape(x, 0)\n",
      "p : input int, optional\n",
      "    Default: shape(x, 1)\n",
      "k : input int, optional\n",
      "    Default: shape(wk, 0)\n",
      "\n",
      "Returns\n",
      "-------\n",
      "obj : float\n",
      "bgrad : rank-1 array('d') with bounds (p)\n",
      "wgrad : rank-1 array('d') with bounds (k)\n",
      "s2grad : float\n",
      "\n"
     ]
    }
   ],
   "source": [
    "print(libmrashpen_plr_mrash.plr_mrash.plr_obj_grad_shrinkop.__doc__)"
   ]
  },
  {
   "cell_type": "code",
   "execution_count": 7,
   "id": "a901504f",
   "metadata": {},
   "outputs": [
    {
     "data": {
      "text/plain": [
       "['__doc__',\n",
       " '__f2py_numpy_version__',\n",
       " '__file__',\n",
       " '__loader__',\n",
       " '__name__',\n",
       " '__package__',\n",
       " '__spec__',\n",
       " '__version__',\n",
       " '_libmrashpen_lbfgs_driver_error',\n",
       " 'active',\n",
       " 'bmv',\n",
       " 'cauchy',\n",
       " 'cmprlb',\n",
       " 'dcsrch',\n",
       " 'dcstep',\n",
       " 'dpofa',\n",
       " 'dtrsl',\n",
       " 'env_precision',\n",
       " 'errclb',\n",
       " 'formk',\n",
       " 'formt',\n",
       " 'freev',\n",
       " 'futils',\n",
       " 'global_parameters',\n",
       " 'hpsolb',\n",
       " 'lbfgsb_driver',\n",
       " 'lnsrlb',\n",
       " 'mainlb',\n",
       " 'matupd',\n",
       " 'normal_means_ash_scaled',\n",
       " 'plr_mrash',\n",
       " 'prn1lb',\n",
       " 'prn2lb',\n",
       " 'prn3lb',\n",
       " 'projgr',\n",
       " 'setulb',\n",
       " 'subsm',\n",
       " 'timer']"
      ]
     },
     "execution_count": 7,
     "metadata": {},
     "output_type": "execute_result"
    }
   ],
   "source": [
    "dir(libmrashpen_lbfgs_driver)"
   ]
  },
  {
   "cell_type": "code",
   "execution_count": 8,
   "id": "093c0cc7",
   "metadata": {},
   "outputs": [
    {
     "data": {
      "text/plain": [
       "['__call__',\n",
       " '__class__',\n",
       " '__delattr__',\n",
       " '__dir__',\n",
       " '__doc__',\n",
       " '__eq__',\n",
       " '__format__',\n",
       " '__ge__',\n",
       " '__getattribute__',\n",
       " '__gt__',\n",
       " '__hash__',\n",
       " '__init__',\n",
       " '__init_subclass__',\n",
       " '__le__',\n",
       " '__lt__',\n",
       " '__ne__',\n",
       " '__new__',\n",
       " '__reduce__',\n",
       " '__reduce_ex__',\n",
       " '__repr__',\n",
       " '__setattr__',\n",
       " '__sizeof__',\n",
       " '__str__',\n",
       " '__subclasshook__',\n",
       " 'combine_integer_parameters',\n",
       " 'combine_parameters',\n",
       " 'min_plr_shrinkop',\n",
       " 'prnstop',\n",
       " 'split_parameters']"
      ]
     },
     "execution_count": 8,
     "metadata": {},
     "output_type": "execute_result"
    }
   ],
   "source": [
    "dir(libmrashpen_lbfgs_driver.lbfgsb_driver)"
   ]
  },
  {
   "cell_type": "code",
   "execution_count": 9,
   "id": "5bc86641",
   "metadata": {},
   "outputs": [
    {
     "name": "stdout",
     "output_type": "stream",
     "text": [
      "topt,wopt,s2opt,obj,grad,nfev,niter,task = min_plr_shrinkop(x,y,t,w,s2,sgrid,nopt,is_topt,is_wopt,is_s2opt,smlb,m,iprint,factr,pgtol,maxiter,maxfev,[n,p,k])\n",
      "\n",
      "Wrapper for ``min_plr_shrinkop``.\n",
      "\n",
      "Parameters\n",
      "----------\n",
      "x : input rank-2 array('d') with bounds (n,p)\n",
      "y : input rank-1 array('d') with bounds (n)\n",
      "t : input rank-1 array('d') with bounds (p)\n",
      "w : input rank-1 array('d') with bounds (k)\n",
      "s2 : input float\n",
      "sgrid : input rank-1 array('d') with bounds (k)\n",
      "nopt : input int\n",
      "is_topt : input int\n",
      "is_wopt : input int\n",
      "is_s2opt : input int\n",
      "smlb : input float\n",
      "m : input int\n",
      "iprint : input int\n",
      "factr : input float\n",
      "pgtol : input float\n",
      "maxiter : input int\n",
      "maxfev : input int\n",
      "\n",
      "Other Parameters\n",
      "----------------\n",
      "n : input int, optional\n",
      "    Default: shape(x, 0)\n",
      "p : input int, optional\n",
      "    Default: shape(x, 1)\n",
      "k : input int, optional\n",
      "    Default: shape(w, 0)\n",
      "\n",
      "Returns\n",
      "-------\n",
      "topt : rank-1 array('d') with bounds (p)\n",
      "wopt : rank-1 array('d') with bounds (k)\n",
      "s2opt : float\n",
      "obj : float\n",
      "grad : rank-1 array('d') with bounds (nopt)\n",
      "nfev : int\n",
      "niter : int\n",
      "task : string(len=60)\n",
      "\n"
     ]
    }
   ],
   "source": [
    "print(libmrashpen_lbfgs_driver.lbfgsb_driver.min_plr_shrinkop.__doc__)"
   ]
  },
  {
   "cell_type": "code",
   "execution_count": 10,
   "id": "5b639495",
   "metadata": {},
   "outputs": [
    {
     "data": {
      "text/plain": [
       "2.220446049250313e-16"
      ]
     },
     "execution_count": 10,
     "metadata": {},
     "output_type": "execute_result"
    }
   ],
   "source": [
    "np.finfo(float).eps"
   ]
  },
  {
   "cell_type": "code",
   "execution_count": null,
   "id": "b7a5e909",
   "metadata": {},
   "outputs": [],
   "source": []
  }
 ],
 "metadata": {
  "kernelspec": {
   "display_name": "Python 3 (ipykernel)",
   "language": "python",
   "name": "python3"
  },
  "language_info": {
   "codemirror_mode": {
    "name": "ipython",
    "version": 3
   },
   "file_extension": ".py",
   "mimetype": "text/x-python",
   "name": "python",
   "nbconvert_exporter": "python",
   "pygments_lexer": "ipython3",
   "version": "3.9.12"
  }
 },
 "nbformat": 4,
 "nbformat_minor": 5
}
