{
 "cells": [
  {
   "cell_type": "markdown",
   "id": "3e52d346",
   "metadata": {},
   "source": [
    "Run the FORTRAN code in `mr-ash-pen/src/mrashpen/flibs` and compare results.\n",
    "```\n",
    "gfortran env_precision.f90 global_parameters.f90 futils.f90 normal_means_ash_scaled.f90 plr_mrash.f90 main.f90 -lblas -llapack -o runtest\n",
    "./runtest\n",
    "```"
   ]
  },
  {
   "cell_type": "code",
   "execution_count": 1,
   "id": "e5878e47",
   "metadata": {},
   "outputs": [],
   "source": [
    "import numpy as np\n",
    "from mrashpen.models.plr_ash import PenalizedMrASH as PenMrASH\n",
    "from mrashpen.models.normal_means_ash_scaled import NormalMeansASHScaled"
   ]
  },
  {
   "cell_type": "code",
   "execution_count": 2,
   "id": "9a2f4fbb",
   "metadata": {},
   "outputs": [],
   "source": [
    "n = 5\n",
    "p = 6\n",
    "k = 3\n",
    "std = 0.9\n",
    "b  = np.array([1.21, 2.32, 0.01, 0.03, 0.11, 3.12])\n",
    "sk = np.array([0.1, 0.5, 0.9])\n",
    "wk = np.array([0.5, 0.25, 0.25])\n",
    "y  = np.array([3.5, 4.5, 1.2, 6.5, 2.8])\n",
    "XT = np.array([8.79, 6.11,-9.15, 9.57,-3.49, 9.84,\n",
    "               9.93, 6.91,-7.93, 1.64, 4.02, 0.15, \n",
    "               9.83, 5.04, 4.86, 8.83, 9.80,-8.99,\n",
    "               5.45,-0.27, 4.85, 0.74,10.00,-6.02,\n",
    "               3.16, 7.98, 3.01, 5.80, 4.27,-5.31])\n",
    "X = XT.reshape(p, n).T"
   ]
  },
  {
   "cell_type": "code",
   "execution_count": 3,
   "id": "10f0b804",
   "metadata": {},
   "outputs": [
    {
     "data": {
      "text/plain": [
       "array([[ 8.79,  9.84,  4.02,  8.83,  4.85,  7.98],\n",
       "       [ 6.11,  9.93,  0.15,  9.8 ,  0.74,  3.01],\n",
       "       [-9.15,  6.91,  9.83, -8.99, 10.  ,  5.8 ],\n",
       "       [ 9.57, -7.93,  5.04,  5.45, -6.02,  4.27],\n",
       "       [-3.49,  1.64,  4.86, -0.27,  3.16, -5.31]])"
      ]
     },
     "execution_count": 3,
     "metadata": {},
     "output_type": "execute_result"
    }
   ],
   "source": [
    "X"
   ]
  },
  {
   "cell_type": "code",
   "execution_count": 4,
   "id": "79f647a2",
   "metadata": {},
   "outputs": [],
   "source": [
    "pmash = PenMrASH(X, y, b, std, wk, sk, debug = True, is_prior_scaled = True)"
   ]
  },
  {
   "cell_type": "code",
   "execution_count": 5,
   "id": "db6557a4",
   "metadata": {},
   "outputs": [
    {
     "name": "stdout",
     "output_type": "stream",
     "text": [
      "2022-04-13 11:46:22,411 | mrashpen.models.plr_ash | DEBUG | Calculating PLR objective with sigma2 = 0.81\n"
     ]
    },
    {
     "data": {
      "text/plain": [
       "3205.58796066751"
      ]
     },
     "execution_count": 5,
     "metadata": {},
     "output_type": "execute_result"
    }
   ],
   "source": [
    "pmash.objective"
   ]
  },
  {
   "cell_type": "code",
   "execution_count": 6,
   "id": "b3810796",
   "metadata": {},
   "outputs": [],
   "source": [
    "bgrad, wgrad, s2grad = pmash.gradients"
   ]
  },
  {
   "cell_type": "code",
   "execution_count": 7,
   "id": "5d0b5042",
   "metadata": {},
   "outputs": [
    {
     "data": {
      "text/plain": [
       "array([ 693.89890522, 1257.60334498,  293.85995256,  615.7151167 ,\n",
       "        440.13054884,  956.56182369])"
      ]
     },
     "execution_count": 7,
     "metadata": {},
     "output_type": "execute_result"
    }
   ],
   "source": [
    "bgrad"
   ]
  },
  {
   "cell_type": "code",
   "execution_count": 8,
   "id": "c250349f",
   "metadata": {},
   "outputs": [
    {
     "data": {
      "text/plain": [
       "array([-14.83246902,   6.95343333,  -1.28849528])"
      ]
     },
     "execution_count": 8,
     "metadata": {},
     "output_type": "execute_result"
    }
   ],
   "source": [
    "wgrad"
   ]
  },
  {
   "cell_type": "code",
   "execution_count": 9,
   "id": "31b0719b",
   "metadata": {},
   "outputs": [
    {
     "data": {
      "text/plain": [
       "-3956.0004809984725"
      ]
     },
     "execution_count": 9,
     "metadata": {},
     "output_type": "execute_result"
    }
   ],
   "source": [
    "s2grad"
   ]
  },
  {
   "cell_type": "code",
   "execution_count": 10,
   "id": "b61137a5",
   "metadata": {},
   "outputs": [
    {
     "data": {
      "text/plain": [
       "array([-3.06487518, -6.18177123,  0.73109578,  0.77572404,  0.35992288,\n",
       "       -9.45746262])"
      ]
     },
     "execution_count": 10,
     "metadata": {},
     "output_type": "execute_result"
    }
   ],
   "source": [
    "nmash = NormalMeansASHScaled(b, std, wk, sk, d = pmash._dj)\n",
    "nmash.logML"
   ]
  },
  {
   "cell_type": "code",
   "execution_count": 17,
   "id": "f962ee98",
   "metadata": {},
   "outputs": [
    {
     "data": {
      "text/plain": [
       "array([-2.37739752, -3.52362732, -0.64357177, -2.32604672, -6.65298927,\n",
       "       -4.71726323])"
      ]
     },
     "execution_count": 17,
     "metadata": {},
     "output_type": "execute_result"
    }
   ],
   "source": [
    "nmash.logML_deriv"
   ]
  },
  {
   "cell_type": "code",
   "execution_count": 19,
   "id": "75832f7e",
   "metadata": {},
   "outputs": [
    {
     "data": {
      "text/plain": [
       "array([-1.47055059, -4.84490893,  5.81448277,  6.04539061,  5.3812026 ,\n",
       "       -8.12512828])"
      ]
     },
     "execution_count": 19,
     "metadata": {},
     "output_type": "execute_result"
    }
   ],
   "source": [
    "nmash.log_sum_wkLjk(nmash.logLjk(derive = 1))"
   ]
  },
  {
   "cell_type": "code",
   "execution_count": 11,
   "id": "f78a70a7",
   "metadata": {},
   "outputs": [
    {
     "data": {
      "text/plain": [
       "array([302.0837, 308.7531, 161.833 , 284.6044, 170.2961, 152.8095])"
      ]
     },
     "execution_count": 11,
     "metadata": {},
     "output_type": "execute_result"
    }
   ],
   "source": [
    "pmash._dj"
   ]
  },
  {
   "cell_type": "code",
   "execution_count": 12,
   "id": "624e5287",
   "metadata": {},
   "outputs": [
    {
     "name": "stdout",
     "output_type": "stream",
     "text": [
      "[-0.69314718 -1.38629436 -1.38629436]\n"
     ]
    }
   ],
   "source": [
    "def softmax(x, base = np.exp(1)):\n",
    "    if base is not None:\n",
    "        beta = np.log(base)\n",
    "        x = x * beta\n",
    "    e_x = np.exp(x - np.max(x))\n",
    "    return e_x / np.sum(e_x, axis = 0, keepdims = True)\n",
    "\n",
    "smlogbase = 1.0\n",
    "ak = np.log(wk) / smlogbase\n",
    "print(ak)"
   ]
  },
  {
   "cell_type": "code",
   "execution_count": 13,
   "id": "33e7ec64",
   "metadata": {},
   "outputs": [
    {
     "data": {
      "text/plain": [
       "array([0.5 , 0.25, 0.25])"
      ]
     },
     "execution_count": 13,
     "metadata": {},
     "output_type": "execute_result"
    }
   ],
   "source": [
    "softmax(ak, base = np.exp(smlogbase))"
   ]
  },
  {
   "cell_type": "code",
   "execution_count": 14,
   "id": "6a365527",
   "metadata": {},
   "outputs": [
    {
     "data": {
      "text/plain": [
       "array([[ 0.25  , -0.125 , -0.125 ],\n",
       "       [-0.125 ,  0.1875, -0.0625],\n",
       "       [-0.125 , -0.0625,  0.1875]])"
      ]
     },
     "execution_count": 14,
     "metadata": {},
     "output_type": "execute_result"
    }
   ],
   "source": [
    "akjac = smlogbase * wk.reshape(-1, 1) * (np.eye(k) - wk)\n",
    "akjac"
   ]
  },
  {
   "cell_type": "code",
   "execution_count": 15,
   "id": "410debfe",
   "metadata": {},
   "outputs": [
    {
     "data": {
      "text/plain": [
       "array([-4.41623451,  3.23835833,  1.17787618])"
      ]
     },
     "execution_count": 15,
     "metadata": {},
     "output_type": "execute_result"
    }
   ],
   "source": [
    "agrad  = np.sum(wgrad * akjac, axis = 1)\n",
    "agrad"
   ]
  },
  {
   "cell_type": "code",
   "execution_count": 16,
   "id": "32898f28",
   "metadata": {},
   "outputs": [
    {
     "data": {
      "text/plain": [
       "array([[-3.70811726, -0.86917917,  0.16106191],\n",
       "       [ 1.85405863,  1.30376875,  0.08053096],\n",
       "       [ 1.85405863, -0.43458958, -0.24159287]])"
      ]
     },
     "execution_count": 16,
     "metadata": {},
     "output_type": "execute_result"
    }
   ],
   "source": [
    "wgrad * akjac"
   ]
  },
  {
   "cell_type": "code",
   "execution_count": null,
   "id": "4c413fc1",
   "metadata": {},
   "outputs": [],
   "source": []
  },
  {
   "cell_type": "code",
   "execution_count": null,
   "id": "6e1cb323",
   "metadata": {},
   "outputs": [],
   "source": []
  }
 ],
 "metadata": {
  "kernelspec": {
   "display_name": "Python 3 (ipykernel)",
   "language": "python",
   "name": "python3"
  },
  "language_info": {
   "codemirror_mode": {
    "name": "ipython",
    "version": 3
   },
   "file_extension": ".py",
   "mimetype": "text/x-python",
   "name": "python",
   "nbconvert_exporter": "python",
   "pygments_lexer": "ipython3",
   "version": "3.9.12"
  }
 },
 "nbformat": 4,
 "nbformat_minor": 5
}
