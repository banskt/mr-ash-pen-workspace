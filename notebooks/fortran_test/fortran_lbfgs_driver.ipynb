{
 "cells": [
  {
   "cell_type": "code",
   "execution_count": 1,
   "id": "6629c265",
   "metadata": {},
   "outputs": [],
   "source": [
    "import numpy as np\n",
    "\n",
    "from mrashpen.inference.penalized_regression import PenalizedRegression as PLR\n",
    "from mrashpen.inference.mrash_wrapR          import MrASHR\n",
    "\n",
    "import sys\n",
    "sys.path.append('/home/saikat/Documents/work/sparse-regression/simulation/eb-linreg-dsc/dsc/functions')\n",
    "import simulate\n",
    "\n",
    "import matplotlib.pyplot as plt\n",
    "from pymir import mpl_stylesheet\n",
    "from pymir import mpl_utils\n",
    "mpl_stylesheet.banskt_presentation(splinecolor = 'black')"
   ]
  },
  {
   "cell_type": "code",
   "execution_count": 2,
   "id": "1ba9c65e",
   "metadata": {},
   "outputs": [],
   "source": [
    "def center_and_scale(Z):\n",
    "    dim = Z.ndim\n",
    "    if dim == 1:\n",
    "        Znew = Z / np.std(Z)\n",
    "        Znew = Znew - np.mean(Znew)\n",
    "    elif dim == 2:\n",
    "        Znew = Z / np.std(Z, axis = 0)\n",
    "        Znew = Znew - np.mean(Znew, axis = 0).reshape(1, -1)\n",
    "    return Znew\n",
    "\n",
    "def initialize_ash_prior(k, scale = 2, sparsity = None):\n",
    "    w = np.zeros(k)\n",
    "    w[0] = 1 / k if sparsity is None else sparsity\n",
    "    w[1:(k-1)] = np.repeat((1 - w[0])/(k-1), (k - 2))\n",
    "    w[k-1] = 1 - np.sum(w)\n",
    "    sk2 = np.square((np.power(scale, np.arange(k) / k) - 1))\n",
    "    prior_grid = np.sqrt(sk2)\n",
    "    return w, prior_grid"
   ]
  },
  {
   "cell_type": "code",
   "execution_count": 3,
   "id": "da1671eb",
   "metadata": {},
   "outputs": [],
   "source": [
    "n = 200\n",
    "p = 2000\n",
    "p_causal = 10\n",
    "pve = 0.7\n",
    "k = 20\n",
    "\n",
    "X, y, Xtest, ytest, btrue, strue = simulate.equicorr_predictors(n, p, p_causal, pve, rho = 0.95, seed = 10)\n",
    "X      = center_and_scale(X)\n",
    "Xtest  = center_and_scale(Xtest)\n",
    "winit, sk = initialize_ash_prior(k, scale = 2)\n",
    "s2init = np.var(y - np.mean(y))"
   ]
  },
  {
   "cell_type": "code",
   "execution_count": 4,
   "id": "32cd1fdb",
   "metadata": {},
   "outputs": [
    {
     "data": {
      "text/plain": [
       "array([200., 200., 200., ..., 200., 200., 200.])"
      ]
     },
     "execution_count": 4,
     "metadata": {},
     "output_type": "execute_result"
    }
   ],
   "source": [
    "np.sum(np.square(X), axis = 0)"
   ]
  },
  {
   "cell_type": "code",
   "execution_count": 5,
   "id": "0e6f65d6",
   "metadata": {},
   "outputs": [
    {
     "data": {
      "text/plain": [
       "array([1., 1., 1., ..., 1., 1., 1.])"
      ]
     },
     "execution_count": 5,
     "metadata": {},
     "output_type": "execute_result"
    }
   ],
   "source": [
    "np.std(X, axis = 0)"
   ]
  },
  {
   "cell_type": "code",
   "execution_count": 6,
   "id": "9be146e4",
   "metadata": {},
   "outputs": [],
   "source": [
    "binit = btrue.copy()"
   ]
  },
  {
   "cell_type": "code",
   "execution_count": 7,
   "id": "fc958d35",
   "metadata": {},
   "outputs": [
    {
     "data": {
      "text/plain": [
       "1.1723683608566409"
      ]
     },
     "execution_count": 7,
     "metadata": {},
     "output_type": "execute_result"
    }
   ],
   "source": [
    "s2init"
   ]
  },
  {
   "cell_type": "code",
   "execution_count": 8,
   "id": "34a266f1",
   "metadata": {},
   "outputs": [
    {
     "data": {
      "text/plain": [
       "array([0., 0., 0., ..., 0., 0., 0.])"
      ]
     },
     "execution_count": 8,
     "metadata": {},
     "output_type": "execute_result"
    }
   ],
   "source": [
    "binit"
   ]
  },
  {
   "cell_type": "code",
   "execution_count": 9,
   "id": "f18818a2",
   "metadata": {},
   "outputs": [
    {
     "data": {
      "text/plain": [
       "array([0.05, 0.05, 0.05, 0.05, 0.05, 0.05, 0.05, 0.05, 0.05, 0.05, 0.05,\n",
       "       0.05, 0.05, 0.05, 0.05, 0.05, 0.05, 0.05, 0.05, 0.05])"
      ]
     },
     "execution_count": 9,
     "metadata": {},
     "output_type": "execute_result"
    }
   ],
   "source": [
    "winit"
   ]
  },
  {
   "cell_type": "code",
   "execution_count": 12,
   "id": "9f4b2992",
   "metadata": {
    "scrolled": true
   },
   "outputs": [
    {
     "name": "stdout",
     "output_type": "stream",
     "text": [
      "mr.ash.pen terminated at iteration 374.\n"
     ]
    }
   ],
   "source": [
    "'''\n",
    "mr.ash.pen\n",
    "'''\n",
    "plr_lbfgs = PLR(method = 'L-BFGS-B', optimize_w = True, optimize_s = True, is_prior_scaled = True,\n",
    "                function_call = 'python',\n",
    "                debug = False, display_progress = False, calculate_elbo = False)\n",
    "plr_lbfgs.fit(X, y, sk, binit = binit, winit = winit, s2init = s2init, is_binit_coef = False)"
   ]
  },
  {
   "cell_type": "code",
   "execution_count": 13,
   "id": "4664df5c",
   "metadata": {},
   "outputs": [
    {
     "data": {
      "text/plain": [
       "array([ 0.00827775, -0.01586799, -0.00934386, ..., -0.01891988,\n",
       "       -0.0078695 , -0.00292602])"
      ]
     },
     "execution_count": 13,
     "metadata": {},
     "output_type": "execute_result"
    }
   ],
   "source": [
    "plr_lbfgs.theta"
   ]
  },
  {
   "cell_type": "code",
   "execution_count": 14,
   "id": "df2ef476",
   "metadata": {},
   "outputs": [
    {
     "data": {
      "text/plain": [
       "array([ 22.04245413, -36.88411924, -22.00432855, -14.54781646,\n",
       "       -10.19073587,  -7.57034881,  -5.87597124,  -4.68921511,\n",
       "        -3.79360013,  -3.06489404,  -2.41730387,  -1.77556332,\n",
       "        -1.06800853,  -0.23396459,   0.76611683,   1.94130216,\n",
       "         3.24896859,   4.52763989,   5.35762713,  16.31711957])"
      ]
     },
     "execution_count": 14,
     "metadata": {},
     "output_type": "execute_result"
    }
   ],
   "source": [
    "plr_lbfgs._prior_path[-1]"
   ]
  },
  {
   "cell_type": "code",
   "execution_count": 15,
   "id": "9b17198a",
   "metadata": {},
   "outputs": [
    {
     "data": {
      "text/plain": [
       "array([9.96748255e-01, 2.55328816e-26, 7.40134793e-20, 1.28124705e-16,\n",
       "       9.99744295e-15, 1.37375275e-13, 7.47768912e-13, 2.45001668e-12,\n",
       "       5.99970208e-12, 1.24337669e-11, 2.37600612e-11, 4.51390005e-11,\n",
       "       9.15881062e-11, 2.10891831e-10, 5.73310112e-10, 1.85680418e-09,\n",
       "       6.86559877e-09, 2.46602975e-08, 5.65532004e-08, 3.25165363e-03])"
      ]
     },
     "execution_count": 15,
     "metadata": {},
     "output_type": "execute_result"
    }
   ],
   "source": [
    "plr_lbfgs.prior"
   ]
  },
  {
   "cell_type": "code",
   "execution_count": 16,
   "id": "52bf64df",
   "metadata": {},
   "outputs": [
    {
     "data": {
      "text/plain": [
       "0.43833099528365405"
      ]
     },
     "execution_count": 16,
     "metadata": {},
     "output_type": "execute_result"
    }
   ],
   "source": [
    "plr_lbfgs.residual_var"
   ]
  },
  {
   "cell_type": "code",
   "execution_count": 17,
   "id": "c3d6aec3",
   "metadata": {},
   "outputs": [
    {
     "data": {
      "text/plain": [
       "      fun: -5041.146950859367\n",
       " hess_inv: <2021x2021 LbfgsInvHessProduct with dtype=float64>\n",
       "      jac: array([-1.17304005e-06,  5.39617913e-05,  1.31685177e-05, ...,\n",
       "        1.72867928e-05, -3.86212122e-04,  4.96064654e-03])\n",
       "  message: 'CONVERGENCE: REL_REDUCTION_OF_F_<=_FACTR*EPSMCH'\n",
       "     nfev: 442\n",
       "      nit: 374\n",
       "     njev: 442\n",
       "   status: 0\n",
       "  success: True\n",
       "        x: array([ 8.27774657e-03, -1.58679856e-02, -9.34385706e-03, ...,\n",
       "        5.35762713e+00,  1.63171196e+01,  4.38330995e-01])"
      ]
     },
     "execution_count": 17,
     "metadata": {},
     "output_type": "execute_result"
    }
   ],
   "source": [
    "plr_lbfgs.fitobj"
   ]
  },
  {
   "cell_type": "code",
   "execution_count": 18,
   "id": "daeb1fb6",
   "metadata": {},
   "outputs": [],
   "source": [
    "from libmrashpen_lbfgs_driver import lbfgsb_driver"
   ]
  },
  {
   "cell_type": "code",
   "execution_count": 19,
   "id": "ce4da563",
   "metadata": {
    "scrolled": false
   },
   "outputs": [
    {
     "name": "stdout",
     "output_type": "stream",
     "text": [
      "RUNNING THE L-BFGS-B CODE\n",
      "\n",
      "           * * *\n",
      "\n",
      "Machine precision = 2.220D-16\n",
      " N =         2021     M =           10\n",
      "\n",
      "           * * *\n",
      "\n",
      "Tit   = total number of iterations\n",
      "Tnf   = total number of function evaluations\n",
      "Tnint = total number of segments explored during Cauchy searches\n",
      "Skip  = number of BFGS updates skipped\n",
      "Nact  = number of active bounds at final generalized Cauchy point\n",
      "Projg = norm of the final projected gradient\n",
      "F     = final function value\n",
      "\n",
      "           * * *\n",
      "\n",
      "   N    Tit     Tnf  Tnint  Skip  Nact     Projg        F\n",
      " 2021    247    282    248     0     0   3.565D-02  -5.041D+03\n",
      "\n",
      "CONVERGENCE: REL_REDUCTION_OF_F_<=_FACTR*EPSMCH             \n",
      "\n",
      " Total User time 2.619E+00 seconds.\n",
      "\n"
     ]
    }
   ],
   "source": [
    "ftol = 1e-9\n",
    "gtol = 1e-9\n",
    "nopt = p + k + 1\n",
    "\n",
    "f_theta, f_wk, f_s2, f_obj, f_grad, f_nfev, f_niter, f_task = \\\n",
    "    lbfgsb_driver.min_plr_shrinkop(X, y, binit, winit, s2init, sk,\n",
    "                                   nopt, True, True, True, 1.0, 10, 0,\n",
    "                                   ftol / np.finfo(float).eps, gtol, 1000, 10000)"
   ]
  },
  {
   "cell_type": "code",
   "execution_count": 20,
   "id": "50619e6c",
   "metadata": {},
   "outputs": [
    {
     "data": {
      "text/plain": [
       "array([ 0.01009444, -0.01879536, -0.01119446, ..., -0.00419092,\n",
       "       -0.00980171, -0.00361926])"
      ]
     },
     "execution_count": 20,
     "metadata": {},
     "output_type": "execute_result"
    }
   ],
   "source": [
    "f_theta"
   ]
  },
  {
   "cell_type": "code",
   "execution_count": 21,
   "id": "72128374",
   "metadata": {},
   "outputs": [
    {
     "data": {
      "text/plain": [
       "array([9.96745281e-01, 2.23785418e-20, 9.05796818e-16, 2.26697513e-13,\n",
       "       7.88065775e-12, 7.11215311e-11, 2.97958068e-10, 8.12643402e-10,\n",
       "       1.73025127e-09, 3.19444606e-09, 5.49318638e-09, 9.35819571e-09,\n",
       "       1.67498625e-08, 3.31360493e-08, 7.50916253e-08, 1.98539322e-07,\n",
       "       6.14352934e-07, 2.22553685e-06, 1.03759391e-05, 3.24115917e-03])"
      ]
     },
     "execution_count": 21,
     "metadata": {},
     "output_type": "execute_result"
    }
   ],
   "source": [
    "f_wk"
   ]
  },
  {
   "cell_type": "code",
   "execution_count": 22,
   "id": "d893aa6c",
   "metadata": {},
   "outputs": [
    {
     "data": {
      "text/plain": [
       "0.4394442629102773"
      ]
     },
     "execution_count": 22,
     "metadata": {},
     "output_type": "execute_result"
    }
   ],
   "source": [
    "f_s2"
   ]
  },
  {
   "cell_type": "code",
   "execution_count": 23,
   "id": "6f0b5c42",
   "metadata": {},
   "outputs": [
    {
     "data": {
      "text/plain": [
       "-5040.889706224509"
      ]
     },
     "execution_count": 23,
     "metadata": {},
     "output_type": "execute_result"
    }
   ],
   "source": [
    "f_obj"
   ]
  },
  {
   "cell_type": "code",
   "execution_count": 22,
   "id": "2908e2c7",
   "metadata": {},
   "outputs": [
    {
     "data": {
      "text/plain": [
       "array([ 2.26235204e-04, -3.42191535e-04, -2.02569985e-04, ...,\n",
       "        3.16099967e-03, -4.99098637e-05, -5.28579074e-03])"
      ]
     },
     "execution_count": 22,
     "metadata": {},
     "output_type": "execute_result"
    }
   ],
   "source": [
    "f_grad"
   ]
  },
  {
   "cell_type": "code",
   "execution_count": 23,
   "id": "941ea4be",
   "metadata": {},
   "outputs": [],
   "source": [
    "from libmrashpen_plr_mrash import plr_mrash as flib_penmrash\n",
    "dj = np.sum(np.square(X), axis = 0)\n",
    "djinv = 1 / dj\n",
    "obj, bgrad, wgrad, s2grad = \\\n",
    "    flib_penmrash.plr_obj_grad_shrinkop(X, y, f_theta, f_s2, f_wk, sk, djinv)"
   ]
  },
  {
   "cell_type": "code",
   "execution_count": 24,
   "id": "98475265",
   "metadata": {},
   "outputs": [
    {
     "data": {
      "text/plain": [
       "-5040.889706224509"
      ]
     },
     "execution_count": 24,
     "metadata": {},
     "output_type": "execute_result"
    }
   ],
   "source": [
    "obj"
   ]
  },
  {
   "cell_type": "code",
   "execution_count": 25,
   "id": "cfcc6e08",
   "metadata": {},
   "outputs": [
    {
     "data": {
      "text/plain": [
       "array([ 2.26235204e-04, -3.42191535e-04, -2.02569985e-04, ...,\n",
       "        1.81484759e-03, -1.73435910e-04, -7.66787520e-05])"
      ]
     },
     "execution_count": 25,
     "metadata": {},
     "output_type": "execute_result"
    }
   ],
   "source": [
    "bgrad"
   ]
  },
  {
   "cell_type": "code",
   "execution_count": 26,
   "id": "c84d2edd",
   "metadata": {},
   "outputs": [
    {
     "data": {
      "text/plain": [
       "array([ 2.26235204e-04, -3.42191535e-04, -2.02569985e-04, ...,\n",
       "        1.81484759e-03, -1.73435910e-04, -7.66787520e-05])"
      ]
     },
     "execution_count": 26,
     "metadata": {},
     "output_type": "execute_result"
    }
   ],
   "source": [
    "f_grad[:p]"
   ]
  },
  {
   "cell_type": "code",
   "execution_count": 27,
   "id": "7ed98810",
   "metadata": {},
   "outputs": [
    {
     "data": {
      "text/plain": [
       "array([-5.45004731e-03,  4.52505465e-18,  5.25561709e-13,  2.03591114e-10,\n",
       "        8.86649960e-09,  9.14476220e-08,  4.17936240e-07,  1.21101716e-06,\n",
       "        2.69261897e-06,  5.11912180e-06,  8.93508809e-06,  1.51825867e-05,\n",
       "        2.64755902e-05,  4.93981167e-05,  1.01012881e-04,  2.27012177e-04,\n",
       "        5.48627340e-04,  1.35277251e-03,  3.16099967e-03, -4.99098637e-05])"
      ]
     },
     "execution_count": 27,
     "metadata": {},
     "output_type": "execute_result"
    }
   ],
   "source": [
    "akjac = f_wk.reshape(-1, 1) * (np.eye(k) - f_wk)\n",
    "agrad  = np.sum(wgrad * akjac, axis = 1)\n",
    "agrad"
   ]
  },
  {
   "cell_type": "code",
   "execution_count": 28,
   "id": "46619bfa",
   "metadata": {},
   "outputs": [
    {
     "data": {
      "text/plain": [
       "array([-5.45004731e-03,  4.52505465e-18,  5.25561709e-13,  2.03591114e-10,\n",
       "        8.86649960e-09,  9.14476220e-08,  4.17936240e-07,  1.21101716e-06,\n",
       "        2.69261897e-06,  5.11912180e-06,  8.93508809e-06,  1.51825867e-05,\n",
       "        2.64755902e-05,  4.93981167e-05,  1.01012881e-04,  2.27012177e-04,\n",
       "        5.48627340e-04,  1.35277251e-03,  3.16099967e-03, -4.99098637e-05])"
      ]
     },
     "execution_count": 28,
     "metadata": {},
     "output_type": "execute_result"
    }
   ],
   "source": [
    "f_grad[p:p+k]"
   ]
  },
  {
   "cell_type": "code",
   "execution_count": 29,
   "id": "18d8afe5",
   "metadata": {},
   "outputs": [
    {
     "data": {
      "text/plain": [
       "-0.005285790738071228"
      ]
     },
     "execution_count": 29,
     "metadata": {},
     "output_type": "execute_result"
    }
   ],
   "source": [
    "s2grad"
   ]
  },
  {
   "cell_type": "code",
   "execution_count": 30,
   "id": "184a1c99",
   "metadata": {},
   "outputs": [
    {
     "data": {
      "text/plain": [
       "-0.005285790738071228"
      ]
     },
     "execution_count": 30,
     "metadata": {},
     "output_type": "execute_result"
    }
   ],
   "source": [
    "f_grad[-1]"
   ]
  },
  {
   "cell_type": "code",
   "execution_count": 31,
   "id": "30abcca4",
   "metadata": {},
   "outputs": [
    {
     "data": {
      "text/plain": [
       "array([0., 0., 0., ..., 0., 0., 0.])"
      ]
     },
     "execution_count": 31,
     "metadata": {},
     "output_type": "execute_result"
    }
   ],
   "source": [
    "binit"
   ]
  },
  {
   "cell_type": "code",
   "execution_count": 32,
   "id": "a7dbaa04",
   "metadata": {},
   "outputs": [
    {
     "data": {
      "text/plain": [
       "array([0.05, 0.05, 0.05, 0.05, 0.05, 0.05, 0.05, 0.05, 0.05, 0.05, 0.05,\n",
       "       0.05, 0.05, 0.05, 0.05, 0.05, 0.05, 0.05, 0.05, 0.05])"
      ]
     },
     "execution_count": 32,
     "metadata": {},
     "output_type": "execute_result"
    }
   ],
   "source": [
    "winit"
   ]
  },
  {
   "cell_type": "code",
   "execution_count": 33,
   "id": "4bc65e3c",
   "metadata": {},
   "outputs": [
    {
     "data": {
      "text/plain": [
       "1.1723683608566409"
      ]
     },
     "execution_count": 33,
     "metadata": {},
     "output_type": "execute_result"
    }
   ],
   "source": [
    "s2init"
   ]
  },
  {
   "cell_type": "code",
   "execution_count": 42,
   "id": "b7489d51",
   "metadata": {},
   "outputs": [
    {
     "name": "stdout",
     "output_type": "stream",
     "text": [
      "0\n"
     ]
    }
   ],
   "source": [
    "task_str = f_task.strip(b'\\x00').strip()\n",
    "if task_str.startswith(b'CONV'):\n",
    "    warnflag = 0\n",
    "elif f_nfev > 10000 or f_niter >= 1000:\n",
    "    warnflag = 1\n",
    "else:\n",
    "    warnflag = 2\n",
    "    \n",
    "print(warnflag)"
   ]
  },
  {
   "cell_type": "code",
   "execution_count": null,
   "id": "3e8f8df0",
   "metadata": {},
   "outputs": [],
   "source": []
  },
  {
   "cell_type": "code",
   "execution_count": 37,
   "id": "a3404695",
   "metadata": {},
   "outputs": [
    {
     "name": "stdout",
     "output_type": "stream",
     "text": [
      "mr.ash.pen terminated at iteration 374.\n",
      "mr.ash.pen terminated at iteration 374.\n",
      "mr.ash.pen terminated at iteration 374.\n",
      "mr.ash.pen terminated at iteration 374.\n",
      "mr.ash.pen terminated at iteration 374.\n",
      "mr.ash.pen terminated at iteration 374.\n",
      "3.67 s ± 25.5 ms per loop (mean ± std. dev. of 3 runs, 2 loops each)\n"
     ]
    }
   ],
   "source": [
    "%%timeit -n 2 -r 3\n",
    "\n",
    "'''\n",
    "mr.ash.pen\n",
    "'''\n",
    "plr_lbfgs = PLR(method = 'L-BFGS-B', optimize_w = True, optimize_s = True, is_prior_scaled = True,\n",
    "                function_call = 'python',\n",
    "                debug = False, display_progress = False, calculate_elbo = False)\n",
    "plr_lbfgs.fit(X, y, sk, binit = binit, winit = winit, s2init = s2init, is_binit_coef = False)"
   ]
  },
  {
   "cell_type": "code",
   "execution_count": 38,
   "id": "95afcc07",
   "metadata": {},
   "outputs": [
    {
     "name": "stdout",
     "output_type": "stream",
     "text": [
      "656 ms ± 15.7 ms per loop (mean ± std. dev. of 3 runs, 2 loops each)\n"
     ]
    }
   ],
   "source": [
    "%%timeit -n 2 -r 3\n",
    "\n",
    "ftol = 1e-9\n",
    "gtol = 1e-9\n",
    "nopt = p + k + 1\n",
    "\n",
    "f_theta, f_wk, f_s2, f_obj, f_grad, f_nfev, f_niter, f_task = \\\n",
    "    lbfgsb_driver.min_plr_shrinkop(X, y, binit, winit, s2init, sk,\n",
    "                                   nopt, True, True, True, 1.0, 10, -1,\n",
    "                                   ftol / np.finfo(float).eps, gtol, 1000, 10000)"
   ]
  },
  {
   "cell_type": "code",
   "execution_count": 36,
   "id": "2ecf9bda",
   "metadata": {},
   "outputs": [
    {
     "name": "stdout",
     "output_type": "stream",
     "text": [
      "Mr.ASH terminated at iteration 333.\n",
      "Mr.ASH terminated at iteration 333.\n",
      "Mr.ASH terminated at iteration 333.\n",
      "Mr.ASH terminated at iteration 333.\n",
      "Mr.ASH terminated at iteration 333.\n",
      "Mr.ASH terminated at iteration 333.\n",
      "1.18 s ± 204 ms per loop (mean ± std. dev. of 3 runs, 2 loops each)\n"
     ]
    }
   ],
   "source": [
    "%%timeit -n 2 -r 3\n",
    "'''\n",
    "mr.ash.alpha\n",
    "'''\n",
    "mrash_r = MrASHR(option = \"r2py\", debug = False)\n",
    "mrash_r.fit(X, y, sk, binit = binit, winit = winit, s2init = s2init)"
   ]
  }
 ],
 "metadata": {
  "kernelspec": {
   "display_name": "Python 3 (ipykernel)",
   "language": "python",
   "name": "python3"
  },
  "language_info": {
   "codemirror_mode": {
    "name": "ipython",
    "version": 3
   },
   "file_extension": ".py",
   "mimetype": "text/x-python",
   "name": "python",
   "nbconvert_exporter": "python",
   "pygments_lexer": "ipython3",
   "version": "3.9.12"
  }
 },
 "nbformat": 4,
 "nbformat_minor": 5
}
