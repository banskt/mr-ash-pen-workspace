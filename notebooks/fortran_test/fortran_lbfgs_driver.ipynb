{
 "cells": [
  {
   "cell_type": "code",
   "execution_count": 1,
   "id": "6629c265",
   "metadata": {},
   "outputs": [],
   "source": [
    "import numpy as np\n",
    "\n",
    "from mrashpen.inference.penalized_regression import PenalizedRegression as PLR\n",
    "from mrashpen.inference.mrash_wrapR          import MrASHR\n",
    "\n",
    "import sys\n",
    "sys.path.append('/home/saikat/Documents/work/sparse-regression/simulation/eb-linreg-dsc/dsc/functions')\n",
    "import simulate\n",
    "\n",
    "import matplotlib.pyplot as plt\n",
    "from pymir import mpl_stylesheet\n",
    "from pymir import mpl_utils\n",
    "mpl_stylesheet.banskt_presentation(splinecolor = 'black')"
   ]
  },
  {
   "cell_type": "code",
   "execution_count": 2,
   "id": "1ba9c65e",
   "metadata": {},
   "outputs": [],
   "source": [
    "def center_and_scale(Z):\n",
    "    dim = Z.ndim\n",
    "    if dim == 1:\n",
    "        Znew = Z / np.std(Z)\n",
    "        Znew = Znew - np.mean(Znew)\n",
    "    elif dim == 2:\n",
    "        Znew = Z / np.std(Z, axis = 0)\n",
    "        Znew = Znew - np.mean(Znew, axis = 0).reshape(1, -1)\n",
    "    return Znew\n",
    "\n",
    "def initialize_ash_prior(k, scale = 2, sparsity = None):\n",
    "    w = np.zeros(k)\n",
    "    w[0] = 1 / k if sparsity is None else sparsity\n",
    "    w[1:(k-1)] = np.repeat((1 - w[0])/(k-1), (k - 2))\n",
    "    w[k-1] = 1 - np.sum(w)\n",
    "    sk2 = np.square((np.power(scale, np.arange(k) / k) - 1))\n",
    "    prior_grid = np.sqrt(sk2)\n",
    "    return w, prior_grid"
   ]
  },
  {
   "cell_type": "code",
   "execution_count": 3,
   "id": "da1671eb",
   "metadata": {},
   "outputs": [],
   "source": [
    "n = 200\n",
    "p = 2000\n",
    "p_causal = 10\n",
    "pve = 0.7\n",
    "k = 20\n",
    "\n",
    "X, y, Xtest, ytest, btrue, strue = simulate.equicorr_predictors(n, p, p_causal, pve, rho = 0.95, seed = 10)\n",
    "X      = center_and_scale(X)\n",
    "Xtest  = center_and_scale(Xtest)\n",
    "winit, sk = initialize_ash_prior(k, scale = 2)\n",
    "s2init = np.var(y - np.mean(y))"
   ]
  },
  {
   "cell_type": "code",
   "execution_count": 4,
   "id": "32cd1fdb",
   "metadata": {},
   "outputs": [
    {
     "data": {
      "text/plain": [
       "array([200., 200., 200., ..., 200., 200., 200.])"
      ]
     },
     "execution_count": 4,
     "metadata": {},
     "output_type": "execute_result"
    }
   ],
   "source": [
    "np.sum(np.square(X), axis = 0)"
   ]
  },
  {
   "cell_type": "code",
   "execution_count": 5,
   "id": "0e6f65d6",
   "metadata": {},
   "outputs": [
    {
     "data": {
      "text/plain": [
       "array([1., 1., 1., ..., 1., 1., 1.])"
      ]
     },
     "execution_count": 5,
     "metadata": {},
     "output_type": "execute_result"
    }
   ],
   "source": [
    "np.std(X, axis = 0)"
   ]
  },
  {
   "cell_type": "code",
   "execution_count": 6,
   "id": "9be146e4",
   "metadata": {},
   "outputs": [],
   "source": [
    "binit = btrue.copy()"
   ]
  },
  {
   "cell_type": "code",
   "execution_count": 7,
   "id": "fc958d35",
   "metadata": {},
   "outputs": [
    {
     "data": {
      "text/plain": [
       "1.1723683608566409"
      ]
     },
     "execution_count": 7,
     "metadata": {},
     "output_type": "execute_result"
    }
   ],
   "source": [
    "s2init"
   ]
  },
  {
   "cell_type": "code",
   "execution_count": 8,
   "id": "34a266f1",
   "metadata": {},
   "outputs": [
    {
     "data": {
      "text/plain": [
       "array([0., 0., 0., ..., 0., 0., 0.])"
      ]
     },
     "execution_count": 8,
     "metadata": {},
     "output_type": "execute_result"
    }
   ],
   "source": [
    "binit"
   ]
  },
  {
   "cell_type": "code",
   "execution_count": 9,
   "id": "f18818a2",
   "metadata": {},
   "outputs": [
    {
     "data": {
      "text/plain": [
       "array([0.05, 0.05, 0.05, 0.05, 0.05, 0.05, 0.05, 0.05, 0.05, 0.05, 0.05,\n",
       "       0.05, 0.05, 0.05, 0.05, 0.05, 0.05, 0.05, 0.05, 0.05])"
      ]
     },
     "execution_count": 9,
     "metadata": {},
     "output_type": "execute_result"
    }
   ],
   "source": [
    "winit"
   ]
  },
  {
   "cell_type": "code",
   "execution_count": 10,
   "id": "9f4b2992",
   "metadata": {
    "scrolled": true
   },
   "outputs": [
    {
     "name": "stdout",
     "output_type": "stream",
     "text": [
      "mr.ash.pen terminated at iteration 258.\n"
     ]
    }
   ],
   "source": [
    "'''\n",
    "mr.ash.pen\n",
    "'''\n",
    "plr_lbfgs = PLR(method = 'L-BFGS-B', optimize_w = True, optimize_s = True, is_prior_scaled = True,\n",
    "                function_call = 'fortran',\n",
    "                debug = False, display_progress = False, calculate_elbo = False)\n",
    "plr_lbfgs.fit(X, y, sk, binit = binit, winit = winit, s2init = s2init, is_binit_coef = False)"
   ]
  },
  {
   "cell_type": "code",
   "execution_count": 11,
   "id": "4664df5c",
   "metadata": {},
   "outputs": [
    {
     "data": {
      "text/plain": [
       "array([ 0.01044527, -0.02093494, -0.01016991, ..., -0.0203594 ,\n",
       "       -0.00853223, -0.00203439])"
      ]
     },
     "execution_count": 11,
     "metadata": {},
     "output_type": "execute_result"
    }
   ],
   "source": [
    "plr_lbfgs.theta"
   ]
  },
  {
   "cell_type": "code",
   "execution_count": 12,
   "id": "df2ef476",
   "metadata": {},
   "outputs": [
    {
     "data": {
      "text/plain": [
       "array([ 16.76373324, -30.90183969, -18.53787182, -12.38810479,\n",
       "        -8.82769906,  -6.69835665,  -5.32606541,  -4.36613573,\n",
       "        -3.6412724 ,  -3.05017928,  -2.52281178,  -1.99712808,\n",
       "        -1.41327558,  -0.71915941,   0.12339646,   1.13787037,\n",
       "         2.3364266 ,   3.7259555 ,   5.35511334,  11.0327627 ])"
      ]
     },
     "execution_count": 12,
     "metadata": {},
     "output_type": "execute_result"
    }
   ],
   "source": [
    "plr_lbfgs._prior_path[-1]"
   ]
  },
  {
   "cell_type": "code",
   "execution_count": 13,
   "id": "9b17198a",
   "metadata": {},
   "outputs": [
    {
     "data": {
      "text/plain": [
       "array([9.96752557e-01, 1.98468717e-21, 4.64830994e-16, 2.17823618e-13,\n",
       "       7.66248305e-12, 6.44363877e-11, 2.54161463e-10, 6.63745916e-10,\n",
       "       1.37026955e-09, 2.47465402e-09, 4.19321646e-09, 7.09330790e-09,\n",
       "       1.27178217e-08, 2.54603022e-08, 5.91263295e-08, 1.63065220e-07,\n",
       "       5.40614509e-07, 2.16946391e-06, 1.10633510e-05, 3.23339287e-03])"
      ]
     },
     "execution_count": 13,
     "metadata": {},
     "output_type": "execute_result"
    }
   ],
   "source": [
    "plr_lbfgs.prior"
   ]
  },
  {
   "cell_type": "code",
   "execution_count": 14,
   "id": "52bf64df",
   "metadata": {},
   "outputs": [
    {
     "data": {
      "text/plain": [
       "0.43837860155871317"
      ]
     },
     "execution_count": 14,
     "metadata": {},
     "output_type": "execute_result"
    }
   ],
   "source": [
    "plr_lbfgs.residual_var"
   ]
  },
  {
   "cell_type": "code",
   "execution_count": 15,
   "id": "c3d6aec3",
   "metadata": {},
   "outputs": [
    {
     "data": {
      "text/plain": [
       "      fun: -5041.140923593008\n",
       " hess_inv: <2021x2021 LbfgsInvHessProduct with dtype=float64>\n",
       "      jac: array([ 2.50590746e-04, -7.00599914e-04, -9.51026311e-05, ...,\n",
       "        3.34496755e-03, -1.34200589e-02,  1.35025264e-02])\n",
       "  message: 'CONVERGENCE: REL_REDUCTION_OF_F_<=_FACTR*EPSMCH'\n",
       "     nfev: 312\n",
       "      nit: 258\n",
       "     njev: 312\n",
       "   status: 0\n",
       "  success: True\n",
       "        x: array([ 1.04452711e-02, -2.09349424e-02, -1.01699125e-02, ...,\n",
       "        5.35511334e+00,  1.10327627e+01,  4.38378602e-01])"
      ]
     },
     "execution_count": 15,
     "metadata": {},
     "output_type": "execute_result"
    }
   ],
   "source": [
    "plr_lbfgs.fitobj"
   ]
  },
  {
   "cell_type": "code",
   "execution_count": 16,
   "id": "daeb1fb6",
   "metadata": {},
   "outputs": [],
   "source": [
    "from libmrashpen_lbfgs_driver import lbfgsb_driver"
   ]
  },
  {
   "cell_type": "code",
   "execution_count": 17,
   "id": "ce4da563",
   "metadata": {
    "scrolled": false
   },
   "outputs": [
    {
     "name": "stdout",
     "output_type": "stream",
     "text": [
      "RUNNING THE L-BFGS-B CODE\n",
      "\n",
      "           * * *\n",
      "\n",
      "Machine precision = 2.220D-16\n",
      " N =         2021     M =           10\n",
      "\n",
      "           * * *\n",
      "\n",
      "Tit   = total number of iterations\n",
      "Tnf   = total number of function evaluations\n",
      "Tnint = total number of segments explored during Cauchy searches\n",
      "Skip  = number of BFGS updates skipped\n",
      "Nact  = number of active bounds at final generalized Cauchy point\n",
      "Projg = norm of the final projected gradient\n",
      "F     = final function value\n",
      "\n",
      "           * * *\n",
      "\n",
      "   N    Tit     Tnf  Tnint  Skip  Nact     Projg        F\n",
      " 2021    318    376    319     0     0   3.020D-02  -5.041D+03\n",
      "\n",
      "CONVERGENCE: REL_REDUCTION_OF_F_<=_FACTR*EPSMCH             \n",
      "\n",
      " Total User time 2.476E+01 seconds.\n",
      "\n"
     ]
    }
   ],
   "source": [
    "ftol = 1e-9\n",
    "gtol = 1e-9\n",
    "nopt = p + k + 1\n",
    "\n",
    "f_theta, f_wk, f_s2, f_obj, f_grad, f_nfev, f_niter, f_task = \\\n",
    "    lbfgsb_driver.min_plr_shrinkop(X, y, binit, winit, s2init, sk,\n",
    "                                   nopt, True, True, True, 1.0, 10, 0,\n",
    "                                   ftol / np.finfo(float).eps, gtol, 1000, 10000)"
   ]
  },
  {
   "cell_type": "code",
   "execution_count": 18,
   "id": "50619e6c",
   "metadata": {},
   "outputs": [
    {
     "data": {
      "text/plain": [
       "array([ 0.00660328, -0.01767628, -0.00785757, ..., -0.01982615,\n",
       "       -0.0063995 , -0.00199676])"
      ]
     },
     "execution_count": 18,
     "metadata": {},
     "output_type": "execute_result"
    }
   ],
   "source": [
    "f_theta"
   ]
  },
  {
   "cell_type": "code",
   "execution_count": 19,
   "id": "72128374",
   "metadata": {},
   "outputs": [
    {
     "data": {
      "text/plain": [
       "array([9.96746834e-01, 3.67207049e-22, 3.02066190e-17, 1.20587585e-14,\n",
       "       5.87100018e-13, 6.55144453e-12, 3.15115735e-11, 9.45790018e-11,\n",
       "       2.16068202e-10, 4.21284498e-10, 7.57388259e-10, 1.34053227e-09,\n",
       "       2.48170004e-09, 5.04723374e-09, 1.15982127e-08, 3.01081442e-08,\n",
       "       8.53058466e-08, 2.47176903e-07, 7.30379473e-07, 3.25205102e-03])"
      ]
     },
     "execution_count": 19,
     "metadata": {},
     "output_type": "execute_result"
    }
   ],
   "source": [
    "f_wk"
   ]
  },
  {
   "cell_type": "code",
   "execution_count": 20,
   "id": "a3a4a1c1",
   "metadata": {},
   "outputs": [
    {
     "data": {
      "text/plain": [
       "array([ 0.00660328, -0.01767628, -0.00785757, ..., -0.01982615,\n",
       "       -0.0063995 , -0.00199676])"
      ]
     },
     "execution_count": 20,
     "metadata": {},
     "output_type": "execute_result"
    }
   ],
   "source": [
    "f_theta"
   ]
  },
  {
   "cell_type": "code",
   "execution_count": 21,
   "id": "d893aa6c",
   "metadata": {},
   "outputs": [
    {
     "data": {
      "text/plain": [
       "0.4394845826980046"
      ]
     },
     "execution_count": 21,
     "metadata": {},
     "output_type": "execute_result"
    }
   ],
   "source": [
    "f_s2"
   ]
  },
  {
   "cell_type": "code",
   "execution_count": 22,
   "id": "6f0b5c42",
   "metadata": {},
   "outputs": [
    {
     "data": {
      "text/plain": [
       "-5040.895274257286"
      ]
     },
     "execution_count": 22,
     "metadata": {},
     "output_type": "execute_result"
    }
   ],
   "source": [
    "f_obj"
   ]
  },
  {
   "cell_type": "code",
   "execution_count": 23,
   "id": "2908e2c7",
   "metadata": {},
   "outputs": [
    {
     "data": {
      "text/plain": [
       "array([-0.00018766, -0.00018387,  0.00019238, ...,  0.00022294,\n",
       "        0.00173484,  0.03020415])"
      ]
     },
     "execution_count": 23,
     "metadata": {},
     "output_type": "execute_result"
    }
   ],
   "source": [
    "f_grad"
   ]
  },
  {
   "cell_type": "code",
   "execution_count": 24,
   "id": "941ea4be",
   "metadata": {},
   "outputs": [],
   "source": [
    "from libmrashpen_plr_mrash import plr_mrash as flib_penmrash\n",
    "dj = np.sum(np.square(X), axis = 0)\n",
    "djinv = 1 / dj\n",
    "obj, bgrad, wgrad, s2grad = \\\n",
    "    flib_penmrash.plr_obj_grad_shrinkop(X, y, f_theta, f_s2, f_wk, sk, djinv)"
   ]
  },
  {
   "cell_type": "code",
   "execution_count": 25,
   "id": "98475265",
   "metadata": {},
   "outputs": [
    {
     "data": {
      "text/plain": [
       "-5040.895274257286"
      ]
     },
     "execution_count": 25,
     "metadata": {},
     "output_type": "execute_result"
    }
   ],
   "source": [
    "obj"
   ]
  },
  {
   "cell_type": "code",
   "execution_count": 26,
   "id": "cfcc6e08",
   "metadata": {},
   "outputs": [
    {
     "data": {
      "text/plain": [
       "array([-1.87663313e-04, -1.83874891e-04,  1.92379314e-04, ...,\n",
       "        5.41203281e-05,  2.20965794e-04,  1.02697590e-04])"
      ]
     },
     "execution_count": 26,
     "metadata": {},
     "output_type": "execute_result"
    }
   ],
   "source": [
    "bgrad"
   ]
  },
  {
   "cell_type": "code",
   "execution_count": 27,
   "id": "c84d2edd",
   "metadata": {},
   "outputs": [
    {
     "data": {
      "text/plain": [
       "array([-1.87663313e-04, -1.83874891e-04,  1.92379314e-04, ...,\n",
       "        5.41203281e-05,  2.20965794e-04,  1.02697590e-04])"
      ]
     },
     "execution_count": 27,
     "metadata": {},
     "output_type": "execute_result"
    }
   ],
   "source": [
    "f_grad[:p]"
   ]
  },
  {
   "cell_type": "code",
   "execution_count": 28,
   "id": "7ed98810",
   "metadata": {},
   "outputs": [
    {
     "data": {
      "text/plain": [
       "array([-2.25048640e-03,  7.41242124e-20,  1.75044822e-14,  1.08199182e-11,\n",
       "        6.60103322e-10,  8.41945449e-09,  4.41819530e-08,  1.40895392e-07,\n",
       "        3.36150392e-07,  6.74955336e-07,  1.23172630e-06,  2.17457294e-06,\n",
       "        3.92241198e-06,  7.52435452e-06,  1.56039499e-05,  3.44363991e-05,\n",
       "        7.62209685e-05,  1.50386345e-04,  2.22943968e-04,  1.73483643e-03])"
      ]
     },
     "execution_count": 28,
     "metadata": {},
     "output_type": "execute_result"
    }
   ],
   "source": [
    "akjac = f_wk.reshape(-1, 1) * (np.eye(k) - f_wk)\n",
    "agrad  = np.sum(wgrad * akjac, axis = 1)\n",
    "agrad"
   ]
  },
  {
   "cell_type": "code",
   "execution_count": 29,
   "id": "46619bfa",
   "metadata": {},
   "outputs": [
    {
     "data": {
      "text/plain": [
       "array([-2.25048640e-03,  7.41242124e-20,  1.75044822e-14,  1.08199182e-11,\n",
       "        6.60103322e-10,  8.41945449e-09,  4.41819530e-08,  1.40895392e-07,\n",
       "        3.36150392e-07,  6.74955336e-07,  1.23172630e-06,  2.17457294e-06,\n",
       "        3.92241198e-06,  7.52435452e-06,  1.56039499e-05,  3.44363991e-05,\n",
       "        7.62209685e-05,  1.50386345e-04,  2.22943968e-04,  1.73483643e-03])"
      ]
     },
     "execution_count": 29,
     "metadata": {},
     "output_type": "execute_result"
    }
   ],
   "source": [
    "f_grad[p:p+k]"
   ]
  },
  {
   "cell_type": "code",
   "execution_count": 30,
   "id": "18d8afe5",
   "metadata": {},
   "outputs": [
    {
     "data": {
      "text/plain": [
       "0.030204153668137224"
      ]
     },
     "execution_count": 30,
     "metadata": {},
     "output_type": "execute_result"
    }
   ],
   "source": [
    "s2grad"
   ]
  },
  {
   "cell_type": "code",
   "execution_count": 31,
   "id": "184a1c99",
   "metadata": {},
   "outputs": [
    {
     "data": {
      "text/plain": [
       "0.030204153668137224"
      ]
     },
     "execution_count": 31,
     "metadata": {},
     "output_type": "execute_result"
    }
   ],
   "source": [
    "f_grad[-1]"
   ]
  },
  {
   "cell_type": "code",
   "execution_count": 32,
   "id": "30abcca4",
   "metadata": {},
   "outputs": [
    {
     "data": {
      "text/plain": [
       "array([0., 0., 0., ..., 0., 0., 0.])"
      ]
     },
     "execution_count": 32,
     "metadata": {},
     "output_type": "execute_result"
    }
   ],
   "source": [
    "binit"
   ]
  },
  {
   "cell_type": "code",
   "execution_count": 33,
   "id": "a7dbaa04",
   "metadata": {},
   "outputs": [
    {
     "data": {
      "text/plain": [
       "array([0.05, 0.05, 0.05, 0.05, 0.05, 0.05, 0.05, 0.05, 0.05, 0.05, 0.05,\n",
       "       0.05, 0.05, 0.05, 0.05, 0.05, 0.05, 0.05, 0.05, 0.05])"
      ]
     },
     "execution_count": 33,
     "metadata": {},
     "output_type": "execute_result"
    }
   ],
   "source": [
    "winit"
   ]
  },
  {
   "cell_type": "code",
   "execution_count": 34,
   "id": "4bc65e3c",
   "metadata": {},
   "outputs": [
    {
     "data": {
      "text/plain": [
       "1.1723683608566409"
      ]
     },
     "execution_count": 34,
     "metadata": {},
     "output_type": "execute_result"
    }
   ],
   "source": [
    "s2init"
   ]
  },
  {
   "cell_type": "code",
   "execution_count": 35,
   "id": "a3404695",
   "metadata": {},
   "outputs": [
    {
     "name": "stdout",
     "output_type": "stream",
     "text": [
      "mr.ash.pen terminated at iteration 213.\n",
      "mr.ash.pen terminated at iteration 213.\n",
      "mr.ash.pen terminated at iteration 213.\n",
      "mr.ash.pen terminated at iteration 213.\n",
      "mr.ash.pen terminated at iteration 213.\n",
      "mr.ash.pen terminated at iteration 213.\n",
      "4.52 s ± 138 ms per loop (mean ± std. dev. of 3 runs, 2 loops each)\n"
     ]
    }
   ],
   "source": [
    "%%timeit -n 2 -r 3\n",
    "\n",
    "'''\n",
    "mr.ash.pen\n",
    "'''\n",
    "plr_lbfgs = PLR(method = 'L-BFGS-B', optimize_w = True, optimize_s = True, is_prior_scaled = True,\n",
    "                function_call = 'python',\n",
    "                debug = False, display_progress = False, calculate_elbo = False)\n",
    "plr_lbfgs.fit(X, y, sk, binit = binit, winit = winit, s2init = s2init, is_binit_coef = False)"
   ]
  },
  {
   "cell_type": "code",
   "execution_count": 36,
   "id": "95afcc07",
   "metadata": {},
   "outputs": [
    {
     "name": "stdout",
     "output_type": "stream",
     "text": [
      "2.74 s ± 23.5 ms per loop (mean ± std. dev. of 3 runs, 2 loops each)\n"
     ]
    }
   ],
   "source": [
    "%%timeit -n 2 -r 3\n",
    "\n",
    "ftol = 1e-9\n",
    "gtol = 1e-9\n",
    "nopt = p + k + 1\n",
    "\n",
    "f_theta, f_wk, f_s2, f_obj, f_grad, f_nfev, f_niter, f_task = \\\n",
    "    lbfgsb_driver.min_plr_shrinkop(X, y, binit, winit, s2init, sk,\n",
    "                                   nopt, True, True, True, 1.0, 10, -1,\n",
    "                                   ftol / np.finfo(float).eps, gtol, 1000, 10000)"
   ]
  },
  {
   "cell_type": "code",
   "execution_count": null,
   "id": "2ecf9bda",
   "metadata": {},
   "outputs": [],
   "source": []
  }
 ],
 "metadata": {
  "kernelspec": {
   "display_name": "Python 3 (ipykernel)",
   "language": "python",
   "name": "python3"
  },
  "language_info": {
   "codemirror_mode": {
    "name": "ipython",
    "version": 3
   },
   "file_extension": ".py",
   "mimetype": "text/x-python",
   "name": "python",
   "nbconvert_exporter": "python",
   "pygments_lexer": "ipython3",
   "version": "3.9.12"
  }
 },
 "nbformat": 4,
 "nbformat_minor": 5
}
