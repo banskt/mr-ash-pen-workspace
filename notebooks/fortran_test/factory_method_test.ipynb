{
 "cells": [
  {
   "cell_type": "code",
   "execution_count": 1,
   "id": "3f799713",
   "metadata": {},
   "outputs": [],
   "source": [
    "import numpy as np"
   ]
  },
  {
   "cell_type": "code",
   "execution_count": 2,
   "id": "359d0d26",
   "metadata": {},
   "outputs": [],
   "source": [
    "import sys\n",
    "sys.path.append(\"factory_method/\")\n",
    "#from normal_means import NormalMeans\n",
    "#from nm_ash import NMAsh\n",
    "#from nm_ash_scaled import NMAshScaled\n",
    "import importer"
   ]
  },
  {
   "cell_type": "code",
   "execution_count": null,
   "id": "f23003cc",
   "metadata": {},
   "outputs": [],
   "source": []
  },
  {
   "cell_type": "code",
   "execution_count": 3,
   "id": "13c00473",
   "metadata": {},
   "outputs": [
    {
     "ename": "NameError",
     "evalue": "name 'NormalMeans' is not defined",
     "output_type": "error",
     "traceback": [
      "\u001b[0;31m---------------------------------------------------------------------------\u001b[0m",
      "\u001b[0;31mNameError\u001b[0m                                 Traceback (most recent call last)",
      "Input \u001b[0;32mIn [3]\u001b[0m, in \u001b[0;36m<cell line: 1>\u001b[0;34m()\u001b[0m\n\u001b[0;32m----> 1\u001b[0m nm1 \u001b[38;5;241m=\u001b[39m \u001b[43mNormalMeans\u001b[49m\u001b[38;5;241m.\u001b[39mcreate(\u001b[38;5;124m'\u001b[39m\u001b[38;5;124mash\u001b[39m\u001b[38;5;124m'\u001b[39m, (\u001b[38;5;241m2\u001b[39m, \u001b[38;5;241m3\u001b[39m, \u001b[38;5;241m4\u001b[39m), {\u001b[38;5;124m'\u001b[39m\u001b[38;5;124mdj\u001b[39m\u001b[38;5;124m'\u001b[39m : \u001b[38;5;241m5\u001b[39m})\n",
      "\u001b[0;31mNameError\u001b[0m: name 'NormalMeans' is not defined"
     ]
    }
   ],
   "source": [
    "nm1 = NormalMeans.create('ash', (2, 3, 4), {'dj' : 5})"
   ]
  },
  {
   "cell_type": "code",
   "execution_count": null,
   "id": "db020439",
   "metadata": {},
   "outputs": [],
   "source": []
  },
  {
   "cell_type": "code",
   "execution_count": null,
   "id": "6fd8b54a",
   "metadata": {},
   "outputs": [],
   "source": []
  },
  {
   "cell_type": "code",
   "execution_count": null,
   "id": "5dd9cfcb",
   "metadata": {},
   "outputs": [],
   "source": []
  },
  {
   "cell_type": "code",
   "execution_count": 2,
   "id": "dda9f69c",
   "metadata": {},
   "outputs": [],
   "source": [
    "class NormalMeans:\n",
    "\n",
    "    subclasses = {}\n",
    "\n",
    "    @classmethod\n",
    "    def register_nm(cls, prior_type):\n",
    "        def decorator(subclass):\n",
    "            cls.subclasses[prior_type] = subclass\n",
    "            return subclass\n",
    "        return decorator\n",
    "\n",
    "    @classmethod\n",
    "    def create(cls, prior_type, params, extparams = {}):\n",
    "        if prior_type not in cls.subclasses:\n",
    "            raise ValueError('Bad prior type {}'.format(message_type))\n",
    "        return cls.subclasses[prior_type](*params, **extparams)\n",
    "    \n",
    "    def __init__(self, y, prior, s2):\n",
    "        print(\"Initializing NormalMeans\")\n",
    "        self.y = y\n",
    "        self.prior = prior\n",
    "        self.s2 = s2\n",
    "        \n",
    "    def logML(self):\n",
    "        print(\"Calculating NormalMeans\")\n",
    "        return\n",
    "    \n",
    "    def shrinkage_operator(self):\n",
    "        return self.logML\n",
    "    \n",
    "    def penalty_operator(self):\n",
    "        return self.y * 2"
   ]
  },
  {
   "cell_type": "code",
   "execution_count": 3,
   "id": "2708bd16",
   "metadata": {},
   "outputs": [],
   "source": [
    "@NormalMeans.register_nm('ash')\n",
    "class NMAsh(NormalMeans):\n",
    "    \n",
    "    def __init__(self, y, prior, s2, dj = None):\n",
    "        print(\"Initializing NMAsh\")\n",
    "        self.y = y\n",
    "        self.prior = prior\n",
    "        self.s2 = s2\n",
    "        self.dj = dj\n",
    "        print (\"dj is\", dj)\n",
    "        \n",
    "    @property\n",
    "    def logML(self):\n",
    "        print(\"Calculating NMAsh\")\n",
    "        return self.prior + self.s2"
   ]
  },
  {
   "cell_type": "code",
   "execution_count": 4,
   "id": "fce61256",
   "metadata": {},
   "outputs": [],
   "source": [
    "@NormalMeans.register_nm('ash_scaled')\n",
    "class NMAshScaled(NormalMeans):\n",
    "    \n",
    "#     def __init__(self, y, prior, s2):\n",
    "#         print(\"Initializing NMAshScaled\")\n",
    "#         self.y = y\n",
    "#         self.prior = prior\n",
    "#         self.s2 = s2\n",
    "        \n",
    "    @property\n",
    "    def logML(self):\n",
    "        print(\"Calculating NMAshScaled\")\n",
    "        return (self.prior + self.s2) / self.y"
   ]
  },
  {
   "cell_type": "code",
   "execution_count": 3,
   "id": "d9bb6fd8",
   "metadata": {},
   "outputs": [
    {
     "name": "stdout",
     "output_type": "stream",
     "text": [
      "Initializing NMAsh\n",
      "dj is 5\n"
     ]
    }
   ],
   "source": [
    "nm1 = NormalMeans.create('ash', (2, 3, 4), {'dj' : 5})"
   ]
  },
  {
   "cell_type": "code",
   "execution_count": 4,
   "id": "6520b8c2",
   "metadata": {},
   "outputs": [
    {
     "name": "stdout",
     "output_type": "stream",
     "text": [
      "Calculating NMAsh\n"
     ]
    },
    {
     "data": {
      "text/plain": [
       "7"
      ]
     },
     "execution_count": 4,
     "metadata": {},
     "output_type": "execute_result"
    }
   ],
   "source": [
    "nm1.shrinkage_operator()"
   ]
  },
  {
   "cell_type": "code",
   "execution_count": 5,
   "id": "9f7af2c2",
   "metadata": {},
   "outputs": [
    {
     "name": "stdout",
     "output_type": "stream",
     "text": [
      "Initializing NormalMeans\n"
     ]
    }
   ],
   "source": [
    "nm2 = NormalMeans.create('ash_scaled', (2, 5, 7))"
   ]
  },
  {
   "cell_type": "code",
   "execution_count": 6,
   "id": "130e7e78",
   "metadata": {},
   "outputs": [
    {
     "name": "stdout",
     "output_type": "stream",
     "text": [
      "Calculating NMAshScaled\n"
     ]
    },
    {
     "data": {
      "text/plain": [
       "6.0"
      ]
     },
     "execution_count": 6,
     "metadata": {},
     "output_type": "execute_result"
    }
   ],
   "source": [
    "nm2.shrinkage_operator()"
   ]
  },
  {
   "cell_type": "code",
   "execution_count": 7,
   "id": "bc01f3eb",
   "metadata": {},
   "outputs": [
    {
     "name": "stdout",
     "output_type": "stream",
     "text": [
      "Calculating NMAsh\n"
     ]
    },
    {
     "data": {
      "text/plain": [
       "7"
      ]
     },
     "execution_count": 7,
     "metadata": {},
     "output_type": "execute_result"
    }
   ],
   "source": [
    "nm1.shrinkage_operator()"
   ]
  },
  {
   "cell_type": "code",
   "execution_count": 8,
   "id": "193510e4",
   "metadata": {},
   "outputs": [
    {
     "data": {
      "text/plain": [
       "4"
      ]
     },
     "execution_count": 8,
     "metadata": {},
     "output_type": "execute_result"
    }
   ],
   "source": [
    "nm1.penalty_operator()"
   ]
  },
  {
   "cell_type": "code",
   "execution_count": 9,
   "id": "42f000b8",
   "metadata": {},
   "outputs": [
    {
     "data": {
      "text/plain": [
       "4"
      ]
     },
     "execution_count": 9,
     "metadata": {},
     "output_type": "execute_result"
    }
   ],
   "source": [
    "nm2.penalty_operator()"
   ]
  },
  {
   "cell_type": "code",
   "execution_count": null,
   "id": "1b3d1aac",
   "metadata": {},
   "outputs": [],
   "source": []
  }
 ],
 "metadata": {
  "kernelspec": {
   "display_name": "Python 3 (ipykernel)",
   "language": "python",
   "name": "python3"
  },
  "language_info": {
   "codemirror_mode": {
    "name": "ipython",
    "version": 3
   },
   "file_extension": ".py",
   "mimetype": "text/x-python",
   "name": "python",
   "nbconvert_exporter": "python",
   "pygments_lexer": "ipython3",
   "version": "3.9.12"
  }
 },
 "nbformat": 4,
 "nbformat_minor": 5
}
