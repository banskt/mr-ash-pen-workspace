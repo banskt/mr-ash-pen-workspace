{
 "cells": [
  {
   "cell_type": "code",
   "execution_count": 1,
   "id": "2164ccef",
   "metadata": {},
   "outputs": [],
   "source": [
    "%load_ext autoreload\n",
    "%autoreload 2"
   ]
  },
  {
   "cell_type": "code",
   "execution_count": 2,
   "id": "2b6363b6",
   "metadata": {},
   "outputs": [
    {
     "name": "stdout",
     "output_type": "stream",
     "text": [
      "\u001b[1mrpy2 version:\u001b[0m\n",
      "3.4.5\n",
      "\u001b[1mPython version:\u001b[0m\n",
      "3.9.12 | packaged by conda-forge | (main, Mar 24 2022, 23:22:55) \n",
      "[GCC 10.3.0]\n",
      "\u001b[1mLooking for R's HOME:\u001b[0m\n",
      "    Environment variable R_HOME: None\n",
      "    Calling `R RHOME`: /opt/R/mkl/4.0.5/lib/R\n",
      "    Environment variable R_LIBS_USER: None\n",
      "\u001b[1mR's additions to LD_LIBRARY_PATH:\u001b[0m\n",
      "/opt/qt/5.15.2/lib:/opt/R/mkl/4.0.5/lib/R/lib:/opt/openmpi/4.0.5-gcc10.2.0/lib:/opt/intel/compilers_and_libraries_2020.4.304/linux/compiler/lib/intel64_lin:/opt/intel/compilers_and_libraries_2020.4.304/linux/mkl/lib/intel64_lin:/opt/intel/compilers_and_libraries_2020.4.304/linux/tbb/lib/intel64/gcc4.8:/opt/lapack/lapack-3.10.0-gcc10.2.0-blas:/opt/blas/3.10.0/lib64:/opt/gcc/10.2.0/lib64:/opt/gcc/10.2.0/lib\n",
      "\u001b[1mR version:\u001b[0m\n",
      "    In the PATH: R version 4.0.5 (2021-03-31) -- \"Shake and Throw\"\n",
      "    Loading R library from rpy2: OK\n",
      "\u001b[1mAdditional directories to load R packages from:\u001b[0m\n",
      "None\n",
      "\u001b[1mC extension compilation:\u001b[0m\n",
      "  include:\n",
      "  ['/opt/R/mkl/4.0.5/lib/R/include']\n",
      "  libraries:\n",
      "  ['R', 'pcre2-8', 'lzma', 'bz2', 'z', 'rt', 'dl', 'm']\n",
      "  library_dirs:\n",
      "  ['/opt/R/mkl/4.0.5/lib/R/lib']\n",
      "  extra_compile_args:\n",
      "  []\n",
      "  extra_link_args:\n",
      "  ['-Wl,--export-dynamic', '-fopenmp']\n"
     ]
    }
   ],
   "source": [
    "%run -m rpy2.situation"
   ]
  },
  {
   "cell_type": "code",
   "execution_count": 3,
   "id": "6628667f",
   "metadata": {},
   "outputs": [],
   "source": [
    "import numpy as np\n",
    "from scipy import optimize as sp_optimize\n",
    "import logging\n",
    "import numbers\n",
    "\n",
    "import os\n",
    "import tempfile\n",
    "import subprocess\n",
    "\n",
    "import rpy2.robjects as robj\n",
    "import rpy2.robjects.vectors as rvec\n",
    "from rpy2.robjects.packages import importr\n",
    "from rpy2.robjects import numpy2ri\n",
    "numpy2ri.activate()\n",
    "from rpy2.robjects.conversion import localconverter"
   ]
  },
  {
   "cell_type": "code",
   "execution_count": 4,
   "id": "a3c53101",
   "metadata": {},
   "outputs": [],
   "source": [
    "import sys\n",
    "sys.path.append('/home/saikat/Documents/work/sparse-regression/simulation/eb-linreg-dsc/dsc/functions')\n",
    "import simulate\n",
    "\n",
    "def center_and_scale(Z):\n",
    "    dim = Z.ndim\n",
    "    if dim == 1:\n",
    "        Znew = Z / np.std(Z)\n",
    "        Znew = Znew - np.mean(Znew)\n",
    "    elif dim == 2:\n",
    "        Znew = Z / np.std(Z, axis = 0)\n",
    "        Znew = Znew - np.mean(Znew, axis = 0).reshape(1, -1)\n",
    "    return Znew\n",
    "\n",
    "def initialize_ash_prior(k, scale = 2):\n",
    "    w = np.zeros(k)\n",
    "    w[0] = 0.0\n",
    "    w[1:(k-1)] = np.repeat((1 - w[0])/(k-1), (k - 2))\n",
    "    w[k-1] = 1 - np.sum(w)\n",
    "    #prior_grid = (np.arange(k) * 5) + 0.1\n",
    "    #prior_grid *= scale\n",
    "    sk2 = np.square((np.power(scale, np.arange(k) / k) - 1))\n",
    "    prior_grid = np.sqrt(sk2)\n",
    "    return w, prior_grid\n",
    "\n",
    "n = 200\n",
    "p = 500\n",
    "p_causal = 20\n",
    "pve = 0.7\n",
    "k = 20\n",
    "\n",
    "X, y, Xtest, ytest, btrue, strue = simulate.equicorr_predictors(n, p, p_causal, pve, rho = 0.0, seed = 10)\n",
    "X      = center_and_scale(X)\n",
    "Xtest  = center_and_scale(Xtest)\n",
    "wk, sk = initialize_ash_prior(k, scale = 2)"
   ]
  },
  {
   "cell_type": "code",
   "execution_count": 5,
   "id": "5ad13ca3",
   "metadata": {},
   "outputs": [
    {
     "name": "stdout",
     "output_type": "stream",
     "text": [
      "2022-04-06 10:28:46,454 | mrashpen.inference.mrash_wrapR | INFO | Mr.ASH terminated at iteration 1785.\n",
      "\n"
     ]
    }
   ],
   "source": [
    "'''\n",
    "mr.ash.alpha\n",
    "'''\n",
    "from mrashpen.inference.mrash_wrapR import MrASHR\n",
    "\n",
    "mrash_r = MrASHR(option = \"rds\", debug = True)\n",
    "mrash_r.fit(X, y, sk, binit = np.zeros(p), winit = wk, s2init = 1.0)"
   ]
  },
  {
   "cell_type": "code",
   "execution_count": 6,
   "id": "c4be9391",
   "metadata": {},
   "outputs": [],
   "source": [
    "mrashR = importr('mr.ash.alpha')"
   ]
  },
  {
   "cell_type": "code",
   "execution_count": 8,
   "id": "d0d99833",
   "metadata": {},
   "outputs": [],
   "source": [
    "binit = np.zeros(p)\n",
    "wkinit = wk.copy()\n",
    "epstol = 1e-8\n",
    "convtol = 1e-8\n",
    "maxiter = 1000\n",
    "s2init = 1.0\n",
    "update_pi = True\n",
    "update_sigma2 = True\n",
    "\n",
    "n, p = X.shape\n",
    "r_X      = robj.r.matrix(X, nrow = n, ncol = p)\n",
    "r_y      = rvec.FloatVector(y)\n",
    "r_sk2    = rvec.FloatVector(np.square(sk))\n",
    "r_binit  = rvec.FloatVector(binit)\n",
    "r_wkinit = rvec.FloatVector(wkinit)\n",
    "r_tol    = rvec.ListVector({'epstol': epstol,\n",
    "                        'convtol': convtol})"
   ]
  },
  {
   "cell_type": "code",
   "execution_count": null,
   "id": "8f45f5b7",
   "metadata": {},
   "outputs": [],
   "source": [
    "r_fit = mrashR.mr_ash(r_X, r_y,\n",
    "                      standardize = False, intercept = True,\n",
    "                      max_iter = maxiter,\n",
    "                      sa2 = r_sk2,\n",
    "                      beta_init = r_binit,\n",
    "                      pi = r_wkinit,\n",
    "                      sigma2 = s2init,\n",
    "                      update_pi = update_pi,\n",
    "                      update_sigma2 = update_sigma2,\n",
    "                      tol = r_tol\n",
    "                     )"
   ]
  },
  {
   "cell_type": "code",
   "execution_count": null,
   "id": "1917aff9",
   "metadata": {},
   "outputs": [],
   "source": []
  }
 ],
 "metadata": {
  "kernelspec": {
   "display_name": "Python 3 (ipykernel)",
   "language": "python",
   "name": "python3"
  },
  "language_info": {
   "codemirror_mode": {
    "name": "ipython",
    "version": 3
   },
   "file_extension": ".py",
   "mimetype": "text/x-python",
   "name": "python",
   "nbconvert_exporter": "python",
   "pygments_lexer": "ipython3",
   "version": "3.9.12"
  }
 },
 "nbformat": 4,
 "nbformat_minor": 5
}
