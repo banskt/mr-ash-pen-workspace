{
 "cells": [
  {
   "cell_type": "code",
   "execution_count": 2,
   "id": "cutting-absence",
   "metadata": {},
   "outputs": [],
   "source": [
    "import numpy as np\n",
    "import matplotlib.pyplot as plt\n",
    "from scipy import optimize as sp_optimize\n",
    "from pymir import mpl_stylesheet\n",
    "from pymir import mpl_utils\n",
    "mpl_stylesheet.banskt_presentation()"
   ]
  },
  {
   "cell_type": "code",
   "execution_count": 51,
   "id": "powered-router",
   "metadata": {},
   "outputs": [],
   "source": [
    "def constraint_eq(params):\n",
    "    x, y, z = params\n",
    "    return 2*x - y + z - 3\n",
    "\n",
    "def grad_func(params):\n",
    "    x, y, z = params\n",
    "    dx = 2 * x - 2 * l\n",
    "    dy = 2 * y + l\n",
    "    dz = 2 * z - l\n",
    "    dl = - constraint_eq([x, y, z])\n",
    "    return np.array([dx, dy, dz])\n",
    "\n",
    "def obj_func(params):\n",
    "    x, y, z = params\n",
    "    l = 2 * z\n",
    "    obj = x**2 + y**2 + z**2 - l * constraint_eq([x, y, z])\n",
    "    dx = 2 * x - 2 * l\n",
    "    dy = 2 * y + l\n",
    "    dz = 2 * z - l    \n",
    "    grad = np.array([dx, dy, dz])\n",
    "    print(obj)\n",
    "    return obj, grad"
   ]
  },
  {
   "cell_type": "code",
   "execution_count": 52,
   "id": "italic-tomorrow",
   "metadata": {},
   "outputs": [],
   "source": [
    "method = 'L-BFGS-B'\n",
    "mopts = dict()\n",
    "# sc_optim.show_options(solver = 'minimize', method = 'l-bfgs-b')\n",
    "mopts['L-BFGS-B'] = {'maxiter': 200000, # Maximum number of iterations\n",
    "                     'maxfun': 2000000, # Maximum number of function evaluations\n",
    "                     'ftol': 1e-9, # Function tolerance.\n",
    "                                   # stop when ``(f^k - f^{k+1})/max{|f^k|,|f^{k+1}|,1} <= ftol``.\n",
    "                     'gtol': 1e-9, # Gradient tolerance\n",
    "                                   # stop when ``max{|proj g_i | i = 1, ..., n} <= gtol``\n",
    "                     'disp': True\n",
    "                     }"
   ]
  },
  {
   "cell_type": "code",
   "execution_count": 53,
   "id": "increasing-medicare",
   "metadata": {},
   "outputs": [
    {
     "name": "stdout",
     "output_type": "stream",
     "text": [
      "5.0\n",
      "1.5278640450004208\n",
      "0.0\n",
      "      fun: 0.0\n",
      " hess_inv: <3x3 LbfgsInvHessProduct with dtype=float64>\n",
      "      jac: array([0., 0., 0.])\n",
      "  message: 'CONVERGENCE: NORM_OF_PROJECTED_GRADIENT_<=_PGTOL'\n",
      "     nfev: 3\n",
      "      nit: 2\n",
      "     njev: 3\n",
      "   status: 0\n",
      "  success: True\n",
      "        x: array([ 2., -1.,  1.])\n"
     ]
    }
   ],
   "source": [
    "params = np.array([1, 1, 1])\n",
    "res = sp_optimize.minimize(obj_func, params, method = method, jac=True, options = mopts[method])\n",
    "print(res)"
   ]
  },
  {
   "cell_type": "code",
   "execution_count": 54,
   "id": "overhead-preference",
   "metadata": {},
   "outputs": [
    {
     "data": {
      "text/plain": [
       "3.0"
      ]
     },
     "execution_count": 54,
     "metadata": {},
     "output_type": "execute_result"
    }
   ],
   "source": [
    "constraint_eq(res.x)"
   ]
  },
  {
   "cell_type": "code",
   "execution_count": 56,
   "id": "cleared-detective",
   "metadata": {},
   "outputs": [
    {
     "name": "stdout",
     "output_type": "stream",
     "text": [
      "0.0\n"
     ]
    },
    {
     "data": {
      "text/plain": [
       "(0.0, array([0., 0., 0.]))"
      ]
     },
     "execution_count": 56,
     "metadata": {},
     "output_type": "execute_result"
    }
   ],
   "source": [
    "obj_func(res.x)"
   ]
  },
  {
   "cell_type": "code",
   "execution_count": null,
   "id": "worst-pollution",
   "metadata": {},
   "outputs": [],
   "source": []
  }
 ],
 "metadata": {
  "kernelspec": {
   "display_name": "Python 3",
   "language": "python",
   "name": "python3"
  },
  "language_info": {
   "codemirror_mode": {
    "name": "ipython",
    "version": 3
   },
   "file_extension": ".py",
   "mimetype": "text/x-python",
   "name": "python",
   "nbconvert_exporter": "python",
   "pygments_lexer": "ipython3",
   "version": "3.9.2"
  }
 },
 "nbformat": 4,
 "nbformat_minor": 5
}
