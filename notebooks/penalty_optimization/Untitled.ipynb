{
 "cells": [
  {
   "cell_type": "code",
   "execution_count": 9,
   "id": "8beb5169",
   "metadata": {},
   "outputs": [],
   "source": [
    "options = {'maxiter' : 2000, 'gtol' : 1e-10}"
   ]
  },
  {
   "cell_type": "code",
   "execution_count": 10,
   "id": "f6a03b6f",
   "metadata": {},
   "outputs": [
    {
     "data": {
      "text/plain": [
       "{'maxiter': 2000, 'gtol': 1e-10}"
      ]
     },
     "execution_count": 10,
     "metadata": {},
     "output_type": "execute_result"
    }
   ],
   "source": [
    "options"
   ]
  },
  {
   "cell_type": "code",
   "execution_count": 12,
   "id": "c9df952b",
   "metadata": {},
   "outputs": [],
   "source": [
    "a = dict(options)"
   ]
  },
  {
   "cell_type": "code",
   "execution_count": 14,
   "id": "70392335",
   "metadata": {},
   "outputs": [
    {
     "data": {
      "text/plain": [
       "2000"
      ]
     },
     "execution_count": 14,
     "metadata": {},
     "output_type": "execute_result"
    }
   ],
   "source": [
    "a['maxiter']"
   ]
  },
  {
   "cell_type": "code",
   "execution_count": 15,
   "id": "387031f9",
   "metadata": {},
   "outputs": [
    {
     "data": {
      "text/plain": [
       "2000"
      ]
     },
     "execution_count": 15,
     "metadata": {},
     "output_type": "execute_result"
    }
   ],
   "source": [
    "a.setdefault('maxiter', 200)"
   ]
  },
  {
   "cell_type": "code",
   "execution_count": 16,
   "id": "a670da29",
   "metadata": {},
   "outputs": [],
   "source": [
    "method = 'Parametrize'"
   ]
  },
  {
   "cell_type": "code",
   "execution_count": 17,
   "id": "3fdca224",
   "metadata": {},
   "outputs": [
    {
     "data": {
      "text/plain": [
       "'parametrize'"
      ]
     },
     "execution_count": 17,
     "metadata": {},
     "output_type": "execute_result"
    }
   ],
   "source": [
    "method.lower()"
   ]
  },
  {
   "cell_type": "code",
   "execution_count": null,
   "id": "f4a3a08a",
   "metadata": {},
   "outputs": [],
   "source": []
  }
 ],
 "metadata": {
  "kernelspec": {
   "display_name": "Python 3 (ipykernel)",
   "language": "python",
   "name": "python3"
  },
  "language_info": {
   "codemirror_mode": {
    "name": "ipython",
    "version": 3
   },
   "file_extension": ".py",
   "mimetype": "text/x-python",
   "name": "python",
   "nbconvert_exporter": "python",
   "pygments_lexer": "ipython3",
   "version": "3.9.12"
  }
 },
 "nbformat": 4,
 "nbformat_minor": 5
}
