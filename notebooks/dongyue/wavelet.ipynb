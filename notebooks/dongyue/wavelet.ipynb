{
 "cells": [
  {
   "cell_type": "markdown",
   "id": "8248ad33",
   "metadata": {},
   "source": [
    "## Haar DWT matrix"
   ]
  },
  {
   "cell_type": "code",
   "execution_count": 7,
   "id": "75f9f62f",
   "metadata": {},
   "outputs": [],
   "source": [
    "import numpy as np\n",
    "def HaarMat(N):\n",
    "    if N == 1: return np.array([[1]])\n",
    "    H = 1/np.sqrt(2)*np.concatenate(\n",
    "        (\n",
    "            np.kron(HaarMat(N//2),[1,1])\n",
    "        ,\n",
    "            np.kron(np.identity(N//2),[1,-1])\n",
    "        ),axis = 0\n",
    "        )\n",
    "    return H\n",
    "\n",
    "def invHaarMat(N):\n",
    "    return HaarMat(N).transpose()"
   ]
  },
  {
   "cell_type": "code",
   "execution_count": 8,
   "id": "406b79fb",
   "metadata": {},
   "outputs": [
    {
     "data": {
      "text/plain": [
       "array([[ 0.35,  0.35,  0.35,  0.35,  0.35,  0.35,  0.35,  0.35],\n",
       "       [ 0.35,  0.35,  0.35,  0.35, -0.35, -0.35, -0.35, -0.35],\n",
       "       [ 0.5 ,  0.5 , -0.5 , -0.5 ,  0.  ,  0.  , -0.  , -0.  ],\n",
       "       [ 0.  ,  0.  , -0.  , -0.  ,  0.5 ,  0.5 , -0.5 , -0.5 ],\n",
       "       [ 0.71, -0.71,  0.  , -0.  ,  0.  , -0.  ,  0.  , -0.  ],\n",
       "       [ 0.  , -0.  ,  0.71, -0.71,  0.  , -0.  ,  0.  , -0.  ],\n",
       "       [ 0.  , -0.  ,  0.  , -0.  ,  0.71, -0.71,  0.  , -0.  ],\n",
       "       [ 0.  , -0.  ,  0.  , -0.  ,  0.  , -0.  ,  0.71, -0.71]])"
      ]
     },
     "execution_count": 8,
     "metadata": {},
     "output_type": "execute_result"
    }
   ],
   "source": [
    "np.round(HaarMat(8),2)"
   ]
  },
  {
   "cell_type": "code",
   "execution_count": 9,
   "id": "45c76e26",
   "metadata": {},
   "outputs": [
    {
     "data": {
      "text/plain": [
       "array([[ 0.35,  0.35,  0.5 ,  0.  ,  0.71,  0.  ,  0.  ,  0.  ],\n",
       "       [ 0.35,  0.35,  0.5 ,  0.  , -0.71, -0.  , -0.  , -0.  ],\n",
       "       [ 0.35,  0.35, -0.5 , -0.  ,  0.  ,  0.71,  0.  ,  0.  ],\n",
       "       [ 0.35,  0.35, -0.5 , -0.  , -0.  , -0.71, -0.  , -0.  ],\n",
       "       [ 0.35, -0.35,  0.  ,  0.5 ,  0.  ,  0.  ,  0.71,  0.  ],\n",
       "       [ 0.35, -0.35,  0.  ,  0.5 , -0.  , -0.  , -0.71, -0.  ],\n",
       "       [ 0.35, -0.35, -0.  , -0.5 ,  0.  ,  0.  ,  0.  ,  0.71],\n",
       "       [ 0.35, -0.35, -0.  , -0.5 , -0.  , -0.  , -0.  , -0.71]])"
      ]
     },
     "execution_count": 9,
     "metadata": {},
     "output_type": "execute_result"
    }
   ],
   "source": [
    "np.round(invHaarMat(8),2)"
   ]
  },
  {
   "cell_type": "markdown",
   "id": "e2b33101",
   "metadata": {},
   "source": [
    "### Example"
   ]
  },
  {
   "cell_type": "code",
   "execution_count": 4,
   "id": "260660ad",
   "metadata": {},
   "outputs": [],
   "source": [
    "# create a signal x\n",
    "x = [3, 7, 1, 1, -2, 5, 4, 6]\n",
    "forwardW = HaarMat(len(x))\n",
    "# calc wavelet coefficient\n",
    "wave_coef = np.dot(forwardW,x)"
   ]
  },
  {
   "cell_type": "code",
   "execution_count": 5,
   "id": "f12943b3",
   "metadata": {},
   "outputs": [
    {
     "data": {
      "text/plain": [
       "array([ 8.84, -0.35,  4.  , -3.5 , -2.83,  0.  , -4.95, -1.41])"
      ]
     },
     "execution_count": 5,
     "metadata": {},
     "output_type": "execute_result"
    }
   ],
   "source": [
    "np.round(wave_coef,2)"
   ]
  },
  {
   "cell_type": "code",
   "execution_count": 6,
   "id": "1ed0b8d4",
   "metadata": {},
   "outputs": [
    {
     "data": {
      "text/plain": [
       "array([ 3.,  7.,  1.,  1., -2.,  5.,  4.,  6.])"
      ]
     },
     "execution_count": 6,
     "metadata": {},
     "output_type": "execute_result"
    }
   ],
   "source": [
    "# transform it back to signal x\n",
    "invW = invHaarMat(len(x))\n",
    "np.dot(invW,wave_coef)"
   ]
  },
  {
   "cell_type": "code",
   "execution_count": null,
   "id": "f4f85d52",
   "metadata": {},
   "outputs": [],
   "source": []
  }
 ],
 "metadata": {
  "kernelspec": {
   "display_name": "Python 3 (ipykernel)",
   "language": "python",
   "name": "python3"
  },
  "language_info": {
   "codemirror_mode": {
    "name": "ipython",
    "version": 3
   },
   "file_extension": ".py",
   "mimetype": "text/x-python",
   "name": "python",
   "nbconvert_exporter": "python",
   "pygments_lexer": "ipython3",
   "version": "3.9.12"
  }
 },
 "nbformat": 4,
 "nbformat_minor": 5
}
