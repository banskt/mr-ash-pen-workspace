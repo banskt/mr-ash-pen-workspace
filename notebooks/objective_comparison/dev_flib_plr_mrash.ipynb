{
 "cells": [
  {
   "cell_type": "code",
   "execution_count": 23,
   "id": "85a5f124",
   "metadata": {},
   "outputs": [],
   "source": [
    "import numpy as np\n",
    "from mrashpen.models.plr_ash import PenalizedMrASH as PenMrASH\n",
    "from mrashpen.models.normal_means_ash_scaled import NormalMeansASHScaled\n",
    "import libmrashpen_plr_mrash as flib\n",
    "from libmrashpen_plr_mrash import plr_mrash as flib_penmrash\n",
    "np.random.seed(200)"
   ]
  },
  {
   "cell_type": "code",
   "execution_count": 24,
   "id": "f50c02b6",
   "metadata": {},
   "outputs": [],
   "source": [
    "def _ash_data(n = 200, p = 2000, p_causal = 5, pve = 0.5, rho = 0.0, k = 6, seed = None):\n",
    "\n",
    "    def sd_from_pve (X, b, pve):\n",
    "        return np.sqrt(np.var(np.dot(X, b)) * (1 - pve) / pve)\n",
    "\n",
    "    if seed is not None: np.random.seed(seed)\n",
    "\n",
    "    '''\n",
    "    ASH prior\n",
    "    '''\n",
    "    wk = np.zeros(k)\n",
    "    wk[1:(k-1)] = np.repeat(1/(k-1), (k - 2)) \n",
    "    wk[k-1] = 1 - np.sum(wk)\n",
    "    sk = np.arange(k)\n",
    "    '''\n",
    "    Equicorr predictors\n",
    "    X is sampled from a multivariate normal, with covariance matrix V.\n",
    "    V has unit diagonal entries and constant off-diagonal entries rho.\n",
    "    '''\n",
    "    iidX    = np.random.normal(size = n * p).reshape(n, p)\n",
    "    comR    = np.random.normal(size = n).reshape(n, 1)\n",
    "    X       = comR * np.sqrt(rho) + iidX * np.sqrt(1 - rho)\n",
    "    bidx    = np.random.choice(p, p_causal, replace = False)\n",
    "    b       = np.zeros(p)\n",
    "    b[bidx] = np.random.normal(size = p_causal)\n",
    "    sigma   = sd_from_pve(X, b, pve)\n",
    "    y       = np.dot(X, b) + sigma * np.random.normal(size = n)\n",
    "    return X, y, b, sigma, wk, sk\n",
    "\n",
    "def center_and_scale(Z):\n",
    "    dim = Z.ndim\n",
    "    if dim == 1:\n",
    "        Znew = Z / np.std(Z)\n",
    "        Znew = Znew - np.mean(Znew)\n",
    "    elif dim == 2:\n",
    "        Znew = Z / np.std(Z, axis = 0)\n",
    "        Znew = Znew - np.mean(Znew, axis = 0).reshape(1, -1)\n",
    "    return Znew"
   ]
  },
  {
   "cell_type": "code",
   "execution_count": 25,
   "id": "ebdef143",
   "metadata": {},
   "outputs": [
    {
     "name": "stdout",
     "output_type": "stream",
     "text": [
      "obj,bgrad,wgrad,s2grad = objective_gradients(x,y,b,stddev,wk,sk,djinv,[n,p,k])\n",
      "\n",
      "Wrapper for ``objective_gradients``.\n",
      "\n",
      "Parameters\n",
      "----------\n",
      "x : input rank-2 array('d') with bounds (n,p)\n",
      "y : input rank-1 array('d') with bounds (n)\n",
      "b : input rank-1 array('d') with bounds (p)\n",
      "stddev : input float\n",
      "wk : input rank-1 array('d') with bounds (k)\n",
      "sk : input rank-1 array('d') with bounds (k)\n",
      "djinv : input rank-1 array('d') with bounds (p)\n",
      "\n",
      "Other Parameters\n",
      "----------------\n",
      "n : input int, optional\n",
      "    Default: shape(x,0)\n",
      "p : input int, optional\n",
      "    Default: shape(x,1)\n",
      "k : input int, optional\n",
      "    Default: len(wk)\n",
      "\n",
      "Returns\n",
      "-------\n",
      "obj : float\n",
      "bgrad : rank-1 array('d') with bounds (p)\n",
      "wgrad : rank-1 array('d') with bounds (k)\n",
      "s2grad : float\n",
      "\n"
     ]
    }
   ],
   "source": [
    "print (flib.plr_mrash.objective_gradients.__doc__)"
   ]
  },
  {
   "cell_type": "code",
   "execution_count": 26,
   "id": "c97c0379",
   "metadata": {},
   "outputs": [
    {
     "name": "stdout",
     "output_type": "stream",
     "text": [
      "lml,lml_bd,lml_wd,lml_s2d,lml_bd_bd,lml_bd_wd,lml_bd_s2d = normal_means_ash_lml(y,stddev,wk,sk,djinv,[ndim,ncomp])\n",
      "\n",
      "Wrapper for ``normal_means_ash_lml``.\n",
      "\n",
      "Parameters\n",
      "----------\n",
      "y : input rank-1 array('d') with bounds (ndim)\n",
      "stddev : input float\n",
      "wk : input rank-1 array('d') with bounds (ncomp)\n",
      "sk : input rank-1 array('d') with bounds (ncomp)\n",
      "djinv : input rank-1 array('d') with bounds (ndim)\n",
      "\n",
      "Other Parameters\n",
      "----------------\n",
      "ndim : input int, optional\n",
      "    Default: len(y)\n",
      "ncomp : input int, optional\n",
      "    Default: len(wk)\n",
      "\n",
      "Returns\n",
      "-------\n",
      "lml : rank-1 array('d') with bounds (ndim)\n",
      "lml_bd : rank-1 array('d') with bounds (ndim)\n",
      "lml_wd : rank-2 array('d') with bounds (ndim,ncomp)\n",
      "lml_s2d : rank-1 array('d') with bounds (ndim)\n",
      "lml_bd_bd : rank-1 array('d') with bounds (ndim)\n",
      "lml_bd_wd : rank-2 array('d') with bounds (ndim,ncomp)\n",
      "lml_bd_s2d : rank-1 array('d') with bounds (ndim)\n",
      "\n"
     ]
    }
   ],
   "source": [
    "print (flib.normal_means_ash_scaled.normal_means_ash_lml.__doc__)"
   ]
  },
  {
   "cell_type": "code",
   "execution_count": 27,
   "id": "c2d54ef3",
   "metadata": {},
   "outputs": [],
   "source": [
    "X, y, b, sigma, wk, sk = _ash_data(seed = 100)\n",
    "#X = center_and_scale(X)\n",
    "#y = y - np.mean(y)"
   ]
  },
  {
   "cell_type": "code",
   "execution_count": 28,
   "id": "595d14d8",
   "metadata": {},
   "outputs": [
    {
     "name": "stdout",
     "output_type": "stream",
     "text": [
      "2021-12-07 23:35:46,988 | mrashpen.models.plr_ash | DEBUG | Calculating PLR objective with sigma2 = 3.166077616860522\n",
      "1965.4559045114502\n",
      "[-8.2179048   1.10356175  7.85761507 ...  6.22617378  6.25767307\n",
      " 11.67515168]\n",
      "[-61705.85288764  -4373.82809809  -2191.38264212  -1461.47750028\n",
      "  -1096.25423584   -877.05752367]\n",
      "1.2039605670265132\n"
     ]
    }
   ],
   "source": [
    "pmash = PenMrASH(X, y, b, sigma, wk, sk, debug = True, is_prior_scaled = True)\n",
    "obj = pmash.objective\n",
    "bgrad, wgrad, s2grad = pmash.gradients\n",
    "print (obj)\n",
    "print (bgrad)\n",
    "print (wgrad)\n",
    "print (s2grad)"
   ]
  },
  {
   "cell_type": "code",
   "execution_count": 29,
   "id": "aa3bee0d",
   "metadata": {},
   "outputs": [
    {
     "name": "stdout",
     "output_type": "stream",
     "text": [
      "1965.4559045114556\n",
      "[-8.2179048   1.10356175  7.85761507 ...  6.22617378  6.25767307\n",
      " 11.67515168]\n",
      "[-61705.85288764  -4373.82809809  -2191.38264212  -1461.47750028\n",
      "  -1096.25423584   -877.05752367]\n",
      "1.2039605670339597\n"
     ]
    }
   ],
   "source": [
    "djinv = 1 / np.sum(np.square(X), axis = 0)\n",
    "f_obj, f_bgrad, f_wgrad, f_s2grad = flib_penmrash.objective_gradients(X, y, b, sigma, wk, sk, djinv)\n",
    "print (f_obj)\n",
    "print (f_bgrad)\n",
    "print (f_wgrad)\n",
    "print (f_s2grad)"
   ]
  },
  {
   "cell_type": "code",
   "execution_count": 11,
   "id": "19ac5da2",
   "metadata": {},
   "outputs": [],
   "source": [
    "lml, lml_bd, lml_wd, lml_s2d, lml_bd_bd, lml_bd_wd, lml_bd_s2d \\\n",
    "    = flib.normal_means_ash_scaled.normal_means_ash_lml(b, sigma, wk, sk, djinv)"
   ]
  },
  {
   "cell_type": "code",
   "execution_count": 12,
   "id": "24769e11",
   "metadata": {},
   "outputs": [],
   "source": [
    "dj = np.sum(np.square(X), axis = 0)\n",
    "nmash = NormalMeansASHScaled(b, sigma, wk, sk, d = dj)"
   ]
  },
  {
   "cell_type": "code",
   "execution_count": 13,
   "id": "0bd224ef",
   "metadata": {},
   "outputs": [
    {
     "name": "stdout",
     "output_type": "stream",
     "text": [
      "[-0.02834827  0.01346295 -0.00345402  0.05447382  0.04534753]\n",
      "[-0.02834827  0.01346295 -0.00345402  0.05447382  0.04534753]\n"
     ]
    }
   ],
   "source": [
    "print (nmash.logML_deriv_s2deriv[b!=0])\n",
    "print (lml_bd_s2d[b!=0])"
   ]
  },
  {
   "cell_type": "code",
   "execution_count": 14,
   "id": "beaa6c7e",
   "metadata": {},
   "outputs": [],
   "source": [
    "bvar = np.square(sigma) * djinv\n",
    "f_mb, f_mb_bgrad, f_mb_wgrad, f_mb_s2grad \\\n",
    "    = flib.plr_mrash.plr_shrinkage_operator(b, bvar, djinv,\n",
    "                                            lml_bd,lml_bd_bd,lml_bd_wd,lml_bd_s2d)\n",
    "mb, mb_bgrad, mb_wgrad, mb_s2grad = pmash.shrinkage_operator(nmash)"
   ]
  },
  {
   "cell_type": "code",
   "execution_count": 15,
   "id": "db7b818f",
   "metadata": {},
   "outputs": [
    {
     "name": "stdout",
     "output_type": "stream",
     "text": [
      "[0.9975574  0.99744715 0.99741918 0.99811912 0.99783109]\n",
      "[0.9975574  0.99744715 0.99741918 0.99811912 0.99783109]\n"
     ]
    }
   ],
   "source": [
    "print (mb_bgrad[b != 0])\n",
    "print (f_mb_bgrad[b != 0])"
   ]
  },
  {
   "cell_type": "code",
   "execution_count": 16,
   "id": "c65b089d",
   "metadata": {},
   "outputs": [],
   "source": [
    "f_lambdaj, f_l_bgrad, f_l_wgrad, f_l_s2grad \\\n",
    "    = flib.plr_mrash.plr_penalty_operator(b, bvar, djinv, \n",
    "                                          lml,lml_bd,lml_wd,lml_s2d,\n",
    "                                          lml_bd_bd,lml_bd_wd,lml_bd_s2d)\n",
    "lambdaj, l_bgrad, l_wgrad, l_s2grad = pmash.penalty_operator(nmash)"
   ]
  },
  {
   "cell_type": "code",
   "execution_count": 17,
   "id": "166237ee",
   "metadata": {},
   "outputs": [
    {
     "name": "stdout",
     "output_type": "stream",
     "text": [
      "[-61892.0279618   -4373.82027989  -2191.3824997   -1461.48009754\n",
      "  -1096.25703017   -877.06009271]\n",
      "[-61892.0279618   -4373.82027989  -2191.3824997   -1461.48009754\n",
      "  -1096.25703017   -877.06009271]\n"
     ]
    }
   ],
   "source": [
    "print(l_wgrad[l_wgrad != 0])\n",
    "print(f_l_wgrad[f_l_wgrad != 0])"
   ]
  },
  {
   "cell_type": "code",
   "execution_count": 18,
   "id": "b36103b1",
   "metadata": {},
   "outputs": [
    {
     "name": "stdout",
     "output_type": "stream",
     "text": [
      "1965.2547899418032\n"
     ]
    }
   ],
   "source": [
    "sigma2 = np.square(sigma)\n",
    "r = y - np.dot(X, mb)\n",
    "rTr = np.sum(np.square(r))\n",
    "obj = (0.5 * rTr / sigma2) + np.sum(lambdaj)\n",
    "obj += 0.5 * (X.shape[0] - X.shape[1]) * (np.log(2. * np.pi) + np.log(sigma2))\n",
    "print(obj)"
   ]
  },
  {
   "cell_type": "code",
   "execution_count": 19,
   "id": "61534c6b",
   "metadata": {},
   "outputs": [
    {
     "data": {
      "text/plain": [
       "3.166077616860522"
      ]
     },
     "execution_count": 19,
     "metadata": {},
     "output_type": "execute_result"
    }
   ],
   "source": [
    "sigma2"
   ]
  },
  {
   "cell_type": "code",
   "execution_count": null,
   "id": "d9106dd4",
   "metadata": {},
   "outputs": [],
   "source": []
  },
  {
   "cell_type": "code",
   "execution_count": 18,
   "id": "14854503",
   "metadata": {},
   "outputs": [
    {
     "name": "stdout",
     "output_type": "stream",
     "text": [
      "lambdaj,l_bgrad,l_wgrad,l_s2grad = plr_penalty_operator(b,bvar,djinv,lml,lml_bd,lml_wd,lml_s2d,lml_bd_bd,lml_bd_wd,lml_bd_s2d)\n",
      "\n",
      "Wrapper for ``plr_penalty_operator``.\n",
      "\n",
      "Parameters\n",
      "----------\n",
      "b : input rank-1 array('d') with bounds (f2py_b_d0)\n",
      "bvar : input rank-1 array('d') with bounds (f2py_bvar_d0)\n",
      "djinv : input rank-1 array('d') with bounds (f2py_djinv_d0)\n",
      "lml : input rank-1 array('d') with bounds (f2py_lml_d0)\n",
      "lml_bd : input rank-1 array('d') with bounds (f2py_lml_bd_d0)\n",
      "lml_wd : input rank-2 array('d') with bounds (f2py_lml_wd_d0,f2py_lml_wd_d1)\n",
      "lml_s2d : input rank-1 array('d') with bounds (f2py_lml_s2d_d0)\n",
      "lml_bd_bd : input rank-1 array('d') with bounds (f2py_lml_bd_bd_d0)\n",
      "lml_bd_wd : input rank-2 array('d') with bounds (f2py_lml_bd_wd_d0,f2py_lml_bd_wd_d1)\n",
      "lml_bd_s2d : input rank-1 array('d') with bounds (f2py_lml_bd_s2d_d0)\n",
      "\n",
      "Returns\n",
      "-------\n",
      "lambdaj : rank-1 array('d') with bounds (size(b))\n",
      "l_bgrad : rank-1 array('d') with bounds (size(b))\n",
      "l_wgrad : rank-1 array('d') with bounds (size(lml_wd, 2))\n",
      "l_s2grad : rank-1 array('d') with bounds (size(b))\n",
      "\n"
     ]
    }
   ],
   "source": [
    "print (flib.plr_mrash.plr_penalty_operator.__doc__)"
   ]
  },
  {
   "cell_type": "code",
   "execution_count": 44,
   "id": "5e0cc00c",
   "metadata": {},
   "outputs": [],
   "source": [
    "sigma2 = np.square(sigma)\n",
    "sk2    = np.square(sk).reshape(1, -1)\n",
    "v2pk   = sk2 + (1 / dj.reshape(-1, 1))"
   ]
  },
  {
   "cell_type": "code",
   "execution_count": 47,
   "id": "b4f47e05",
   "metadata": {},
   "outputs": [],
   "source": [
    "logljk0,logljk1,logljk2 \\\n",
    "    = flib.normal_means_ash_scaled.calculate_logljk(b,sigma2,v2pk)"
   ]
  },
  {
   "cell_type": "code",
   "execution_count": 52,
   "id": "5ab4f957",
   "metadata": {},
   "outputs": [
    {
     "data": {
      "text/plain": [
       "array([[ 2.48232943, -0.16932302, -0.86060104, -1.26571924, -1.55327984,\n",
       "        -1.77636715],\n",
       "       [ 2.48232943, -0.16932302, -0.86060104, -1.26571924, -1.55327984,\n",
       "        -1.77636715],\n",
       "       [ 2.48232943, -0.16932302, -0.86060104, -1.26571924, -1.55327984,\n",
       "        -1.77636715],\n",
       "       ...,\n",
       "       [ 2.48232943, -0.16932302, -0.86060104, -1.26571924, -1.55327984,\n",
       "        -1.77636715],\n",
       "       [ 2.48232943, -0.16932302, -0.86060104, -1.26571924, -1.55327984,\n",
       "        -1.77636715],\n",
       "       [ 2.48232943, -0.16932302, -0.86060104, -1.26571924, -1.55327984,\n",
       "        -1.77636715]])"
      ]
     },
     "execution_count": 52,
     "metadata": {},
     "output_type": "execute_result"
    }
   ],
   "source": [
    "logljk0"
   ]
  },
  {
   "cell_type": "code",
   "execution_count": 53,
   "id": "f2abb8cd",
   "metadata": {},
   "outputs": [
    {
     "data": {
      "text/plain": [
       "array([[-0.16682925, -0.51340284, -0.97154821, -1.3181218 , -1.58343592,\n",
       "        -1.79587752],\n",
       "       [-0.16682925, -0.51340284, -0.97154821, -1.3181218 , -1.58343592,\n",
       "        -1.79587752],\n",
       "       [-0.16682925, -0.51340284, -0.97154821, -1.3181218 , -1.58343592,\n",
       "        -1.79587752],\n",
       "       ...,\n",
       "       [-0.16682925, -0.51340284, -0.97154821, -1.3181218 , -1.58343592,\n",
       "        -1.79587752],\n",
       "       [-0.16682925, -0.51340284, -0.97154821, -1.3181218 , -1.58343592,\n",
       "        -1.79587752],\n",
       "       [-0.16682925, -0.51340284, -0.97154821, -1.3181218 , -1.58343592,\n",
       "        -1.79587752]])"
      ]
     },
     "execution_count": 53,
     "metadata": {},
     "output_type": "execute_result"
    }
   ],
   "source": [
    "nmash.logLjk(derive = 0)"
   ]
  },
  {
   "cell_type": "code",
   "execution_count": 62,
   "id": "f4c2fbac",
   "metadata": {},
   "outputs": [
    {
     "data": {
      "text/plain": [
       "array([200., 200., 200., ..., 200., 200., 200.])"
      ]
     },
     "execution_count": 62,
     "metadata": {},
     "output_type": "execute_result"
    }
   ],
   "source": [
    "pmash._dj"
   ]
  },
  {
   "cell_type": "code",
   "execution_count": 63,
   "id": "bb63cc63",
   "metadata": {},
   "outputs": [
    {
     "data": {
      "text/plain": [
       "array([[200.],\n",
       "       [200.],\n",
       "       [200.],\n",
       "       ...,\n",
       "       [200.],\n",
       "       [200.],\n",
       "       [200.]])"
      ]
     },
     "execution_count": 63,
     "metadata": {},
     "output_type": "execute_result"
    }
   ],
   "source": [
    "dj"
   ]
  },
  {
   "cell_type": "code",
   "execution_count": null,
   "id": "ea11f3d2",
   "metadata": {},
   "outputs": [],
   "source": []
  }
 ],
 "metadata": {
  "kernelspec": {
   "display_name": "Python 3 (ipykernel)",
   "language": "python",
   "name": "python3"
  },
  "language_info": {
   "codemirror_mode": {
    "name": "ipython",
    "version": 3
   },
   "file_extension": ".py",
   "mimetype": "text/x-python",
   "name": "python",
   "nbconvert_exporter": "python",
   "pygments_lexer": "ipython3",
   "version": "3.9.6"
  }
 },
 "nbformat": 4,
 "nbformat_minor": 5
}
