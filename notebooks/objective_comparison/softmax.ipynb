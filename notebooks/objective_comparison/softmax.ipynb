{
 "cells": [
  {
   "cell_type": "code",
   "execution_count": 1,
   "id": "69f31003",
   "metadata": {},
   "outputs": [],
   "source": [
    "import numpy as np\n",
    "import pandas as pd"
   ]
  },
  {
   "cell_type": "code",
   "execution_count": 21,
   "id": "bcbc141a",
   "metadata": {},
   "outputs": [],
   "source": [
    "def initialize_ash_prior(k, scale = 2, sparsity = None):\n",
    "    w = np.zeros(k)\n",
    "    w[0] = 1 / k if sparsity is None else sparsity\n",
    "    w[1:(k-1)] = np.repeat((1 - w[0])/(k-1), (k - 2))\n",
    "    w[k-1] = 1 - np.sum(w)\n",
    "    sk2 = np.square((np.power(scale, np.arange(k) / k) - 1))\n",
    "    prior_grid = np.sqrt(sk2)\n",
    "    return w, prior_grid\n",
    "\n",
    "def softmax(x, base = 10):\n",
    "    if base is not None:\n",
    "        beta = np.log(base)\n",
    "        x = x * beta\n",
    "    e_x = np.exp(x - np.max(x))\n",
    "    return e_x / np.sum(e_x, axis = 0, keepdims = True)"
   ]
  },
  {
   "cell_type": "code",
   "execution_count": 47,
   "id": "7b651e38",
   "metadata": {},
   "outputs": [],
   "source": [
    "k = 4\n",
    "softmax_base = 92\n",
    "w_grad = np.random.rand(k)\n",
    "ak = np.random.rand(k)\n",
    "ak[2:] = 1e-2"
   ]
  },
  {
   "cell_type": "code",
   "execution_count": 48,
   "id": "704821b4",
   "metadata": {},
   "outputs": [
    {
     "data": {
      "text/plain": [
       "array([0.73880469, 0.22536756, 0.01      , 0.01      ])"
      ]
     },
     "execution_count": 48,
     "metadata": {},
     "output_type": "execute_result"
    }
   ],
   "source": [
    "ak"
   ]
  },
  {
   "cell_type": "code",
   "execution_count": 49,
   "id": "a232beb7",
   "metadata": {},
   "outputs": [
    {
     "data": {
      "text/plain": [
       "array([0.85308936, 0.08369759, 0.03160652, 0.03160652])"
      ]
     },
     "execution_count": 49,
     "metadata": {},
     "output_type": "execute_result"
    }
   ],
   "source": [
    "wk = softmax(ak, base = softmax_base)\n",
    "wk"
   ]
  },
  {
   "cell_type": "code",
   "execution_count": 68,
   "id": "17ceb406",
   "metadata": {},
   "outputs": [
    {
     "data": {
      "text/plain": [
       "array([0.390106  , 0.23345314, 0.18822043, 0.18822043])"
      ]
     },
     "execution_count": 68,
     "metadata": {},
     "output_type": "execute_result"
    }
   ],
   "source": [
    "softmax(ak, base = None)"
   ]
  },
  {
   "cell_type": "code",
   "execution_count": 67,
   "id": "3dcd0a5e",
   "metadata": {},
   "outputs": [
    {
     "data": {
      "text/plain": [
       "array([0.390106  , 0.23345314, 0.18822043, 0.18822043])"
      ]
     },
     "execution_count": 67,
     "metadata": {},
     "output_type": "execute_result"
    }
   ],
   "source": [
    "softmax(ak, base = np.exp(1))"
   ]
  },
  {
   "cell_type": "code",
   "execution_count": 51,
   "id": "d1fb032e",
   "metadata": {},
   "outputs": [],
   "source": [
    "wk_jacobian = np.zeros((k, k))\n",
    "for i in range(k):\n",
    "    for j in range(k):\n",
    "        dij = 1 if i == j else 0\n",
    "        wk_jacobian[i, j] = np.log(softmax_base) * wk[i] * (dij - wk[j])"
   ]
  },
  {
   "cell_type": "code",
   "execution_count": 52,
   "id": "13e19726",
   "metadata": {},
   "outputs": [
    {
     "data": {
      "text/plain": [
       "array([0.85308936, 0.08369759, 0.03160652, 0.03160652])"
      ]
     },
     "execution_count": 52,
     "metadata": {},
     "output_type": "execute_result"
    }
   ],
   "source": [
    "wk"
   ]
  },
  {
   "cell_type": "code",
   "execution_count": 53,
   "id": "b3241b24",
   "metadata": {},
   "outputs": [
    {
     "data": {
      "text/plain": [
       "array([[ 0.56670627, -0.32286258, -0.12192185, -0.12192185],\n",
       "       [-0.32286258,  0.34678637, -0.01196189, -0.01196189],\n",
       "       [-0.12192185, -0.01196189,  0.13840088, -0.00451714],\n",
       "       [-0.12192185, -0.01196189, -0.00451714,  0.13840088]])"
      ]
     },
     "execution_count": 53,
     "metadata": {},
     "output_type": "execute_result"
    }
   ],
   "source": [
    "wk_jacobian"
   ]
  },
  {
   "cell_type": "code",
   "execution_count": 54,
   "id": "b6f8d082",
   "metadata": {},
   "outputs": [
    {
     "data": {
      "text/plain": [
       "array([[ 0.56670627, -0.32286258, -0.12192185, -0.12192185],\n",
       "       [-0.32286258,  0.34678637, -0.01196189, -0.01196189],\n",
       "       [-0.12192185, -0.01196189,  0.13840088, -0.00451714],\n",
       "       [-0.12192185, -0.01196189, -0.00451714,  0.13840088]])"
      ]
     },
     "execution_count": 54,
     "metadata": {},
     "output_type": "execute_result"
    }
   ],
   "source": [
    "wk_jacobian.T"
   ]
  },
  {
   "cell_type": "code",
   "execution_count": 55,
   "id": "004c31c6",
   "metadata": {},
   "outputs": [
    {
     "data": {
      "text/plain": [
       "array([[ 0.14691064, -0.08369759, -0.03160652, -0.03160652],\n",
       "       [-0.85308936,  0.91630241, -0.03160652, -0.03160652],\n",
       "       [-0.85308936, -0.08369759,  0.96839348, -0.03160652],\n",
       "       [-0.85308936, -0.08369759, -0.03160652,  0.96839348]])"
      ]
     },
     "execution_count": 55,
     "metadata": {},
     "output_type": "execute_result"
    }
   ],
   "source": [
    "np.eye(k) - wk"
   ]
  },
  {
   "cell_type": "code",
   "execution_count": 57,
   "id": "17788990",
   "metadata": {},
   "outputs": [
    {
     "data": {
      "text/plain": [
       "array([[ 0.56670627, -0.32286258, -0.12192185, -0.12192185],\n",
       "       [-0.32286258,  0.34678637, -0.01196189, -0.01196189],\n",
       "       [-0.12192185, -0.01196189,  0.13840088, -0.00451714],\n",
       "       [-0.12192185, -0.01196189, -0.00451714,  0.13840088]])"
      ]
     },
     "execution_count": 57,
     "metadata": {},
     "output_type": "execute_result"
    }
   ],
   "source": [
    "np.log(softmax_base) * wk.reshape(-1, 1) * (np.eye(k) - wk)"
   ]
  },
  {
   "cell_type": "code",
   "execution_count": 58,
   "id": "d2713752",
   "metadata": {},
   "outputs": [
    {
     "data": {
      "text/plain": [
       "array([0.53952567, 0.97399717, 0.80661183, 0.12173589])"
      ]
     },
     "execution_count": 58,
     "metadata": {},
     "output_type": "execute_result"
    }
   ],
   "source": [
    "w_grad"
   ]
  },
  {
   "cell_type": "code",
   "execution_count": 59,
   "id": "669d5f00",
   "metadata": {},
   "outputs": [
    {
     "name": "stdout",
     "output_type": "stream",
     "text": [
      "[0.53952567 0.97399717 0.80661183 0.12173589]\n",
      "[ 0.56670627 -0.32286258 -0.12192185 -0.12192185]\n",
      "0 : [ 0.30575258 -0.31446724 -0.0983436  -0.01484226]\n",
      "-0.12190052727354968\n",
      "[0.53952567 0.97399717 0.80661183 0.12173589]\n",
      "[-0.32286258  0.34678637 -0.01196189 -0.01196189]\n",
      "1 : [-0.17419265  0.33776894 -0.0096486  -0.00145619]\n",
      "0.15247149501288654\n",
      "[0.53952567 0.97399717 0.80661183 0.12173589]\n",
      "[-0.12192185 -0.01196189  0.13840088 -0.00451714]\n",
      "2 : [-0.06577997 -0.01165085  0.11163579 -0.0005499 ]\n",
      "0.03365507426879429\n",
      "[0.53952567 0.97399717 0.80661183 0.12173589]\n",
      "[-0.12192185 -0.01196189 -0.00451714  0.13840088]\n",
      "3 : [-0.06577997 -0.01165085 -0.00364358  0.01684835]\n",
      "-0.06422604200813084\n"
     ]
    }
   ],
   "source": [
    "for i in range(k):\n",
    "    print (w_grad)\n",
    "    print (wk_jacobian[i,:])\n",
    "    print (i, \":\", w_grad * wk_jacobian[i, :])\n",
    "    print (np.sum(w_grad * wk_jacobian[i, :]))"
   ]
  },
  {
   "cell_type": "code",
   "execution_count": 61,
   "id": "a2dd928d",
   "metadata": {},
   "outputs": [
    {
     "data": {
      "text/plain": [
       "array([-0.12190053,  0.1524715 ,  0.03365507, -0.06422604])"
      ]
     },
     "execution_count": 61,
     "metadata": {},
     "output_type": "execute_result"
    }
   ],
   "source": [
    "np.sum(w_grad * wk_jacobian, axis = 1)"
   ]
  },
  {
   "cell_type": "code",
   "execution_count": 62,
   "id": "17cd08d7",
   "metadata": {},
   "outputs": [],
   "source": [
    "A = w_grad * wk_jacobian"
   ]
  },
  {
   "cell_type": "code",
   "execution_count": 63,
   "id": "b1a0811d",
   "metadata": {},
   "outputs": [
    {
     "data": {
      "text/plain": [
       "array([-0.12190053,  0.1524715 ,  0.03365507, -0.06422604])"
      ]
     },
     "execution_count": 63,
     "metadata": {},
     "output_type": "execute_result"
    }
   ],
   "source": [
    "np.sum(A, axis = 1)"
   ]
  },
  {
   "cell_type": "code",
   "execution_count": 65,
   "id": "b1006fab",
   "metadata": {},
   "outputs": [
    {
     "data": {
      "text/plain": [
       "array([-0.12190053,  0.1524715 ,  0.03365507, -0.06422604])"
      ]
     },
     "execution_count": 65,
     "metadata": {},
     "output_type": "execute_result"
    }
   ],
   "source": [
    "np.einsum('i,ij->j', w_grad, wk_jacobian)"
   ]
  },
  {
   "cell_type": "code",
   "execution_count": null,
   "id": "997192e1",
   "metadata": {},
   "outputs": [],
   "source": []
  },
  {
   "cell_type": "code",
   "execution_count": null,
   "id": "4a82c424",
   "metadata": {},
   "outputs": [],
   "source": []
  },
  {
   "cell_type": "code",
   "execution_count": 9,
   "id": "a272a7a9",
   "metadata": {},
   "outputs": [
    {
     "data": {
      "text/plain": [
       "array([0.0475, 0.0475, 0.0475, 0.0475, 0.0475, 0.0475, 0.0475, 0.0475,\n",
       "       0.0475, 0.0475, 0.0475, 0.0475, 0.0475, 0.0475, 0.0475, 0.0475,\n",
       "       0.0475, 0.0475, 0.0475, 0.0475])"
      ]
     },
     "execution_count": 9,
     "metadata": {},
     "output_type": "execute_result"
    }
   ],
   "source": [
    "wk * (1 - wk)"
   ]
  },
  {
   "cell_type": "code",
   "execution_count": null,
   "id": "03c416df",
   "metadata": {},
   "outputs": [],
   "source": []
  }
 ],
 "metadata": {
  "kernelspec": {
   "display_name": "Python 3 (ipykernel)",
   "language": "python",
   "name": "python3"
  },
  "language_info": {
   "codemirror_mode": {
    "name": "ipython",
    "version": 3
   },
   "file_extension": ".py",
   "mimetype": "text/x-python",
   "name": "python",
   "nbconvert_exporter": "python",
   "pygments_lexer": "ipython3",
   "version": "3.9.7"
  }
 },
 "nbformat": 4,
 "nbformat_minor": 5
}
