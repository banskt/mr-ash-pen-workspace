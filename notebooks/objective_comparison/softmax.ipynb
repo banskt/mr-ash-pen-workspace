{
 "cells": [
  {
   "cell_type": "code",
   "execution_count": 1,
   "id": "69f31003",
   "metadata": {},
   "outputs": [],
   "source": [
    "import numpy as np\n",
    "import pandas as pd"
   ]
  },
  {
   "cell_type": "code",
   "execution_count": 2,
   "id": "bcbc141a",
   "metadata": {},
   "outputs": [],
   "source": [
    "def initialize_ash_prior(k, scale = 2, sparsity = None):\n",
    "    w = np.zeros(k)\n",
    "    w[0] = 1 / k if sparsity is None else sparsity\n",
    "    w[1:(k-1)] = np.repeat((1 - w[0])/(k-1), (k - 2))\n",
    "    w[k-1] = 1 - np.sum(w)\n",
    "    sk2 = np.square((np.power(scale, np.arange(k) / k) - 1))\n",
    "    prior_grid = np.sqrt(sk2)\n",
    "    return w, prior_grid\n",
    "\n",
    "def softmax(x, base = 10):\n",
    "    if base is not None:\n",
    "        beta = np.log(base)\n",
    "        x = x * beta\n",
    "    e_x = np.exp(x - np.max(x))\n",
    "    return e_x / np.sum(e_x, axis = 0, keepdims = True)"
   ]
  },
  {
   "cell_type": "code",
   "execution_count": 3,
   "id": "7b651e38",
   "metadata": {},
   "outputs": [],
   "source": [
    "k = 4\n",
    "softmax_base = 92\n",
    "w_grad = np.random.rand(k)\n",
    "ak = np.random.rand(k)\n",
    "ak[2:] = 1e-2"
   ]
  },
  {
   "cell_type": "code",
   "execution_count": 4,
   "id": "704821b4",
   "metadata": {},
   "outputs": [
    {
     "data": {
      "text/plain": [
       "array([0.90123647, 0.12764001, 0.01      , 0.01      ])"
      ]
     },
     "execution_count": 4,
     "metadata": {},
     "output_type": "execute_result"
    }
   ],
   "source": [
    "ak"
   ]
  },
  {
   "cell_type": "code",
   "execution_count": 5,
   "id": "a232beb7",
   "metadata": {},
   "outputs": [
    {
     "data": {
      "text/plain": [
       "array([0.93825714, 0.02838851, 0.01667718, 0.01667718])"
      ]
     },
     "execution_count": 5,
     "metadata": {},
     "output_type": "execute_result"
    }
   ],
   "source": [
    "wk = softmax(ak, base = softmax_base)\n",
    "wk"
   ]
  },
  {
   "cell_type": "code",
   "execution_count": 6,
   "id": "17ceb406",
   "metadata": {},
   "outputs": [
    {
     "data": {
      "text/plain": [
       "array([0.4382798 , 0.20220076, 0.17975972, 0.17975972])"
      ]
     },
     "execution_count": 6,
     "metadata": {},
     "output_type": "execute_result"
    }
   ],
   "source": [
    "softmax(ak, base = None)"
   ]
  },
  {
   "cell_type": "code",
   "execution_count": 7,
   "id": "3dcd0a5e",
   "metadata": {},
   "outputs": [
    {
     "data": {
      "text/plain": [
       "array([0.4382798 , 0.20220076, 0.17975972, 0.17975972])"
      ]
     },
     "execution_count": 7,
     "metadata": {},
     "output_type": "execute_result"
    }
   ],
   "source": [
    "softmax(ak, base = np.exp(1))"
   ]
  },
  {
   "cell_type": "code",
   "execution_count": 8,
   "id": "d1fb032e",
   "metadata": {},
   "outputs": [],
   "source": [
    "wk_jacobian = np.zeros((k, k))\n",
    "for i in range(k):\n",
    "    for j in range(k):\n",
    "        dij = 1 if i == j else 0\n",
    "        wk_jacobian[i, j] = np.log(softmax_base) * wk[i] * (dij - wk[j])"
   ]
  },
  {
   "cell_type": "code",
   "execution_count": 9,
   "id": "b3241b24",
   "metadata": {},
   "outputs": [
    {
     "data": {
      "text/plain": [
       "array([[ 0.26195029, -0.12044109, -0.0707546 , -0.0707546 ],\n",
       "       [-0.12044109,  0.12472269, -0.0021408 , -0.0021408 ],\n",
       "       [-0.0707546 , -0.0021408 ,  0.07415303, -0.00125764],\n",
       "       [-0.0707546 , -0.0021408 , -0.00125764,  0.07415303]])"
      ]
     },
     "execution_count": 9,
     "metadata": {},
     "output_type": "execute_result"
    }
   ],
   "source": [
    "wk_jacobian"
   ]
  },
  {
   "cell_type": "code",
   "execution_count": 10,
   "id": "004c31c6",
   "metadata": {},
   "outputs": [
    {
     "data": {
      "text/plain": [
       "array([[ 0.06174286, -0.02838851, -0.01667718, -0.01667718],\n",
       "       [-0.93825714,  0.97161149, -0.01667718, -0.01667718],\n",
       "       [-0.93825714, -0.02838851,  0.98332282, -0.01667718],\n",
       "       [-0.93825714, -0.02838851, -0.01667718,  0.98332282]])"
      ]
     },
     "execution_count": 10,
     "metadata": {},
     "output_type": "execute_result"
    }
   ],
   "source": [
    "np.eye(k) - wk"
   ]
  },
  {
   "cell_type": "code",
   "execution_count": 11,
   "id": "17788990",
   "metadata": {},
   "outputs": [
    {
     "data": {
      "text/plain": [
       "array([[ 0.26195029, -0.12044109, -0.0707546 , -0.0707546 ],\n",
       "       [-0.12044109,  0.12472269, -0.0021408 , -0.0021408 ],\n",
       "       [-0.0707546 , -0.0021408 ,  0.07415303, -0.00125764],\n",
       "       [-0.0707546 , -0.0021408 , -0.00125764,  0.07415303]])"
      ]
     },
     "execution_count": 11,
     "metadata": {},
     "output_type": "execute_result"
    }
   ],
   "source": [
    "np.log(softmax_base) * wk.reshape(-1, 1) * (np.eye(k) - wk)"
   ]
  },
  {
   "cell_type": "code",
   "execution_count": 12,
   "id": "d2713752",
   "metadata": {},
   "outputs": [
    {
     "data": {
      "text/plain": [
       "array([0.11916247, 0.74824826, 0.42262751, 0.7381763 ])"
      ]
     },
     "execution_count": 12,
     "metadata": {},
     "output_type": "execute_result"
    }
   ],
   "source": [
    "w_grad"
   ]
  },
  {
   "cell_type": "code",
   "execution_count": 13,
   "id": "669d5f00",
   "metadata": {},
   "outputs": [
    {
     "name": "stdout",
     "output_type": "stream",
     "text": [
      "[0.11916247 0.74824826 0.42262751 0.7381763 ]\n",
      "[ 0.26195029 -0.12044109 -0.0707546  -0.0707546 ]\n",
      "0 : [ 0.14114602 -0.40750286 -0.13521432 -0.23617016]\n",
      "-0.6377413212655045\n",
      "[0.11916247 0.74824826 0.42262751 0.7381763 ]\n",
      "[-0.12044109  0.12472269 -0.0021408  -0.0021408 ]\n",
      "1 : [-0.06489697  0.42198928 -0.00409113 -0.00714572]\n",
      "0.3458554673918965\n",
      "[0.11916247 0.74824826 0.42262751 0.7381763 ]\n",
      "[-0.0707546  -0.0021408   0.07415303 -0.00125764]\n",
      "2 : [-0.03812452 -0.00724321  0.14170884 -0.00419784]\n",
      "0.09214326138303476\n",
      "[0.11916247 0.74824826 0.42262751 0.7381763 ]\n",
      "[-0.0707546  -0.0021408  -0.00125764  0.07415303]\n",
      "3 : [-0.03812452 -0.00724321 -0.00240339  0.24751371]\n",
      "0.19974259249057302\n"
     ]
    }
   ],
   "source": [
    "for i in range(k):\n",
    "    print (w_grad)\n",
    "    print (wk_jacobian[i,:])\n",
    "    print (i, \":\", np.log(softmax_base) * w_grad * wk_jacobian[i, :])\n",
    "    print (np.sum(np.log(softmax_base) * w_grad * wk_jacobian[i, :]))"
   ]
  },
  {
   "cell_type": "code",
   "execution_count": 14,
   "id": "a2dd928d",
   "metadata": {},
   "outputs": [
    {
     "data": {
      "text/plain": [
       "array([-0.63774132,  0.34585547,  0.09214326,  0.19974259])"
      ]
     },
     "execution_count": 14,
     "metadata": {},
     "output_type": "execute_result"
    }
   ],
   "source": [
    "np.sum(np.log(softmax_base) * w_grad * wk_jacobian, axis = 1)"
   ]
  },
  {
   "cell_type": "code",
   "execution_count": 15,
   "id": "17cd08d7",
   "metadata": {},
   "outputs": [],
   "source": [
    "A = np.log(softmax_base) * w_grad * wk_jacobian"
   ]
  },
  {
   "cell_type": "code",
   "execution_count": 16,
   "id": "b1a0811d",
   "metadata": {},
   "outputs": [
    {
     "data": {
      "text/plain": [
       "array([-0.63774132,  0.34585547,  0.09214326,  0.19974259])"
      ]
     },
     "execution_count": 16,
     "metadata": {},
     "output_type": "execute_result"
    }
   ],
   "source": [
    "np.sum(A, axis = 1)"
   ]
  },
  {
   "cell_type": "code",
   "execution_count": 17,
   "id": "b1006fab",
   "metadata": {},
   "outputs": [
    {
     "data": {
      "text/plain": [
       "array([-0.63774132,  0.34585547,  0.09214326,  0.19974259])"
      ]
     },
     "execution_count": 17,
     "metadata": {},
     "output_type": "execute_result"
    }
   ],
   "source": [
    "np.einsum('i,ij->j', w_grad, wk_jacobian) * np.log(softmax_base)"
   ]
  },
  {
   "cell_type": "code",
   "execution_count": null,
   "id": "997192e1",
   "metadata": {},
   "outputs": [],
   "source": []
  }
 ],
 "metadata": {
  "kernelspec": {
   "display_name": "Python 3 (ipykernel)",
   "language": "python",
   "name": "python3"
  },
  "language_info": {
   "codemirror_mode": {
    "name": "ipython",
    "version": 3
   },
   "file_extension": ".py",
   "mimetype": "text/x-python",
   "name": "python",
   "nbconvert_exporter": "python",
   "pygments_lexer": "ipython3",
   "version": "3.9.7"
  }
 },
 "nbformat": 4,
 "nbformat_minor": 5
}
