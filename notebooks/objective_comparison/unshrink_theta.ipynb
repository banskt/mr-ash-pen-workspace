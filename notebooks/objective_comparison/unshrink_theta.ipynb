{
 "cells": [
  {
   "cell_type": "code",
   "execution_count": 2,
   "id": "b9e278cd",
   "metadata": {},
   "outputs": [],
   "source": [
    "import numpy as np\n",
    "import pandas as pd\n",
    "import matplotlib.pyplot as plt\n",
    "from pymir import mpl_stylesheet\n",
    "from pymir import mpl_utils\n",
    "mpl_stylesheet.banskt_presentation(splinecolor = 'black')"
   ]
  },
  {
   "cell_type": "code",
   "execution_count": 3,
   "id": "7a3f46d0",
   "metadata": {},
   "outputs": [],
   "source": [
    "from mrashpen.models.normal_means_ash_scaled import NormalMeansASHScaled\n",
    "from mrashpen.models.normal_means_ash        import NormalMeansASH\n",
    "\n",
    "def shrinkage_operator(nm, dj, is_prior_scaled = True):\n",
    "    '''\n",
    "    posterior expectation of b under NM model\n",
    "    calculated using Tweedie's formula\n",
    "\n",
    "    Returns shrinkage operator M(b)\n",
    "    Dimensions:\n",
    "        M: vector of size P\n",
    "        M_bgrad: vector of size P\n",
    "        M_wgrad: matrix of size P x K\n",
    "        M_sgrad: vector of size P\n",
    "    '''\n",
    "    M       = nm.y + nm.yvar * nm.logML_deriv\n",
    "    M_bgrad = 1       + nm.yvar * nm.logML_deriv2\n",
    "    M_wgrad = nm.yvar.reshape(-1, 1) * nm.logML_deriv_wderiv\n",
    "    if is_prior_scaled:\n",
    "        M_s2grad = (nm.logML_deriv / dj) + (nm.yvar * nm.logML_deriv_s2deriv)\n",
    "    else:\n",
    "        M_s2grad = (nm.logML_deriv + nm.yvar * nm.logML_deriv_s2deriv) / dj\n",
    "    return M, M_bgrad, M_wgrad, M_s2grad\n",
    "\n",
    "def invert_Mop(X, b, s2, wk, sk, is_prior_scaled = True, max_iter = 100, tol = 1e-8):\n",
    "    n, p = X.shape\n",
    "    dj = np.sum(np.square(X), axis = 0)\n",
    "    theta = np.zeros(p)\n",
    "    for itr in range(max_iter):\n",
    "        if is_prior_scaled:\n",
    "            nmash = NormalMeansASHScaled(theta, np.sqrt(s2), wk, sk, d = dj)\n",
    "        else:\n",
    "            vj = np.sqrt(s2 / dj)\n",
    "            nmash = NormalMeansASH(theta, vj, wk, sk)\n",
    "        M_theta, M_theta_bgrad, _, _ = shrinkage_operator(nmash, dj)\n",
    "        theta_new = theta - (M_theta - b) / M_theta_bgrad\n",
    "        diff = np.sum(np.square(theta_new - theta))\n",
    "        print (diff)\n",
    "        theta = theta_new\n",
    "        if diff <= tol:\n",
    "            break\n",
    "    return theta"
   ]
  },
  {
   "cell_type": "code",
   "execution_count": null,
   "id": "dd10717e",
   "metadata": {},
   "outputs": [],
   "source": []
  }
 ],
 "metadata": {
  "kernelspec": {
   "display_name": "Python 3 (ipykernel)",
   "language": "python",
   "name": "python3"
  },
  "language_info": {
   "codemirror_mode": {
    "name": "ipython",
    "version": 3
   },
   "file_extension": ".py",
   "mimetype": "text/x-python",
   "name": "python",
   "nbconvert_exporter": "python",
   "pygments_lexer": "ipython3",
   "version": "3.9.7"
  }
 },
 "nbformat": 4,
 "nbformat_minor": 5
}
