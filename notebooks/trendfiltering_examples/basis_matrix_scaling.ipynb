{
 "cells": [
  {
   "cell_type": "code",
   "execution_count": 1,
   "id": "073c2c62",
   "metadata": {},
   "outputs": [],
   "source": [
    "import numpy as np\n",
    "\n",
    "from gradvi.models.basis_matrix import bm_trendfiltering as basemat"
   ]
  },
  {
   "cell_type": "code",
   "execution_count": 21,
   "id": "0428e9a5",
   "metadata": {},
   "outputs": [
    {
     "name": "stdout",
     "output_type": "stream",
     "text": [
      "The first column has all equal values.\n",
      "The first column has all equal values.\n"
     ]
    }
   ],
   "source": [
    "n = 1024\n",
    "degree = 3\n",
    "\n",
    "H = basemat.trendfiltering_scaled(n, degree)\n",
    "#Hs, s, m = basemat.center_and_scale_tfbasis(H)\n",
    "Hinv = basemat.trendfiltering_inverse_scaled(n, degree)\n",
    "#Hinvs = np.linalg.inv(Hs)\n",
    "\n",
    "#tibs = np.power(n, degree) / np.math.factorial(degree)"
   ]
  },
  {
   "cell_type": "code",
   "execution_count": 22,
   "id": "c5c53932",
   "metadata": {},
   "outputs": [],
   "source": [
    "HinvH = np.dot(H, Hinv)"
   ]
  },
  {
   "cell_type": "code",
   "execution_count": 23,
   "id": "9e03124b",
   "metadata": {},
   "outputs": [],
   "source": [
    "Hinvtrue = np.linalg.inv(H)"
   ]
  },
  {
   "cell_type": "code",
   "execution_count": 24,
   "id": "b528b9ec",
   "metadata": {},
   "outputs": [
    {
     "data": {
      "text/plain": [
       "True"
      ]
     },
     "execution_count": 24,
     "metadata": {},
     "output_type": "execute_result"
    }
   ],
   "source": [
    "np.allclose(HinvH, np.eye(n), atol = 1e-6)"
   ]
  },
  {
   "cell_type": "code",
   "execution_count": 25,
   "id": "5e6bddbb",
   "metadata": {},
   "outputs": [
    {
     "data": {
      "text/plain": [
       "False"
      ]
     },
     "execution_count": 25,
     "metadata": {},
     "output_type": "execute_result"
    }
   ],
   "source": [
    "np.allclose(Hinv, Hinvtrue, atol = 1e-6)"
   ]
  },
  {
   "cell_type": "code",
   "execution_count": 26,
   "id": "0eff9224",
   "metadata": {},
   "outputs": [],
   "source": [
    "idx = np.where(np.abs(Hinv - Hinvtrue) > 1e-9)"
   ]
  },
  {
   "cell_type": "code",
   "execution_count": 27,
   "id": "b91ca35d",
   "metadata": {},
   "outputs": [
    {
     "data": {
      "text/plain": [
       "array([ 0.03125   , -0.05407376, -0.03490019, ...,  0.31427209,\n",
       "        0.31653125,  0.32361086])"
      ]
     },
     "execution_count": 27,
     "metadata": {},
     "output_type": "execute_result"
    }
   ],
   "source": [
    "H[idx]"
   ]
  },
  {
   "cell_type": "code",
   "execution_count": 28,
   "id": "e777ab29",
   "metadata": {},
   "outputs": [
    {
     "data": {
      "text/plain": [
       "array([ 3.12487671e-02,  3.12526228e-02,  3.12486743e-02, ...,\n",
       "       -1.78180667e-09,  1.27173796e-09,  1.29688011e-09])"
      ]
     },
     "execution_count": 28,
     "metadata": {},
     "output_type": "execute_result"
    }
   ],
   "source": [
    "Hinvtrue[idx]"
   ]
  },
  {
   "cell_type": "code",
   "execution_count": 29,
   "id": "52665006",
   "metadata": {},
   "outputs": [
    {
     "data": {
      "text/plain": [
       "(array([   0,    0,    0, ..., 1023, 1023, 1023]),\n",
       " array([  0,   1,   2, ..., 958, 959, 962]))"
      ]
     },
     "execution_count": 29,
     "metadata": {},
     "output_type": "execute_result"
    }
   ],
   "source": [
    "idx"
   ]
  },
  {
   "cell_type": "code",
   "execution_count": 30,
   "id": "886f6ca3",
   "metadata": {},
   "outputs": [
    {
     "data": {
      "text/plain": [
       "array([0.03124877, 0.03125262, 0.03124867, 0.03124716, 0.031254  ,\n",
       "       0.031247  , 0.03125721, 0.0312407 , 0.03125408, 0.03125568])"
      ]
     },
     "execution_count": 30,
     "metadata": {},
     "output_type": "execute_result"
    }
   ],
   "source": [
    "Hinvtrue[0, :10]"
   ]
  },
  {
   "cell_type": "code",
   "execution_count": 31,
   "id": "d06c6311",
   "metadata": {},
   "outputs": [
    {
     "data": {
      "text/plain": [
       "array([0.03125, 0.03125, 0.03125, ..., 0.03125, 0.03125, 0.03125])"
      ]
     },
     "execution_count": 31,
     "metadata": {},
     "output_type": "execute_result"
    }
   ],
   "source": [
    "Hinv[0, :]"
   ]
  },
  {
   "cell_type": "code",
   "execution_count": 32,
   "id": "c6c4a6f6",
   "metadata": {},
   "outputs": [
    {
     "data": {
      "text/plain": [
       "1.0"
      ]
     },
     "execution_count": 32,
     "metadata": {},
     "output_type": "execute_result"
    }
   ],
   "source": [
    "np.sum(np.square(H[:, 0]))"
   ]
  },
  {
   "cell_type": "code",
   "execution_count": 34,
   "id": "76cbda7e",
   "metadata": {},
   "outputs": [
    {
     "data": {
      "text/plain": [
       "array([1., 1., 1., ..., 1., 1., 1.])"
      ]
     },
     "execution_count": 34,
     "metadata": {},
     "output_type": "execute_result"
    }
   ],
   "source": [
    "np.sum(np.square(H), axis = 0)"
   ]
  },
  {
   "cell_type": "code",
   "execution_count": null,
   "id": "24fd4d27",
   "metadata": {},
   "outputs": [],
   "source": []
  },
  {
   "cell_type": "code",
   "execution_count": null,
   "id": "02d2c226",
   "metadata": {},
   "outputs": [],
   "source": []
  }
 ],
 "metadata": {
  "kernelspec": {
   "display_name": "Python 3 (ipykernel)",
   "language": "python",
   "name": "python3"
  },
  "language_info": {
   "codemirror_mode": {
    "name": "ipython",
    "version": 3
   },
   "file_extension": ".py",
   "mimetype": "text/x-python",
   "name": "python",
   "nbconvert_exporter": "python",
   "pygments_lexer": "ipython3",
   "version": "3.9.12"
  }
 },
 "nbformat": 4,
 "nbformat_minor": 5
}
