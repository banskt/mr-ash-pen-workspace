{
 "cells": [
  {
   "cell_type": "code",
   "execution_count": 1,
   "id": "cb9e0c04",
   "metadata": {},
   "outputs": [],
   "source": [
    "import numpy as np\n",
    "import model\n",
    "\n",
    "import matplotlib.pyplot as plt\n",
    "from pymir import mpl_stylesheet\n",
    "from pymir import mpl_utils\n",
    "mpl_stylesheet.banskt_presentation(splinecolor = 'black')\n",
    "\n",
    "from gradvi.normal_means import NormalMeansFromPosterior\n",
    "from gradvi.tests import toy_priors"
   ]
  },
  {
   "cell_type": "code",
   "execution_count": 2,
   "id": "2c63a8d6",
   "metadata": {},
   "outputs": [],
   "source": [
    "def fun1(x, sj2, s2, dj, jac = True):\n",
    "    #h = np.sum(x**2)\n",
    "    nm = NormalMeansFromPosterior(x, prior, sj2, scale = s2, d = dj, method = 'newton')\n",
    "    Pb, dPdb, dPdw, dPds2 = nm.penalty_operator(jac = True)\n",
    "    h = np.sum(Pb)\n",
    "    if jac:\n",
    "        dhdx = 2 * x\n",
    "        return h, dPdb\n",
    "    else:\n",
    "        return h\n",
    "\n",
    "    \n",
    "def numerical_derivative(fn, a, sj2, s2, dj, eps = 1e-4):\n",
    "    n = a.shape[0]\n",
    "    dfdx = np.zeros(n)\n",
    "    h = fn(a, sj2, s2, dj, jac = False)\n",
    "    for i in range(n):\n",
    "        a_eps     = a.copy()\n",
    "        a_eps[i] += eps\n",
    "        h_eps1    = fn(a_eps, sj2, s2, dj, jac = False)\n",
    "        a_eps[i] -= 2 * eps\n",
    "        h_eps2    = fn(a_eps, sj2, s2, dj, jac = False)\n",
    "        dfdx[i]   = (h_eps1 - h_eps2) / (2 * eps)\n",
    "    return dfdx\n",
    "\n",
    "def fun2(x, A, sj2, s2, dj, jac = True):\n",
    "    y = np.dot(A, x)\n",
    "    h, dhdy = fun1(y, sj2, s2, dj, jac = True)\n",
    "    if jac:\n",
    "        dhdx = np.dot(A.T, dhdy)\n",
    "        return h, dhdx\n",
    "    return h\n",
    "\n",
    "def numerical_derivative2(fn, a, D, sj2, s2, dj, eps = 1e-4):\n",
    "    n = a.shape[0]\n",
    "    dfdx = np.zeros(n)\n",
    "    h = fn(a, D, sj2, s2, dj, jac = False)\n",
    "    for i in range(n):\n",
    "        a_eps     = a.copy()\n",
    "        a_eps[i] += eps\n",
    "        h_eps1    = fn(a_eps, D, sj2, s2, dj, jac = False)\n",
    "        a_eps[i] -= 2 * eps\n",
    "        h_eps2    = fn(a_eps, D, sj2, s2, dj, jac = False)\n",
    "        dfdx[i]   = (h_eps1 - h_eps2) / (2 * eps)\n",
    "    return dfdx\n",
    "\n",
    "def center_and_scale_tfbasis(Z):\n",
    "    '''\n",
    "    Basis matrix Z is always 2D.\n",
    "    b is the coefficient vector\n",
    "    The first column of Z is all 1, hence it has zero standard deviation.\n",
    "    '''\n",
    "    dim  = Z.ndim\n",
    "    std  = np.std(Z, axis = 0)\n",
    "    skip = 0\n",
    "    if std[0] == 0:\n",
    "        # do not scale the first column\n",
    "        print (\"The first column has all equal values.\")\n",
    "        std[0] = 1.0\n",
    "        skip = 1\n",
    "    Znew = Z / std\n",
    "    colmeans = np.mean(Znew[:, skip:], axis = 0)\n",
    "    Znew[:, skip:] = Znew[:, skip:] - colmeans.reshape(1, -1)\n",
    "    return Znew"
   ]
  },
  {
   "cell_type": "code",
   "execution_count": 3,
   "id": "5b8d438c",
   "metadata": {},
   "outputs": [
    {
     "name": "stdout",
     "output_type": "stream",
     "text": [
      "The first column has all equal values.\n"
     ]
    }
   ],
   "source": [
    "n = 100\n",
    "degree = 3\n",
    "np.random.seed(100)\n",
    "b = np.random.normal(1, 4, size = n)\n",
    "\n",
    "# Trendfiltering matrices\n",
    "M = model.trendfiltering_basis_matrix(n, degree)\n",
    "T = model.trendfiltering_basis_matrix_inverse(n, degree)\n",
    "Ms = center_and_scale_tfbasis(M)\n",
    "Ts = np.linalg.inv(Ms)\n",
    "\n",
    "# Prior\n",
    "prior = toy_priors.get_ash_scaled(k = 4, sparsity = None, skbase = 10)"
   ]
  },
  {
   "cell_type": "code",
   "execution_count": 4,
   "id": "083266ff",
   "metadata": {},
   "outputs": [],
   "source": [
    "B = M.copy()\n",
    "Binv = T.copy()"
   ]
  },
  {
   "cell_type": "code",
   "execution_count": 5,
   "id": "9babc3ca",
   "metadata": {},
   "outputs": [
    {
     "name": "stdout",
     "output_type": "stream",
     "text": [
      "[1.00000000e+02 3.28350000e+05 4.75414170e+08 3.56820159e+11\n",
      " 3.32218551e+11 3.09085357e+11 2.87346804e+11 2.66932109e+11\n",
      " 2.47773397e+11 2.29805603e+11 2.12966389e+11 1.97196052e+11\n",
      " 1.82437447e+11 1.68635897e+11 1.55739114e+11 1.43697125e+11\n",
      " 1.32462185e+11 1.21988709e+11 1.12233196e+11 1.03154156e+11\n",
      " 9.47120374e+10 8.68691638e+10 7.95896614e+10 7.28393958e+10\n",
      " 6.65859075e+10 6.07983498e+10 5.54474273e+10 5.05053373e+10\n",
      " 4.59457116e+10 4.17435607e+10 3.78752182e+10 3.43182886e+10\n",
      " 3.10515946e+10 2.80551270e+10 2.53099958e+10 2.27983823e+10\n",
      " 2.05034933e+10 1.84095157e+10 1.65015733e+10 1.47656844e+10\n",
      " 1.31887209e+10 1.17583685e+10 1.04630884e+10 9.29207998e+09\n",
      " 8.23524490e+09 7.28315216e+09 6.42700456e+09 5.65860616e+09\n",
      " 4.97033094e+09 4.35509252e+09 3.80631504e+09 3.31790504e+09\n",
      " 2.88422442e+09 2.50006442e+09 2.16062064e+09 1.86146903e+09\n",
      " 1.59854280e+09 1.36811040e+09 1.16675430e+09 9.91350767e+08\n",
      " 8.39050486e+08 7.07260086e+08 5.93624486e+08 4.96010086e+08\n",
      " 4.12488765e+08 3.41322669e+08 2.80949769e+08 2.29970169e+08\n",
      " 1.87133144e+08 1.51324888e+08 1.21556952e+08 9.69553520e+07\n",
      " 7.67503270e+07 6.02667270e+07 4.69150110e+07 3.61828350e+07\n",
      " 2.76272100e+07 2.08672100e+07 1.55772100e+07 1.14806340e+07\n",
      " 8.34419300e+06 5.97259300e+06 4.20369300e+06 2.90409300e+06\n",
      " 1.96513200e+06 1.29927600e+06 8.36876000e+05 5.23276000e+05\n",
      " 3.16251000e+05 1.83755000e+05 1.01959000e+05 5.35590000e+04\n",
      " 2.63340000e+04 1.19340000e+04 4.87800000e+03 1.74200000e+03\n",
      " 5.17000000e+02 1.17000000e+02 1.70000000e+01 1.00000000e+00]\n"
     ]
    }
   ],
   "source": [
    "mdj = np.sum(np.square(B), axis = 0)\n",
    "ms2 = 1.2 ** 2\n",
    "msj2 = ms2 / mdj\n",
    "print(mdj)"
   ]
  },
  {
   "cell_type": "code",
   "execution_count": 6,
   "id": "32ec1675",
   "metadata": {},
   "outputs": [
    {
     "data": {
      "text/plain": [
       "True"
      ]
     },
     "execution_count": 6,
     "metadata": {},
     "output_type": "execute_result"
    }
   ],
   "source": [
    "np.allclose(np.dot(B, Binv), np.eye(n))"
   ]
  },
  {
   "cell_type": "code",
   "execution_count": 7,
   "id": "685bc3ed",
   "metadata": {},
   "outputs": [],
   "source": [
    "h, dhdb = fun1(b, msj2, ms2, mdj)\n",
    "d1 = numerical_derivative(fun1, b, msj2, ms2, mdj)\n",
    "\n",
    "g, dgdb = fun2(b, Binv, msj2, ms2, mdj)\n",
    "d2 = numerical_derivative2(fun2, b, Binv, msj2, ms2, mdj)"
   ]
  },
  {
   "cell_type": "code",
   "execution_count": 8,
   "id": "e44ec7ed",
   "metadata": {},
   "outputs": [],
   "source": [
    "np.testing.assert_allclose(dhdb, d1, atol = 1e-2, rtol = 1e-8)"
   ]
  },
  {
   "cell_type": "code",
   "execution_count": 9,
   "id": "c3b07564",
   "metadata": {},
   "outputs": [],
   "source": [
    "np.testing.assert_allclose(dgdb, d2, atol = 1e-2, rtol = 1e-8)"
   ]
  },
  {
   "cell_type": "code",
   "execution_count": null,
   "id": "16f4ae88",
   "metadata": {},
   "outputs": [],
   "source": []
  }
 ],
 "metadata": {
  "kernelspec": {
   "display_name": "Python 3 (ipykernel)",
   "language": "python",
   "name": "python3"
  },
  "language_info": {
   "codemirror_mode": {
    "name": "ipython",
    "version": 3
   },
   "file_extension": ".py",
   "mimetype": "text/x-python",
   "name": "python",
   "nbconvert_exporter": "python",
   "pygments_lexer": "ipython3",
   "version": "3.9.12"
  }
 },
 "nbformat": 4,
 "nbformat_minor": 5
}
