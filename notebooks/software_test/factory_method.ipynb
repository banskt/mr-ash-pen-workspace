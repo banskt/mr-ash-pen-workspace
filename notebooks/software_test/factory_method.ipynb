{
 "cells": [
  {
   "cell_type": "code",
   "execution_count": 1,
   "id": "beb6365e",
   "metadata": {},
   "outputs": [],
   "source": [
    "import numpy as np"
   ]
  },
  {
   "cell_type": "code",
   "execution_count": 2,
   "id": "bb5c22f4",
   "metadata": {},
   "outputs": [],
   "source": [
    "from pyfactory.normal_means import NormalMeans\n",
    "from pyfactory.prior import Prior"
   ]
  },
  {
   "cell_type": "code",
   "execution_count": 3,
   "id": "9018b8b8",
   "metadata": {},
   "outputs": [],
   "source": [
    "prior = Prior(0.25, 'ash_scaled')\n",
    "nm = NormalMeans.create(1.0, 3.0, prior, z = 2)"
   ]
  },
  {
   "cell_type": "code",
   "execution_count": 4,
   "id": "763e8e28",
   "metadata": {},
   "outputs": [
    {
     "data": {
      "text/plain": [
       "14.0625"
      ]
     },
     "execution_count": 4,
     "metadata": {},
     "output_type": "execute_result"
    }
   ],
   "source": [
    "nm.logML"
   ]
  },
  {
   "cell_type": "code",
   "execution_count": 7,
   "id": "be9f2144",
   "metadata": {},
   "outputs": [
    {
     "data": {
      "text/plain": [
       "{'z': 0.25,\n",
       " 'prior_type': 'ash_scaled',\n",
       " 'nm': pyfactory.nm_ash_scaled.NMAshScaled}"
      ]
     },
     "execution_count": 7,
     "metadata": {},
     "output_type": "execute_result"
    }
   ],
   "source": [
    "vars(nm.prior)"
   ]
  },
  {
   "cell_type": "code",
   "execution_count": null,
   "id": "7d7d2aab",
   "metadata": {},
   "outputs": [],
   "source": []
  }
 ],
 "metadata": {
  "kernelspec": {
   "display_name": "Python 3 (ipykernel)",
   "language": "python",
   "name": "python3"
  },
  "language_info": {
   "codemirror_mode": {
    "name": "ipython",
    "version": 3
   },
   "file_extension": ".py",
   "mimetype": "text/x-python",
   "name": "python",
   "nbconvert_exporter": "python",
   "pygments_lexer": "ipython3",
   "version": "3.9.12"
  }
 },
 "nbformat": 4,
 "nbformat_minor": 5
}
