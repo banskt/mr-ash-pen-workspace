{
 "cells": [
  {
   "cell_type": "code",
   "execution_count": 1,
   "id": "2164ccef",
   "metadata": {},
   "outputs": [],
   "source": [
    "%load_ext autoreload\n",
    "%autoreload 2"
   ]
  },
  {
   "cell_type": "code",
   "execution_count": 2,
   "id": "2b6363b6",
   "metadata": {},
   "outputs": [
    {
     "name": "stdout",
     "output_type": "stream",
     "text": [
      "\u001b[1mrpy2 version:\u001b[0m\n",
      "3.5.1\n",
      "\u001b[1mPython version:\u001b[0m\n",
      "3.9.12 | packaged by conda-forge | (main, Mar 24 2022, 23:22:55) \n",
      "[GCC 10.3.0]\n",
      "\u001b[1mLooking for R's HOME:\u001b[0m\n",
      "    Environment variable R_HOME: None\n",
      "    Calling `R RHOME`: /opt/R/mkl/4.0.5/lib/R\n",
      "    Environment variable R_LIBS_USER: None\n",
      "\u001b[1mR's additions to LD_LIBRARY_PATH:\u001b[0m\n",
      "/opt/qt/5.15.2/lib:/opt/R/mkl/4.0.5/lib/R/lib:/opt/openmpi/4.0.5-gcc10.2.0/lib:/opt/intel/compilers_and_libraries_2020.4.304/linux/compiler/lib/intel64_lin:/opt/intel/compilers_and_libraries_2020.4.304/linux/mkl/lib/intel64_lin:/opt/intel/compilers_and_libraries_2020.4.304/linux/tbb/lib/intel64/gcc4.8:/opt/lapack/lapack-3.10.0-gcc10.2.0-blas:/opt/blas/3.10.0/lib64:/opt/gcc/10.2.0/lib64:/opt/gcc/10.2.0/lib\n",
      "\u001b[1mR version:\u001b[0m\n",
      "    In the PATH: R version 4.0.5 (2021-03-31) -- \"Shake and Throw\"\n",
      "    Loading R library from rpy2: OK\n",
      "\u001b[1mAdditional directories to load R packages from:\u001b[0m\n",
      "None\n",
      "\u001b[1mC extension compilation:\u001b[0m\n",
      "  include:\n",
      "  ['/opt/R/mkl/4.0.5/lib/R/include']\n",
      "  libraries:\n",
      "  ['R', 'pcre2-8', 'lzma', 'bz2', 'z', 'rt', 'dl', 'm']\n",
      "  library_dirs:\n",
      "  ['/opt/R/mkl/4.0.5/lib/R/lib']\n",
      "  extra_compile_args:\n",
      "  []\n",
      "  extra_link_args:\n",
      "  ['-Wl,--export-dynamic', '-fopenmp']\n"
     ]
    }
   ],
   "source": [
    "%run -m rpy2.situation"
   ]
  },
  {
   "cell_type": "code",
   "execution_count": 3,
   "id": "8755b548",
   "metadata": {},
   "outputs": [],
   "source": [
    "import numpy as np"
   ]
  },
  {
   "cell_type": "code",
   "execution_count": 4,
   "id": "6f543946",
   "metadata": {},
   "outputs": [
    {
     "name": "stdout",
     "output_type": "stream",
     "text": [
      "blas_armpl_info:\n",
      "  NOT AVAILABLE\n",
      "blas_mkl_info:\n",
      "    libraries = ['mkl_rt', 'pthread']\n",
      "    library_dirs = ['/opt/intel/compilers_and_libraries_2020.4.304/linux/mkl/lib/intel64']\n",
      "    define_macros = [('SCIPY_MKL_H', None), ('HAVE_CBLAS', None)]\n",
      "    include_dirs = ['/opt/intel/compilers_and_libraries_2020.4.304/linux/mkl', '/opt/intel/compilers_and_libraries_2020.4.304/linux/mkl/include', '/opt/intel/compilers_and_libraries_2020.4.304/linux/mkl/lib']\n",
      "blas_opt_info:\n",
      "    libraries = ['mkl_rt', 'pthread']\n",
      "    library_dirs = ['/opt/intel/compilers_and_libraries_2020.4.304/linux/mkl/lib/intel64']\n",
      "    define_macros = [('SCIPY_MKL_H', None), ('HAVE_CBLAS', None)]\n",
      "    include_dirs = ['/opt/intel/compilers_and_libraries_2020.4.304/linux/mkl', '/opt/intel/compilers_and_libraries_2020.4.304/linux/mkl/include', '/opt/intel/compilers_and_libraries_2020.4.304/linux/mkl/lib']\n",
      "lapack_armpl_info:\n",
      "  NOT AVAILABLE\n",
      "lapack_mkl_info:\n",
      "    libraries = ['mkl_rt', 'pthread']\n",
      "    library_dirs = ['/opt/intel/compilers_and_libraries_2020.4.304/linux/mkl/lib/intel64']\n",
      "    define_macros = [('SCIPY_MKL_H', None), ('HAVE_CBLAS', None)]\n",
      "    include_dirs = ['/opt/intel/compilers_and_libraries_2020.4.304/linux/mkl', '/opt/intel/compilers_and_libraries_2020.4.304/linux/mkl/include', '/opt/intel/compilers_and_libraries_2020.4.304/linux/mkl/lib']\n",
      "lapack_opt_info:\n",
      "    libraries = ['mkl_rt', 'pthread']\n",
      "    library_dirs = ['/opt/intel/compilers_and_libraries_2020.4.304/linux/mkl/lib/intel64']\n",
      "    define_macros = [('SCIPY_MKL_H', None), ('HAVE_CBLAS', None)]\n",
      "    include_dirs = ['/opt/intel/compilers_and_libraries_2020.4.304/linux/mkl', '/opt/intel/compilers_and_libraries_2020.4.304/linux/mkl/include', '/opt/intel/compilers_and_libraries_2020.4.304/linux/mkl/lib']\n",
      "Supported SIMD extensions in this NumPy install:\n",
      "    baseline = SSE,SSE2,SSE3\n",
      "    found = SSSE3,SSE41,POPCNT,SSE42,AVX,F16C,FMA3,AVX2\n",
      "    not found = AVX512F,AVX512CD,AVX512_KNL,AVX512_KNM,AVX512_SKX,AVX512_CLX,AVX512_CNL,AVX512_ICL\n"
     ]
    }
   ],
   "source": [
    "np.__config__.show()"
   ]
  },
  {
   "cell_type": "code",
   "execution_count": 7,
   "id": "a3c53101",
   "metadata": {},
   "outputs": [],
   "source": [
    "from gradvi.tests import toy_data\n",
    "from gradvi.tests import toy_priors\n",
    "\n",
    "n = 200\n",
    "p = 500\n",
    "p_causal = 20\n",
    "pve = 0.7\n",
    "k = 20\n",
    "\n",
    "X, y, b, s2 = toy_data.get_linear_model(n, p, p_causal, pve, standardize = True)\n",
    "prior = toy_priors.get_ash_scaled()"
   ]
  },
  {
   "cell_type": "code",
   "execution_count": 9,
   "id": "5ad13ca3",
   "metadata": {},
   "outputs": [
    {
     "name": "stdout",
     "output_type": "stream",
     "text": [
      "Mr.ASH terminated at iteration 185.\n"
     ]
    }
   ],
   "source": [
    "'''\n",
    "mr.ash.alpha\n",
    "'''\n",
    "from mrashpen.inference.mrash_wrapR import MrASHR\n",
    "\n",
    "mrash_r = MrASHR(option = \"r2py\", debug = True)\n",
    "mrash_r.fit(X, y, prior.sk, binit = np.zeros(p), winit = prior.w, s2init = 1.0)"
   ]
  },
  {
   "cell_type": "code",
   "execution_count": null,
   "id": "1917aff9",
   "metadata": {},
   "outputs": [],
   "source": []
  }
 ],
 "metadata": {
  "kernelspec": {
   "display_name": "Python 3 (ipykernel)",
   "language": "python",
   "name": "python3"
  },
  "language_info": {
   "codemirror_mode": {
    "name": "ipython",
    "version": 3
   },
   "file_extension": ".py",
   "mimetype": "text/x-python",
   "name": "python",
   "nbconvert_exporter": "python",
   "pygments_lexer": "ipython3",
   "version": "3.9.12"
  }
 },
 "nbformat": 4,
 "nbformat_minor": 5
}
