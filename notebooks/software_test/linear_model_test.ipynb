{
 "cells": [
  {
   "cell_type": "code",
   "execution_count": 1,
   "id": "b3397380",
   "metadata": {},
   "outputs": [],
   "source": [
    "import numpy as np\n",
    "\n",
    "from gradvi.models.linear_model import LinearModel\n",
    "from gradvi.tests import toy_priors"
   ]
  },
  {
   "cell_type": "code",
   "execution_count": 2,
   "id": "e42a0fe3",
   "metadata": {},
   "outputs": [],
   "source": [
    "def get_lm_data(n = 100, p = 200, p_causal = 50, pve = 0.5, rho = 0.4):\n",
    "\n",
    "    def sd2_from_pve (X, b, pve):\n",
    "        return np.var(np.dot(X, b)) * (1 - pve) / pve\n",
    "\n",
    "    np.random.seed(100)\n",
    "\n",
    "    \"\"\"\n",
    "    Equicorr predictors\n",
    "    X is sampled from a multivariate normal, with covariance matrix V.\n",
    "    V has unit diagonal entries and constant off-diagonal entries rho.\n",
    "    \"\"\"\n",
    "    iidX    = np.random.normal(size = n * p).reshape(n, p)\n",
    "    comR    = np.random.normal(size = n).reshape(n, 1)\n",
    "    X       = comR * np.sqrt(rho) + iidX * np.sqrt(1 - rho)\n",
    "    bidx    = np.random.choice(p, p_causal, replace = False)\n",
    "    b       = np.zeros(p)\n",
    "    b[bidx] = np.random.normal(size = p_causal)\n",
    "    s2      = sd2_from_pve(X, b, pve)\n",
    "    y       = np.dot(X, b) + np.sqrt(s2) * np.random.normal(size = n)\n",
    "    return X, y, b, s2"
   ]
  },
  {
   "cell_type": "code",
   "execution_count": 44,
   "id": "fdf653b4",
   "metadata": {},
   "outputs": [],
   "source": [
    "X, y, b, s2 = get_lm_data()\n",
    "priors = toy_priors.get_all()\n",
    "prior = priors[1]\n",
    "objtype = \"reparametrize\"\n",
    "\n",
    "lm = LinearModel(X, y, b, s2, prior, objtype = objtype)\n",
    "eps = 1e-8"
   ]
  },
  {
   "cell_type": "code",
   "execution_count": 45,
   "id": "2af7336e",
   "metadata": {},
   "outputs": [
    {
     "data": {
      "text/plain": [
       "-64.55842827506467"
      ]
     },
     "execution_count": 45,
     "metadata": {},
     "output_type": "execute_result"
    }
   ],
   "source": [
    "lm.objective"
   ]
  },
  {
   "cell_type": "code",
   "execution_count": 46,
   "id": "1b5842e2",
   "metadata": {},
   "outputs": [],
   "source": [
    "d1 = lm.s2grad\n",
    "lm_eps = LinearModel(X, y, b, s2 + eps, prior, objtype = lm._objtype)\n",
    "d2 = (lm_eps.objective - lm.objective) / eps\n",
    "\n",
    "assert(np.allclose(d1, d2, atol = 0.1, rtol = 1e-8))"
   ]
  },
  {
   "cell_type": "code",
   "execution_count": 49,
   "id": "22adae5f",
   "metadata": {},
   "outputs": [
    {
     "data": {
      "text/plain": [
       "-4.369804551540568e-06"
      ]
     },
     "execution_count": 49,
     "metadata": {},
     "output_type": "execute_result"
    }
   ],
   "source": [
    "d1 - d2"
   ]
  },
  {
   "cell_type": "code",
   "execution_count": 48,
   "id": "0671ea18",
   "metadata": {},
   "outputs": [
    {
     "data": {
      "text/plain": [
       "-0.4552106247501797"
      ]
     },
     "execution_count": 48,
     "metadata": {},
     "output_type": "execute_result"
    }
   ],
   "source": [
    "d2"
   ]
  },
  {
   "cell_type": "code",
   "execution_count": 38,
   "id": "ff7d24c9",
   "metadata": {},
   "outputs": [],
   "source": [
    "d1 = prior.wmod_grad(lm.wgrad)\n",
    "d2 = np.zeros(prior.k)\n",
    "for i in range(prior.k):\n",
    "    amod_eps = prior.wmod.copy()\n",
    "    amod_eps[i] += eps\n",
    "    prior_eps = toy_priors.get_from_same_class(prior, prior.w)\n",
    "    prior_eps.update_wmod(amod_eps)\n",
    "    lm_eps = LinearModel(X, y, b, s2, prior_eps, objtype = lm._objtype)\n",
    "    d2[i] = (lm_eps.objective - lm.objective) / eps \n",
    "assert(np.allclose(d1, d2, atol = 0.1, rtol = 1e-8))"
   ]
  },
  {
   "cell_type": "code",
   "execution_count": 39,
   "id": "f5374fca",
   "metadata": {},
   "outputs": [
    {
     "data": {
      "text/plain": [
       "array([-39.28051789,   1.28738326,   6.22167889,   9.03039401,\n",
       "        10.80410248,  11.98969035])"
      ]
     },
     "execution_count": 39,
     "metadata": {},
     "output_type": "execute_result"
    }
   ],
   "source": [
    "d2[np.where(np.abs(d1 - d2) > 5e-6)]"
   ]
  },
  {
   "cell_type": "code",
   "execution_count": 40,
   "id": "a7c73d82",
   "metadata": {},
   "outputs": [
    {
     "data": {
      "text/plain": [
       "array([-39.29415196,   1.28257268,   6.21461043,   9.02204136,\n",
       "        10.79494099,  11.97998651])"
      ]
     },
     "execution_count": 40,
     "metadata": {},
     "output_type": "execute_result"
    }
   ],
   "source": [
    "d1[np.where(np.abs(d1 - d2) > 5e-6)]"
   ]
  },
  {
   "cell_type": "code",
   "execution_count": 41,
   "id": "9422f6c9",
   "metadata": {},
   "outputs": [
    {
     "data": {
      "text/plain": [
       "0.013634078388456317"
      ]
     },
     "execution_count": 41,
     "metadata": {},
     "output_type": "execute_result"
    }
   ],
   "source": [
    "np.max(np.abs(d1 - d2))"
   ]
  },
  {
   "cell_type": "code",
   "execution_count": 42,
   "id": "0ba72bff",
   "metadata": {},
   "outputs": [
    {
     "data": {
      "text/plain": [
       "array([-39.29415196,   1.28257268,   6.21461043,   9.02204136,\n",
       "        10.79494099,  11.97998651])"
      ]
     },
     "execution_count": 42,
     "metadata": {},
     "output_type": "execute_result"
    }
   ],
   "source": [
    "d1"
   ]
  },
  {
   "cell_type": "code",
   "execution_count": 43,
   "id": "969c3b1c",
   "metadata": {},
   "outputs": [
    {
     "data": {
      "text/plain": [
       "array([-39.28051789,   1.28738326,   6.22167889,   9.03039401,\n",
       "        10.80410248,  11.98969035])"
      ]
     },
     "execution_count": 43,
     "metadata": {},
     "output_type": "execute_result"
    }
   ],
   "source": [
    "d2"
   ]
  },
  {
   "cell_type": "code",
   "execution_count": 11,
   "id": "173bad97",
   "metadata": {},
   "outputs": [
    {
     "data": {
      "text/plain": [
       "29.04939967335439"
      ]
     },
     "execution_count": 11,
     "metadata": {},
     "output_type": "execute_result"
    }
   ],
   "source": [
    "s2"
   ]
  },
  {
   "cell_type": "code",
   "execution_count": 15,
   "id": "9a0945dd",
   "metadata": {},
   "outputs": [
    {
     "data": {
      "text/plain": [
       "False"
      ]
     },
     "execution_count": 15,
     "metadata": {},
     "output_type": "execute_result"
    }
   ],
   "source": [
    "prior.is_scaled"
   ]
  },
  {
   "cell_type": "code",
   "execution_count": 5,
   "id": "5b04f50a",
   "metadata": {},
   "outputs": [],
   "source": [
    "for i in range(prior.k):\n",
    "    w_eps     = prior.w.copy()\n",
    "    w_eps[i] += eps\n",
    "    prior_eps    = toy_priors.get_from_same_class(prior, w_eps)\n",
    "    lm_eps = LinearModel(X, y, b, s2, prior_eps, objtype = lm._objtype)\n",
    "    d1 = lm.wgrad[i]\n",
    "    d2 = (lm_eps.objective - lm.objective) / eps\n",
    "    assert(np.allclose(d1, d2, atol = 1e-4, rtol = 1e-8))"
   ]
  },
  {
   "cell_type": "code",
   "execution_count": 6,
   "id": "8972b0be",
   "metadata": {},
   "outputs": [],
   "source": [
    "wk = prior.w.copy()\n",
    "akjac  = np.log(np.exp(1)) * wk.reshape(-1, 1) * (np.eye(prior.k) - wk)\n",
    "agrad  = np.sum(lm.wgrad * akjac, axis = 1)\n",
    "ak = prior.wmod.copy()"
   ]
  },
  {
   "cell_type": "code",
   "execution_count": 7,
   "id": "3e298a90",
   "metadata": {},
   "outputs": [
    {
     "data": {
      "text/plain": [
       "array([-8.85627423, -0.84186851,  0.14437774,  1.55167745,  3.20918958,\n",
       "        4.79289797])"
      ]
     },
     "execution_count": 7,
     "metadata": {},
     "output_type": "execute_result"
    }
   ],
   "source": [
    "agrad"
   ]
  },
  {
   "cell_type": "code",
   "execution_count": 8,
   "id": "f95960d7",
   "metadata": {},
   "outputs": [
    {
     "data": {
      "text/plain": [
       "array([-8.85627423, -0.84186851,  0.14437774,  1.55167745,  3.20918958,\n",
       "        4.79289797])"
      ]
     },
     "execution_count": 8,
     "metadata": {},
     "output_type": "execute_result"
    }
   ],
   "source": [
    "prior.wmod_grad(lm.wgrad)"
   ]
  },
  {
   "cell_type": "code",
   "execution_count": 9,
   "id": "4dfb3ad2",
   "metadata": {},
   "outputs": [],
   "source": [
    "eps2 = 1e-3\n",
    "agrad = prior.wmod_grad(lm.wgrad)\n",
    "for i in range(prior.k):\n",
    "    ak_eps = prior.wmod.copy()\n",
    "    ak_eps[i] += eps2\n",
    "    prior_eps = toy_priors.get_from_same_class(prior, wk.copy())\n",
    "    prior_eps.update_wmod(ak_eps)\n",
    "    lm_eps = LinearModel(X, y, b, s2, prior_eps, objtype = lm._objtype)\n",
    "    d1 = agrad[i]\n",
    "    d2 = (lm_eps.objective - lm.objective) / eps2\n",
    "    assert(np.allclose(d1, d2, atol = 1e-2, rtol = 1e-8))"
   ]
  },
  {
   "cell_type": "code",
   "execution_count": 10,
   "id": "ee6abd21",
   "metadata": {},
   "outputs": [
    {
     "ename": "AssertionError",
     "evalue": "",
     "output_type": "error",
     "traceback": [
      "\u001b[0;31m---------------------------------------------------------------------------\u001b[0m",
      "\u001b[0;31mAssertionError\u001b[0m                            Traceback (most recent call last)",
      "\u001b[0;32m/tmp/ipykernel_17721/1767643251.py\u001b[0m in \u001b[0;36m<cell line: 4>\u001b[0;34m()\u001b[0m\n\u001b[1;32m      2\u001b[0m \u001b[0md1\u001b[0m \u001b[0;34m=\u001b[0m \u001b[0mlm\u001b[0m\u001b[0;34m.\u001b[0m\u001b[0mbgrad\u001b[0m\u001b[0;34m[\u001b[0m\u001b[0mi\u001b[0m\u001b[0;34m]\u001b[0m\u001b[0;34m\u001b[0m\u001b[0;34m\u001b[0m\u001b[0m\n\u001b[1;32m      3\u001b[0m \u001b[0md2\u001b[0m \u001b[0;34m=\u001b[0m \u001b[0;34m(\u001b[0m\u001b[0mlm_eps\u001b[0m\u001b[0;34m.\u001b[0m\u001b[0mobjective\u001b[0m \u001b[0;34m-\u001b[0m \u001b[0mlm\u001b[0m\u001b[0;34m.\u001b[0m\u001b[0mobjective\u001b[0m\u001b[0;34m)\u001b[0m \u001b[0;34m/\u001b[0m \u001b[0meps2\u001b[0m\u001b[0;34m\u001b[0m\u001b[0;34m\u001b[0m\u001b[0m\n\u001b[0;32m----> 4\u001b[0;31m \u001b[0;32massert\u001b[0m\u001b[0;34m(\u001b[0m\u001b[0mnp\u001b[0m\u001b[0;34m.\u001b[0m\u001b[0mallclose\u001b[0m\u001b[0;34m(\u001b[0m\u001b[0md1\u001b[0m\u001b[0;34m,\u001b[0m \u001b[0md2\u001b[0m\u001b[0;34m,\u001b[0m \u001b[0matol\u001b[0m \u001b[0;34m=\u001b[0m \u001b[0;36m1e-4\u001b[0m\u001b[0;34m,\u001b[0m \u001b[0mrtol\u001b[0m \u001b[0;34m=\u001b[0m \u001b[0;36m1e-8\u001b[0m\u001b[0;34m)\u001b[0m\u001b[0;34m)\u001b[0m\u001b[0;34m\u001b[0m\u001b[0;34m\u001b[0m\u001b[0m\n\u001b[0m",
      "\u001b[0;31mAssertionError\u001b[0m: "
     ]
    }
   ],
   "source": [
    "lm_eps = LinearModel(X, y, b, s2 + eps2, prior, objtype = lm._objtype)\n",
    "d1 = lm.bgrad[i]\n",
    "d2 = (lm_eps.objective - lm.objective) / eps2\n",
    "assert(np.allclose(d1, d2, atol = 1e-4, rtol = 1e-8))"
   ]
  },
  {
   "cell_type": "code",
   "execution_count": 11,
   "id": "4b24ce56",
   "metadata": {},
   "outputs": [
    {
     "data": {
      "text/plain": [
       "-0.21526161256059104"
      ]
     },
     "execution_count": 11,
     "metadata": {},
     "output_type": "execute_result"
    }
   ],
   "source": [
    "d1"
   ]
  },
  {
   "cell_type": "code",
   "execution_count": 12,
   "id": "5de7e335",
   "metadata": {},
   "outputs": [
    {
     "data": {
      "text/plain": [
       "-1.4024921513566824"
      ]
     },
     "execution_count": 12,
     "metadata": {},
     "output_type": "execute_result"
    }
   ],
   "source": [
    "d2"
   ]
  },
  {
   "cell_type": "code",
   "execution_count": null,
   "id": "044de6ae",
   "metadata": {},
   "outputs": [],
   "source": []
  }
 ],
 "metadata": {
  "kernelspec": {
   "display_name": "Python 3 (ipykernel)",
   "language": "python",
   "name": "python3"
  },
  "language_info": {
   "codemirror_mode": {
    "name": "ipython",
    "version": 3
   },
   "file_extension": ".py",
   "mimetype": "text/x-python",
   "name": "python",
   "nbconvert_exporter": "python",
   "pygments_lexer": "ipython3",
   "version": "3.9.12"
  }
 },
 "nbformat": 4,
 "nbformat_minor": 5
}
