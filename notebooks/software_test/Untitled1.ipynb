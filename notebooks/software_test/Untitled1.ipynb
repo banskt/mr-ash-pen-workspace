{
 "cells": [
  {
   "cell_type": "code",
   "execution_count": 1,
   "id": "55957285",
   "metadata": {},
   "outputs": [],
   "source": [
    "import numpy as np"
   ]
  },
  {
   "cell_type": "code",
   "execution_count": 2,
   "id": "fd1144fa",
   "metadata": {},
   "outputs": [],
   "source": [
    "n = 10\n",
    "logLjk = np.abs(np.random.normal(0, 1, n * 2)).reshape(n, 2)"
   ]
  },
  {
   "cell_type": "code",
   "execution_count": 3,
   "id": "9a922ed4",
   "metadata": {},
   "outputs": [],
   "source": [
    "pi1 = 0.4"
   ]
  },
  {
   "cell_type": "code",
   "execution_count": 4,
   "id": "7fe9d85c",
   "metadata": {},
   "outputs": [],
   "source": [
    "logm   = np.max(logLjk, axis = 1)"
   ]
  },
  {
   "cell_type": "code",
   "execution_count": 5,
   "id": "db4bc4d9",
   "metadata": {},
   "outputs": [
    {
     "data": {
      "text/plain": [
       "array([1.04880028, 1.36563794, 0.26845441, 1.32219724, 0.71842704,\n",
       "       0.70012347, 0.21177892, 0.77281443, 0.69020942, 0.6955723 ])"
      ]
     },
     "execution_count": 5,
     "metadata": {},
     "output_type": "execute_result"
    }
   ],
   "source": [
    "logm"
   ]
  },
  {
   "cell_type": "code",
   "execution_count": 6,
   "id": "3fbfba17",
   "metadata": {},
   "outputs": [],
   "source": [
    "phijk  = np.zeros((n, 2)) "
   ]
  },
  {
   "cell_type": "code",
   "execution_count": 7,
   "id": "25215f98",
   "metadata": {},
   "outputs": [
    {
     "data": {
      "text/plain": [
       "array([[0., 0.],\n",
       "       [0., 0.],\n",
       "       [0., 0.],\n",
       "       [0., 0.],\n",
       "       [0., 0.],\n",
       "       [0., 0.],\n",
       "       [0., 0.],\n",
       "       [0., 0.],\n",
       "       [0., 0.],\n",
       "       [0., 0.]])"
      ]
     },
     "execution_count": 7,
     "metadata": {},
     "output_type": "execute_result"
    }
   ],
   "source": [
    "phijk"
   ]
  },
  {
   "cell_type": "code",
   "execution_count": 15,
   "id": "c27f7c0f",
   "metadata": {},
   "outputs": [],
   "source": [
    "phijk[:, 0] = (1 - pi1) * np.exp(logLjk[:,  0] - logm)\n",
    "phijk[:, 1] = pi1 * np.exp(logLjk[:,  1] - logm)"
   ]
  },
  {
   "cell_type": "code",
   "execution_count": 16,
   "id": "80efaae1",
   "metadata": {},
   "outputs": [
    {
     "data": {
      "text/plain": [
       "array([[0.6       , 0.16222641],\n",
       "       [0.22449927, 0.4       ],\n",
       "       [0.6       , 0.31341089],\n",
       "       [0.26150536, 0.4       ],\n",
       "       [0.6       , 0.31536393],\n",
       "       [0.6       , 0.35271941],\n",
       "       [0.6       , 0.34130409],\n",
       "       [0.31187265, 0.4       ],\n",
       "       [0.39148638, 0.4       ],\n",
       "       [0.6       , 0.21891493]])"
      ]
     },
     "execution_count": 16,
     "metadata": {},
     "output_type": "execute_result"
    }
   ],
   "source": [
    "phijk"
   ]
  },
  {
   "cell_type": "code",
   "execution_count": 20,
   "id": "7138afc3",
   "metadata": {},
   "outputs": [
    {
     "data": {
      "text/plain": [
       "array([[0.78716769, 0.21283231],\n",
       "       [0.35948684, 0.64051316],\n",
       "       [0.65687853, 0.34312147],\n",
       "       [0.39531858, 0.60468142],\n",
       "       [0.655477  , 0.344523  ],\n",
       "       [0.62977619, 0.37022381],\n",
       "       [0.63741357, 0.36258643],\n",
       "       [0.43810175, 0.56189825],\n",
       "       [0.49462175, 0.50537825],\n",
       "       [0.73267683, 0.26732317]])"
      ]
     },
     "execution_count": 20,
     "metadata": {},
     "output_type": "execute_result"
    }
   ],
   "source": [
    "phijk / np.sum(phijk, axis = 1).reshape(n, 1)"
   ]
  },
  {
   "cell_type": "code",
   "execution_count": 13,
   "id": "7277debe",
   "metadata": {},
   "outputs": [
    {
     "data": {
      "text/plain": [
       "array([1.04880028, 1.36563794, 0.26845441, 1.32219724, 0.71842704,\n",
       "       0.70012347, 0.21177892, 0.77281443, 0.69020942, 0.6955723 ])"
      ]
     },
     "execution_count": 13,
     "metadata": {},
     "output_type": "execute_result"
    }
   ],
   "source": [
    "logm"
   ]
  },
  {
   "cell_type": "code",
   "execution_count": 14,
   "id": "ddf1e84d",
   "metadata": {},
   "outputs": [
    {
     "data": {
      "text/plain": [
       "array([1.04880028, 0.38258075, 0.26845441, 0.49172237, 0.71842704,\n",
       "       0.70012347, 0.21177892, 0.11847971, 0.26323049, 0.6955723 ])"
      ]
     },
     "execution_count": 14,
     "metadata": {},
     "output_type": "execute_result"
    }
   ],
   "source": [
    "logLjk[:, 0]"
   ]
  },
  {
   "cell_type": "code",
   "execution_count": null,
   "id": "1d3bba5c",
   "metadata": {},
   "outputs": [],
   "source": []
  },
  {
   "cell_type": "code",
   "execution_count": null,
   "id": "81cf13a9",
   "metadata": {},
   "outputs": [],
   "source": []
  },
  {
   "cell_type": "code",
   "execution_count": null,
   "id": "3bce9727",
   "metadata": {},
   "outputs": [],
   "source": []
  },
  {
   "cell_type": "code",
   "execution_count": null,
   "id": "01af9319",
   "metadata": {},
   "outputs": [],
   "source": []
  },
  {
   "cell_type": "code",
   "execution_count": 5,
   "id": "2e55b74e",
   "metadata": {},
   "outputs": [],
   "source": [
    "def log_sum_exponent(z):\n",
    "    \"\"\"\n",
    "    log(sum(exp(z))) = M + log(sum(exp(z - M)))\n",
    "    \"\"\"\n",
    "    zmax = np.max(z, axis = 1)\n",
    "    logsum = np.log(np.sum(np.exp(z-zmax.reshape(-1, 1)), axis = 1)) + zmax\n",
    "    return logsum\n"
   ]
  },
  {
   "cell_type": "code",
   "execution_count": 6,
   "id": "d20cad7b",
   "metadata": {},
   "outputs": [
    {
     "data": {
      "text/plain": [
       "array([0.80740477, 0.72165148, 1.21016549, 0.58174327, 1.74220558,\n",
       "       1.06454834, 1.14691517, 1.09032168, 1.31113255, 0.41907925,\n",
       "       0.69414361, 1.01158201, 1.74726198, 1.59357111, 0.46807128,\n",
       "       0.70104541, 0.48992855, 2.09445684, 1.41924327, 1.04599253,\n",
       "       0.45183554, 0.52925242, 1.15864122, 1.46755001, 1.7193732 ,\n",
       "       0.73570672, 2.31025742, 0.96644368, 0.59135179, 1.23075588,\n",
       "       0.80250737, 0.58157398, 1.52757645, 1.65333261, 1.78011321,\n",
       "       0.46166122, 0.6391105 , 0.09071727, 1.35254192, 0.83021574,\n",
       "       0.78105816, 0.38115386, 0.77789016, 1.97159593, 0.31610402,\n",
       "       1.10826015, 0.52854123, 1.3514663 , 1.69573831, 1.00993364,\n",
       "       1.17689237, 0.48096458, 0.92650227, 1.04708378, 1.4896824 ,\n",
       "       1.79245755, 1.00325002, 0.73198177, 0.40410464, 1.02203717,\n",
       "       0.9110565 , 1.06939699, 0.58874757, 0.74399258, 1.37769674,\n",
       "       0.61767476, 0.24869146, 0.84668953, 0.7594517 , 1.05152422,\n",
       "       1.28303748, 0.24668118, 1.64980334, 0.71819028, 0.95005098,\n",
       "       1.1728706 , 0.8849518 , 2.1998505 , 0.50190437, 1.36139532,\n",
       "       1.28587175, 0.74417214, 0.54389673, 1.32274874, 0.50000545,\n",
       "       0.99099144, 0.3557065 , 0.14344052, 0.99380482, 0.81187789,\n",
       "       2.13775789, 2.28037363, 0.73497029, 0.80273155, 1.59929271,\n",
       "       0.19376357, 1.39911528, 0.73915623, 1.01117308, 1.21730485])"
      ]
     },
     "execution_count": 6,
     "metadata": {},
     "output_type": "execute_result"
    }
   ],
   "source": [
    "        logLjk = self.logLjk()\n",
    "        logm   = np.max(logLjk, axis = 1)\n",
    "        phijk  = np.zeros((self._n, 2)) \n",
    "        varjk  = np.zeros((self._n, 2)) \n",
    "        mujk   = np.zeros((self._n, 2)) \n",
    "        phijk[:, 0] = (1 - self._pi1) * np.exp(logLjk[:,  0] - logm)\n",
    "        phijk[:, 1] = self._pi1 * np.exp(logLjk[:, 1] - logm)\n",
    "        phijk /= np.sum(phijk, axis = 1)\n",
    "        varjk[:, 1] = 1 / ((1 / self._sj2) + (1 / self._sk2[0, 1]))\n",
    "        mujk[:, 1] = self._y * varjk[:, 1] / self._sj2\n"
   ]
  },
  {
   "cell_type": "code",
   "execution_count": 7,
   "id": "b321590a",
   "metadata": {},
   "outputs": [
    {
     "data": {
      "text/plain": [
       "0.0"
      ]
     },
     "execution_count": 7,
     "metadata": {},
     "output_type": "execute_result"
    }
   ],
   "source": [
    "np.log(1)"
   ]
  },
  {
   "cell_type": "code",
   "execution_count": 8,
   "id": "8a0d8d7b",
   "metadata": {},
   "outputs": [
    {
     "data": {
      "text/plain": [
       "(100, 2)"
      ]
     },
     "execution_count": 8,
     "metadata": {},
     "output_type": "execute_result"
    }
   ],
   "source": [
    "logLjk.shape"
   ]
  },
  {
   "cell_type": "code",
   "execution_count": 9,
   "id": "30169f78",
   "metadata": {},
   "outputs": [],
   "source": [
    "logm = np.max(logLjk)"
   ]
  },
  {
   "cell_type": "code",
   "execution_count": 10,
   "id": "57a49907",
   "metadata": {},
   "outputs": [
    {
     "data": {
      "text/plain": [
       "3.127323456536647"
      ]
     },
     "execution_count": 10,
     "metadata": {},
     "output_type": "execute_result"
    }
   ],
   "source": [
    "logm"
   ]
  },
  {
   "cell_type": "code",
   "execution_count": 14,
   "id": "c0a97143",
   "metadata": {},
   "outputs": [],
   "source": [
    "xinner = np.exp(logLjk - logm)\n",
    "xres = np.diff(xinner)"
   ]
  },
  {
   "cell_type": "code",
   "execution_count": 15,
   "id": "67b84338",
   "metadata": {},
   "outputs": [
    {
     "data": {
      "text/plain": [
       "22.81283820224363"
      ]
     },
     "execution_count": 15,
     "metadata": {},
     "output_type": "execute_result"
    }
   ],
   "source": [
    "np.exp(logm)"
   ]
  },
  {
   "cell_type": "code",
   "execution_count": 27,
   "id": "7a29728f",
   "metadata": {},
   "outputs": [
    {
     "data": {
      "text/plain": [
       "array([-1.31968985e-01, -1.94611608e-02, -4.91199209e-02,  5.74880382e-02,\n",
       "       -1.94927766e-02,  1.33159756e-01,  2.59674455e-02, -2.54607203e-01,\n",
       "       -2.60327841e-02,  5.98874906e-02,  1.59801162e-01,  7.08403442e-02,\n",
       "        2.07389984e-01,  3.53238829e-02, -6.96476397e-02, -3.25832068e-02,\n",
       "        3.47929966e-02, -4.00120261e-02, -5.14086055e-02,  8.09723420e-02,\n",
       "       -8.66737621e-02, -1.48819091e-02,  6.10905430e-02,  6.06221212e-01,\n",
       "        1.28728212e-02, -2.26529902e-02, -1.40156546e-02,  1.62860563e-01,\n",
       "        2.39513447e-01,  3.83400628e-02,  6.31357715e-02,  7.56556977e-02,\n",
       "        1.05505666e-04,  3.75883065e-02,  2.16419977e-02,  4.72604787e-02,\n",
       "       -2.64414950e-01,  4.86160771e-02, -3.13801691e-01, -1.74723832e-02,\n",
       "        7.50998071e-02,  8.88869209e-02, -3.01953865e-01, -7.62826747e-02,\n",
       "       -2.72490243e-03,  8.57235097e-03, -4.83662515e-02, -2.05772698e-02,\n",
       "        1.35008734e-01,  7.31356436e-03, -7.22292541e-02,  5.52886760e-02,\n",
       "       -2.84939344e-01,  6.07365045e-01, -7.80267407e-02, -9.29597771e-01,\n",
       "        1.05651670e-01,  2.56073546e-02, -3.54564843e-02,  7.02022673e-02,\n",
       "       -9.72200854e-05, -2.79823934e-01, -1.31436126e-02,  2.34359887e-01,\n",
       "        6.79929409e-02, -3.08793848e-02,  7.93776521e-02,  3.94114500e-02,\n",
       "       -2.71675615e-02,  6.77009698e-02, -5.23339812e-02,  6.02029937e-03,\n",
       "       -3.38964782e-02,  1.29340207e-01,  1.78604220e-01,  1.66999391e-01,\n",
       "        9.09519312e-02,  1.15251062e-01, -1.49619197e-01, -1.44347632e-01,\n",
       "        1.42083849e-01,  7.72705538e-03,  8.79200688e-02, -3.59636621e-02,\n",
       "        4.07887030e-02,  9.79209657e-02,  3.33958141e-02, -4.10898868e-02,\n",
       "        3.25948897e-02, -1.94761162e-01,  2.72428414e-01, -3.67065347e-03,\n",
       "        2.71788804e-03,  2.33070125e-02, -5.93115316e-02,  3.31105612e-02,\n",
       "        1.16318545e-02,  3.92441298e-01,  2.02924975e-02, -2.13525860e-03])"
      ]
     },
     "execution_count": 27,
     "metadata": {},
     "output_type": "execute_result"
    }
   ],
   "source": [
    "xinner[:, 1] - xinner[:, 0]"
   ]
  },
  {
   "cell_type": "code",
   "execution_count": 34,
   "id": "b96eb032",
   "metadata": {},
   "outputs": [],
   "source": [
    "h1 = np.diff(xinner)"
   ]
  },
  {
   "cell_type": "code",
   "execution_count": 35,
   "id": "50205d73",
   "metadata": {},
   "outputs": [],
   "source": [
    "h2 = np.exp(h1)"
   ]
  },
  {
   "cell_type": "code",
   "execution_count": 36,
   "id": "9b53cd38",
   "metadata": {},
   "outputs": [
    {
     "data": {
      "text/plain": [
       "(100, 1)"
      ]
     },
     "execution_count": 36,
     "metadata": {},
     "output_type": "execute_result"
    }
   ],
   "source": [
    "h1.shape"
   ]
  },
  {
   "cell_type": "code",
   "execution_count": 37,
   "id": "6e38c47a",
   "metadata": {},
   "outputs": [
    {
     "data": {
      "text/plain": [
       "(100, 1)"
      ]
     },
     "execution_count": 37,
     "metadata": {},
     "output_type": "execute_result"
    }
   ],
   "source": [
    "h2.shape"
   ]
  },
  {
   "cell_type": "code",
   "execution_count": 38,
   "id": "3bb79bb6",
   "metadata": {},
   "outputs": [],
   "source": [
    "h12 = np.concatenate((h1, h2), axis = 1)"
   ]
  },
  {
   "cell_type": "code",
   "execution_count": 43,
   "id": "e2028637",
   "metadata": {},
   "outputs": [
    {
     "data": {
      "text/plain": [
       "(100, 2)"
      ]
     },
     "execution_count": 43,
     "metadata": {},
     "output_type": "execute_result"
    }
   ],
   "source": [
    "h12.shape"
   ]
  },
  {
   "cell_type": "code",
   "execution_count": 46,
   "id": "1158bc14",
   "metadata": {},
   "outputs": [
    {
     "data": {
      "text/plain": [
       "array([0.93354593, 0.93321639, 1.27588241, 1.01177996, 0.80786871,\n",
       "       1.17130963, 0.95974154, 1.08112867, 0.8865119 , 0.97326606,\n",
       "       1.08776801, 0.98029263, 1.16130404, 1.28023918, 0.9666001 ,\n",
       "       1.00821323, 1.06195903, 1.71365541, 1.04083318, 0.94158811,\n",
       "       0.97123563, 1.00761734, 0.9788526 , 1.163425  , 1.04426128,\n",
       "       0.92474962, 0.55786949, 1.00678819, 0.98561152, 1.2051158 ,\n",
       "       1.13402684, 1.07821359, 0.84909742, 1.50130255, 0.72336821,\n",
       "       0.99666342, 0.95169269, 0.99968426, 0.87132325, 0.97021515,\n",
       "       1.03775636, 1.01648703, 1.12986423, 0.77444341, 0.99283106,\n",
       "       0.93844641, 0.97004791, 0.86192435, 0.7703892 , 0.90288277,\n",
       "       0.90896428, 0.96035248, 0.96067924, 1.17691027, 1.41493925,\n",
       "       0.71169047, 0.88835121, 1.00395546, 0.98874452, 0.89432379,\n",
       "       0.9305594 , 0.88365584, 1.07603696, 0.92821611, 0.93011409,\n",
       "       1.044161  , 1.01836905, 0.90743779, 0.96093062, 1.06224629,\n",
       "       0.90124465, 1.03079257, 0.76247721, 1.07771296, 1.14467461,\n",
       "       0.8920565 , 0.96156316, 2.28655777, 1.03739555, 1.07304034,\n",
       "       0.86284026, 1.04714591, 0.97345548, 1.29927785, 0.95741109,\n",
       "       1.03810666, 0.98818328, 0.99823401, 1.20069199, 0.97633958,\n",
       "       1.56244255, 2.59122909, 0.94396855, 1.08813318, 0.75674187,\n",
       "       1.01742991, 0.93135698, 1.11115773, 1.0947457 , 0.91754031])"
      ]
     },
     "execution_count": 46,
     "metadata": {},
     "output_type": "execute_result"
    }
   ],
   "source": [
    "np.max(h12, axis = 1)"
   ]
  },
  {
   "cell_type": "code",
   "execution_count": 41,
   "id": "4d088b3f",
   "metadata": {},
   "outputs": [
    {
     "data": {
      "text/plain": [
       "(100, 1)"
      ]
     },
     "execution_count": 41,
     "metadata": {},
     "output_type": "execute_result"
    }
   ],
   "source": [
    "h1.shape"
   ]
  },
  {
   "cell_type": "code",
   "execution_count": null,
   "id": "49827d1e",
   "metadata": {},
   "outputs": [],
   "source": []
  },
  {
   "cell_type": "code",
   "execution_count": null,
   "id": "b0d1bd6d",
   "metadata": {},
   "outputs": [],
   "source": []
  },
  {
   "cell_type": "code",
   "execution_count": 28,
   "id": "ba7068ff",
   "metadata": {},
   "outputs": [
    {
     "data": {
      "text/plain": [
       "(200, 1)"
      ]
     },
     "execution_count": 28,
     "metadata": {},
     "output_type": "execute_result"
    }
   ],
   "source": [
    "h12.shape"
   ]
  },
  {
   "cell_type": "code",
   "execution_count": 31,
   "id": "b679735b",
   "metadata": {},
   "outputs": [
    {
     "data": {
      "text/plain": [
       "array([[-2.64798875e+00],\n",
       "       [-3.90492774e-01],\n",
       "       [-9.85602778e-01],\n",
       "       [ 1.15351102e+00],\n",
       "       [-3.91127152e-01],\n",
       "       [ 2.67188185e+00],\n",
       "       [ 5.21042908e-01],\n",
       "       [-5.10875348e+00],\n",
       "       [-5.22353942e-01],\n",
       "       [ 1.20165660e+00],\n",
       "       [ 3.20644794e+00],\n",
       "       [ 1.42142818e+00],\n",
       "       [ 4.16132885e+00],\n",
       "       [ 7.08782027e-01],\n",
       "       [-1.39749629e+00],\n",
       "       [-6.53789716e-01],\n",
       "       [ 6.98129668e-01],\n",
       "       [-8.02850724e-01],\n",
       "       [-1.03152577e+00],\n",
       "       [ 1.62472911e+00],\n",
       "       [-1.73912944e+00],\n",
       "       [-2.98609011e-01],\n",
       "       [ 1.22579613e+00],\n",
       "       [ 1.21639713e+01],\n",
       "       [ 2.58296188e-01],\n",
       "       [-4.54537581e-01],\n",
       "       [-2.81227410e-01],\n",
       "       [ 3.26783554e+00],\n",
       "       [ 4.80589370e+00],\n",
       "       [ 7.69302387e-01],\n",
       "       [ 1.26683412e+00],\n",
       "       [ 1.51804939e+00],\n",
       "       [ 2.11699602e-03],\n",
       "       [ 7.54218220e-01],\n",
       "       [ 4.34251780e-01],\n",
       "       [ 9.48292632e-01],\n",
       "       [-5.30554822e+00],\n",
       "       [ 9.75493033e-01],\n",
       "       [-6.29650481e+00],\n",
       "       [-3.50587482e-01],\n",
       "       [ 1.50689531e+00],\n",
       "       [ 1.78353699e+00],\n",
       "       [-6.05877539e+00],\n",
       "       [-1.53062983e+00],\n",
       "       [-5.46758087e-02],\n",
       "       [ 1.72006240e-01],\n",
       "       [-9.70480223e-01],\n",
       "       [-4.12887763e-01],\n",
       "       [ 2.70898203e+00],\n",
       "       [ 1.46748391e-01],\n",
       "       [-1.44929699e+00],\n",
       "       [ 1.10938030e+00],\n",
       "       [-5.71737503e+00],\n",
       "       [ 1.21869226e+01],\n",
       "       [-1.56562492e+00],\n",
       "       [-1.86525981e+01],\n",
       "       [ 2.11992563e+00],\n",
       "       [ 5.13817598e-01],\n",
       "       [-7.11442705e-01],\n",
       "       [ 1.40862502e+00],\n",
       "       [-1.95074390e-03],\n",
       "       [-5.61473312e+00],\n",
       "       [-2.63729682e-01],\n",
       "       [ 4.70248631e+00],\n",
       "       [ 1.36429437e+00],\n",
       "       [-6.19602125e-01],\n",
       "       [ 1.59273128e+00],\n",
       "       [ 7.90800022e-01],\n",
       "       [-5.45123518e-01],\n",
       "       [ 1.35843590e+00],\n",
       "       [-1.05009365e+00],\n",
       "       [ 1.20798724e-01],\n",
       "       [-6.80140815e-01],\n",
       "       [ 2.59524171e+00],\n",
       "       [ 3.58373573e+00],\n",
       "       [ 3.35088209e+00],\n",
       "       [ 1.82497191e+00],\n",
       "       [ 2.31253970e+00],\n",
       "       [-3.00214441e+00],\n",
       "       [-2.89636923e+00],\n",
       "       [ 2.85094587e+00],\n",
       "       [ 1.55045185e-01],\n",
       "       [ 1.76413688e+00],\n",
       "       [-7.21619347e-01],\n",
       "       [ 8.18434929e-01],\n",
       "       [ 1.96480723e+00],\n",
       "       [ 6.70094872e-01],\n",
       "       [-8.24478254e-01],\n",
       "       [ 6.54024136e-01],\n",
       "       [-3.90792857e+00],\n",
       "       [ 5.46634027e+00],\n",
       "       [-7.36525262e-02],\n",
       "       [ 5.45350633e-02],\n",
       "       [ 4.67660694e-01],\n",
       "       [-1.19009985e+00],\n",
       "       [ 6.64371205e-01],\n",
       "       [ 2.33395900e-01],\n",
       "       [ 7.87442704e+00],\n",
       "       [ 4.07173739e-01],\n",
       "       [-4.28444665e-02]])"
      ]
     },
     "execution_count": 31,
     "metadata": {},
     "output_type": "execute_result"
    }
   ],
   "source": [
    "np.diff(np.exp(logLjk))"
   ]
  },
  {
   "cell_type": "code",
   "execution_count": null,
   "id": "2e28e504",
   "metadata": {},
   "outputs": [],
   "source": []
  }
 ],
 "metadata": {
  "kernelspec": {
   "display_name": "Python 3 (ipykernel)",
   "language": "python",
   "name": "python3"
  },
  "language_info": {
   "codemirror_mode": {
    "name": "ipython",
    "version": 3
   },
   "file_extension": ".py",
   "mimetype": "text/x-python",
   "name": "python",
   "nbconvert_exporter": "python",
   "pygments_lexer": "ipython3",
   "version": "3.9.12"
  }
 },
 "nbformat": 4,
 "nbformat_minor": 5
}
