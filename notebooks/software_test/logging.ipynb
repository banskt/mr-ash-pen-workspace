{
 "cells": [
  {
   "cell_type": "code",
   "execution_count": 1,
   "id": "2e137613",
   "metadata": {},
   "outputs": [],
   "source": [
    "import logging\n",
    "import sys"
   ]
  },
  {
   "cell_type": "code",
   "execution_count": 2,
   "id": "7255b806",
   "metadata": {},
   "outputs": [
    {
     "name": "stdout",
     "output_type": "stream",
     "text": [
      "__main__\n"
     ]
    }
   ],
   "source": [
    "print(__name__)"
   ]
  },
  {
   "cell_type": "code",
   "execution_count": 3,
   "id": "78c8e34f",
   "metadata": {},
   "outputs": [
    {
     "name": "stdout",
     "output_type": "stream",
     "text": [
      "2022-05-13 09:58:57,060 | 2090793682.py | INFO | Whoa@\n"
     ]
    }
   ],
   "source": [
    "fmt = \"%(asctime)s | %(name)s | %(levelname)s | %(message)s\"\n",
    "formatter = logging.Formatter(fmt)\n",
    "handler = logging.StreamHandler(sys.stdout)\n",
    "handler.setFormatter(formatter)\n",
    "logger = logging.getLogger(__name__)\n",
    "logger.setLevel(logging.DEBUG)\n",
    "logger.addHandler(handler)\n",
    "\n",
    "logger.info(\"Whoa@\")"
   ]
  },
  {
   "cell_type": "code",
   "execution_count": 4,
   "id": "ddc66da2",
   "metadata": {},
   "outputs": [
    {
     "name": "stdout",
     "output_type": "stream",
     "text": [
      "2022-05-13 09:58:58,025 | 100635962.py | DEBUG | Some debug\n"
     ]
    }
   ],
   "source": [
    "logger.debug(\"Some debug\")"
   ]
  },
  {
   "cell_type": "code",
   "execution_count": 5,
   "id": "524ce912",
   "metadata": {},
   "outputs": [
    {
     "name": "stdout",
     "output_type": "stream",
     "text": [
      "2022-05-13 09:58:58,667 | 3249748908.py | WARNING | Some warning\n"
     ]
    }
   ],
   "source": [
    "logger.warning(\"Some warning\")"
   ]
  },
  {
   "cell_type": "code",
   "execution_count": 6,
   "id": "c689596e",
   "metadata": {},
   "outputs": [
    {
     "name": "stdout",
     "output_type": "stream",
     "text": [
      "2022-05-13 09:58:59,131 | 3107081010.py | ERROR | Some error\n"
     ]
    }
   ],
   "source": [
    "logger.error(\"Some error\")"
   ]
  },
  {
   "cell_type": "code",
   "execution_count": 25,
   "id": "10ec6d46",
   "metadata": {},
   "outputs": [
    {
     "data": {
      "text/plain": [
       "10"
      ]
     },
     "execution_count": 25,
     "metadata": {},
     "output_type": "execute_result"
    }
   ],
   "source": [
    "logger.level"
   ]
  },
  {
   "cell_type": "code",
   "execution_count": 7,
   "id": "b29816b7",
   "metadata": {},
   "outputs": [],
   "source": [
    "strings = ['gradvi.tests.test_root_find', 'gradvi.test_normal_means']\n",
    "string = strings[0]"
   ]
  },
  {
   "cell_type": "code",
   "execution_count": 13,
   "id": "5cf376f4",
   "metadata": {},
   "outputs": [
    {
     "data": {
      "text/plain": [
       "'gradvi'"
      ]
     },
     "execution_count": 13,
     "metadata": {},
     "output_type": "execute_result"
    }
   ],
   "source": []
  },
  {
   "cell_type": "code",
   "execution_count": null,
   "id": "c58b2a58",
   "metadata": {},
   "outputs": [],
   "source": []
  }
 ],
 "metadata": {
  "kernelspec": {
   "display_name": "Python 3 (ipykernel)",
   "language": "python",
   "name": "python3"
  },
  "language_info": {
   "codemirror_mode": {
    "name": "ipython",
    "version": 3
   },
   "file_extension": ".py",
   "mimetype": "text/x-python",
   "name": "python",
   "nbconvert_exporter": "python",
   "pygments_lexer": "ipython3",
   "version": "3.9.12"
  }
 },
 "nbformat": 4,
 "nbformat_minor": 5
}
