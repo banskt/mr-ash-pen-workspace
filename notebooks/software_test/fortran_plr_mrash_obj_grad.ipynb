{
 "cells": [
  {
   "cell_type": "markdown",
   "id": "3e52d346",
   "metadata": {},
   "source": [
    "Run the FORTRAN code in `mr-ash-pen/src/mrashpen/flibs` and compare results.\n",
    "```\n",
    "gfortran env_precision.f90 global_parameters.f90 futils.f90 normal_means_ash_scaled.f90 plr_mrash.f90 main.f90 -lblas -llapack -o runtest\n",
    "./runtest\n",
    "```"
   ]
  },
  {
   "cell_type": "code",
   "execution_count": 1,
   "id": "e5878e47",
   "metadata": {},
   "outputs": [],
   "source": [
    "import numpy as np\n",
    "from mrashpen.models.plr_ash import PenalizedMrASH as PenMrASH\n",
    "from mrashpen.models.normal_means_ash_scaled import NormalMeansASHScaled\n",
    "from mrashpen.models.normal_means_ash import NormalMeansASH"
   ]
  },
  {
   "cell_type": "code",
   "execution_count": 2,
   "id": "9a2f4fbb",
   "metadata": {},
   "outputs": [],
   "source": [
    "n = 5\n",
    "p = 6\n",
    "k = 3\n",
    "std = 0.9\n",
    "b  = np.array([1.21, 2.32, 0.01, 0.03, 0.11, 3.12])\n",
    "sk = np.array([0.1, 0.5, 0.9])\n",
    "wk = np.array([0.5, 0.25, 0.25])\n",
    "y  = np.array([3.5, 4.5, 1.2, 6.5, 2.8])\n",
    "XT = np.array([8.79, 6.11,-9.15, 9.57,-3.49, 9.84,\n",
    "               9.93, 6.91,-7.93, 1.64, 4.02, 0.15, \n",
    "               9.83, 5.04, 4.86, 8.83, 9.80,-8.99,\n",
    "               5.45,-0.27, 4.85, 0.74,10.00,-6.02,\n",
    "               3.16, 7.98, 3.01, 5.80, 4.27,-5.31])\n",
    "X = XT.reshape(p, n).T"
   ]
  },
  {
   "cell_type": "code",
   "execution_count": 3,
   "id": "10f0b804",
   "metadata": {},
   "outputs": [
    {
     "data": {
      "text/plain": [
       "array([[ 8.79,  9.84,  4.02,  8.83,  4.85,  7.98],\n",
       "       [ 6.11,  9.93,  0.15,  9.8 ,  0.74,  3.01],\n",
       "       [-9.15,  6.91,  9.83, -8.99, 10.  ,  5.8 ],\n",
       "       [ 9.57, -7.93,  5.04,  5.45, -6.02,  4.27],\n",
       "       [-3.49,  1.64,  4.86, -0.27,  3.16, -5.31]])"
      ]
     },
     "execution_count": 3,
     "metadata": {},
     "output_type": "execute_result"
    }
   ],
   "source": [
    "X"
   ]
  },
  {
   "cell_type": "code",
   "execution_count": 4,
   "id": "79f647a2",
   "metadata": {},
   "outputs": [],
   "source": [
    "pmash = PenMrASH(X, y, b, std, wk, sk, debug = True, is_prior_scaled = False)\n",
    "pmash_scaled = PenMrASH(X, y, b, std, wk, sk, debug = True, is_prior_scaled = True)\n",
    "nmash = NormalMeansASH(b, np.sqrt(np.square(std) / pmash._dj), wk, sk)\n",
    "nmash_scaled = NormalMeansASHScaled(b, std, wk, sk, d = pmash._dj)"
   ]
  },
  {
   "cell_type": "code",
   "execution_count": 5,
   "id": "b3810796",
   "metadata": {},
   "outputs": [
    {
     "name": "stdout",
     "output_type": "stream",
     "text": [
      "2022-04-19 18:10:04,778 | mrashpen.models.plr_ash | DEBUG | Calculating PLR objective with sigma2 = 0.81\n"
     ]
    }
   ],
   "source": [
    "bgrad, wgrad, s2grad = pmash.gradients"
   ]
  },
  {
   "cell_type": "code",
   "execution_count": 6,
   "id": "5d0b5042",
   "metadata": {},
   "outputs": [
    {
     "name": "stdout",
     "output_type": "stream",
     "text": [
      "2022-04-19 18:10:06,512 | mrashpen.models.plr_ash | DEBUG | Calculating PLR objective with sigma2 = 0.81\n"
     ]
    }
   ],
   "source": [
    "bgrad_scaled, wgrad_scaled, s2grad_scaled = pmash_scaled.gradients"
   ]
  },
  {
   "cell_type": "code",
   "execution_count": 7,
   "id": "57a3df04",
   "metadata": {},
   "outputs": [],
   "source": [
    "mrashpen_res = dict()\n",
    "mrashpen_res['plrash_scaled'] = {\n",
    "    'objective' : pmash_scaled.objective,\n",
    "    'bgrad' : bgrad_scaled,\n",
    "    'wgrad' : wgrad_scaled,\n",
    "    's2grad' : s2grad_scaled,\n",
    "}\n",
    "mrashpen_res['plrash'] = {\n",
    "    'objective' : pmash.objective,\n",
    "    'bgrad' : bgrad,\n",
    "    'wgrad' : wgrad,\n",
    "    's2grad' : s2grad,\n",
    "}"
   ]
  },
  {
   "cell_type": "code",
   "execution_count": 8,
   "id": "4f0450c1",
   "metadata": {},
   "outputs": [],
   "source": [
    "\n",
    "for i, nm in enumerate([nmash, nmash_scaled]):\n",
    "    # nmash\n",
    "    if i == 0:\n",
    "        key  = 'nmash'\n",
    "        fact = np.ones(p)\n",
    "        dj   = pmash._dj\n",
    "        mb, mb_bgrad, mb_wgrad, mb_s2grad = pmash.shrinkage_operator(nm)\n",
    "        lj, lj_bgrad, lj_wgrad, lj_s2grad = pmash.penalty_operator(nm)\n",
    "    else:\n",
    "        key  = 'nmash_scaled'\n",
    "        dj   = pmash_scaled._dj\n",
    "        fact = pmash_scaled._dj\n",
    "        mb, mb_bgrad, mb_wgrad, mb_s2grad = pmash_scaled.shrinkage_operator(nm)\n",
    "        lj, lj_bgrad, lj_wgrad, lj_s2grad = pmash_scaled.penalty_operator(nm)\n",
    "        \n",
    "    mrashpen_res[key] = {\n",
    "        'logML': nm.logML,\n",
    "        'logML_deriv': nm.logML_deriv,\n",
    "        'logML_wderiv': nm.logML_wderiv,\n",
    "        'logML_s2deriv': nm.logML_s2deriv * fact,\n",
    "        'logML_deriv2': nm.logML_deriv2,\n",
    "        'logML_deriv_wderiv': nm.logML_deriv_wderiv,\n",
    "        'logML_deriv_s2deriv': nm.logML_deriv_s2deriv * fact,\n",
    "        'shrinkage_mb': mb,\n",
    "        'shrinkage_mb_bgrad': mb_bgrad,\n",
    "        'shrinkage_mb_wgrad': mb_wgrad,\n",
    "        'shrinkage_mb_s2grad': mb_s2grad * dj,\n",
    "        'penalty_lj': lj,\n",
    "        'penalty_lj_bgrad': lj_bgrad,\n",
    "        'penalty_lj_wgrad': lj_wgrad,\n",
    "        'penalty_lj_s2grad': lj_s2grad * dj,\n",
    "    }"
   ]
  },
  {
   "cell_type": "code",
   "execution_count": 9,
   "id": "56abe76d",
   "metadata": {},
   "outputs": [
    {
     "data": {
      "text/plain": [
       "{'plrash_scaled': {'objective': 3205.58796066751,\n",
       "  'bgrad': array([ 693.89890522, 1257.60334498,  293.85995256,  615.7151167 ,\n",
       "          440.13054884,  956.56182369]),\n",
       "  'wgrad': array([-14.83246902,   6.95343333,  -1.28849528]),\n",
       "  's2grad': -3956.0004809984725},\n",
       " 'plrash': {'objective': 3213.7913940545036,\n",
       "  'bgrad': array([ 694.29363183, 1260.18101292,  311.65275926,  640.59877728,\n",
       "          450.23955438,  958.69539922]),\n",
       "  'wgrad': array([-13.23088186,   4.27533301,  -1.81356928]),\n",
       "  's2grad': -4009.8783665317305},\n",
       " 'nmash': {'logML': array([-2.88430004, -5.51207019,  0.65799283,  0.69708953,  0.33103137,\n",
       "         -8.1729519 ]),\n",
       "  'logML_deriv': array([-2.13525576, -2.8623001 , -0.56486873, -1.99020565, -5.90464463,\n",
       "         -3.82683969]),\n",
       "  'logML_wderiv': array([[5.39152820e-024, 7.83524957e-001, 3.21647504e+000],\n",
       "         [2.27379652e-090, 4.64506480e-003, 3.99535494e+000],\n",
       "         [1.68104736e+000, 4.09060715e-001, 2.28844557e-001],\n",
       "         [1.69265949e+000, 3.94427245e-001, 2.20253768e-001],\n",
       "         [1.56530011e+000, 5.54330402e-001, 3.15069385e-001],\n",
       "         [8.08653592e-135, 1.46964244e-005, 3.99998530e+000]]),\n",
       "  'logML_s2deriv': array([  2.25483852,   3.50273451, -28.05669904, -30.86148635,\n",
       "          -5.08058282,   6.70920485]),\n",
       "  'logML_deriv2': array([-4.96401163e-02, -1.18729283e+00, -5.64324748e+01, -6.56838912e+01,\n",
       "         -4.50259939e+01, -1.22629230e+00]),\n",
       "  'logML_deriv_wderiv': array([[-5.02923137e-022, -2.07899232e+000,  2.07899232e+000],\n",
       "         [-4.11381089e-088, -2.93629807e-002,  2.93629807e-002],\n",
       "         [-1.70741789e-001,  2.15024335e-001,  1.26459244e-001],\n",
       "         [-5.84207068e-001,  7.38192827e-001,  4.30221310e-001],\n",
       "         [-2.42580391e+000,  3.03377248e+000,  1.81783534e+000],\n",
       "         [-1.61799588e-132, -1.23362412e-004,  1.23362412e-004]]),\n",
       "  'logML_deriv_s2deriv': array([  0.51101039,   3.28176045,  40.04851553, 164.05029924,\n",
       "         401.3185889 ,   4.69186201]),\n",
       "  'shrinkage_mb': array([1.20427458, 2.31249088, 0.00717274, 0.02433576, 0.08191502,\n",
       "         3.099715  ]),\n",
       "  'shrinkage_mb_bgrad': array([0.9998669 , 0.99688519, 0.71754645, 0.81305998, 0.7858374 ,\n",
       "         0.99349977]),\n",
       "  'shrinkage_mb_wgrad': array([[-1.34852606e-024, -5.57456023e-003,  5.57456023e-003],\n",
       "         [-1.07923996e-090, -7.70324714e-005,  7.70324714e-005],\n",
       "         [-8.54589913e-004,  1.07623112e-003,  6.32948704e-004],\n",
       "         [-1.66268591e-003,  2.10093797e-003,  1.22443385e-003],\n",
       "         [-1.15381454e-002,  1.44299001e-002,  8.64639075e-003],\n",
       "         [-8.57653917e-135, -6.53909303e-007,  6.53909303e-007]]),\n",
       "  'shrinkage_mb_s2grad': array([-2.13388555, -2.85369055, -0.36441952, -1.52330935, -3.99580434,\n",
       "         -3.80196945]),\n",
       "  'penalty_lj': array([ 2.87818742,  5.50132352, -0.65879134, -0.70272603, -0.41394728,\n",
       "          8.13413818]),\n",
       "  'penalty_lj_bgrad': array([2.13497155, 2.85338458, 0.40531956, 1.61815657, 4.6400906 ,\n",
       "         3.80196435]),\n",
       "  'penalty_lj_wgrad': array([ -5.01092743,  -2.06813652, -11.91000862]),\n",
       "  'penalty_lj_s2grad': array([ -4.53157136,  -7.57447232,  28.01038819,  29.81024675,\n",
       "          -1.08080773, -13.93638145])},\n",
       " 'nmash_scaled': {'logML': array([-3.06487518, -6.18177123,  0.73109578,  0.77572404,  0.35992288,\n",
       "         -9.45746262]),\n",
       "  'logML_deriv': array([-2.37739752, -3.52362732, -0.64357177, -2.32604672, -6.65298927,\n",
       "         -4.71726323]),\n",
       "  'logML_wderiv': array([[2.67457588e-028, 5.32617455e-001, 3.46738254e+000],\n",
       "         [1.89767986e-106, 8.54495380e-004, 3.99914550e+000],\n",
       "         [1.67117175e+000, 4.21483043e-001, 2.36173456e-001],\n",
       "         [1.68474594e+000, 4.04410563e-001, 2.26097563e-001],\n",
       "         [1.53343844e+000, 5.93835426e-001, 3.39287698e-001],\n",
       "         [8.07215632e-154, 7.53656745e-007, 3.99999925e+000]]),\n",
       "  'logML_s2deriv': array([ 349.94177629, 1367.43610432,  -99.25400525, -163.42241115,\n",
       "          -28.19043594, 1293.96266755]),\n",
       "  'logML_deriv2': array([-6.17181043e-02, -1.50584974e+00, -6.42845767e+01, -7.66156168e+01,\n",
       "         -4.85715642e+01, -1.51192336e+00]),\n",
       "  'logML_deriv_wderiv': array([[-2.93810651e-026, -1.87471963e+000,  1.87471963e+000],\n",
       "         [-4.03872856e-104, -6.65364326e-003,  6.65364326e-003],\n",
       "         [-1.99682410e-001,  2.50942656e-001,  1.48422165e-001],\n",
       "         [-6.98607730e-001,  8.81595565e-001,  5.15619895e-001],\n",
       "         [-2.91820458e+000,  3.63560642e+000,  2.20080274e+000],\n",
       "         [-1.84130802e-151, -7.76049536e-006,  7.76049539e-006]]),\n",
       "  'logML_deriv_s2deriv': array([ 457.24217262, 1337.39620674,  128.50914134,  812.44282759,\n",
       "         1261.01753065,  889.92329967]),\n",
       "  'shrinkage_mb': array([1.2036253 , 2.31075592, 0.00677882, 0.02337994, 0.07835558,\n",
       "         3.09499512]),\n",
       "  'shrinkage_mb_bgrad': array([0.99983451, 0.99604947, 0.67824543, 0.78194768, 0.76897318,\n",
       "         0.99198572]),\n",
       "  'shrinkage_mb_wgrad': array([[-7.87816843e-029, -5.02682834e-003,  5.02682834e-003],\n",
       "         [-1.05954244e-106, -1.74555366e-005,  1.74555366e-005],\n",
       "         [-9.99442342e-004,  1.25600806e-003,  7.42876628e-004],\n",
       "         [-1.98827657e-003,  2.50907016e-003,  1.46748299e-003],\n",
       "         [-1.38802105e-002,  1.72924759e-002,  1.04679451e-002],\n",
       "         [-9.76025374e-154, -4.11361941e-008,  4.11361942e-008]]),\n",
       "  'shrinkage_mb_s2grad': array([-1.15135931e+00, -1.50279620e-02, -3.63000292e-04, -1.37891084e-02,\n",
       "         -6.55058603e-01, -3.11652048e-05]),\n",
       "  'penalty_lj': array([ 3.05729758,  6.16548488, -0.73213231, -0.78342332, -0.46518788,\n",
       "          9.39848532]),\n",
       "  'penalty_lj_bgrad': array([2.37700409, 3.50970712, 0.43649961, 1.81884684, 5.11597029,\n",
       "         4.67945776]),\n",
       "  'penalty_lj_wgrad': array([ -4.98696905,  -1.843523  , -12.18253889]),\n",
       "  'penalty_lj_s2grad': array([ -349.85300557, -1361.28108252,    99.46086394,   166.09558371,\n",
       "            45.96347117, -1282.83652839])}}"
      ]
     },
     "execution_count": 9,
     "metadata": {},
     "output_type": "execute_result"
    }
   ],
   "source": [
    "mrashpen_res"
   ]
  },
  {
   "cell_type": "code",
   "execution_count": 12,
   "id": "8375cb10",
   "metadata": {},
   "outputs": [],
   "source": [
    "import pickle\n",
    "mfile = open(\"../../../gradvi/src/gradvi/tests/mrashpen_res.pkl\", \"wb\")\n",
    "pickle.dump(mrashpen_res, mfile)\n",
    "mfile.close()"
   ]
  },
  {
   "cell_type": "code",
   "execution_count": null,
   "id": "fc0eecd0",
   "metadata": {},
   "outputs": [],
   "source": []
  },
  {
   "cell_type": "code",
   "execution_count": null,
   "id": "3080d785",
   "metadata": {},
   "outputs": [],
   "source": []
  },
  {
   "cell_type": "code",
   "execution_count": 10,
   "id": "9bf94655",
   "metadata": {},
   "outputs": [
    {
     "data": {
      "text/plain": [
       "array([302.0837, 308.7531, 161.833 , 284.6044, 170.2961, 152.8095])"
      ]
     },
     "execution_count": 10,
     "metadata": {},
     "output_type": "execute_result"
    }
   ],
   "source": [
    "pmash._dj"
   ]
  },
  {
   "cell_type": "code",
   "execution_count": 11,
   "id": "b61137a5",
   "metadata": {},
   "outputs": [],
   "source": [
    "nmash = NormalMeansASHScaled(b, std, wk, sk, d = pmash._dj)\n",
    "#nmash = NormalMeansASH(b, np.sqrt(np.square(std) / pmash._dj), wk, sk * std)"
   ]
  },
  {
   "cell_type": "code",
   "execution_count": 12,
   "id": "73d5ab51",
   "metadata": {},
   "outputs": [
    {
     "data": {
      "text/plain": [
       "array([-3.06487518, -6.18177123,  0.73109578,  0.77572404,  0.35992288,\n",
       "       -9.45746262])"
      ]
     },
     "execution_count": 12,
     "metadata": {},
     "output_type": "execute_result"
    }
   ],
   "source": [
    "nmash.logML"
   ]
  },
  {
   "cell_type": "code",
   "execution_count": 13,
   "id": "f962ee98",
   "metadata": {},
   "outputs": [
    {
     "data": {
      "text/plain": [
       "array([-2.37739752, -3.52362732, -0.64357177, -2.32604672, -6.65298927,\n",
       "       -4.71726323])"
      ]
     },
     "execution_count": 13,
     "metadata": {},
     "output_type": "execute_result"
    }
   ],
   "source": [
    "nmash.logML_deriv"
   ]
  },
  {
   "cell_type": "code",
   "execution_count": 14,
   "id": "7db642e9",
   "metadata": {},
   "outputs": [
    {
     "data": {
      "text/plain": [
       "array([-6.17181043e-02, -1.50584974e+00, -6.42845767e+01, -7.66156168e+01,\n",
       "       -4.85715642e+01, -1.51192336e+00])"
      ]
     },
     "execution_count": 14,
     "metadata": {},
     "output_type": "execute_result"
    }
   ],
   "source": [
    "nmash.logML_deriv2"
   ]
  },
  {
   "cell_type": "code",
   "execution_count": 15,
   "id": "d3413e4f",
   "metadata": {},
   "outputs": [
    {
     "data": {
      "text/plain": [
       "array([[2.67457588e-028, 5.32617455e-001, 3.46738254e+000],\n",
       "       [1.89767986e-106, 8.54495380e-004, 3.99914550e+000],\n",
       "       [1.67117175e+000, 4.21483043e-001, 2.36173456e-001],\n",
       "       [1.68474594e+000, 4.04410563e-001, 2.26097563e-001],\n",
       "       [1.53343844e+000, 5.93835426e-001, 3.39287698e-001],\n",
       "       [8.07215632e-154, 7.53656745e-007, 3.99999925e+000]])"
      ]
     },
     "execution_count": 15,
     "metadata": {},
     "output_type": "execute_result"
    }
   ],
   "source": [
    "nmash.logML_wderiv"
   ]
  },
  {
   "cell_type": "code",
   "execution_count": 17,
   "id": "1dd9ca45",
   "metadata": {},
   "outputs": [
    {
     "data": {
      "text/plain": [
       "array([ 349.94177629, 1367.43610432,  -99.25400525, -163.42241115,\n",
       "        -28.19043594, 1293.96266755])"
      ]
     },
     "execution_count": 17,
     "metadata": {},
     "output_type": "execute_result"
    }
   ],
   "source": [
    "nmash.logML_s2deriv * pmash._dj"
   ]
  },
  {
   "cell_type": "code",
   "execution_count": 25,
   "id": "05ea6051",
   "metadata": {},
   "outputs": [
    {
     "data": {
      "text/plain": [
       "array([[-2.93810651e-026, -1.87471963e+000,  1.87471963e+000],\n",
       "       [-4.03872856e-104, -6.65364326e-003,  6.65364326e-003],\n",
       "       [-1.99682410e-001,  2.50942656e-001,  1.48422165e-001],\n",
       "       [-6.98607730e-001,  8.81595565e-001,  5.15619895e-001],\n",
       "       [-2.91820458e+000,  3.63560642e+000,  2.20080274e+000],\n",
       "       [-1.84130802e-151, -7.76049536e-006,  7.76049537e-006]])"
      ]
     },
     "execution_count": 25,
     "metadata": {},
     "output_type": "execute_result"
    }
   ],
   "source": [
    "nmash.logML_deriv_wderiv"
   ]
  },
  {
   "cell_type": "code",
   "execution_count": 26,
   "id": "df0639cc",
   "metadata": {},
   "outputs": [
    {
     "data": {
      "text/plain": [
       "array([-3.28861113e-01,  5.26400175e+00,  5.22794812e+01,  2.25004059e+02,\n",
       "        5.11523760e+02,  7.13204724e+00])"
      ]
     },
     "execution_count": 26,
     "metadata": {},
     "output_type": "execute_result"
    }
   ],
   "source": [
    "nmash.logML_deriv_s2deriv"
   ]
  },
  {
   "cell_type": "code",
   "execution_count": null,
   "id": "0cfd4116",
   "metadata": {},
   "outputs": [],
   "source": []
  },
  {
   "cell_type": "code",
   "execution_count": null,
   "id": "aa0ac821",
   "metadata": {},
   "outputs": [],
   "source": []
  },
  {
   "cell_type": "code",
   "execution_count": 19,
   "id": "75832f7e",
   "metadata": {},
   "outputs": [
    {
     "data": {
      "text/plain": [
       "array([-1.47055059, -4.84490893,  5.81448277,  6.04539061,  5.3812026 ,\n",
       "       -8.12512828])"
      ]
     },
     "execution_count": 19,
     "metadata": {},
     "output_type": "execute_result"
    }
   ],
   "source": [
    "nmash.log_sum_wkLjk(nmash.logLjk(derive = 1))"
   ]
  },
  {
   "cell_type": "code",
   "execution_count": 11,
   "id": "f78a70a7",
   "metadata": {},
   "outputs": [
    {
     "data": {
      "text/plain": [
       "array([302.0837, 308.7531, 161.833 , 284.6044, 170.2961, 152.8095])"
      ]
     },
     "execution_count": 11,
     "metadata": {},
     "output_type": "execute_result"
    }
   ],
   "source": [
    "pmash._dj"
   ]
  },
  {
   "cell_type": "code",
   "execution_count": 12,
   "id": "624e5287",
   "metadata": {},
   "outputs": [
    {
     "name": "stdout",
     "output_type": "stream",
     "text": [
      "[-0.69314718 -1.38629436 -1.38629436]\n"
     ]
    }
   ],
   "source": [
    "def softmax(x, base = np.exp(1)):\n",
    "    if base is not None:\n",
    "        beta = np.log(base)\n",
    "        x = x * beta\n",
    "    e_x = np.exp(x - np.max(x))\n",
    "    return e_x / np.sum(e_x, axis = 0, keepdims = True)\n",
    "\n",
    "smlogbase = 1.0\n",
    "ak = np.log(wk) / smlogbase\n",
    "print(ak)"
   ]
  },
  {
   "cell_type": "code",
   "execution_count": 13,
   "id": "33e7ec64",
   "metadata": {},
   "outputs": [
    {
     "data": {
      "text/plain": [
       "array([0.5 , 0.25, 0.25])"
      ]
     },
     "execution_count": 13,
     "metadata": {},
     "output_type": "execute_result"
    }
   ],
   "source": [
    "softmax(ak, base = np.exp(smlogbase))"
   ]
  },
  {
   "cell_type": "code",
   "execution_count": 14,
   "id": "6a365527",
   "metadata": {},
   "outputs": [
    {
     "data": {
      "text/plain": [
       "array([[ 0.25  , -0.125 , -0.125 ],\n",
       "       [-0.125 ,  0.1875, -0.0625],\n",
       "       [-0.125 , -0.0625,  0.1875]])"
      ]
     },
     "execution_count": 14,
     "metadata": {},
     "output_type": "execute_result"
    }
   ],
   "source": [
    "akjac = smlogbase * wk.reshape(-1, 1) * (np.eye(k) - wk)\n",
    "akjac"
   ]
  },
  {
   "cell_type": "code",
   "execution_count": 15,
   "id": "410debfe",
   "metadata": {},
   "outputs": [
    {
     "data": {
      "text/plain": [
       "array([-4.41623451,  3.23835833,  1.17787618])"
      ]
     },
     "execution_count": 15,
     "metadata": {},
     "output_type": "execute_result"
    }
   ],
   "source": [
    "agrad  = np.sum(wgrad * akjac, axis = 1)\n",
    "agrad"
   ]
  },
  {
   "cell_type": "code",
   "execution_count": 16,
   "id": "32898f28",
   "metadata": {},
   "outputs": [
    {
     "data": {
      "text/plain": [
       "array([[-3.70811726, -0.86917917,  0.16106191],\n",
       "       [ 1.85405863,  1.30376875,  0.08053096],\n",
       "       [ 1.85405863, -0.43458958, -0.24159287]])"
      ]
     },
     "execution_count": 16,
     "metadata": {},
     "output_type": "execute_result"
    }
   ],
   "source": [
    "wgrad * akjac"
   ]
  },
  {
   "cell_type": "code",
   "execution_count": null,
   "id": "4c413fc1",
   "metadata": {},
   "outputs": [],
   "source": []
  },
  {
   "cell_type": "code",
   "execution_count": null,
   "id": "6e1cb323",
   "metadata": {},
   "outputs": [],
   "source": []
  }
 ],
 "metadata": {
  "kernelspec": {
   "display_name": "Python 3 (ipykernel)",
   "language": "python",
   "name": "python3"
  },
  "language_info": {
   "codemirror_mode": {
    "name": "ipython",
    "version": 3
   },
   "file_extension": ".py",
   "mimetype": "text/x-python",
   "name": "python",
   "nbconvert_exporter": "python",
   "pygments_lexer": "ipython3",
   "version": "3.9.12"
  }
 },
 "nbformat": 4,
 "nbformat_minor": 5
}
