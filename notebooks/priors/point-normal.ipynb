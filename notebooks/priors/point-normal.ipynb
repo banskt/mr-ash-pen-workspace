{
 "cells": [
  {
   "cell_type": "code",
   "execution_count": 1,
   "id": "634aa48e",
   "metadata": {},
   "outputs": [],
   "source": [
    "import numpy as np"
   ]
  },
  {
   "cell_type": "code",
   "execution_count": 24,
   "id": "3bc3473f",
   "metadata": {},
   "outputs": [],
   "source": [
    "def sample(size, pi1, s2):\n",
    "    gcomp = np.random.binomial(1, pi1, size = size)\n",
    "    x = np.zeros(size)\n",
    "    sigma = np.sqrt(s2)\n",
    "    idx = np.where(gcomp == 1)[0]\n",
    "    npos = np.sum(gcomp)\n",
    "    x[idx] = np.random.normal(0, sigma, size = npos)\n",
    "    return x"
   ]
  },
  {
   "cell_type": "code",
   "execution_count": 26,
   "id": "b83cfa34",
   "metadata": {},
   "outputs": [
    {
     "data": {
      "text/plain": [
       "array([ 0.32226317, -1.55209228,  0.31084745,  0.        , -1.46298631,\n",
       "       -1.16793575,  0.        ,  0.        ,  0.        ,  0.        ])"
      ]
     },
     "execution_count": 26,
     "metadata": {},
     "output_type": "execute_result"
    }
   ],
   "source": [
    "sample(10, 0.5, 1.0)"
   ]
  },
  {
   "cell_type": "code",
   "execution_count": 27,
   "id": "9b2d08b8",
   "metadata": {},
   "outputs": [],
   "source": [
    "gcomp = np.random.binomial(1, 0.9, size = 10000)"
   ]
  },
  {
   "cell_type": "code",
   "execution_count": 29,
   "id": "12eb437a",
   "metadata": {},
   "outputs": [
    {
     "data": {
      "text/plain": [
       "9047"
      ]
     },
     "execution_count": 29,
     "metadata": {},
     "output_type": "execute_result"
    }
   ],
   "source": [
    "np.sum(np.array(gcomp, dtype = bool))"
   ]
  },
  {
   "cell_type": "code",
   "execution_count": 32,
   "id": "04b3554c",
   "metadata": {},
   "outputs": [
    {
     "data": {
      "text/plain": [
       "9047"
      ]
     },
     "execution_count": 32,
     "metadata": {},
     "output_type": "execute_result"
    }
   ],
   "source": [
    "np.where(gcomp == 1)[0].shape[0]"
   ]
  },
  {
   "cell_type": "code",
   "execution_count": 33,
   "id": "df7e8433",
   "metadata": {},
   "outputs": [
    {
     "data": {
      "text/plain": [
       "0.0"
      ]
     },
     "execution_count": 33,
     "metadata": {},
     "output_type": "execute_result"
    }
   ],
   "source": [
    "np.log(1)"
   ]
  },
  {
   "cell_type": "code",
   "execution_count": 45,
   "id": "12445af0",
   "metadata": {},
   "outputs": [],
   "source": [
    "x = - np.log(np.finfo(float).eps)"
   ]
  },
  {
   "cell_type": "code",
   "execution_count": 46,
   "id": "fc3e30f2",
   "metadata": {},
   "outputs": [
    {
     "data": {
      "text/plain": [
       "0.9999999999999998"
      ]
     },
     "execution_count": 46,
     "metadata": {},
     "output_type": "execute_result"
    }
   ],
   "source": [
    "np.exp(x) / (1 + np.exp(x))"
   ]
  },
  {
   "cell_type": "code",
   "execution_count": null,
   "id": "f3a66af7",
   "metadata": {},
   "outputs": [],
   "source": []
  }
 ],
 "metadata": {
  "kernelspec": {
   "display_name": "Python 3 (ipykernel)",
   "language": "python",
   "name": "python3"
  },
  "language_info": {
   "codemirror_mode": {
    "name": "ipython",
    "version": 3
   },
   "file_extension": ".py",
   "mimetype": "text/x-python",
   "name": "python",
   "nbconvert_exporter": "python",
   "pygments_lexer": "ipython3",
   "version": "3.9.12"
  }
 },
 "nbformat": 4,
 "nbformat_minor": 5
}
