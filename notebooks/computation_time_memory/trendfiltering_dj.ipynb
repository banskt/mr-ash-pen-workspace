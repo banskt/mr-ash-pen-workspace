{
 "cells": [
  {
   "cell_type": "code",
   "execution_count": 1,
   "id": "46cd8ea2",
   "metadata": {},
   "outputs": [],
   "source": [
    "import numpy as np\n",
    "from gradvi.models import basis_matrix as gvbm\n",
    "\n",
    "def get_dj(X):\n",
    "    return np.sum(np.square(X), axis = 0)\n",
    "\n",
    "def pascal_row(n, degree):\n",
    "    row = np.ones(n)\n",
    "    for i in range(degree):\n",
    "        row = np.cumsum(row)\n",
    "    return row\n",
    "\n",
    "def get_dj_fast(n, degree):\n",
    "    col = pascal_row(n, degree)\n",
    "    col2 = np.square(col)\n",
    "    dj = np.zeros(n)\n",
    "    dj[degree:] = np.cumsum(col2)[:n - degree][::-1]\n",
    "    for i in range(degree):\n",
    "        dj[i] = np.sum(np.square(pascal_row(n - i, i)))\n",
    "    return dj"
   ]
  },
  {
   "cell_type": "markdown",
   "id": "be275ab9",
   "metadata": {},
   "source": [
    "## Degree 0"
   ]
  },
  {
   "cell_type": "code",
   "execution_count": 11,
   "id": "6aafce5b",
   "metadata": {},
   "outputs": [
    {
     "data": {
      "text/plain": [
       "array([10.,  9.,  8.,  7.,  6.,  5.,  4.,  3.,  2.,  1.])"
      ]
     },
     "execution_count": 11,
     "metadata": {},
     "output_type": "execute_result"
    }
   ],
   "source": [
    "n = 10\n",
    "degree = 0\n",
    "H = gvbm.trendfiltering(n, degree)\n",
    "get_dj(H)"
   ]
  },
  {
   "cell_type": "code",
   "execution_count": 12,
   "id": "07cdff74",
   "metadata": {},
   "outputs": [
    {
     "data": {
      "text/plain": [
       "array([10.,  9.,  8.,  7.,  6.,  5.,  4.,  3.,  2.,  1.])"
      ]
     },
     "execution_count": 12,
     "metadata": {},
     "output_type": "execute_result"
    }
   ],
   "source": [
    "get_dj_fast(n, degree)"
   ]
  },
  {
   "cell_type": "markdown",
   "id": "813b3405",
   "metadata": {},
   "source": [
    "## Degree 1"
   ]
  },
  {
   "cell_type": "code",
   "execution_count": 13,
   "id": "a1793a85",
   "metadata": {},
   "outputs": [
    {
     "data": {
      "text/plain": [
       "array([ 10., 285., 204., 140.,  91.,  55.,  30.,  14.,   5.,   1.])"
      ]
     },
     "execution_count": 13,
     "metadata": {},
     "output_type": "execute_result"
    }
   ],
   "source": [
    "degree = 1\n",
    "H = gvbm.trendfiltering(n, degree)\n",
    "get_dj(H)"
   ]
  },
  {
   "cell_type": "code",
   "execution_count": 14,
   "id": "2b5e11be",
   "metadata": {},
   "outputs": [
    {
     "data": {
      "text/plain": [
       "array([ 10., 285., 204., 140.,  91.,  55.,  30.,  14.,   5.,   1.])"
      ]
     },
     "execution_count": 14,
     "metadata": {},
     "output_type": "execute_result"
    }
   ],
   "source": [
    "get_dj_fast(n, degree)"
   ]
  },
  {
   "cell_type": "markdown",
   "id": "fe8fdc5e",
   "metadata": {},
   "source": [
    "## Degree 2"
   ]
  },
  {
   "cell_type": "code",
   "execution_count": 15,
   "id": "bde76e1b",
   "metadata": {},
   "outputs": [
    {
     "data": {
      "text/plain": [
       "array([1.000e+01, 2.850e+02, 2.892e+03, 1.596e+03, 8.120e+02, 3.710e+02,\n",
       "       1.460e+02, 4.600e+01, 1.000e+01, 1.000e+00])"
      ]
     },
     "execution_count": 15,
     "metadata": {},
     "output_type": "execute_result"
    }
   ],
   "source": [
    "degree = 2\n",
    "H = gvbm.trendfiltering(n, degree)\n",
    "get_dj(H)"
   ]
  },
  {
   "cell_type": "code",
   "execution_count": 16,
   "id": "a3ad4886",
   "metadata": {},
   "outputs": [
    {
     "data": {
      "text/plain": [
       "array([1.000e+01, 2.850e+02, 2.892e+03, 1.596e+03, 8.120e+02, 3.710e+02,\n",
       "       1.460e+02, 4.600e+01, 1.000e+01, 1.000e+00])"
      ]
     },
     "execution_count": 16,
     "metadata": {},
     "output_type": "execute_result"
    }
   ],
   "source": [
    "get_dj_fast(n, degree)"
   ]
  },
  {
   "cell_type": "markdown",
   "id": "6a690533",
   "metadata": {},
   "source": [
    "## Degree 3"
   ]
  },
  {
   "cell_type": "code",
   "execution_count": 19,
   "id": "b7a84943",
   "metadata": {},
   "outputs": [
    {
     "data": {
      "text/plain": [
       "array([1.0000e+01, 2.8500e+02, 2.8920e+03, 1.1934e+04, 4.8780e+03,\n",
       "       1.7420e+03, 5.1700e+02, 1.1700e+02, 1.7000e+01, 1.0000e+00])"
      ]
     },
     "execution_count": 19,
     "metadata": {},
     "output_type": "execute_result"
    }
   ],
   "source": [
    "degree = 3\n",
    "H = gvbm.trendfiltering(n, degree)\n",
    "get_dj(H)"
   ]
  },
  {
   "cell_type": "code",
   "execution_count": 20,
   "id": "a39e923b",
   "metadata": {},
   "outputs": [
    {
     "data": {
      "text/plain": [
       "array([1.0000e+01, 2.8500e+02, 2.8920e+03, 1.1934e+04, 4.8780e+03,\n",
       "       1.7420e+03, 5.1700e+02, 1.1700e+02, 1.7000e+01, 1.0000e+00])"
      ]
     },
     "execution_count": 20,
     "metadata": {},
     "output_type": "execute_result"
    }
   ],
   "source": [
    "get_dj_fast(n, degree)"
   ]
  },
  {
   "cell_type": "code",
   "execution_count": null,
   "id": "57c36ab8",
   "metadata": {},
   "outputs": [],
   "source": []
  }
 ],
 "metadata": {
  "kernelspec": {
   "display_name": "Python 3 (ipykernel)",
   "language": "python",
   "name": "python3"
  },
  "language_info": {
   "codemirror_mode": {
    "name": "ipython",
    "version": 3
   },
   "file_extension": ".py",
   "mimetype": "text/x-python",
   "name": "python",
   "nbconvert_exporter": "python",
   "pygments_lexer": "ipython3",
   "version": "3.10.5"
  }
 },
 "nbformat": 4,
 "nbformat_minor": 5
}
