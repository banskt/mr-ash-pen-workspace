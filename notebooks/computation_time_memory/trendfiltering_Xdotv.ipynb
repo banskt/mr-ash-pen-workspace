{
 "cells": [
  {
   "cell_type": "code",
   "execution_count": 1,
   "id": "e7867c32",
   "metadata": {},
   "outputs": [],
   "source": [
    "import numpy as np\n",
    "from gradvi.models import basis_matrix as gvbm"
   ]
  },
  {
   "cell_type": "code",
   "execution_count": 2,
   "id": "109bbc9b",
   "metadata": {},
   "outputs": [],
   "source": [
    "n = 4096"
   ]
  },
  {
   "cell_type": "code",
   "execution_count": 3,
   "id": "8075eeb8",
   "metadata": {},
   "outputs": [],
   "source": [
    "def sum_consecutive(arr, m, n):\n",
    "    idx = np.array((np.arange(n - m), np.arange(m, n))).T.ravel()\n",
    "    idx = np.append(idx, n - m)\n",
    "    arrsum = np.add.reduceat(arr, idx)[::2]\n",
    "    return arrsum"
   ]
  },
  {
   "cell_type": "code",
   "execution_count": 4,
   "id": "37d84a5c",
   "metadata": {},
   "outputs": [
    {
     "data": {
      "text/plain": [
       "array([[1., 0., 0., ..., 0., 0., 0.],\n",
       "       [1., 1., 0., ..., 0., 0., 0.],\n",
       "       [1., 1., 1., ..., 0., 0., 0.],\n",
       "       ...,\n",
       "       [1., 1., 1., ..., 1., 0., 0.],\n",
       "       [1., 1., 1., ..., 1., 1., 0.],\n",
       "       [1., 1., 1., ..., 1., 1., 1.]])"
      ]
     },
     "execution_count": 4,
     "metadata": {},
     "output_type": "execute_result"
    }
   ],
   "source": [
    "gvbm.trendfiltering(n, 0)"
   ]
  },
  {
   "cell_type": "code",
   "execution_count": 5,
   "id": "9372c58d",
   "metadata": {},
   "outputs": [
    {
     "data": {
      "text/plain": [
       "array([[1.000e+00, 0.000e+00, 0.000e+00, ..., 0.000e+00, 0.000e+00,\n",
       "        0.000e+00],\n",
       "       [1.000e+00, 1.000e+00, 0.000e+00, ..., 0.000e+00, 0.000e+00,\n",
       "        0.000e+00],\n",
       "       [1.000e+00, 2.000e+00, 1.000e+00, ..., 0.000e+00, 0.000e+00,\n",
       "        0.000e+00],\n",
       "       ...,\n",
       "       [1.000e+00, 4.093e+03, 4.092e+03, ..., 1.000e+00, 0.000e+00,\n",
       "        0.000e+00],\n",
       "       [1.000e+00, 4.094e+03, 4.093e+03, ..., 2.000e+00, 1.000e+00,\n",
       "        0.000e+00],\n",
       "       [1.000e+00, 4.095e+03, 4.094e+03, ..., 3.000e+00, 2.000e+00,\n",
       "        1.000e+00]])"
      ]
     },
     "execution_count": 5,
     "metadata": {},
     "output_type": "execute_result"
    }
   ],
   "source": [
    "gvbm.trendfiltering(n, 1)"
   ]
  },
  {
   "cell_type": "code",
   "execution_count": 6,
   "id": "a8fc4733",
   "metadata": {},
   "outputs": [
    {
     "data": {
      "text/plain": [
       "array([[1.000000e+00, 0.000000e+00, 0.000000e+00, ..., 0.000000e+00,\n",
       "        0.000000e+00, 0.000000e+00],\n",
       "       [1.000000e+00, 1.000000e+00, 0.000000e+00, ..., 0.000000e+00,\n",
       "        0.000000e+00, 0.000000e+00],\n",
       "       [1.000000e+00, 2.000000e+00, 1.000000e+00, ..., 0.000000e+00,\n",
       "        0.000000e+00, 0.000000e+00],\n",
       "       ...,\n",
       "       [1.000000e+00, 4.093000e+03, 8.374278e+06, ..., 1.000000e+00,\n",
       "        0.000000e+00, 0.000000e+00],\n",
       "       [1.000000e+00, 4.094000e+03, 8.378371e+06, ..., 3.000000e+00,\n",
       "        1.000000e+00, 0.000000e+00],\n",
       "       [1.000000e+00, 4.095000e+03, 8.382465e+06, ..., 6.000000e+00,\n",
       "        3.000000e+00, 1.000000e+00]])"
      ]
     },
     "execution_count": 6,
     "metadata": {},
     "output_type": "execute_result"
    }
   ],
   "source": [
    "gvbm.trendfiltering(n, 2)"
   ]
  },
  {
   "cell_type": "code",
   "execution_count": 7,
   "id": "fea52908",
   "metadata": {},
   "outputs": [
    {
     "data": {
      "text/plain": [
       "array([[1.000000e+00, 0.000000e+00, 0.000000e+00, ..., 0.000000e+00,\n",
       "        0.000000e+00, 0.000000e+00],\n",
       "       [1.000000e+00, 1.000000e+00, 0.000000e+00, ..., 0.000000e+00,\n",
       "        0.000000e+00, 0.000000e+00],\n",
       "       [1.000000e+00, 2.000000e+00, 1.000000e+00, ..., 0.000000e+00,\n",
       "        0.000000e+00, 0.000000e+00],\n",
       "       ...,\n",
       "       [1.000000e+00, 4.093000e+03, 8.374278e+06, ..., 1.000000e+00,\n",
       "        0.000000e+00, 0.000000e+00],\n",
       "       [1.000000e+00, 4.094000e+03, 8.378371e+06, ..., 4.000000e+00,\n",
       "        1.000000e+00, 0.000000e+00],\n",
       "       [1.000000e+00, 4.095000e+03, 8.382465e+06, ..., 1.000000e+01,\n",
       "        4.000000e+00, 1.000000e+00]])"
      ]
     },
     "execution_count": 7,
     "metadata": {},
     "output_type": "execute_result"
    }
   ],
   "source": [
    "gvbm.trendfiltering(n, 3)"
   ]
  },
  {
   "cell_type": "code",
   "execution_count": 8,
   "id": "b85c1a83",
   "metadata": {},
   "outputs": [
    {
     "data": {
      "text/plain": [
       "array([[1.000000e+00, 0.000000e+00, 0.000000e+00, ..., 0.000000e+00,\n",
       "        0.000000e+00, 0.000000e+00],\n",
       "       [1.000000e+00, 1.000000e+00, 0.000000e+00, ..., 0.000000e+00,\n",
       "        0.000000e+00, 0.000000e+00],\n",
       "       [1.000000e+00, 2.000000e+00, 1.000000e+00, ..., 0.000000e+00,\n",
       "        0.000000e+00, 0.000000e+00],\n",
       "       ...,\n",
       "       [1.000000e+00, 4.093000e+03, 8.374278e+06, ..., 1.000000e+00,\n",
       "        0.000000e+00, 0.000000e+00],\n",
       "       [1.000000e+00, 4.094000e+03, 8.378371e+06, ..., 5.000000e+00,\n",
       "        1.000000e+00, 0.000000e+00],\n",
       "       [1.000000e+00, 4.095000e+03, 8.382465e+06, ..., 1.500000e+01,\n",
       "        5.000000e+00, 1.000000e+00]])"
      ]
     },
     "execution_count": 8,
     "metadata": {},
     "output_type": "execute_result"
    }
   ],
   "source": [
    "gvbm.trendfiltering(n, 4)"
   ]
  },
  {
   "cell_type": "code",
   "execution_count": 9,
   "id": "2c14e25c",
   "metadata": {},
   "outputs": [],
   "source": [
    "b = np.random.normal(0, 1, size = n)"
   ]
  },
  {
   "cell_type": "code",
   "execution_count": 10,
   "id": "2ffd8eef",
   "metadata": {},
   "outputs": [
    {
     "data": {
      "text/plain": [
       "array([ 1.29302605e+00,  1.48049917e+00, -1.02177151e-01, ...,\n",
       "        8.46197740e+16,  8.47302525e+16,  8.48408461e+16])"
      ]
     },
     "execution_count": 10,
     "metadata": {},
     "output_type": "execute_result"
    }
   ],
   "source": [
    "degree = 5\n",
    "H = gvbm.trendfiltering(n, degree)\n",
    "np.dot(H, b)"
   ]
  },
  {
   "cell_type": "code",
   "execution_count": 11,
   "id": "d74f6de8",
   "metadata": {},
   "outputs": [
    {
     "data": {
      "text/plain": [
       "array([[1., 0., 0., 0., 0.],\n",
       "       [1., 1., 0., 0., 0.],\n",
       "       [1., 2., 1., 0., 0.],\n",
       "       [1., 3., 3., 1., 0.],\n",
       "       [1., 4., 6., 4., 1.]])"
      ]
     },
     "execution_count": 11,
     "metadata": {},
     "output_type": "execute_result"
    }
   ],
   "source": [
    "H0 = H[:degree, :degree]\n",
    "b0 = b[:degree]\n",
    "H0"
   ]
  },
  {
   "cell_type": "code",
   "execution_count": 12,
   "id": "411ede80",
   "metadata": {},
   "outputs": [
    {
     "data": {
      "text/plain": [
       "array([[0., 0., 0., ..., 0., 0., 0.],\n",
       "       [0., 0., 0., ..., 0., 0., 0.],\n",
       "       [0., 0., 0., ..., 0., 0., 0.],\n",
       "       [0., 0., 0., ..., 0., 0., 0.],\n",
       "       [0., 0., 0., ..., 0., 0., 0.]])"
      ]
     },
     "execution_count": 12,
     "metadata": {},
     "output_type": "execute_result"
    }
   ],
   "source": [
    "H1 = H[:degree, degree:]\n",
    "b1 = b[degree:]\n",
    "H1"
   ]
  },
  {
   "cell_type": "code",
   "execution_count": 13,
   "id": "f2458049",
   "metadata": {},
   "outputs": [
    {
     "data": {
      "text/plain": [
       "array([[1.00000000e+00, 5.00000000e+00, 1.00000000e+01, 1.00000000e+01,\n",
       "        5.00000000e+00],\n",
       "       [1.00000000e+00, 6.00000000e+00, 1.50000000e+01, 2.00000000e+01,\n",
       "        1.50000000e+01],\n",
       "       [1.00000000e+00, 7.00000000e+00, 2.10000000e+01, 3.50000000e+01,\n",
       "        3.50000000e+01],\n",
       "       ...,\n",
       "       [1.00000000e+00, 4.09300000e+03, 8.37427800e+06, 1.14197238e+10,\n",
       "        1.16766676e+13],\n",
       "       [1.00000000e+00, 4.09400000e+03, 8.37837100e+06, 1.14280980e+10,\n",
       "        1.16880873e+13],\n",
       "       [1.00000000e+00, 4.09500000e+03, 8.38246500e+06, 1.14364764e+10,\n",
       "        1.16995154e+13]])"
      ]
     },
     "execution_count": 13,
     "metadata": {},
     "output_type": "execute_result"
    }
   ],
   "source": [
    "H2 = H[degree:, :degree]\n",
    "H2"
   ]
  },
  {
   "cell_type": "code",
   "execution_count": 14,
   "id": "0ee440c3",
   "metadata": {},
   "outputs": [
    {
     "data": {
      "text/plain": [
       "array([[1.00000000e+00, 0.00000000e+00, 0.00000000e+00, ...,\n",
       "        0.00000000e+00, 0.00000000e+00, 0.00000000e+00],\n",
       "       [6.00000000e+00, 1.00000000e+00, 0.00000000e+00, ...,\n",
       "        0.00000000e+00, 0.00000000e+00, 0.00000000e+00],\n",
       "       [2.10000000e+01, 6.00000000e+00, 1.00000000e+00, ...,\n",
       "        0.00000000e+00, 0.00000000e+00, 0.00000000e+00],\n",
       "       ...,\n",
       "       [9.54917872e+15, 9.53751347e+15, 9.52585961e+15, ...,\n",
       "        1.00000000e+00, 0.00000000e+00, 0.00000000e+00],\n",
       "       [9.56085539e+15, 9.54917872e+15, 9.53751347e+15, ...,\n",
       "        6.00000000e+00, 1.00000000e+00, 0.00000000e+00],\n",
       "       [9.57254348e+15, 9.56085539e+15, 9.54917872e+15, ...,\n",
       "        2.10000000e+01, 6.00000000e+00, 1.00000000e+00]])"
      ]
     },
     "execution_count": 14,
     "metadata": {},
     "output_type": "execute_result"
    }
   ],
   "source": [
    "H3 = H[degree:, degree:]\n",
    "H3"
   ]
  },
  {
   "cell_type": "code",
   "execution_count": 15,
   "id": "203e0bd1",
   "metadata": {},
   "outputs": [
    {
     "data": {
      "text/plain": [
       "array([0.00000000e+00, 0.00000000e+00, 0.00000000e+00, ...,\n",
       "       8.46333094e+16, 8.47438012e+16, 8.48544080e+16])"
      ]
     },
     "execution_count": 15,
     "metadata": {},
     "output_type": "execute_result"
    }
   ],
   "source": [
    "H3b1 = np.zeros(n)\n",
    "H3b1[degree:] = np.cumsum(b1)\n",
    "for k in range(degree):\n",
    "    H3b1 = np.cumsum(H3b1)\n",
    "H3b1"
   ]
  },
  {
   "cell_type": "code",
   "execution_count": 16,
   "id": "937a4ff5",
   "metadata": {},
   "outputs": [
    {
     "data": {
      "text/plain": [
       "array([ 1.29302605e+00,  1.48049917e+00, -1.02177151e-01, ...,\n",
       "        8.46197740e+16,  8.47302525e+16,  8.48408461e+16])"
      ]
     },
     "execution_count": 16,
     "metadata": {},
     "output_type": "execute_result"
    }
   ],
   "source": [
    "np.dot(H[:, :degree], b0) + H3b1"
   ]
  },
  {
   "cell_type": "code",
   "execution_count": 17,
   "id": "8ea6b596",
   "metadata": {},
   "outputs": [
    {
     "data": {
      "text/plain": [
       "array([ 1.29302605e+00,  1.48049917e+00, -1.02177151e-01, ...,\n",
       "       -1.35354782e+13, -1.35487188e+13, -1.35619691e+13])"
      ]
     },
     "execution_count": 17,
     "metadata": {},
     "output_type": "execute_result"
    }
   ],
   "source": [
    "np.dot(H[:, :degree], b0)"
   ]
  },
  {
   "cell_type": "code",
   "execution_count": 18,
   "id": "b5f32fa1",
   "metadata": {},
   "outputs": [
    {
     "name": "stdout",
     "output_type": "stream",
     "text": [
      "24.6 ms ± 272 µs per loop (mean ± std. dev. of 7 runs, 10 loops each)\n"
     ]
    }
   ],
   "source": [
    "%%timeit\n",
    "\n",
    "def sum_two_consecutive(x):\n",
    "    return x[1:] + x[:-1]\n",
    "\n",
    "def pascal_nextrow(prow, n):\n",
    "    pnext = np.ones_like(prow)\n",
    "    pnext[1:] = prow[1:] + prow[:-1]\n",
    "    return pnext\n",
    "\n",
    "Hb0 = np.zeros(n)\n",
    "Hb0[:degree] = np.dot(H0, b0)\n",
    "pascal_row   = H0[-1, :-1]\n",
    "for i in range(degree, n):\n",
    "    Hb0[i] = Hb0[i - 1] + np.dot(pascal_row, b0[1:])\n",
    "    pascal_row = pascal_nextrow(pascal_row, degree - 1)"
   ]
  },
  {
   "cell_type": "code",
   "execution_count": 19,
   "id": "a613222f",
   "metadata": {},
   "outputs": [
    {
     "name": "stdout",
     "output_type": "stream",
     "text": [
      "129 µs ± 270 ns per loop (mean ± std. dev. of 7 runs, 10000 loops each)\n"
     ]
    }
   ],
   "source": [
    "%%timeit\n",
    "\n",
    "np.dot(H[:, :degree], b0)"
   ]
  },
  {
   "cell_type": "code",
   "execution_count": 30,
   "id": "865995a7",
   "metadata": {},
   "outputs": [
    {
     "name": "stdout",
     "output_type": "stream",
     "text": [
      "0 True\n",
      "1 True\n",
      "2 True\n",
      "3 True\n",
      "4 True\n",
      "5 True\n",
      "6 True\n",
      "7 True\n",
      "8 True\n",
      "9 True\n"
     ]
    }
   ],
   "source": [
    "def Xdotv(X, v, degree):\n",
    "    X3v1 = np.zeros_like(v)\n",
    "    v0 = v[:degree]\n",
    "    v1 = v[degree:]\n",
    "    X3v1[degree:] = np.cumsum(v1)\n",
    "    for k in range(degree):\n",
    "        X3v1 = np.cumsum(X3v1)\n",
    "    if degree == 0:\n",
    "        res = X3v1\n",
    "    elif degree == 1:\n",
    "        res = v[0] + X3v1\n",
    "    else:\n",
    "        X0v0 = np.dot(X[:, :degree], v0)\n",
    "        res = X0v0 + X3v1\n",
    "    return res\n",
    "\n",
    "for k in range(10):\n",
    "    Hk = gvbm.trendfiltering(n, k)\n",
    "    success = np.allclose(np.dot(Hk, b), Xdotv(Hk, b, k))\n",
    "    print(k, success)"
   ]
  },
  {
   "cell_type": "code",
   "execution_count": 31,
   "id": "fc725f63",
   "metadata": {},
   "outputs": [],
   "source": [
    "degree = 2\n",
    "H = gvbm.trendfiltering(n, degree)"
   ]
  },
  {
   "cell_type": "code",
   "execution_count": 32,
   "id": "4858b403",
   "metadata": {},
   "outputs": [
    {
     "name": "stdout",
     "output_type": "stream",
     "text": [
      "3.79 ms ± 130 µs per loop (mean ± std. dev. of 7 runs, 100 loops each)\n"
     ]
    }
   ],
   "source": [
    "%%timeit\n",
    "\n",
    "np.dot(H, b)"
   ]
  },
  {
   "cell_type": "code",
   "execution_count": 33,
   "id": "24b72643",
   "metadata": {},
   "outputs": [
    {
     "name": "stdout",
     "output_type": "stream",
     "text": [
      "178 µs ± 1.05 µs per loop (mean ± std. dev. of 7 runs, 10000 loops each)\n"
     ]
    }
   ],
   "source": [
    "%%timeit\n",
    "\n",
    "Xdotv(H, b, degree)"
   ]
  },
  {
   "cell_type": "code",
   "execution_count": 28,
   "id": "eab287f9",
   "metadata": {},
   "outputs": [
    {
     "data": {
      "text/plain": [
       "(4096,)"
      ]
     },
     "execution_count": 28,
     "metadata": {},
     "output_type": "execute_result"
    }
   ],
   "source": [
    "np.dot(H[:, :2], b[:2]).shape"
   ]
  },
  {
   "cell_type": "code",
   "execution_count": null,
   "id": "698f254d",
   "metadata": {},
   "outputs": [],
   "source": []
  }
 ],
 "metadata": {
  "kernelspec": {
   "display_name": "Python 3 (ipykernel)",
   "language": "python",
   "name": "python3"
  },
  "language_info": {
   "codemirror_mode": {
    "name": "ipython",
    "version": 3
   },
   "file_extension": ".py",
   "mimetype": "text/x-python",
   "name": "python",
   "nbconvert_exporter": "python",
   "pygments_lexer": "ipython3",
   "version": "3.9.12"
  }
 },
 "nbformat": 4,
 "nbformat_minor": 5
}
