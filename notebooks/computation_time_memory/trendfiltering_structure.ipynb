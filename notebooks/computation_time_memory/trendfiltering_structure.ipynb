{
 "cells": [
  {
   "cell_type": "code",
   "execution_count": 1,
   "id": "9d0e2910",
   "metadata": {},
   "outputs": [],
   "source": [
    "import numpy as np\n",
    "import collections\n",
    "\n",
    "import matplotlib.pyplot as plt\n",
    "from pymir import mpl_stylesheet\n",
    "from pymir import mpl_utils\n",
    "mpl_stylesheet.banskt_presentation(splinecolor = 'black', dpi = 72)\n",
    "\n",
    "from gradvi.tests import toy_data\n",
    "from gradvi.tests import toy_priors\n",
    "from gradvi.inference import LinearRegression\n",
    "from gradvi.models import basis_matrix as gvbm\n",
    "from gradvi.models.basis_matrix.bm_trendfiltering import center_and_scale_tfbasis"
   ]
  },
  {
   "cell_type": "code",
   "execution_count": 2,
   "id": "a1369e37",
   "metadata": {},
   "outputs": [
    {
     "data": {
      "text/plain": [
       "array([[1., 0., 0., 0., 0., 0., 0., 0., 0., 0.],\n",
       "       [1., 1., 0., 0., 0., 0., 0., 0., 0., 0.],\n",
       "       [1., 1., 1., 0., 0., 0., 0., 0., 0., 0.],\n",
       "       [1., 1., 1., 1., 0., 0., 0., 0., 0., 0.],\n",
       "       [1., 1., 1., 1., 1., 0., 0., 0., 0., 0.],\n",
       "       [1., 1., 1., 1., 1., 1., 0., 0., 0., 0.],\n",
       "       [1., 1., 1., 1., 1., 1., 1., 0., 0., 0.],\n",
       "       [1., 1., 1., 1., 1., 1., 1., 1., 0., 0.],\n",
       "       [1., 1., 1., 1., 1., 1., 1., 1., 1., 0.],\n",
       "       [1., 1., 1., 1., 1., 1., 1., 1., 1., 1.]])"
      ]
     },
     "execution_count": 2,
     "metadata": {},
     "output_type": "execute_result"
    }
   ],
   "source": [
    "n = 10\n",
    "k = 0\n",
    "H = gvbm.trendfiltering(n, k)\n",
    "b = np.random.normal(0, 1, size = n)\n",
    "H"
   ]
  },
  {
   "cell_type": "code",
   "execution_count": 3,
   "id": "c3a25aed",
   "metadata": {},
   "outputs": [],
   "source": [
    "Hscale, fscale, floc = center_and_scale_tfbasis(H)"
   ]
  },
  {
   "cell_type": "code",
   "execution_count": 4,
   "id": "21163077",
   "metadata": {},
   "outputs": [],
   "source": [
    "np.testing.assert_almost_equal(np.dot(H, b), \n",
    "                               np.cumsum(b))\n",
    "\n",
    "np.testing.assert_almost_equal(np.dot(H.T, b), \n",
    "                               np.cumsum(b[::-1])[::-1])\n",
    "\n",
    "np.testing.assert_almost_equal(np.dot(Hscale, b), \n",
    "                               np.cumsum(b / fscale) - np.dot(floc, b))\n",
    "\n",
    "np.testing.assert_almost_equal(np.dot(Hscale.T, b),\n",
    "                               np.cumsum(b[::-1])[::-1] / fscale - np.einsum('i, j -> i', floc, b))"
   ]
  },
  {
   "cell_type": "code",
   "execution_count": 5,
   "id": "80ced5d4",
   "metadata": {},
   "outputs": [
    {
     "name": "stdout",
     "output_type": "stream",
     "text": [
      "[1. 1. 1. 1. 1. 1. 1. 1. 1. 1.]\n"
     ]
    }
   ],
   "source": [
    "dj = np.sum(np.square(H / fscale - floc), axis = 0)\n",
    "\n",
    "print(dj)"
   ]
  },
  {
   "cell_type": "code",
   "execution_count": 6,
   "id": "ad7c7f13",
   "metadata": {},
   "outputs": [
    {
     "data": {
      "text/plain": [
       "array([[1., 0., 0., 0., 0., 0., 0., 0., 0., 0.],\n",
       "       [1., 1., 0., 0., 0., 0., 0., 0., 0., 0.],\n",
       "       [1., 1., 1., 0., 0., 0., 0., 0., 0., 0.],\n",
       "       [1., 1., 1., 1., 0., 0., 0., 0., 0., 0.],\n",
       "       [1., 1., 1., 1., 1., 0., 0., 0., 0., 0.],\n",
       "       [1., 1., 1., 1., 1., 1., 0., 0., 0., 0.],\n",
       "       [1., 1., 1., 1., 1., 1., 1., 0., 0., 0.],\n",
       "       [1., 1., 1., 1., 1., 1., 1., 1., 0., 0.],\n",
       "       [1., 1., 1., 1., 1., 1., 1., 1., 1., 0.],\n",
       "       [1., 1., 1., 1., 1., 1., 1., 1., 1., 1.]])"
      ]
     },
     "execution_count": 6,
     "metadata": {},
     "output_type": "execute_result"
    }
   ],
   "source": [
    "n = 10\n",
    "k = 0\n",
    "H = gvbm.trendfiltering(n, k)\n",
    "b = np.random.normal(0, 1, size = n)\n",
    "H"
   ]
  },
  {
   "cell_type": "code",
   "execution_count": 7,
   "id": "29dacaac",
   "metadata": {},
   "outputs": [],
   "source": [
    "Hscale, fscale, floc = center_and_scale_tfbasis(H)"
   ]
  },
  {
   "cell_type": "code",
   "execution_count": 8,
   "id": "f4be9304",
   "metadata": {},
   "outputs": [
    {
     "name": "stdout",
     "output_type": "stream",
     "text": [
      "[1. 1. 1. 1. 1. 1. 1. 1. 1. 1.]\n"
     ]
    }
   ],
   "source": [
    "dj = np.sum(np.square(Hscale), axis = 0)\n",
    "\n",
    "print(dj)"
   ]
  },
  {
   "cell_type": "code",
   "execution_count": 21,
   "id": "94f5d4d5",
   "metadata": {},
   "outputs": [
    {
     "data": {
      "text/plain": [
       "array([ 2.83910881,  5.57127149,  5.0094954 ,  2.5647466 ,  0.21815573,\n",
       "       -1.40037471, -0.77797276,  0.13652809,  0.49244342,  1.40776459])"
      ]
     },
     "execution_count": 21,
     "metadata": {},
     "output_type": "execute_result"
    }
   ],
   "source": [
    "np.dot(Hscale, b)"
   ]
  },
  {
   "cell_type": "code",
   "execution_count": 24,
   "id": "ca4c659e",
   "metadata": {},
   "outputs": [
    {
     "data": {
      "text/plain": [
       "array([2.83910881, 3.09896558, 2.5277304 , 1.73373423, 1.20698927,\n",
       "       0.95405901, 1.07543221, 1.19536451, 1.2303748 , 1.28779009])"
      ]
     },
     "execution_count": 24,
     "metadata": {},
     "output_type": "execute_result"
    }
   ],
   "source": [
    "np.cumsum(b) / np.cumsum(fscale) - np.dot(floc, b)"
   ]
  },
  {
   "cell_type": "code",
   "execution_count": 15,
   "id": "44ebd23e",
   "metadata": {},
   "outputs": [
    {
     "data": {
      "text/plain": [
       "array([[0.        , 0.        , 0.        , 0.        , 0.        ,\n",
       "        0.        , 0.        , 0.        , 0.        , 0.        ],\n",
       "       [3.        , 3.        , 3.        , 3.        , 3.        ,\n",
       "        3.        , 3.        , 3.        , 3.        , 3.        ],\n",
       "       [2.        , 2.        , 2.        , 2.        , 2.        ,\n",
       "        2.        , 2.        , 2.        , 2.        , 2.        ],\n",
       "       [1.52752523, 1.52752523, 1.52752523, 1.52752523, 1.52752523,\n",
       "        1.52752523, 1.52752523, 1.52752523, 1.52752523, 1.52752523],\n",
       "       [1.22474487, 1.22474487, 1.22474487, 1.22474487, 1.22474487,\n",
       "        1.22474487, 1.22474487, 1.22474487, 1.22474487, 1.22474487],\n",
       "       [1.        , 1.        , 1.        , 1.        , 1.        ,\n",
       "        1.        , 1.        , 1.        , 1.        , 1.        ],\n",
       "       [0.81649658, 0.81649658, 0.81649658, 0.81649658, 0.81649658,\n",
       "        0.81649658, 0.81649658, 0.81649658, 0.81649658, 0.81649658],\n",
       "       [0.65465367, 0.65465367, 0.65465367, 0.65465367, 0.65465367,\n",
       "        0.65465367, 0.65465367, 0.65465367, 0.65465367, 0.65465367],\n",
       "       [0.5       , 0.5       , 0.5       , 0.5       , 0.5       ,\n",
       "        0.5       , 0.5       , 0.5       , 0.5       , 0.5       ],\n",
       "       [0.33333333, 0.33333333, 0.33333333, 0.33333333, 0.33333333,\n",
       "        0.33333333, 0.33333333, 0.33333333, 0.33333333, 0.33333333]])"
      ]
     },
     "execution_count": 15,
     "metadata": {},
     "output_type": "execute_result"
    }
   ],
   "source": [
    "np.tile(floc.reshape(-1, 1), n)"
   ]
  },
  {
   "cell_type": "code",
   "execution_count": 26,
   "id": "c161aa8b",
   "metadata": {},
   "outputs": [
    {
     "data": {
      "text/plain": [
       "array([0.        , 0.78848393, 0.52565595, 0.40147637, 0.32189722,\n",
       "       0.26282798, 0.21459814, 0.1720613 , 0.13141399, 0.08760933])"
      ]
     },
     "execution_count": 26,
     "metadata": {},
     "output_type": "execute_result"
    }
   ],
   "source": [
    "np.einsum('i, j -> i', floc, b)"
   ]
  },
  {
   "cell_type": "code",
   "execution_count": null,
   "id": "0d8e932e",
   "metadata": {},
   "outputs": [],
   "source": []
  },
  {
   "cell_type": "code",
   "execution_count": 11,
   "id": "73f84f3a",
   "metadata": {},
   "outputs": [
    {
     "data": {
      "text/plain": [
       "array([ 0.69520561, -1.20415328,  0.32640923,  0.91015634,  1.26365569,\n",
       "       -0.6215948 ,  1.36248083, -0.54291606, -0.53776682, -0.2155187 ])"
      ]
     },
     "execution_count": 11,
     "metadata": {},
     "output_type": "execute_result"
    }
   ],
   "source": [
    "b"
   ]
  },
  {
   "cell_type": "code",
   "execution_count": 12,
   "id": "4d7f75dd",
   "metadata": {},
   "outputs": [
    {
     "name": "stdout",
     "output_type": "stream",
     "text": [
      "0 [ 0.69520561 -0.50894767 -0.18253844  0.7276179   1.99127359  1.36967878\n",
      "  2.73215962  2.18924356  1.65147674  1.43595804]\n",
      "1 [ 0.69520561 -0.50894767 -1.38669171 -1.35427942 -0.05821144  0.61626174\n",
      "  2.65321575  4.14725371  5.10352484  5.84427728]\n",
      "2 [ 0.69520561 -0.50894767 -1.38669171 -1.02787019  1.8311726   6.56884183\n",
      " 14.54761836 25.22458611 38.06197828 52.84427615]\n"
     ]
    }
   ],
   "source": [
    "for i in range(3):\n",
    "    bsum = np.dot(gvbm.trendfiltering(n, i), b)\n",
    "    print(i, bsum)"
   ]
  },
  {
   "cell_type": "code",
   "execution_count": 13,
   "id": "952296ab",
   "metadata": {},
   "outputs": [
    {
     "data": {
      "text/plain": [
       "array([ 0.69520561, -0.50894767, -0.18253844,  0.7276179 ,  1.99127359,\n",
       "        1.36967878,  2.73215962,  2.18924356,  1.65147674,  1.43595804])"
      ]
     },
     "execution_count": 13,
     "metadata": {},
     "output_type": "execute_result"
    }
   ],
   "source": [
    "## Degree 0\n",
    "np.cumsum(b)"
   ]
  },
  {
   "cell_type": "code",
   "execution_count": 21,
   "id": "9ea2b576",
   "metadata": {},
   "outputs": [
    {
     "data": {
      "text/plain": [
       "array([ 0.69520561, -0.50894767, -1.38669171, -1.35427942, -0.05821144,\n",
       "        0.61626174,  2.65321575,  4.14725371,  5.10352484,  5.84427728])"
      ]
     },
     "execution_count": 21,
     "metadata": {},
     "output_type": "execute_result"
    }
   ],
   "source": [
    "## Degree 1\n",
    "np.cumsum(np.cumsum(b) - b[0]) + b[0]"
   ]
  },
  {
   "cell_type": "code",
   "execution_count": 70,
   "id": "53b89c54",
   "metadata": {},
   "outputs": [
    {
     "data": {
      "text/plain": [
       "array([ 0.69520561, -0.50894767, -1.38669171, -1.02787019,  1.8311726 ,\n",
       "        6.56884183, 14.54761836, 25.22458611, 38.06197828, 52.84427615])"
      ]
     },
     "execution_count": 70,
     "metadata": {},
     "output_type": "execute_result"
    }
   ],
   "source": [
    "## Degree 2\n",
    "\n",
    "brev1 = np.zeros(n)\n",
    "brev1[2:] = np.cumsum(b)[1:-1] + b[2:] - b[0] - b[1]\n",
    "brev1[1] = b[1]\n",
    "brev0 = np.cumsum(brev1)\n",
    "brev0[0] = b[0]\n",
    "np.cumsum(brev0)"
   ]
  },
  {
   "cell_type": "code",
   "execution_count": 25,
   "id": "365feefd",
   "metadata": {},
   "outputs": [
    {
     "data": {
      "text/plain": [
       "array([ 0.69520561, -0.50894767, -1.38669171, -1.02787019,  1.8311726 ,\n",
       "        6.56884183, 14.54761836, 25.22458611, 38.06197828, 52.84427615])"
      ]
     },
     "execution_count": 25,
     "metadata": {},
     "output_type": "execute_result"
    }
   ],
   "source": [
    "bsum2 = np.dot(gvbm.trendfiltering(n, 2), b)\n",
    "bsum2"
   ]
  },
  {
   "cell_type": "code",
   "execution_count": 65,
   "id": "20c76ada",
   "metadata": {},
   "outputs": [
    {
     "data": {
      "text/plain": [
       "array([-1.20415328, -0.87774404,  0.35882153,  2.85904278,  4.73766924,\n",
       "        7.97877652, 10.67696775, 12.83739216, 14.78229787])"
      ]
     },
     "execution_count": 65,
     "metadata": {},
     "output_type": "execute_result"
    }
   ],
   "source": [
    "np.diff(bsum2)"
   ]
  },
  {
   "cell_type": "code",
   "execution_count": 67,
   "id": "8984df72",
   "metadata": {},
   "outputs": [],
   "source": []
  },
  {
   "cell_type": "code",
   "execution_count": 68,
   "id": "5b9f23d3",
   "metadata": {},
   "outputs": [
    {
     "data": {
      "text/plain": [
       "array([ 0.69520561, -0.50894767, -1.38669171, -1.02787019,  1.8311726 ,\n",
       "        6.56884183, 14.54761836, 25.22458611, 38.06197828, 52.84427615])"
      ]
     },
     "execution_count": 68,
     "metadata": {},
     "output_type": "execute_result"
    }
   ],
   "source": [
    "np.cumsum(brev0)"
   ]
  },
  {
   "cell_type": "code",
   "execution_count": null,
   "id": "f869f3de",
   "metadata": {},
   "outputs": [],
   "source": []
  },
  {
   "cell_type": "code",
   "execution_count": null,
   "id": "e7975e9f",
   "metadata": {},
   "outputs": [],
   "source": []
  },
  {
   "cell_type": "code",
   "execution_count": null,
   "id": "55eeed05",
   "metadata": {},
   "outputs": [],
   "source": []
  },
  {
   "cell_type": "code",
   "execution_count": null,
   "id": "76531839",
   "metadata": {},
   "outputs": [],
   "source": []
  },
  {
   "cell_type": "code",
   "execution_count": 130,
   "id": "b30b9f34",
   "metadata": {},
   "outputs": [
    {
     "name": "stdout",
     "output_type": "stream",
     "text": [
      "[-0.33191529 -0.37926541 -1.29734722 -3.05590546 -3.5751052  -3.59311624\n",
      " -2.00503981 -0.49337193  0.86527681  1.80360788]\n"
     ]
    }
   ],
   "source": [
    "bsum = np.zeros(n)\n",
    "bsum[1:] = np.cumsum(np.cumsum(b[1:]))\n",
    "print(bsum + b[0])"
   ]
  },
  {
   "cell_type": "code",
   "execution_count": 147,
   "id": "dc3ba61f",
   "metadata": {},
   "outputs": [
    {
     "data": {
      "text/plain": [
       "array([ -2.16807891,  -4.75001874,  -7.80380819, -10.82825857,\n",
       "       -12.2172824 , -12.04728824, -10.47129523,  -7.90962104])"
      ]
     },
     "execution_count": 147,
     "metadata": {},
     "output_type": "execute_result"
    }
   ],
   "source": [
    "np.cumsum(np.cumsum(np.cumsum(b[2:]))) + b[0] + b[1] + b[1] + b[2]"
   ]
  },
  {
   "cell_type": "code",
   "execution_count": 137,
   "id": "d6788193",
   "metadata": {},
   "outputs": [
    {
     "name": "stdout",
     "output_type": "stream",
     "text": [
      "[ 0.          0.         -0.8707317  -2.58193982 -3.05378945 -3.02445038\n",
      " -1.38902383  0.16999416  1.57599301  2.5616742 ]\n"
     ]
    }
   ],
   "source": [
    "bsum = np.zeros(n)\n",
    "bsum[2:] = np.cumsum(np.cumsum(b[2:]))\n",
    "print(bsum)"
   ]
  },
  {
   "cell_type": "code",
   "execution_count": 110,
   "id": "06a4d0b8",
   "metadata": {},
   "outputs": [
    {
     "data": {
      "text/plain": [
       "array([-0.33191529, -0.37926541, -1.2499971 , -2.09047353, -0.85111503,\n",
       "       -0.34992633,  1.25616114,  1.17975259,  1.02673345,  0.60641578])"
      ]
     },
     "execution_count": 110,
     "metadata": {},
     "output_type": "execute_result"
    }
   ],
   "source": [
    "bsum = np.cumsum(b)\n",
    "bsum"
   ]
  },
  {
   "cell_type": "code",
   "execution_count": 116,
   "id": "4d3bbc87",
   "metadata": {},
   "outputs": [
    {
     "data": {
      "text/plain": [
       "array([-0.37926541, -1.29734722, -3.05590546, -3.5751052 , -3.59311624,\n",
       "       -2.00503981, -0.49337193,  0.86527681,  1.80360788])"
      ]
     },
     "execution_count": 116,
     "metadata": {},
     "output_type": "execute_result"
    }
   ],
   "source": [
    "np.cumsum(bsum - bsum[0])[1:] + bsum[0]"
   ]
  },
  {
   "cell_type": "code",
   "execution_count": 148,
   "id": "d23f8b44",
   "metadata": {},
   "outputs": [],
   "source": [
    "b = np.arange(n) + 1"
   ]
  },
  {
   "cell_type": "code",
   "execution_count": 160,
   "id": "4917c465",
   "metadata": {},
   "outputs": [
    {
     "data": {
      "text/plain": [
       "array([  1.,   3.,   8.,  20.,  44.,  86., 153., 253., 395., 589.])"
      ]
     },
     "execution_count": 160,
     "metadata": {},
     "output_type": "execute_result"
    }
   ],
   "source": [
    "bsum = np.dot(gvbm.trendfiltering(n, 2), b)\n",
    "bsum"
   ]
  },
  {
   "cell_type": "code",
   "execution_count": 164,
   "id": "0d4c3357",
   "metadata": {},
   "outputs": [
    {
     "data": {
      "text/plain": [
       "array([  1.,   3.,   8.,  17.,  31.,  51.,  78., 113., 157., 211.])"
      ]
     },
     "execution_count": 164,
     "metadata": {},
     "output_type": "execute_result"
    }
   ],
   "source": [
    "np.dot(gvbm.trendfiltering(n, 1), b)"
   ]
  },
  {
   "cell_type": "code",
   "execution_count": 198,
   "id": "3284fefe",
   "metadata": {},
   "outputs": [
    {
     "data": {
      "text/plain": [
       "array([ 1.,  3.,  7., 12., 18., 25., 33., 42., 52.])"
      ]
     },
     "execution_count": 198,
     "metadata": {},
     "output_type": "execute_result"
    }
   ],
   "source": [
    "brev = np.zeros(n)\n",
    "brev[0] = 1\n",
    "brev[1:] = np.diff(bsum)\n",
    "np.diff(brev)"
   ]
  },
  {
   "cell_type": "code",
   "execution_count": 199,
   "id": "002041cf",
   "metadata": {},
   "outputs": [
    {
     "name": "stdout",
     "output_type": "stream",
     "text": [
      "[  1.   2.   5.  12.  24.  42.  67. 100. 142. 194.]\n"
     ]
    }
   ],
   "source": [
    "print(brev)"
   ]
  },
  {
   "cell_type": "code",
   "execution_count": 203,
   "id": "37bf06f2",
   "metadata": {},
   "outputs": [
    {
     "name": "stdout",
     "output_type": "stream",
     "text": [
      "[  1.   2.   5.  12.  24.  42.  67. 100. 142. 194.]\n"
     ]
    }
   ],
   "source": [
    "brev1 = np.zeros(n)\n",
    "brev1[1:] = (np.cumsum(b) + b - 2)[:-1]\n",
    "brev1[1] = b[1]\n",
    "brev2 = np.cumsum(brev1)\n",
    "brev2[0] = b[0]\n",
    "print(brev2)"
   ]
  },
  {
   "cell_type": "code",
   "execution_count": 206,
   "id": "629351eb",
   "metadata": {},
   "outputs": [
    {
     "data": {
      "text/plain": [
       "array([ 0,  3,  7, 12, 18, 25, 33, 42, 52, 63])"
      ]
     },
     "execution_count": 206,
     "metadata": {},
     "output_type": "execute_result"
    }
   ],
   "source": [
    "np.cumsum(b) + b - 2"
   ]
  },
  {
   "cell_type": "code",
   "execution_count": 204,
   "id": "67155c27",
   "metadata": {},
   "outputs": [
    {
     "data": {
      "text/plain": [
       "array([ 0.,  2.,  3.,  7., 12., 18., 25., 33., 42., 52.])"
      ]
     },
     "execution_count": 204,
     "metadata": {},
     "output_type": "execute_result"
    }
   ],
   "source": [
    "brev1"
   ]
  },
  {
   "cell_type": "code",
   "execution_count": 205,
   "id": "a2280e01",
   "metadata": {},
   "outputs": [
    {
     "data": {
      "text/plain": [
       "array([  1.,   2.,   5.,  12.,  24.,  42.,  67., 100., 142., 194.])"
      ]
     },
     "execution_count": 205,
     "metadata": {},
     "output_type": "execute_result"
    }
   ],
   "source": [
    "brev2"
   ]
  },
  {
   "cell_type": "code",
   "execution_count": 202,
   "id": "47f96e62",
   "metadata": {},
   "outputs": [
    {
     "data": {
      "text/plain": [
       "array([  1.,   3.,   8.,  20.,  44.,  86., 153., 253., 395., 589.])"
      ]
     },
     "execution_count": 202,
     "metadata": {},
     "output_type": "execute_result"
    }
   ],
   "source": [
    "np.cumsum(brev2)"
   ]
  },
  {
   "cell_type": "code",
   "execution_count": 211,
   "id": "a3f1dff4",
   "metadata": {},
   "outputs": [
    {
     "data": {
      "text/plain": [
       "44"
      ]
     },
     "execution_count": 211,
     "metadata": {},
     "output_type": "execute_result"
    }
   ],
   "source": [
    "7 * b[0] + 7 * b[1] + 5 * b[2] + 2 * b[3]"
   ]
  },
  {
   "cell_type": "code",
   "execution_count": null,
   "id": "e332240c",
   "metadata": {},
   "outputs": [],
   "source": []
  },
  {
   "cell_type": "code",
   "execution_count": null,
   "id": "b54909a4",
   "metadata": {},
   "outputs": [],
   "source": []
  },
  {
   "cell_type": "code",
   "execution_count": null,
   "id": "c4a4bbcc",
   "metadata": {},
   "outputs": [],
   "source": []
  },
  {
   "cell_type": "code",
   "execution_count": null,
   "id": "2aa9efbf",
   "metadata": {},
   "outputs": [],
   "source": []
  },
  {
   "cell_type": "code",
   "execution_count": 41,
   "id": "307dacc6",
   "metadata": {},
   "outputs": [
    {
     "data": {
      "text/plain": [
       "array([[ 1.        ,  1.5666989 ,  1.31982404,  1.12815215,  0.9696899 ,\n",
       "         0.83205029,  0.70710678,  0.58834841,  0.46852129,  0.33333333],\n",
       "       [ 1.        ,  2.5666989 ,  1.31982404,  1.12815215,  0.9696899 ,\n",
       "         0.83205029,  0.70710678,  0.58834841,  0.46852129,  0.33333333],\n",
       "       [ 1.        ,  3.5666989 ,  2.31982404,  1.12815215,  0.9696899 ,\n",
       "         0.83205029,  0.70710678,  0.58834841,  0.46852129,  0.33333333],\n",
       "       [ 1.        ,  4.5666989 ,  3.31982404,  2.12815215,  0.9696899 ,\n",
       "         0.83205029,  0.70710678,  0.58834841,  0.46852129,  0.33333333],\n",
       "       [ 1.        ,  5.5666989 ,  4.31982404,  3.12815215,  1.9696899 ,\n",
       "         0.83205029,  0.70710678,  0.58834841,  0.46852129,  0.33333333],\n",
       "       [ 1.        ,  6.5666989 ,  5.31982404,  4.12815215,  2.9696899 ,\n",
       "         1.83205029,  0.70710678,  0.58834841,  0.46852129,  0.33333333],\n",
       "       [ 1.        ,  7.5666989 ,  6.31982404,  5.12815215,  3.9696899 ,\n",
       "         2.83205029,  1.70710678,  0.58834841,  0.46852129,  0.33333333],\n",
       "       [ 1.        ,  8.5666989 ,  7.31982404,  6.12815215,  4.9696899 ,\n",
       "         3.83205029,  2.70710678,  1.58834841,  0.46852129,  0.33333333],\n",
       "       [ 1.        ,  9.5666989 ,  8.31982404,  7.12815215,  5.9696899 ,\n",
       "         4.83205029,  3.70710678,  2.58834841,  1.46852129,  0.33333333],\n",
       "       [ 1.        , 10.5666989 ,  9.31982404,  8.12815215,  6.9696899 ,\n",
       "         5.83205029,  4.70710678,  3.58834841,  2.46852129,  1.33333333]])"
      ]
     },
     "execution_count": 41,
     "metadata": {},
     "output_type": "execute_result"
    }
   ],
   "source": [
    "H + floc"
   ]
  },
  {
   "cell_type": "code",
   "execution_count": 43,
   "id": "7621b531",
   "metadata": {},
   "outputs": [
    {
     "data": {
      "text/plain": [
       "array([[ 1.        ,  1.5666989 ,  1.31982404,  1.12815215,  0.9696899 ,\n",
       "         0.83205029,  0.70710678,  0.58834841,  0.46852129,  0.33333333],\n",
       "       [ 1.        ,  2.5666989 ,  1.31982404,  1.12815215,  0.9696899 ,\n",
       "         0.83205029,  0.70710678,  0.58834841,  0.46852129,  0.33333333],\n",
       "       [ 1.        ,  3.5666989 ,  2.31982404,  1.12815215,  0.9696899 ,\n",
       "         0.83205029,  0.70710678,  0.58834841,  0.46852129,  0.33333333],\n",
       "       [ 1.        ,  4.5666989 ,  3.31982404,  2.12815215,  0.9696899 ,\n",
       "         0.83205029,  0.70710678,  0.58834841,  0.46852129,  0.33333333],\n",
       "       [ 1.        ,  5.5666989 ,  4.31982404,  3.12815215,  1.9696899 ,\n",
       "         0.83205029,  0.70710678,  0.58834841,  0.46852129,  0.33333333],\n",
       "       [ 1.        ,  6.5666989 ,  5.31982404,  4.12815215,  2.9696899 ,\n",
       "         1.83205029,  0.70710678,  0.58834841,  0.46852129,  0.33333333],\n",
       "       [ 1.        ,  7.5666989 ,  6.31982404,  5.12815215,  3.9696899 ,\n",
       "         2.83205029,  1.70710678,  0.58834841,  0.46852129,  0.33333333],\n",
       "       [ 1.        ,  8.5666989 ,  7.31982404,  6.12815215,  4.9696899 ,\n",
       "         3.83205029,  2.70710678,  1.58834841,  0.46852129,  0.33333333],\n",
       "       [ 1.        ,  9.5666989 ,  8.31982404,  7.12815215,  5.9696899 ,\n",
       "         4.83205029,  3.70710678,  2.58834841,  1.46852129,  0.33333333],\n",
       "       [ 1.        , 10.5666989 ,  9.31982404,  8.12815215,  6.9696899 ,\n",
       "         5.83205029,  4.70710678,  3.58834841,  2.46852129,  1.33333333]])"
      ]
     },
     "execution_count": 43,
     "metadata": {},
     "output_type": "execute_result"
    }
   ],
   "source": [
    "H + np.tile(floc.reshape(-1, 1), n).T"
   ]
  },
  {
   "cell_type": "code",
   "execution_count": null,
   "id": "8d6f2b06",
   "metadata": {},
   "outputs": [],
   "source": []
  },
  {
   "cell_type": "code",
   "execution_count": 65,
   "id": "6d00c4bd",
   "metadata": {},
   "outputs": [
    {
     "data": {
      "text/plain": [
       "array([-16.6217838 ,  -6.95097411,  -5.122682  ,  -5.69586799,\n",
       "        -3.37512236,   3.67305916,   6.83249005,  10.93280462,\n",
       "        14.91511988,  19.65506656])"
      ]
     },
     "execution_count": 65,
     "metadata": {},
     "output_type": "execute_result"
    }
   ],
   "source": [
    "Hscaleinv = np.linalg.inv(Hscale)\n",
    "#M = np.dot(Hscaleinv, H)\n",
    "Am = np.tile(fscale.reshape(-1, 1), n).T\n",
    "Bm = np.tile(floc.reshape(-1, 1), n).T\n",
    "#M =  np.dot(Hscaleinv, Am * (Hscale + Bm))\n",
    "M = Am * (np.identity(n) + Bm * Hscaleinv)\n",
    "bscale = np.dot(M, b) \n",
    "np.dot(Hscale, bscale)"
   ]
  },
  {
   "cell_type": "code",
   "execution_count": 66,
   "id": "fc8a07c7",
   "metadata": {},
   "outputs": [
    {
     "data": {
      "text/plain": [
       "array([[ 1.00000000e+00,  4.50000000e+00,  3.60000000e+00,\n",
       "         2.80000000e+00,  2.10000000e+00,  1.50000000e+00,\n",
       "         1.00000000e+00,  6.00000000e-01,  3.00000000e-01,\n",
       "         1.00000000e-01],\n",
       "       [ 5.26196226e-17,  2.87228132e+00, -3.97202130e-16,\n",
       "        -5.73254315e-18,  3.14178376e-17,  7.44735385e-17,\n",
       "        -4.73403150e-17, -1.69154169e-16, -7.51265686e-18,\n",
       "         1.24011722e-17],\n",
       "       [-7.89263244e-16, -2.38215898e-15,  2.72763634e+00,\n",
       "         8.45459246e-17, -4.58458461e-16, -3.04696273e-16,\n",
       "        -1.85652596e-16, -2.50225390e-17, -6.47473243e-17,\n",
       "        -2.83901688e-17],\n",
       "       [ 4.47895349e-16,  3.13751306e-15,  9.13260868e-16,\n",
       "         2.48193473e+00,  9.05648589e-16,  4.57753240e-16,\n",
       "         5.53318887e-16,  2.87934834e-16,  6.07563056e-17,\n",
       "         1.96821506e-17],\n",
       "       [ 2.93157775e-16, -8.66961733e-16, -2.71941089e-16,\n",
       "         3.23079555e-16,  2.16564078e+00, -2.63235996e-16,\n",
       "        -1.12304561e-16, -4.78790818e-17,  3.43245525e-17,\n",
       "        -3.20579235e-17],\n",
       "       [ 9.25097778e-17, -9.18369889e-16, -5.66790457e-16,\n",
       "        -1.10338944e-15, -7.51810013e-16,  1.80277564e+00,\n",
       "        -9.36829568e-16, -8.07294741e-16, -1.74516813e-16,\n",
       "         1.00074151e-17],\n",
       "       [ 2.60033031e-16,  3.71943712e-15,  1.01691344e-15,\n",
       "         2.75528185e-15,  9.40936584e-16,  9.02948158e-16,\n",
       "         1.41421356e+00,  1.71514973e-15,  5.66938274e-16,\n",
       "         1.74672786e-16],\n",
       "       [-3.95785541e-16, -3.27507383e-15, -1.75147586e-15,\n",
       "        -2.91000256e-15, -1.40399399e-15, -7.86163845e-16,\n",
       "        -1.05651212e-15,  1.01980390e+00, -7.09030245e-16,\n",
       "        -3.13244704e-16],\n",
       "       [ 2.44906510e-16,  1.20495786e-15,  1.73720747e-15,\n",
       "         9.37189450e-16,  1.37171428e-16,  6.69421036e-16,\n",
       "         3.13492224e-16,  8.45741831e-16,  6.40312424e-01,\n",
       "         1.33884207e-16],\n",
       "       [-5.55111512e-17, -2.22044605e-16,  0.00000000e+00,\n",
       "        -2.22044605e-16,  0.00000000e+00, -2.22044605e-16,\n",
       "         0.00000000e+00, -8.88178420e-17,  0.00000000e+00,\n",
       "         3.00000000e-01]])"
      ]
     },
     "execution_count": 66,
     "metadata": {},
     "output_type": "execute_result"
    }
   ],
   "source": [
    "np.dot(Hscaleinv, Am * (Hscale + Bm))"
   ]
  },
  {
   "cell_type": "code",
   "execution_count": 62,
   "id": "246e9c87",
   "metadata": {},
   "outputs": [
    {
     "data": {
      "text/plain": [
       "array([[1., 0., 0., 0., 0., 0., 0., 0., 0., 0.],\n",
       "       [1., 1., 0., 0., 0., 0., 0., 0., 0., 0.],\n",
       "       [1., 2., 1., 0., 0., 0., 0., 0., 0., 0.],\n",
       "       [1., 3., 2., 1., 0., 0., 0., 0., 0., 0.],\n",
       "       [1., 4., 3., 2., 1., 0., 0., 0., 0., 0.],\n",
       "       [1., 5., 4., 3., 2., 1., 0., 0., 0., 0.],\n",
       "       [1., 6., 5., 4., 3., 2., 1., 0., 0., 0.],\n",
       "       [1., 7., 6., 5., 4., 3., 2., 1., 0., 0.],\n",
       "       [1., 8., 7., 6., 5., 4., 3., 2., 1., 0.],\n",
       "       [1., 9., 8., 7., 6., 5., 4., 3., 2., 1.]])"
      ]
     },
     "execution_count": 62,
     "metadata": {},
     "output_type": "execute_result"
    }
   ],
   "source": [
    "Am * (Hscale + Bm)"
   ]
  },
  {
   "cell_type": "code",
   "execution_count": null,
   "id": "10b85ea3",
   "metadata": {},
   "outputs": [],
   "source": []
  }
 ],
 "metadata": {
  "kernelspec": {
   "display_name": "Python 3 (ipykernel)",
   "language": "python",
   "name": "python3"
  },
  "language_info": {
   "codemirror_mode": {
    "name": "ipython",
    "version": 3
   },
   "file_extension": ".py",
   "mimetype": "text/x-python",
   "name": "python",
   "nbconvert_exporter": "python",
   "pygments_lexer": "ipython3",
   "version": "3.10.5"
  }
 },
 "nbformat": 4,
 "nbformat_minor": 5
}
