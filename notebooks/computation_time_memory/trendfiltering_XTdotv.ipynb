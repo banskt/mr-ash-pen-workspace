{
 "cells": [
  {
   "cell_type": "code",
   "execution_count": 1,
   "id": "e7867c32",
   "metadata": {},
   "outputs": [],
   "source": [
    "import numpy as np\n",
    "from gradvi.models import basis_matrix as gvbm"
   ]
  },
  {
   "cell_type": "code",
   "execution_count": 30,
   "id": "109bbc9b",
   "metadata": {},
   "outputs": [],
   "source": [
    "n = 4096"
   ]
  },
  {
   "cell_type": "code",
   "execution_count": 31,
   "id": "8075eeb8",
   "metadata": {},
   "outputs": [],
   "source": [
    "def sum_consecutive(arr, m, n):\n",
    "    idx = np.array((np.arange(n - m), np.arange(m, n))).T.ravel()\n",
    "    idx = np.append(idx, n - m)\n",
    "    arrsum = np.add.reduceat(arr, idx)[::2]\n",
    "    return arrsum"
   ]
  },
  {
   "cell_type": "code",
   "execution_count": 32,
   "id": "37d84a5c",
   "metadata": {},
   "outputs": [
    {
     "data": {
      "text/plain": [
       "array([[1., 1., 1., ..., 1., 1., 1.],\n",
       "       [0., 1., 1., ..., 1., 1., 1.],\n",
       "       [0., 0., 1., ..., 1., 1., 1.],\n",
       "       ...,\n",
       "       [0., 0., 0., ..., 1., 1., 1.],\n",
       "       [0., 0., 0., ..., 0., 1., 1.],\n",
       "       [0., 0., 0., ..., 0., 0., 1.]])"
      ]
     },
     "execution_count": 32,
     "metadata": {},
     "output_type": "execute_result"
    }
   ],
   "source": [
    "gvbm.trendfiltering(n, 0).T"
   ]
  },
  {
   "cell_type": "code",
   "execution_count": 33,
   "id": "9372c58d",
   "metadata": {},
   "outputs": [
    {
     "data": {
      "text/plain": [
       "array([[1.000e+00, 1.000e+00, 1.000e+00, ..., 1.000e+00, 1.000e+00,\n",
       "        1.000e+00],\n",
       "       [0.000e+00, 1.000e+00, 2.000e+00, ..., 4.093e+03, 4.094e+03,\n",
       "        4.095e+03],\n",
       "       [0.000e+00, 0.000e+00, 1.000e+00, ..., 4.092e+03, 4.093e+03,\n",
       "        4.094e+03],\n",
       "       ...,\n",
       "       [0.000e+00, 0.000e+00, 0.000e+00, ..., 1.000e+00, 2.000e+00,\n",
       "        3.000e+00],\n",
       "       [0.000e+00, 0.000e+00, 0.000e+00, ..., 0.000e+00, 1.000e+00,\n",
       "        2.000e+00],\n",
       "       [0.000e+00, 0.000e+00, 0.000e+00, ..., 0.000e+00, 0.000e+00,\n",
       "        1.000e+00]])"
      ]
     },
     "execution_count": 33,
     "metadata": {},
     "output_type": "execute_result"
    }
   ],
   "source": [
    "gvbm.trendfiltering(n, 1).T"
   ]
  },
  {
   "cell_type": "code",
   "execution_count": 34,
   "id": "a8fc4733",
   "metadata": {},
   "outputs": [
    {
     "data": {
      "text/plain": [
       "array([[1.000000e+00, 1.000000e+00, 1.000000e+00, ..., 1.000000e+00,\n",
       "        1.000000e+00, 1.000000e+00],\n",
       "       [0.000000e+00, 1.000000e+00, 2.000000e+00, ..., 4.093000e+03,\n",
       "        4.094000e+03, 4.095000e+03],\n",
       "       [0.000000e+00, 0.000000e+00, 1.000000e+00, ..., 8.374278e+06,\n",
       "        8.378371e+06, 8.382465e+06],\n",
       "       ...,\n",
       "       [0.000000e+00, 0.000000e+00, 0.000000e+00, ..., 1.000000e+00,\n",
       "        3.000000e+00, 6.000000e+00],\n",
       "       [0.000000e+00, 0.000000e+00, 0.000000e+00, ..., 0.000000e+00,\n",
       "        1.000000e+00, 3.000000e+00],\n",
       "       [0.000000e+00, 0.000000e+00, 0.000000e+00, ..., 0.000000e+00,\n",
       "        0.000000e+00, 1.000000e+00]])"
      ]
     },
     "execution_count": 34,
     "metadata": {},
     "output_type": "execute_result"
    }
   ],
   "source": [
    "gvbm.trendfiltering(n, 2).T"
   ]
  },
  {
   "cell_type": "code",
   "execution_count": 35,
   "id": "fea52908",
   "metadata": {},
   "outputs": [
    {
     "data": {
      "text/plain": [
       "array([[1.000000e+00, 1.000000e+00, 1.000000e+00, ..., 1.000000e+00,\n",
       "        1.000000e+00, 1.000000e+00],\n",
       "       [0.000000e+00, 1.000000e+00, 2.000000e+00, ..., 4.093000e+03,\n",
       "        4.094000e+03, 4.095000e+03],\n",
       "       [0.000000e+00, 0.000000e+00, 1.000000e+00, ..., 8.374278e+06,\n",
       "        8.378371e+06, 8.382465e+06],\n",
       "       ...,\n",
       "       [0.000000e+00, 0.000000e+00, 0.000000e+00, ..., 1.000000e+00,\n",
       "        4.000000e+00, 1.000000e+01],\n",
       "       [0.000000e+00, 0.000000e+00, 0.000000e+00, ..., 0.000000e+00,\n",
       "        1.000000e+00, 4.000000e+00],\n",
       "       [0.000000e+00, 0.000000e+00, 0.000000e+00, ..., 0.000000e+00,\n",
       "        0.000000e+00, 1.000000e+00]])"
      ]
     },
     "execution_count": 35,
     "metadata": {},
     "output_type": "execute_result"
    }
   ],
   "source": [
    "gvbm.trendfiltering(n, 3).T"
   ]
  },
  {
   "cell_type": "code",
   "execution_count": 36,
   "id": "b85c1a83",
   "metadata": {},
   "outputs": [
    {
     "data": {
      "text/plain": [
       "array([[1.000000e+00, 1.000000e+00, 1.000000e+00, ..., 1.000000e+00,\n",
       "        1.000000e+00, 1.000000e+00],\n",
       "       [0.000000e+00, 1.000000e+00, 2.000000e+00, ..., 4.093000e+03,\n",
       "        4.094000e+03, 4.095000e+03],\n",
       "       [0.000000e+00, 0.000000e+00, 1.000000e+00, ..., 8.374278e+06,\n",
       "        8.378371e+06, 8.382465e+06],\n",
       "       ...,\n",
       "       [0.000000e+00, 0.000000e+00, 0.000000e+00, ..., 1.000000e+00,\n",
       "        5.000000e+00, 1.500000e+01],\n",
       "       [0.000000e+00, 0.000000e+00, 0.000000e+00, ..., 0.000000e+00,\n",
       "        1.000000e+00, 5.000000e+00],\n",
       "       [0.000000e+00, 0.000000e+00, 0.000000e+00, ..., 0.000000e+00,\n",
       "        0.000000e+00, 1.000000e+00]])"
      ]
     },
     "execution_count": 36,
     "metadata": {},
     "output_type": "execute_result"
    }
   ],
   "source": [
    "gvbm.trendfiltering(n, 4).T"
   ]
  },
  {
   "cell_type": "code",
   "execution_count": 37,
   "id": "2c14e25c",
   "metadata": {},
   "outputs": [],
   "source": [
    "b = np.random.normal(0, 1, size = n)"
   ]
  },
  {
   "cell_type": "code",
   "execution_count": 38,
   "id": "2ffd8eef",
   "metadata": {},
   "outputs": [
    {
     "name": "stdout",
     "output_type": "stream",
     "text": [
      "[-4.85754901 -2.9519978  -1.90829663 ...  0.48676727 -1.58321435\n",
      " -0.4639602 ]\n",
      "[-4.85754901 -2.9519978  -1.90829663 ...  0.48676727 -1.58321435\n",
      " -0.4639602 ]\n"
     ]
    }
   ],
   "source": [
    "degree = 0\n",
    "H = gvbm.trendfiltering(n, degree)\n",
    "print(np.dot(H.T, b))\n",
    "print(np.cumsum(b[::-1])[::-1])"
   ]
  },
  {
   "cell_type": "code",
   "execution_count": 39,
   "id": "7041658c",
   "metadata": {},
   "outputs": [
    {
     "data": {
      "text/plain": [
       "array([-4.85754901e+00,  2.28060270e+04,  3.18803843e+07, ...,\n",
       "       -7.04663701e+00, -2.97509497e+00, -4.63960204e-01])"
      ]
     },
     "execution_count": 39,
     "metadata": {},
     "output_type": "execute_result"
    }
   ],
   "source": [
    "degree = 3\n",
    "H = gvbm.trendfiltering(n, degree)\n",
    "np.dot(H.T, b)"
   ]
  },
  {
   "cell_type": "code",
   "execution_count": 40,
   "id": "e617f102",
   "metadata": {},
   "outputs": [
    {
     "data": {
      "text/plain": [
       "array([ 1.48450020e+10,  1.48130760e+10,  1.47811728e+10, ...,\n",
       "       -7.04663701e+00, -2.97509497e+00, -4.63960204e-01])"
      ]
     },
     "execution_count": 40,
     "metadata": {},
     "output_type": "execute_result"
    }
   ],
   "source": [
    "brev = b[::-1]\n",
    "np.cumsum(np.cumsum(np.cumsum(np.cumsum(brev))))[::-1]"
   ]
  },
  {
   "cell_type": "code",
   "execution_count": 41,
   "id": "f3eeb5fc",
   "metadata": {},
   "outputs": [
    {
     "data": {
      "text/plain": [
       "array([-4.85754901e+00,  2.28060270e+04,  3.18803843e+07])"
      ]
     },
     "execution_count": 41,
     "metadata": {},
     "output_type": "execute_result"
    }
   ],
   "source": [
    "np.dot(H[:, :degree].T, b)"
   ]
  },
  {
   "cell_type": "code",
   "execution_count": 42,
   "id": "7ecaea3b",
   "metadata": {},
   "outputs": [],
   "source": [
    "def XTdotv(X, v, degree):\n",
    "    vrev = v[::-1]\n",
    "    X3v1 = np.cumsum(vrev)\n",
    "    for k in range(degree):\n",
    "        X3v1 = np.cumsum(X3v1)\n",
    "    res = X3v1[::-1]\n",
    "    ## degree 0 do not need any change\n",
    "    if degree == 1:\n",
    "        res[0] = np.sum(v)\n",
    "    else:\n",
    "        res[:degree] = np.dot(X[:, :degree].T, v)\n",
    "    return res"
   ]
  },
  {
   "cell_type": "code",
   "execution_count": 43,
   "id": "ebed3b79",
   "metadata": {},
   "outputs": [
    {
     "name": "stdout",
     "output_type": "stream",
     "text": [
      "0 True\n",
      "1 True\n",
      "2 True\n",
      "3 True\n",
      "4 True\n",
      "5 True\n",
      "6 True\n",
      "7 True\n",
      "8 True\n",
      "9 True\n"
     ]
    }
   ],
   "source": [
    "for k in range(10):\n",
    "    Hk = gvbm.trendfiltering(n, k)\n",
    "    success = np.allclose(np.dot(Hk.T, b), XTdotv(Hk, b, k))\n",
    "    print(k, success)"
   ]
  },
  {
   "cell_type": "code",
   "execution_count": 44,
   "id": "fc725f63",
   "metadata": {},
   "outputs": [],
   "source": [
    "degree = 5\n",
    "H = gvbm.trendfiltering(n, degree)"
   ]
  },
  {
   "cell_type": "code",
   "execution_count": 45,
   "id": "4858b403",
   "metadata": {},
   "outputs": [
    {
     "name": "stdout",
     "output_type": "stream",
     "text": [
      "4.14 ms ± 55.6 µs per loop (mean ± std. dev. of 7 runs, 100 loops each)\n"
     ]
    }
   ],
   "source": [
    "%%timeit\n",
    "\n",
    "np.dot(H.T, b)"
   ]
  },
  {
   "cell_type": "code",
   "execution_count": 46,
   "id": "24b72643",
   "metadata": {},
   "outputs": [
    {
     "name": "stdout",
     "output_type": "stream",
     "text": [
      "344 µs ± 24.1 µs per loop (mean ± std. dev. of 7 runs, 1000 loops each)\n"
     ]
    }
   ],
   "source": [
    "%%timeit\n",
    "\n",
    "XTdotv(H, b, degree)"
   ]
  },
  {
   "cell_type": "code",
   "execution_count": null,
   "id": "698f254d",
   "metadata": {},
   "outputs": [],
   "source": []
  }
 ],
 "metadata": {
  "kernelspec": {
   "display_name": "Python 3 (ipykernel)",
   "language": "python",
   "name": "python3"
  },
  "language_info": {
   "codemirror_mode": {
    "name": "ipython",
    "version": 3
   },
   "file_extension": ".py",
   "mimetype": "text/x-python",
   "name": "python",
   "nbconvert_exporter": "python",
   "pygments_lexer": "ipython3",
   "version": "3.10.5"
  }
 },
 "nbformat": 4,
 "nbformat_minor": 5
}
