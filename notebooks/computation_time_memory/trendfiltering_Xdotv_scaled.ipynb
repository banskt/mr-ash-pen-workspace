{
 "cells": [
  {
   "cell_type": "code",
   "execution_count": 1,
   "id": "e7867c32",
   "metadata": {},
   "outputs": [],
   "source": [
    "import numpy as np\n",
    "from gradvi.models import basis_matrix as gvbm\n",
    "np.set_printoptions(precision=3)"
   ]
  },
  {
   "cell_type": "code",
   "execution_count": 2,
   "id": "109bbc9b",
   "metadata": {},
   "outputs": [],
   "source": [
    "n = 8"
   ]
  },
  {
   "cell_type": "code",
   "execution_count": 3,
   "id": "8075eeb8",
   "metadata": {},
   "outputs": [],
   "source": [
    "def Xdotv(X, v, degree):\n",
    "    X3v1 = np.zeros_like(v)\n",
    "    v0 = v[:degree]\n",
    "    v1 = v[degree:]\n",
    "    X3v1[degree:] = np.cumsum(v1)\n",
    "    for k in range(degree):\n",
    "        X3v1 = np.cumsum(X3v1)\n",
    "    if degree == 0:\n",
    "        res = X3v1\n",
    "    elif degree == 1:\n",
    "        res = v[0] + X3v1\n",
    "    else:\n",
    "        X0v0 = np.dot(X[:, :degree], v0)\n",
    "        res = X0v0 + X3v1\n",
    "    return res"
   ]
  },
  {
   "cell_type": "code",
   "execution_count": 4,
   "id": "37d84a5c",
   "metadata": {},
   "outputs": [
    {
     "data": {
      "text/plain": [
       "array([[ 0.354, -0.935, -0.612, -0.456, -0.354, -0.274, -0.204, -0.134],\n",
       "       [ 0.354,  0.134, -0.612, -0.456, -0.354, -0.274, -0.204, -0.134],\n",
       "       [ 0.354,  0.134,  0.204, -0.456, -0.354, -0.274, -0.204, -0.134],\n",
       "       [ 0.354,  0.134,  0.204,  0.274, -0.354, -0.274, -0.204, -0.134],\n",
       "       [ 0.354,  0.134,  0.204,  0.274,  0.354, -0.274, -0.204, -0.134],\n",
       "       [ 0.354,  0.134,  0.204,  0.274,  0.354,  0.456, -0.204, -0.134],\n",
       "       [ 0.354,  0.134,  0.204,  0.274,  0.354,  0.456,  0.612, -0.134],\n",
       "       [ 0.354,  0.134,  0.204,  0.274,  0.354,  0.456,  0.612,  0.935]])"
      ]
     },
     "execution_count": 4,
     "metadata": {},
     "output_type": "execute_result"
    }
   ],
   "source": [
    "gvbm.trendfiltering_scaled(n, 0)"
   ]
  },
  {
   "cell_type": "code",
   "execution_count": 5,
   "id": "8760f94d",
   "metadata": {},
   "outputs": [
    {
     "data": {
      "text/plain": [
       "array([1., 1., 1., 1., 1., 1., 1., 1.])"
      ]
     },
     "execution_count": 5,
     "metadata": {},
     "output_type": "execute_result"
    }
   ],
   "source": [
    "np.sum(np.square(gvbm.trendfiltering_scaled(n, 0)), axis = 0)"
   ]
  },
  {
   "cell_type": "code",
   "execution_count": 6,
   "id": "9372c58d",
   "metadata": {},
   "outputs": [
    {
     "data": {
      "text/plain": [
       "array([[ 0.354, -0.54 , -0.438, -0.362, -0.299, -0.243, -0.191, -0.134],\n",
       "       [ 0.354, -0.386, -0.438, -0.362, -0.299, -0.243, -0.191, -0.134],\n",
       "       [ 0.354, -0.231, -0.271, -0.362, -0.299, -0.243, -0.191, -0.134],\n",
       "       [ 0.354, -0.077, -0.104, -0.169, -0.299, -0.243, -0.191, -0.134],\n",
       "       [ 0.354,  0.077,  0.063,  0.024, -0.06 , -0.243, -0.191, -0.134],\n",
       "       [ 0.354,  0.231,  0.23 ,  0.217,  0.179,  0.081, -0.191, -0.134],\n",
       "       [ 0.354,  0.386,  0.397,  0.41 ,  0.418,  0.406,  0.318, -0.134],\n",
       "       [ 0.354,  0.54 ,  0.563,  0.603,  0.657,  0.73 ,  0.826,  0.935]])"
      ]
     },
     "execution_count": 6,
     "metadata": {},
     "output_type": "execute_result"
    }
   ],
   "source": [
    "gvbm.trendfiltering_scaled(n, 1)"
   ]
  },
  {
   "cell_type": "code",
   "execution_count": 7,
   "id": "a8fc4733",
   "metadata": {},
   "outputs": [
    {
     "data": {
      "text/plain": [
       "array([[ 0.354, -0.54 , -0.342, -0.296, -0.255, -0.216, -0.177, -0.134],\n",
       "       [ 0.354, -0.386, -0.342, -0.296, -0.255, -0.216, -0.177, -0.134],\n",
       "       [ 0.354, -0.231, -0.293, -0.296, -0.255, -0.216, -0.177, -0.134],\n",
       "       [ 0.354, -0.077, -0.195, -0.229, -0.255, -0.216, -0.177, -0.134],\n",
       "       [ 0.354,  0.077, -0.049, -0.093, -0.153, -0.216, -0.177, -0.134],\n",
       "       [ 0.354,  0.231,  0.146,  0.11 ,  0.051, -0.043, -0.177, -0.134],\n",
       "       [ 0.354,  0.386,  0.39 ,  0.381,  0.357,  0.302,  0.177, -0.134],\n",
       "       [ 0.354,  0.54 ,  0.683,  0.72 ,  0.765,  0.821,  0.884,  0.935]])"
      ]
     },
     "execution_count": 7,
     "metadata": {},
     "output_type": "execute_result"
    }
   ],
   "source": [
    "gvbm.trendfiltering_scaled(n, 2)"
   ]
  },
  {
   "cell_type": "code",
   "execution_count": 8,
   "id": "fea52908",
   "metadata": {},
   "outputs": [
    {
     "data": {
      "text/plain": [
       "array([[ 0.354, -0.54 , -0.342, -0.26 , -0.229, -0.199, -0.168, -0.134],\n",
       "       [ 0.354, -0.386, -0.342, -0.26 , -0.229, -0.199, -0.168, -0.134],\n",
       "       [ 0.354, -0.231, -0.293, -0.26 , -0.229, -0.199, -0.168, -0.134],\n",
       "       [ 0.354, -0.077, -0.195, -0.231, -0.229, -0.199, -0.168, -0.134],\n",
       "       [ 0.354,  0.077, -0.049, -0.141, -0.177, -0.199, -0.168, -0.134],\n",
       "       [ 0.354,  0.231,  0.146,  0.037, -0.02 , -0.093, -0.168, -0.134],\n",
       "       [ 0.354,  0.386,  0.39 ,  0.335,  0.295,  0.225,  0.101, -0.134],\n",
       "       [ 0.354,  0.54 ,  0.683,  0.781,  0.819,  0.862,  0.906,  0.935]])"
      ]
     },
     "execution_count": 8,
     "metadata": {},
     "output_type": "execute_result"
    }
   ],
   "source": [
    "gvbm.trendfiltering_scaled(n, 3)"
   ]
  },
  {
   "cell_type": "code",
   "execution_count": 9,
   "id": "b85c1a83",
   "metadata": {},
   "outputs": [
    {
     "data": {
      "text/plain": [
       "array([[ 0.354, -0.54 , -0.342, -0.26 , -0.213, -0.188, -0.162, -0.134],\n",
       "       [ 0.354, -0.386, -0.342, -0.26 , -0.213, -0.188, -0.162, -0.134],\n",
       "       [ 0.354, -0.231, -0.293, -0.26 , -0.213, -0.188, -0.162, -0.134],\n",
       "       [ 0.354, -0.077, -0.195, -0.231, -0.213, -0.188, -0.162, -0.134],\n",
       "       [ 0.354,  0.077, -0.049, -0.141, -0.182, -0.188, -0.162, -0.134],\n",
       "       [ 0.354,  0.231,  0.146,  0.037, -0.061, -0.116, -0.162, -0.134],\n",
       "       [ 0.354,  0.386,  0.39 ,  0.335,  0.243,  0.17 ,  0.054, -0.134],\n",
       "       [ 0.354,  0.54 ,  0.683,  0.781,  0.85 ,  0.884,  0.917,  0.935]])"
      ]
     },
     "execution_count": 9,
     "metadata": {},
     "output_type": "execute_result"
    }
   ],
   "source": [
    "gvbm.trendfiltering_scaled(n, 4)"
   ]
  },
  {
   "cell_type": "code",
   "execution_count": 10,
   "id": "2c14e25c",
   "metadata": {},
   "outputs": [],
   "source": [
    "b = np.random.normal(0, 1, size = n)"
   ]
  },
  {
   "cell_type": "code",
   "execution_count": 11,
   "id": "2ffd8eef",
   "metadata": {},
   "outputs": [
    {
     "data": {
      "text/plain": [
       "array([-1.204, -0.37 , -1.322, -1.   ,  0.09 , -0.174,  0.658,  0.066])"
      ]
     },
     "execution_count": 11,
     "metadata": {},
     "output_type": "execute_result"
    }
   ],
   "source": [
    "degree = 0\n",
    "H = gvbm.trendfiltering(n, degree)\n",
    "Hs, fscale, floc = gvbm.center_and_scale_tfbasis(H)\n",
    "np.dot(Hs, b)"
   ]
  },
  {
   "cell_type": "code",
   "execution_count": 12,
   "id": "361f52b5",
   "metadata": {},
   "outputs": [
    {
     "data": {
      "text/plain": [
       "array([2.828, 0.935, 1.225, 1.369, 1.414, 1.369, 1.225, 0.935])"
      ]
     },
     "execution_count": 12,
     "metadata": {},
     "output_type": "execute_result"
    }
   ],
   "source": [
    "fscale"
   ]
  },
  {
   "cell_type": "code",
   "execution_count": 13,
   "id": "474e5eb4",
   "metadata": {},
   "outputs": [
    {
     "data": {
      "text/plain": [
       "array([1., 1., 1., 1., 1., 1., 1., 1.])"
      ]
     },
     "execution_count": 13,
     "metadata": {},
     "output_type": "execute_result"
    }
   ],
   "source": [
    "np.sum(np.square(H / fscale - floc), axis = 0)"
   ]
  },
  {
   "cell_type": "code",
   "execution_count": 14,
   "id": "7780e443",
   "metadata": {},
   "outputs": [
    {
     "data": {
      "text/plain": [
       "array([-1.151, -0.371, -1.536, -1.096,  0.446,  0.084,  1.104,  0.549])"
      ]
     },
     "execution_count": 14,
     "metadata": {},
     "output_type": "execute_result"
    }
   ],
   "source": [
    "np.dot(H, b)"
   ]
  },
  {
   "cell_type": "code",
   "execution_count": 15,
   "id": "7a001555",
   "metadata": {},
   "outputs": [
    {
     "data": {
      "text/plain": [
       "array([-1.151, -0.371, -1.536, -1.096,  0.446,  0.084,  1.104,  0.549])"
      ]
     },
     "execution_count": 15,
     "metadata": {},
     "output_type": "execute_result"
    }
   ],
   "source": [
    "Xdotv(H, b, degree)"
   ]
  },
  {
   "cell_type": "code",
   "execution_count": 16,
   "id": "0ef151e9",
   "metadata": {},
   "outputs": [
    {
     "data": {
      "text/plain": [
       "array([-1.204, -0.37 , -1.322, -1.   ,  0.09 , -0.174,  0.658,  0.066])"
      ]
     },
     "execution_count": 16,
     "metadata": {},
     "output_type": "execute_result"
    }
   ],
   "source": [
    "np.dot(Hs, b)"
   ]
  },
  {
   "cell_type": "code",
   "execution_count": 17,
   "id": "de8fb029",
   "metadata": {},
   "outputs": [
    {
     "data": {
      "text/plain": [
       "array([-1.204, -0.37 , -1.322, -1.   ,  0.09 , -0.174,  0.658,  0.066])"
      ]
     },
     "execution_count": 17,
     "metadata": {},
     "output_type": "execute_result"
    }
   ],
   "source": [
    "Hb = Xdotv(H, b / fscale, degree)\n",
    "Hb - np.dot(floc, b)"
   ]
  },
  {
   "cell_type": "code",
   "execution_count": 18,
   "id": "f69010c5",
   "metadata": {},
   "outputs": [
    {
     "name": "stdout",
     "output_type": "stream",
     "text": [
      "0 True\n",
      "1 True\n",
      "2 True\n",
      "3 True\n",
      "4 True\n"
     ]
    }
   ],
   "source": [
    "def Xdotv_scaled(Hk, b, degree, fscale, floc):\n",
    "    Hkb = Xdotv(Hk, b / fscale, degree)\n",
    "    Hksb = Hkb - np.dot(b, floc)\n",
    "    return Hksb\n",
    "\n",
    "for k in range(5):\n",
    "    Hk = gvbm.trendfiltering(n, k)\n",
    "    Hks, fscale, floc = gvbm.center_and_scale_tfbasis(Hk)\n",
    "    success = np.allclose(np.dot(Hks, b), Xdotv_scaled(Hk, b, k, fscale, floc))\n",
    "    print(k, success)"
   ]
  },
  {
   "cell_type": "code",
   "execution_count": 19,
   "id": "c7e40853",
   "metadata": {},
   "outputs": [],
   "source": [
    "n = 4096\n",
    "degree = 5\n",
    "H = gvbm.trendfiltering(n, degree)\n",
    "b = np.random.normal(0, 1, size = n)\n",
    "Hs, fscale, floc = gvbm.center_and_scale_tfbasis(H)"
   ]
  },
  {
   "cell_type": "code",
   "execution_count": 20,
   "id": "50efab7b",
   "metadata": {},
   "outputs": [
    {
     "data": {
      "text/plain": [
       "True"
      ]
     },
     "execution_count": 20,
     "metadata": {},
     "output_type": "execute_result"
    }
   ],
   "source": [
    "np.allclose(np.dot(Hs, b), Xdotv_scaled(H, b, degree, fscale, floc))"
   ]
  },
  {
   "cell_type": "code",
   "execution_count": 21,
   "id": "084c437b",
   "metadata": {},
   "outputs": [
    {
     "name": "stdout",
     "output_type": "stream",
     "text": [
      "7.07 ms ± 723 µs per loop (mean ± std. dev. of 7 runs, 100 loops each)\n"
     ]
    }
   ],
   "source": [
    "%%timeit\n",
    "np.dot(Hs, b)"
   ]
  },
  {
   "cell_type": "code",
   "execution_count": 22,
   "id": "8db87e8e",
   "metadata": {},
   "outputs": [
    {
     "name": "stdout",
     "output_type": "stream",
     "text": [
      "246 µs ± 1.69 µs per loop (mean ± std. dev. of 7 runs, 1000 loops each)\n"
     ]
    }
   ],
   "source": [
    "%%timeit\n",
    "Xdotv_scaled(H, b, degree, fscale, floc)"
   ]
  },
  {
   "cell_type": "code",
   "execution_count": null,
   "id": "afa79509",
   "metadata": {},
   "outputs": [],
   "source": []
  },
  {
   "cell_type": "code",
   "execution_count": null,
   "id": "698f254d",
   "metadata": {},
   "outputs": [],
   "source": []
  }
 ],
 "metadata": {
  "kernelspec": {
   "display_name": "Python 3 (ipykernel)",
   "language": "python",
   "name": "python3"
  },
  "language_info": {
   "codemirror_mode": {
    "name": "ipython",
    "version": 3
   },
   "file_extension": ".py",
   "mimetype": "text/x-python",
   "name": "python",
   "nbconvert_exporter": "python",
   "pygments_lexer": "ipython3",
   "version": "3.9.12"
  }
 },
 "nbformat": 4,
 "nbformat_minor": 5
}
