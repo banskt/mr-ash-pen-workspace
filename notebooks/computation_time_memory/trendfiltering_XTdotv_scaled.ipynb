{
 "cells": [
  {
   "cell_type": "code",
   "execution_count": 1,
   "id": "e7867c32",
   "metadata": {},
   "outputs": [],
   "source": [
    "import numpy as np\n",
    "from gradvi.models import basis_matrix as gvbm\n",
    "np.set_printoptions(precision=3)"
   ]
  },
  {
   "cell_type": "code",
   "execution_count": 2,
   "id": "109bbc9b",
   "metadata": {},
   "outputs": [],
   "source": [
    "n = 8"
   ]
  },
  {
   "cell_type": "code",
   "execution_count": 3,
   "id": "8075eeb8",
   "metadata": {},
   "outputs": [],
   "source": [
    "def Xdotv(X, v, degree):\n",
    "    X3v1 = np.zeros_like(v)\n",
    "    v0 = v[:degree]\n",
    "    v1 = v[degree:]\n",
    "    X3v1[degree:] = np.cumsum(v1)\n",
    "    for k in range(degree):\n",
    "        X3v1 = np.cumsum(X3v1)\n",
    "    if degree == 0:\n",
    "        res = X3v1\n",
    "    elif degree == 1:\n",
    "        res = v[0] + X3v1\n",
    "    else:\n",
    "        X0v0 = np.dot(X[:, :degree], v0)\n",
    "        res = X0v0 + X3v1\n",
    "    return res\n",
    "\n",
    "def XTdotv(X, v, degree):\n",
    "    vrev = v[::-1]\n",
    "    X3v1 = np.cumsum(vrev)\n",
    "    for k in range(degree):\n",
    "        X3v1 = np.cumsum(X3v1)\n",
    "    res = X3v1[::-1]\n",
    "    ## degree 0 do not need any change\n",
    "    if degree == 1:\n",
    "        res[0] = np.sum(v)\n",
    "    else:\n",
    "        res[:degree] = np.dot(X[:, :degree].T, v)\n",
    "    return res"
   ]
  },
  {
   "cell_type": "code",
   "execution_count": 4,
   "id": "37d84a5c",
   "metadata": {},
   "outputs": [
    {
     "data": {
      "text/plain": [
       "array([[ 0.354,  0.354,  0.354,  0.354,  0.354,  0.354,  0.354,  0.354],\n",
       "       [-0.935,  0.134,  0.134,  0.134,  0.134,  0.134,  0.134,  0.134],\n",
       "       [-0.612, -0.612,  0.204,  0.204,  0.204,  0.204,  0.204,  0.204],\n",
       "       [-0.456, -0.456, -0.456,  0.274,  0.274,  0.274,  0.274,  0.274],\n",
       "       [-0.354, -0.354, -0.354, -0.354,  0.354,  0.354,  0.354,  0.354],\n",
       "       [-0.274, -0.274, -0.274, -0.274, -0.274,  0.456,  0.456,  0.456],\n",
       "       [-0.204, -0.204, -0.204, -0.204, -0.204, -0.204,  0.612,  0.612],\n",
       "       [-0.134, -0.134, -0.134, -0.134, -0.134, -0.134, -0.134,  0.935]])"
      ]
     },
     "execution_count": 4,
     "metadata": {},
     "output_type": "execute_result"
    }
   ],
   "source": [
    "gvbm.trendfiltering_scaled(n, 0).T"
   ]
  },
  {
   "cell_type": "code",
   "execution_count": 5,
   "id": "c32b045a",
   "metadata": {},
   "outputs": [
    {
     "data": {
      "text/plain": [
       "array([[ 0.125,  0.125,  0.125,  0.125,  0.125,  0.125,  0.125,  0.125],\n",
       "       [-0.935,  0.935,  0.   ,  0.   ,  0.   ,  0.   ,  0.   ,  0.   ],\n",
       "       [ 0.   , -1.225,  1.225,  0.   ,  0.   ,  0.   ,  0.   ,  0.   ],\n",
       "       [ 0.   ,  0.   , -1.369,  1.369,  0.   ,  0.   ,  0.   ,  0.   ],\n",
       "       [ 0.   ,  0.   ,  0.   , -1.414,  1.414,  0.   ,  0.   ,  0.   ],\n",
       "       [ 0.   ,  0.   ,  0.   ,  0.   , -1.369,  1.369,  0.   ,  0.   ],\n",
       "       [ 0.   ,  0.   ,  0.   ,  0.   ,  0.   , -1.225,  1.225,  0.   ],\n",
       "       [ 0.   ,  0.   ,  0.   ,  0.   ,  0.   ,  0.   , -0.935,  0.935]])"
      ]
     },
     "execution_count": 5,
     "metadata": {},
     "output_type": "execute_result"
    }
   ],
   "source": [
    "gvbm.trendfiltering_inverse_scaled(n, 0)"
   ]
  },
  {
   "cell_type": "code",
   "execution_count": 6,
   "id": "9372c58d",
   "metadata": {},
   "outputs": [
    {
     "data": {
      "text/plain": [
       "array([[ 0.354,  0.354,  0.354,  0.354,  0.354,  0.354,  0.354,  0.354],\n",
       "       [-0.54 , -0.386, -0.231, -0.077,  0.077,  0.231,  0.386,  0.54 ],\n",
       "       [-0.438, -0.438, -0.271, -0.104,  0.063,  0.23 ,  0.397,  0.563],\n",
       "       [-0.362, -0.362, -0.362, -0.169,  0.024,  0.217,  0.41 ,  0.603],\n",
       "       [-0.299, -0.299, -0.299, -0.299, -0.06 ,  0.179,  0.418,  0.657],\n",
       "       [-0.243, -0.243, -0.243, -0.243, -0.243,  0.081,  0.406,  0.73 ],\n",
       "       [-0.191, -0.191, -0.191, -0.191, -0.191, -0.191,  0.318,  0.826],\n",
       "       [-0.134, -0.134, -0.134, -0.134, -0.134, -0.134, -0.134,  0.935]])"
      ]
     },
     "execution_count": 6,
     "metadata": {},
     "output_type": "execute_result"
    }
   ],
   "source": [
    "gvbm.trendfiltering_scaled(n, 1).T"
   ]
  },
  {
   "cell_type": "code",
   "execution_count": 7,
   "id": "a8fc4733",
   "metadata": {},
   "outputs": [
    {
     "data": {
      "text/plain": [
       "array([[ 0.354,  0.354,  0.354,  0.354,  0.354,  0.354,  0.354,  0.354],\n",
       "       [-0.54 , -0.386, -0.231, -0.077,  0.077,  0.231,  0.386,  0.54 ],\n",
       "       [-0.342, -0.342, -0.293, -0.195, -0.049,  0.146,  0.39 ,  0.683],\n",
       "       [-0.296, -0.296, -0.296, -0.229, -0.093,  0.11 ,  0.381,  0.72 ],\n",
       "       [-0.255, -0.255, -0.255, -0.255, -0.153,  0.051,  0.357,  0.765],\n",
       "       [-0.216, -0.216, -0.216, -0.216, -0.216, -0.043,  0.302,  0.821],\n",
       "       [-0.177, -0.177, -0.177, -0.177, -0.177, -0.177,  0.177,  0.884],\n",
       "       [-0.134, -0.134, -0.134, -0.134, -0.134, -0.134, -0.134,  0.935]])"
      ]
     },
     "execution_count": 7,
     "metadata": {},
     "output_type": "execute_result"
    }
   ],
   "source": [
    "gvbm.trendfiltering_scaled(n, 2).T"
   ]
  },
  {
   "cell_type": "code",
   "execution_count": 8,
   "id": "fea52908",
   "metadata": {},
   "outputs": [
    {
     "data": {
      "text/plain": [
       "array([[ 0.354,  0.354,  0.354,  0.354,  0.354,  0.354,  0.354,  0.354],\n",
       "       [-0.54 , -0.386, -0.231, -0.077,  0.077,  0.231,  0.386,  0.54 ],\n",
       "       [-0.342, -0.342, -0.293, -0.195, -0.049,  0.146,  0.39 ,  0.683],\n",
       "       [-0.26 , -0.26 , -0.26 , -0.231, -0.141,  0.037,  0.335,  0.781],\n",
       "       [-0.229, -0.229, -0.229, -0.229, -0.177, -0.02 ,  0.295,  0.819],\n",
       "       [-0.199, -0.199, -0.199, -0.199, -0.199, -0.093,  0.225,  0.862],\n",
       "       [-0.168, -0.168, -0.168, -0.168, -0.168, -0.168,  0.101,  0.906],\n",
       "       [-0.134, -0.134, -0.134, -0.134, -0.134, -0.134, -0.134,  0.935]])"
      ]
     },
     "execution_count": 8,
     "metadata": {},
     "output_type": "execute_result"
    }
   ],
   "source": [
    "gvbm.trendfiltering_scaled(n, 3).T"
   ]
  },
  {
   "cell_type": "code",
   "execution_count": 9,
   "id": "b85c1a83",
   "metadata": {},
   "outputs": [
    {
     "data": {
      "text/plain": [
       "array([[ 0.354,  0.354,  0.354,  0.354,  0.354,  0.354,  0.354,  0.354],\n",
       "       [-0.54 , -0.386, -0.231, -0.077,  0.077,  0.231,  0.386,  0.54 ],\n",
       "       [-0.342, -0.342, -0.293, -0.195, -0.049,  0.146,  0.39 ,  0.683],\n",
       "       [-0.26 , -0.26 , -0.26 , -0.231, -0.141,  0.037,  0.335,  0.781],\n",
       "       [-0.213, -0.213, -0.213, -0.213, -0.182, -0.061,  0.243,  0.85 ],\n",
       "       [-0.188, -0.188, -0.188, -0.188, -0.188, -0.116,  0.17 ,  0.884],\n",
       "       [-0.162, -0.162, -0.162, -0.162, -0.162, -0.162,  0.054,  0.917],\n",
       "       [-0.134, -0.134, -0.134, -0.134, -0.134, -0.134, -0.134,  0.935]])"
      ]
     },
     "execution_count": 9,
     "metadata": {},
     "output_type": "execute_result"
    }
   ],
   "source": [
    "gvbm.trendfiltering_scaled(n, 4).T"
   ]
  },
  {
   "cell_type": "code",
   "execution_count": 10,
   "id": "2c14e25c",
   "metadata": {},
   "outputs": [],
   "source": [
    "b = np.random.normal(0, 1, size = n)"
   ]
  },
  {
   "cell_type": "code",
   "execution_count": 11,
   "id": "2ffd8eef",
   "metadata": {},
   "outputs": [],
   "source": [
    "degree = 0\n",
    "H = gvbm.trendfiltering(n, degree)\n",
    "Hs, fscale, floc = gvbm.center_and_scale_tfbasis(H)"
   ]
  },
  {
   "cell_type": "code",
   "execution_count": 12,
   "id": "474e5eb4",
   "metadata": {},
   "outputs": [
    {
     "data": {
      "text/plain": [
       "array([1., 1., 1., 1., 1., 1., 1., 1.])"
      ]
     },
     "execution_count": 12,
     "metadata": {},
     "output_type": "execute_result"
    }
   ],
   "source": [
    "np.sum(np.square(Hs), axis = 0)"
   ]
  },
  {
   "cell_type": "code",
   "execution_count": 13,
   "id": "7780e443",
   "metadata": {},
   "outputs": [
    {
     "data": {
      "text/plain": [
       "array([1.925, 1.862, 2.625, 1.727, 2.072, 2.589, 1.507, 1.125])"
      ]
     },
     "execution_count": 13,
     "metadata": {},
     "output_type": "execute_result"
    }
   ],
   "source": [
    "np.dot(H.T, b)"
   ]
  },
  {
   "cell_type": "code",
   "execution_count": 14,
   "id": "282ecc9d",
   "metadata": {},
   "outputs": [
    {
     "data": {
      "text/plain": [
       "array([1.925, 1.862, 2.625, 1.727, 2.072, 2.589, 1.507, 1.125])"
      ]
     },
     "execution_count": 14,
     "metadata": {},
     "output_type": "execute_result"
    }
   ],
   "source": [
    "XTdotv(H, b, degree)"
   ]
  },
  {
   "cell_type": "code",
   "execution_count": 15,
   "id": "2c07f3ce",
   "metadata": {},
   "outputs": [
    {
     "data": {
      "text/plain": [
       "array([0.681, 0.19 , 0.964, 0.383, 0.785, 1.364, 0.837, 0.946])"
      ]
     },
     "execution_count": 15,
     "metadata": {},
     "output_type": "execute_result"
    }
   ],
   "source": [
    "np.dot(Hs.T, b)"
   ]
  },
  {
   "cell_type": "code",
   "execution_count": 16,
   "id": "c03dcc81",
   "metadata": {},
   "outputs": [
    {
     "data": {
      "text/plain": [
       "array([0.681, 0.19 , 0.964, 0.383, 0.785, 1.364, 0.837, 0.946])"
      ]
     },
     "execution_count": 16,
     "metadata": {},
     "output_type": "execute_result"
    }
   ],
   "source": [
    "HTb = XTdotv(H, b, degree)\n",
    "HTb / fscale - floc * np.sum(b)"
   ]
  },
  {
   "cell_type": "code",
   "execution_count": 17,
   "id": "f69010c5",
   "metadata": {},
   "outputs": [
    {
     "name": "stdout",
     "output_type": "stream",
     "text": [
      "0 True\n",
      "1 True\n",
      "2 True\n",
      "3 True\n",
      "4 True\n"
     ]
    }
   ],
   "source": [
    "def Xdotv_scaled(H, b, degree, fscale, floc):\n",
    "    Hb = Xdotv(H, b / fscale, degree)\n",
    "    Hsb = Hb - np.dot(b, floc)\n",
    "    return Hsb\n",
    "\n",
    "def XTdotv_scaled(H, b, degree, fscale, floc):\n",
    "    HTb = XTdotv(H, b, degree)\n",
    "    HsTb = (HTb / fscale) - (floc * np.sum(b))\n",
    "    return HsTb\n",
    "\n",
    "for k in range(5):\n",
    "    Hk = gvbm.trendfiltering(n, k)\n",
    "    Hks, fscale, floc = gvbm.center_and_scale_tfbasis(Hk)\n",
    "    success = np.allclose(np.dot(Hks.T, b), XTdotv_scaled(Hk, b, k, fscale, floc))\n",
    "    print(k, success)"
   ]
  },
  {
   "cell_type": "code",
   "execution_count": 18,
   "id": "5b5f0f19",
   "metadata": {},
   "outputs": [],
   "source": [
    "n = 4096\n",
    "degree = 5\n",
    "H = gvbm.trendfiltering(n, degree)\n",
    "b = np.random.normal(0, 1, size = n)\n",
    "Hs, fscale, floc = gvbm.center_and_scale_tfbasis(H)"
   ]
  },
  {
   "cell_type": "code",
   "execution_count": 19,
   "id": "26b44a5d",
   "metadata": {},
   "outputs": [
    {
     "data": {
      "text/plain": [
       "True"
      ]
     },
     "execution_count": 19,
     "metadata": {},
     "output_type": "execute_result"
    }
   ],
   "source": [
    "np.allclose(np.dot(Hs.T, b), XTdotv_scaled(H, b, degree, fscale, floc))"
   ]
  },
  {
   "cell_type": "code",
   "execution_count": 20,
   "id": "77ca2663",
   "metadata": {},
   "outputs": [
    {
     "name": "stdout",
     "output_type": "stream",
     "text": [
      "7.06 ms ± 55.3 µs per loop (mean ± std. dev. of 7 runs, 100 loops each)\n"
     ]
    }
   ],
   "source": [
    "%%timeit\n",
    "np.dot(Hs.T, b)"
   ]
  },
  {
   "cell_type": "code",
   "execution_count": 21,
   "id": "b0ca4118",
   "metadata": {},
   "outputs": [
    {
     "name": "stdout",
     "output_type": "stream",
     "text": [
      "386 µs ± 12.9 µs per loop (mean ± std. dev. of 7 runs, 1000 loops each)\n"
     ]
    }
   ],
   "source": [
    "%%timeit\n",
    "XTdotv_scaled(H, b, degree, fscale, floc)"
   ]
  },
  {
   "cell_type": "code",
   "execution_count": null,
   "id": "d77b32bb",
   "metadata": {},
   "outputs": [],
   "source": []
  }
 ],
 "metadata": {
  "kernelspec": {
   "display_name": "Python 3 (ipykernel)",
   "language": "python",
   "name": "python3"
  },
  "language_info": {
   "codemirror_mode": {
    "name": "ipython",
    "version": 3
   },
   "file_extension": ".py",
   "mimetype": "text/x-python",
   "name": "python",
   "nbconvert_exporter": "python",
   "pygments_lexer": "ipython3",
   "version": "3.9.12"
  }
 },
 "nbformat": 4,
 "nbformat_minor": 5
}
