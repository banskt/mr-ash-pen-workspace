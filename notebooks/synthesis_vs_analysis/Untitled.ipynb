{
 "cells": [
  {
   "cell_type": "code",
   "execution_count": 1,
   "id": "edc1e104",
   "metadata": {},
   "outputs": [],
   "source": [
    "import numpy as np\n",
    "\n",
    "import matplotlib.pyplot as plt\n",
    "from pymir import mpl_stylesheet\n",
    "from pymir import mpl_utils\n",
    "mpl_stylesheet.banskt_presentation(splinecolor = 'black')\n",
    "\n",
    "from mrashpen.utils import R_trendfilter\n",
    "from mrashpen.inference.mrash_wrapR import MrASHR\n",
    "from mrashpen.models.mixture_gaussian import emfit\n",
    "\n",
    "from gradvi.inference import LinearRegression, Trendfiltering\n",
    "from gradvi.normal_means import NormalMeans, NormalMeansFromPosterior\n",
    "from gradvi.tests import toy_priors, toy_data\n",
    "from gradvi.optimize import moving_average as gvma\n",
    "from gradvi.models import basis_matrix as gvbm\n",
    "from gradvi.models import TrendfilteringModel"
   ]
  },
  {
   "cell_type": "code",
   "execution_count": 2,
   "id": "a105f457",
   "metadata": {},
   "outputs": [
    {
     "data": {
      "image/png": "[encoded data removed]",
      "text/plain": [
       "<Figure size 432x432 with 1 Axes>"
      ]
     },
     "metadata": {
      "needs_background": "light"
     },
     "output_type": "display_data"
    }
   ],
   "source": [
    "n = 512\n",
    "x = np.linspace(0, 1, n)\n",
    "np.random.seed(100)\n",
    "\n",
    "degree = 2\n",
    "nknots = 4\n",
    "strue  = 0.2\n",
    "knots  = np.linspace(0, 1, nknots+2)[1:-1]\n",
    "\n",
    "data = toy_data.changepoint_from_bspline(x, knots, strue, degree = degree, \n",
    "                        signal = \"normal\", seed = 100,\n",
    "                        include_intercept = False)\n",
    "\n",
    "mpl_stylesheet.banskt_presentation(splinecolor = 'black', dpi = 72)\n",
    "fig = plt.figure(figsize = (6, 6))\n",
    "\n",
    "ax = fig.add_subplot(1, 1, 1)\n",
    "ax.scatter(data.x, data.y, s = 2, color = 'black')\n",
    "ax.plot(data.x, data.ytrue)\n",
    "ax.set_title(f\"Trendfiltering (degree = {degree})\", pad = 20)\n",
    "\n",
    "plt.show()"
   ]
  },
  {
   "cell_type": "code",
   "execution_count": 3,
   "id": "1df73d7a",
   "metadata": {},
   "outputs": [],
   "source": [
    "s2_true = np.var(data.y - data.ytrue)\n",
    "\n",
    "H = gvbm.trendfiltering(n, degree)\n",
    "Hinv = gvbm.trendfiltering_inverse(n, degree)"
   ]
  },
  {
   "cell_type": "code",
   "execution_count": 4,
   "id": "a9b22edb",
   "metadata": {},
   "outputs": [],
   "source": [
    "Ddoty = np.zeros_like(data.y)\n",
    "Ddoty[degree + 1:] = np.diff(data.y, n = degree + 1)\n",
    "for i in range(degree + 1):\n",
    "    Ddoty[i] = np.diff(data.y[:i+1], n = i)"
   ]
  },
  {
   "cell_type": "code",
   "execution_count": 5,
   "id": "ddfeed18",
   "metadata": {},
   "outputs": [
    {
     "data": {
      "text/plain": [
       "True"
      ]
     },
     "execution_count": 5,
     "metadata": {},
     "output_type": "execute_result"
    }
   ],
   "source": [
    "np.allclose(Ddoty,np.dot(Hinv, data.y))"
   ]
  },
  {
   "cell_type": "code",
   "execution_count": 11,
   "id": "5be6a76a",
   "metadata": {},
   "outputs": [
    {
     "data": {
      "text/plain": [
       "array([ 0.,  0.,  1., -3.,  3., -1.,  0.,  0.,  0.,  0.,  0.,  0.,  0.,\n",
       "        0.,  0.,  0.,  0.,  0.,  0.,  0.,  0.,  0.,  0.,  0.,  0.,  0.,\n",
       "        0.,  0.,  0.,  0.,  0.,  0.,  0.,  0.,  0.,  0.,  0.,  0.,  0.,\n",
       "        0.,  0.,  0.,  0.,  0.,  0.,  0.,  0.,  0.,  0.,  0.,  0.,  0.,\n",
       "        0.,  0.,  0.,  0.,  0.,  0.,  0.,  0.,  0.,  0.,  0.,  0.,  0.,\n",
       "        0.,  0.,  0.,  0.,  0.,  0.,  0.,  0.,  0.,  0.,  0.,  0.,  0.,\n",
       "        0.,  0.,  0.,  0.,  0.,  0.,  0.,  0.,  0.,  0.,  0.,  0.,  0.,\n",
       "        0.,  0.,  0.,  0.,  0.,  0.,  0.,  0.,  0.,  0.,  0.,  0.,  0.,\n",
       "        0.,  0.,  0.,  0.,  0.,  0.,  0.,  0.,  0.,  0.,  0.,  0.,  0.,\n",
       "        0.,  0.,  0.,  0.,  0.,  0.,  0.,  0.,  0.,  0.,  0.,  0.,  0.,\n",
       "        0.,  0.,  0.,  0.,  0.,  0.,  0.,  0.,  0.,  0.,  0.,  0.,  0.,\n",
       "        0.,  0.,  0.,  0.,  0.,  0.,  0.,  0.,  0.,  0.,  0.,  0.,  0.,\n",
       "        0.,  0.,  0.,  0.,  0.,  0.,  0.,  0.,  0.,  0.,  0.,  0.,  0.,\n",
       "        0.,  0.,  0.,  0.,  0.,  0.,  0.,  0.,  0.,  0.,  0.,  0.,  0.,\n",
       "        0.,  0.,  0.,  0.,  0.,  0.,  0.,  0.,  0.,  0.,  0.,  0.,  0.,\n",
       "        0.,  0.,  0.,  0.,  0.,  0.,  0.,  0.,  0.,  0.,  0.,  0.,  0.,\n",
       "        0.,  0.,  0.,  0.,  0.,  0.,  0.,  0.,  0.,  0.,  0.,  0.,  0.,\n",
       "        0.,  0.,  0.,  0.,  0.,  0.,  0.,  0.,  0.,  0.,  0.,  0.,  0.,\n",
       "        0.,  0.,  0.,  0.,  0.,  0.,  0.,  0.,  0.,  0.,  0.,  0.,  0.,\n",
       "        0.,  0.,  0.,  0.,  0.,  0.,  0.,  0.,  0.,  0.,  0.,  0.,  0.,\n",
       "        0.,  0.,  0.,  0.,  0.,  0.,  0.,  0.,  0.,  0.,  0.,  0.,  0.,\n",
       "        0.,  0.,  0.,  0.,  0.,  0.,  0.,  0.,  0.,  0.,  0.,  0.,  0.,\n",
       "        0.,  0.,  0.,  0.,  0.,  0.,  0.,  0.,  0.,  0.,  0.,  0.,  0.,\n",
       "        0.,  0.,  0.,  0.,  0.,  0.,  0.,  0.,  0.,  0.,  0.,  0.,  0.,\n",
       "        0.,  0.,  0.,  0.,  0.,  0.,  0.,  0.,  0.,  0.,  0.,  0.,  0.,\n",
       "        0.,  0.,  0.,  0.,  0.,  0.,  0.,  0.,  0.,  0.,  0.,  0.,  0.,\n",
       "        0.,  0.,  0.,  0.,  0.,  0.,  0.,  0.,  0.,  0.,  0.,  0.,  0.,\n",
       "        0.,  0.,  0.,  0.,  0.,  0.,  0.,  0.,  0.,  0.,  0.,  0.,  0.,\n",
       "        0.,  0.,  0.,  0.,  0.,  0.,  0.,  0.,  0.,  0.,  0.,  0.,  0.,\n",
       "        0.,  0.,  0.,  0.,  0.,  0.,  0.,  0.,  0.,  0.,  0.,  0.,  0.,\n",
       "        0.,  0.,  0.,  0.,  0.,  0.,  0.,  0.,  0.,  0.,  0.,  0.,  0.,\n",
       "        0.,  0.,  0.,  0.,  0.,  0.,  0.,  0.,  0.,  0.,  0.,  0.,  0.,\n",
       "        0.,  0.,  0.,  0.,  0.,  0.,  0.,  0.,  0.,  0.,  0.,  0.,  0.,\n",
       "        0.,  0.,  0.,  0.,  0.,  0.,  0.,  0.,  0.,  0.,  0.,  0.,  0.,\n",
       "        0.,  0.,  0.,  0.,  0.,  0.,  0.,  0.,  0.,  0.,  0.,  0.,  0.,\n",
       "        0.,  0.,  0.,  0.,  0.,  0.,  0.,  0.,  0.,  0.,  0.,  0.,  0.,\n",
       "        0.,  0.,  0.,  0.,  0.,  0.,  0.,  0.,  0.,  0.,  0.,  0.,  0.,\n",
       "        0.,  0.,  0.,  0.,  0.,  0.,  0.,  0.,  0.,  0.,  0.,  0.,  0.,\n",
       "        0.,  0.,  0.,  0.,  0.,  0.,  0.,  0.,  0.,  0.,  0.,  0.,  0.,\n",
       "        0.,  0.,  0.,  0.,  0.])"
      ]
     },
     "execution_count": 11,
     "metadata": {},
     "output_type": "execute_result"
    }
   ],
   "source": [
    "Hinv.T[2,:]"
   ]
  },
  {
   "cell_type": "code",
   "execution_count": 8,
   "id": "13b33e1c",
   "metadata": {},
   "outputs": [
    {
     "data": {
      "text/plain": [
       "array([ 2.36222971e-01,  3.89827219e-02, -5.52748922e-01,  7.03633583e-01,\n",
       "       -8.66229935e-01,  7.92753810e-01, -1.82312541e-01, -1.96653680e-01,\n",
       "       -3.27523916e-01,  1.00335273e+00, -7.63313411e-01, -5.25959369e-01,\n",
       "        1.24643178e+00, -2.19713713e-01, -5.83807108e-01, -8.29166626e-02,\n",
       "        3.78380389e-01,  1.36850890e-01, -3.59056601e-01,  6.30997521e-01,\n",
       "       -8.77611645e-01,  4.56979748e-01,  3.23429943e-01, -8.36964298e-01,\n",
       "        2.93307933e-01,  5.04951439e-01, -9.96866253e-02, -7.98468665e-01,\n",
       "        1.47555383e+00, -1.54805303e+00,  6.84942023e-01, -1.54856812e-01,\n",
       "        2.75151749e-01, -3.22189361e-01,  4.18991695e-01, -7.65735942e-01,\n",
       "        1.49569412e+00, -1.74563195e+00,  6.38319379e-01,  7.80587287e-01,\n",
       "       -1.67345655e+00,  2.15968049e+00, -1.80800534e+00,  8.65114848e-01,\n",
       "       -3.06197027e-01, -6.44536540e-02,  2.72506349e-01,  2.46226670e-01,\n",
       "       -1.05014342e+00,  1.38450242e+00, -7.91947766e-01, -5.98185148e-02,\n",
       "       -1.48901840e-02,  3.14747183e-01, -4.75459842e-02,  1.96256026e-01,\n",
       "       -7.33035869e-01,  2.34893646e-01,  5.20002333e-01, -3.40326464e-01,\n",
       "        5.83475634e-01, -9.59988528e-01, -1.13232971e-01,  1.10428622e+00,\n",
       "       -6.49116281e-01, -5.48167373e-01,  1.67808278e+00, -1.83912745e+00,\n",
       "        1.44902063e+00, -1.46072495e+00,  1.50353469e+00, -1.41048062e+00,\n",
       "        1.05552339e+00,  9.04940449e-02, -1.39511709e+00,  1.46461052e+00,\n",
       "       -4.74675113e-01, -5.11332909e-02, -4.15087755e-02,  1.53058726e-01,\n",
       "       -1.02601038e-01, -2.55280965e-02, -4.93498440e-01,  6.29864652e-01,\n",
       "        6.38635951e-01, -1.64464049e+00,  1.70001486e+00, -1.15752717e+00,\n",
       "        3.18171158e-01,  8.55949448e-02,  3.68842591e-01, -1.03956069e+00,\n",
       "        6.59749577e-01,  4.38266907e-01, -1.44982638e+00,  1.62650518e+00,\n",
       "       -6.73951375e-01, -1.40594765e-01,  2.95342023e-01, -2.19637206e-01,\n",
       "        3.54271426e-01, -3.77713779e-01, -2.81927709e-01,  7.69178935e-01,\n",
       "       -3.33394375e-01, -3.65240792e-01,  6.61774532e-01, -1.09776753e+00,\n",
       "        1.50254586e+00, -3.98256529e-01, -1.24668869e+00,  1.54076929e+00,\n",
       "       -1.64444787e+00,  2.40483760e+00, -2.15491680e+00,  6.36981784e-01,\n",
       "        5.21488980e-01, -1.12344777e+00,  1.38297995e+00, -1.04577434e+00,\n",
       "        5.86259506e-01,  2.14721807e-01, -9.36751364e-01,  7.49867493e-02,\n",
       "        1.00408994e+00, -2.01718545e-01, -1.01101230e+00,  1.12796554e+00,\n",
       "       -1.07521965e+00,  7.88417410e-01, -3.94940465e-03,  1.14157879e-01,\n",
       "       -8.29268498e-01,  3.94579825e-01,  6.56847335e-01, -1.27375895e+00,\n",
       "        1.73233325e+00, -1.41515282e+00,  9.83228907e-02,  7.20644836e-01,\n",
       "       -3.95793961e-01, -6.31919732e-01,  1.65989307e+00, -1.64126976e+00,\n",
       "        7.84638693e-01, -8.68629789e-02, -3.10827778e-02, -7.83473682e-01,\n",
       "        1.79128330e+00, -1.90375050e+00,  1.47613080e+00, -9.36573063e-01,\n",
       "        4.59748386e-01, -5.17095595e-01,  1.09786416e+00, -1.91479270e+00,\n",
       "        2.57172036e+00, -2.38235650e+00,  1.14539102e+00,  6.05017967e-01,\n",
       "       -1.73677194e+00,  1.29105116e+00,  1.62296279e-01, -1.25195593e+00,\n",
       "        1.34156870e+00, -8.56127282e-01, -1.83442371e-02,  1.02830099e+00,\n",
       "       -9.02336663e-01,  1.57612073e-01,  1.36617588e-01, -4.65995063e-01,\n",
       "        4.66492584e-01, -1.77154769e-01,  4.98986812e-01, -1.20044749e+00,\n",
       "        1.52910347e+00, -9.58240484e-01,  8.11764885e-02, -1.25630122e-01,\n",
       "        5.68965084e-01, -6.54150491e-01,  8.48859958e-01, -9.04683470e-01,\n",
       "        3.34127833e-01,  7.38110429e-01, -1.41590974e+00,  1.11355573e+00,\n",
       "       -7.89009962e-01,  9.65058733e-01, -1.32053809e+00,  1.38825802e+00,\n",
       "       -5.21636437e-01, -7.10043683e-01,  1.10772980e+00, -8.19213849e-01,\n",
       "        1.80039402e-01,  3.59009387e-01,  4.14986375e-01, -1.66980189e+00,\n",
       "        1.55959859e+00, -8.29029768e-01,  6.52424892e-01, -7.04172602e-01,\n",
       "        9.02270619e-01, -1.30051486e+00,  1.36355605e+00, -1.11223614e+00,\n",
       "        8.64487383e-01, -7.63657284e-01,  5.92343866e-01,  3.53956604e-01,\n",
       "       -1.84011343e+00,  2.73071846e+00, -2.04210973e+00,  7.16798882e-01,\n",
       "       -1.99366065e-02, -4.77561609e-01,  4.39599709e-01, -1.66596930e-01,\n",
       "        7.09470986e-01, -9.64880884e-01,  1.72144908e-01,  4.34275303e-01,\n",
       "       -2.34608113e-01, -2.98534570e-01,  6.44154204e-01, -8.36267052e-01,\n",
       "        8.69224221e-01,  2.14178232e-01, -1.62298096e+00,  1.37080755e+00,\n",
       "       -5.86660376e-01,  8.84100249e-01, -1.08387782e+00,  2.24973088e-01,\n",
       "        4.96073772e-01, -1.87917941e-01,  2.11601769e-01, -1.26412135e+00,\n",
       "        1.86015711e+00, -1.20291414e+00,  9.46812815e-02,  1.74820991e-01,\n",
       "        4.73512499e-01, -6.28745567e-01, -4.27264489e-02,  1.09947304e-01,\n",
       "        1.06108902e+00, -1.79944106e+00,  5.82842500e-01,  1.18792550e+00,\n",
       "       -8.82168777e-01, -1.12066368e+00,  2.06720919e+00, -1.15672745e+00,\n",
       "       -3.66447692e-01,  1.11406101e+00, -7.33967727e-01,  1.72115769e-01,\n",
       "       -3.04922318e-01,  7.30362532e-01, -8.89594810e-01,  9.86109185e-01,\n",
       "       -5.87590174e-01, -4.15105311e-01,  7.67925976e-01,  3.64381588e-01,\n",
       "       -1.88244613e+00,  2.01208019e+00, -1.14929548e+00,  5.17596097e-01,\n",
       "       -6.06282997e-01,  1.03686581e+00, -4.69830044e-01, -1.03267512e-01,\n",
       "       -2.35765015e-01,  5.06303138e-02,  1.62565558e-01,  3.01037288e-01,\n",
       "       -3.28462368e-01, -5.64023786e-01,  1.61440827e+00, -1.91402314e+00,\n",
       "        1.66218978e+00, -1.42830135e+00,  1.15224094e+00, -8.94670477e-01,\n",
       "        8.22911341e-01, -4.44389314e-01, -5.66714642e-01,  1.15613921e+00,\n",
       "       -8.04196940e-01, -3.00695173e-01,  1.15907614e+00, -2.34713597e-01,\n",
       "       -6.06400054e-01, -5.63493970e-02,  8.86879310e-01, -1.20557095e+00,\n",
       "        1.08540633e+00, -1.12856148e+00,  1.07530121e+00, -5.86568512e-01,\n",
       "        2.67618741e-02,  2.53167905e-01,  3.41511905e-01, -9.48643726e-01,\n",
       "        2.86748634e-01,  8.13482173e-01, -1.16933995e+00,  7.98783505e-01,\n",
       "       -1.08743259e-01, -1.38180635e-02, -7.18079305e-01,  7.16175311e-01,\n",
       "        4.03018984e-01, -7.21890947e-01, -2.13464718e-01,  6.67993325e-01,\n",
       "       -1.39600286e-01, -1.34833754e-01, -4.90246587e-02,  1.23887614e-01,\n",
       "       -3.91427042e-01,  9.50801875e-01, -8.96127394e-01, -1.65441554e-01,\n",
       "        4.24430073e-01,  2.97749547e-01,  7.79600658e-01, -2.49798383e+00,\n",
       "        1.94323827e+00, -5.85305559e-01,  1.09560168e-01,  3.26649711e-01,\n",
       "       -6.41111105e-01,  2.29454113e-01,  1.73005187e-02,  6.23090248e-01,\n",
       "       -1.34744920e+00,  1.16419458e+00, -7.46409054e-01,  5.06124761e-01,\n",
       "        5.20005596e-02, -5.94870995e-01,  8.51716790e-01, -1.03564949e+00,\n",
       "        1.29425159e+00, -1.24831540e+00,  8.63721392e-01, -6.63746013e-01,\n",
       "        2.47547790e-01,  5.02301781e-01, -6.43181394e-01,  1.57624026e-02,\n",
       "        3.32472606e-01,  2.27683261e-01, -8.47342672e-01,  1.20954243e+00,\n",
       "       -1.73428715e+00,  1.79813519e+00, -1.53256376e+00,  1.75899277e+00,\n",
       "       -1.97536245e+00,  1.60193525e+00, -1.16665409e+00,  9.60392946e-01,\n",
       "       -1.24800241e+00,  2.00306571e+00, -1.47350194e+00, -2.85707227e-01,\n",
       "        1.23826423e+00, -9.08475933e-01, -2.18223477e-01,  1.29185846e+00,\n",
       "       -1.72445552e+00,  1.39208994e+00, -8.39990490e-01,  9.36388849e-01,\n",
       "       -1.15655787e+00,  9.76034655e-01, -6.07751882e-01,  2.56217835e-01,\n",
       "       -1.53464532e-01,  8.37100619e-02,  3.25483564e-02,  4.40573929e-01,\n",
       "       -1.48123636e+00,  1.78401547e+00, -7.82914483e-01, -3.74539446e-01,\n",
       "        7.16306128e-01, -6.35727084e-01,  5.21494007e-01, -7.34336831e-02,\n",
       "       -5.79974129e-01,  9.16743613e-01, -9.53715248e-01,  1.27786422e+00,\n",
       "       -1.84016705e+00,  1.67989952e+00, -8.25792736e-01, -1.57413875e-01,\n",
       "        1.08810259e+00, -1.25856988e+00,  5.19880300e-01,  2.91425546e-02,\n",
       "        5.69486217e-01, -1.54284103e+00,  1.77689586e+00, -1.19813996e+00,\n",
       "       -2.08602603e-01,  1.49577615e+00, -1.53425351e+00,  6.36969114e-01,\n",
       "        8.84793334e-03,  4.10563856e-01, -7.46990632e-01,  2.86824304e-01,\n",
       "       -9.34848029e-02, -3.82791253e-02,  9.58498502e-01, -1.76474683e+00,\n",
       "        1.08051764e+00,  7.94431243e-02,  2.76104407e-01, -1.53334514e+00,\n",
       "        1.78903841e+00, -7.40202091e-01, -1.77791652e-01,  6.08969467e-02,\n",
       "        1.33410883e-01, -2.24119145e-01,  8.65458750e-01, -9.87296197e-01,\n",
       "        1.88796127e-01,  7.75529869e-02,  5.36635922e-01, -1.50220439e+00,\n",
       "        1.94281242e+00, -1.29114962e+00,  5.15771788e-01, -7.80013266e-02,\n",
       "       -5.50667668e-02,  9.48608220e-02, -4.90318286e-01,  5.09492016e-01,\n",
       "       -1.89787628e-01,  1.04887948e-01, -2.27978802e-03,  4.48132145e-01,\n",
       "       -1.10147076e+00,  7.10750173e-01,  5.17216953e-02, -4.54495480e-01,\n",
       "        8.66194380e-01, -1.18698577e+00,  1.26559987e+00, -9.14661782e-01,\n",
       "        4.28910280e-01, -7.88426841e-01,  9.73913960e-01, -1.20696872e-01,\n",
       "       -1.04689636e-01, -5.31095340e-01,  9.15716446e-01, -1.17117476e+00,\n",
       "        1.66941127e+00, -1.89937364e+00,  1.43625538e+00, -9.85960580e-01,\n",
       "        8.11651543e-01, -6.93945239e-01,  3.83789115e-01,  2.37356612e-01,\n",
       "       -4.91116923e-01,  4.07865137e-01, -5.66027359e-01,  5.85863939e-01,\n",
       "        2.98172078e-01, -1.49262072e+00,  1.48047064e+00, -5.66729352e-01,\n",
       "        2.40486762e-01, -6.88265860e-03, -9.22449386e-01,  1.40187354e+00,\n",
       "       -9.90064165e-01,  9.66469478e-01, -1.74962937e+00,  1.70289265e+00,\n",
       "       -8.14557380e-01,  6.61881771e-01, -3.16793186e-01, -7.60679593e-01,\n",
       "        1.61882731e+00, -2.62770637e+00,  2.86089854e+00, -9.11606240e-01,\n",
       "       -3.99611030e-01, -4.38310301e-01,  6.34534349e-01,  9.60276586e-02,\n",
       "       -3.26326277e-01,  1.40625207e-01,  3.84582147e-01, -8.22418637e-01,\n",
       "        6.07218582e-01,  2.76422848e-01, -9.43068955e-01,  4.97639136e-01])"
      ]
     },
     "execution_count": 8,
     "metadata": {},
     "output_type": "execute_result"
    }
   ],
   "source": [
    "np.dot(Hinv.T, data.y)"
   ]
  },
  {
   "cell_type": "code",
   "execution_count": 12,
   "id": "0bad0b79",
   "metadata": {},
   "outputs": [
    {
     "data": {
      "text/plain": [
       "0.23622297120664917"
      ]
     },
     "execution_count": 12,
     "metadata": {},
     "output_type": "execute_result"
    }
   ],
   "source": [
    "data.y[0] - data.y[1] + data.y[2] - data.y[3]"
   ]
  },
  {
   "cell_type": "code",
   "execution_count": null,
   "id": "0feb0792",
   "metadata": {},
   "outputs": [],
   "source": []
  }
 ],
 "metadata": {
  "kernelspec": {
   "display_name": "Python 3 (ipykernel)",
   "language": "python",
   "name": "python3"
  },
  "language_info": {
   "codemirror_mode": {
    "name": "ipython",
    "version": 3
   },
   "file_extension": ".py",
   "mimetype": "text/x-python",
   "name": "python",
   "nbconvert_exporter": "python",
   "pygments_lexer": "ipython3",
   "version": "3.9.12"
  }
 },
 "nbformat": 4,
 "nbformat_minor": 5
}
