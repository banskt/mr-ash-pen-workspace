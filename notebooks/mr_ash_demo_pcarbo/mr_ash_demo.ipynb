{
 "cells": [
  {
   "cell_type": "code",
   "execution_count": 1,
   "id": "b1948004",
   "metadata": {},
   "outputs": [],
   "source": [
    "import numpy as np\n",
    "import rpy2.robjects as robj\n",
    "import rpy2.robjects.vectors as rvec\n",
    "from rpy2.robjects.packages import importr\n",
    "from rpy2.robjects import numpy2ri\n",
    "numpy2ri.activate()"
   ]
  },
  {
   "cell_type": "code",
   "execution_count": 14,
   "id": "9a73a7cf",
   "metadata": {},
   "outputs": [],
   "source": [
    "'''\n",
    "get exact same X and y with the same seed as used by Peter.\n",
    "https://github.com/pcarbo/mr-ash/blob/master/scripts/mr_ash_optim_demo.R\n",
    "'''\n",
    "n = 500\n",
    "p = 20\n",
    "btrue = np.zeros(p)\n",
    "btrue[0] = 1\n",
    "btrue[1] = -1\n",
    "\n",
    "s0 = np.square(np.array([0.001, 0.5, 1]))\n",
    "\n",
    "seed = 1\n",
    "robj.r('set.seed({})'.format(seed))\n",
    "X = robj.r.matrix(robj.r.rnorm(n*p), n, p)\n",
    "X = np.array(X)\n",
    "X = X - np.mean(X, axis = 0)\n",
    "yerr = robj.r.rnorm(n)\n",
    "y = np.dot(X, btrue) + np.array(yerr)\n",
    "y = y - np.mean(y)"
   ]
  },
  {
   "cell_type": "code",
   "execution_count": 15,
   "id": "69703427",
   "metadata": {
    "scrolled": false
   },
   "outputs": [],
   "source": [
    "s = 1\n",
    "w0 = np.repeat(1/3, 3)"
   ]
  },
  {
   "cell_type": "code",
   "execution_count": 17,
   "id": "3b4efeec",
   "metadata": {},
   "outputs": [
    {
     "data": {
      "text/plain": [
       "1"
      ]
     },
     "execution_count": 17,
     "metadata": {},
     "output_type": "execute_result"
    }
   ],
   "source": [
    "s"
   ]
  },
  {
   "cell_type": "code",
   "execution_count": null,
   "id": "931009a8",
   "metadata": {},
   "outputs": [],
   "source": [
    "'''\n",
    "get exact same X and y with the same seed as used by Peter.\n",
    "https://pcarbo.github.io/pcarbo/visualize_varbvs_surface.html\n",
    "'''\n",
    "seed = 1 \n",
    "robj.r('set.seed({})'.format(seed))\n",
    "r_mass = importr('MASS')\n",
    "X = r_mass.mvrnorm(n, rvec.FloatVector(np.zeros(2)), robj.r.matrix(S, nrow = 2, ncol = 2)) \n",
    "X = np.array(X)\n",
    "X = X - np.mean(X, axis = 0)\n",
    "yerr = robj.r.rnorm(n)\n",
    "y = np.dot(X, btrue) + np.array(yerr)\n",
    "y = y - np.mean(y)"
   ]
  }
 ],
 "metadata": {
  "kernelspec": {
   "display_name": "Python 3 (ipykernel)",
   "language": "python",
   "name": "python3"
  },
  "language_info": {
   "codemirror_mode": {
    "name": "ipython",
    "version": 3
   },
   "file_extension": ".py",
   "mimetype": "text/x-python",
   "name": "python",
   "nbconvert_exporter": "python",
   "pygments_lexer": "ipython3",
   "version": "3.9.12"
  }
 },
 "nbformat": 4,
 "nbformat_minor": 5
}
