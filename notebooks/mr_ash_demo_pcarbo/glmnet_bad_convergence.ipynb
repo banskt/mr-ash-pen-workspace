{
 "cells": [
  {
   "cell_type": "code",
   "execution_count": 1,
   "id": "44e4a877",
   "metadata": {},
   "outputs": [],
   "source": [
    "import numpy as np\n",
    "import rpy2.robjects as robj\n",
    "import rpy2.robjects.vectors as rvec\n",
    "from rpy2.robjects.packages import importr\n",
    "from rpy2.robjects import numpy2ri\n",
    "numpy2ri.activate()\n",
    "\n",
    "from mrashpen.inference.mrash_wrapR import MrASHR\n",
    "from mrashpen.inference.penalized_regression import PenalizedRegression as PLR"
   ]
  },
  {
   "cell_type": "code",
   "execution_count": 2,
   "id": "cb0dd3ea",
   "metadata": {},
   "outputs": [],
   "source": [
    "mrashR = importr('mr.ash.alpha')\n",
    "glmnetR = importr('glmnet')"
   ]
  },
  {
   "cell_type": "code",
   "execution_count": 3,
   "id": "1a6b0de6",
   "metadata": {},
   "outputs": [],
   "source": [
    "'''\n",
    "get exact same X and y with the same seed as used by Peter.\n",
    "https://github.com/pcarbo/mr-ash/blob/master/scripts/\n",
    "'''\n",
    "\n",
    "# Simulate data from the linear regression model y = x1*b1 + x2*b2 + e,\n",
    "# e ~ N(0,1) with b1 = 0.1, b2 = 0.1.\n",
    "\n",
    "n = 1000\n",
    "seed = 1\n",
    "robj.r('set.seed({})'.format(seed))\n",
    "x0 = np.array(robj.r.rnorm(n))\n",
    "X  = np.vstack((x0, x0)).T\n",
    "beta = np.array([0.1, 0.1])\n",
    "yerr = robj.r.rnorm(n)\n",
    "y    = np.dot(X, beta) + np.array(yerr)"
   ]
  },
  {
   "cell_type": "code",
   "execution_count": 4,
   "id": "efab97cb",
   "metadata": {},
   "outputs": [
    {
     "name": "stdout",
     "output_type": "stream",
     "text": [
      "0.08324812509587243\n",
      "[244]\n"
     ]
    }
   ],
   "source": [
    "glmnet_fit = glmnetR.glmnet(X, y, alpha = 0.9, standardize = False)\n",
    "b = np.array(robj.r['as.matrix'](robj.r.coef(glmnet_fit)))[1:]\n",
    "print (np.max(np.abs(b[0,:] - b[1,:])))\n",
    "print (glmnet_fit.rx2['npasses'])"
   ]
  },
  {
   "cell_type": "code",
   "execution_count": 5,
   "id": "d3e5e967",
   "metadata": {},
   "outputs": [
    {
     "name": "stdout",
     "output_type": "stream",
     "text": [
      "0.00022801184843943\n",
      "[67400]\n"
     ]
    }
   ],
   "source": [
    "glmnet_fit = glmnetR.glmnet(X, y, alpha = 0.9, thres = 1e-15, standardize = False)\n",
    "b = np.array(robj.r['as.matrix'](robj.r.coef(glmnet_fit)))[1:]\n",
    "print (np.max(np.abs(b[0,:] - b[1,:])))\n",
    "print (glmnet_fit.rx2['npasses'])"
   ]
  },
  {
   "cell_type": "code",
   "execution_count": 6,
   "id": "b6fb14fb",
   "metadata": {},
   "outputs": [
    {
     "name": "stdout",
     "output_type": "stream",
     "text": [
      "Mr.ASH terminated at iteration 100.\n",
      "[0.19223657 0.01418546]\n"
     ]
    }
   ],
   "source": [
    "sk2 = np.array([0, 1, 2])\n",
    "sk  = np.sqrt(sk2)\n",
    "wk  = np.array([0, 0.5, 0.5])\n",
    "\n",
    "mrash_r = MrASHR(option = \"r2py\", debug = True)\n",
    "mrash_r.fit(X, y, sk, s2init = 1, winit = wk, update_pi = False, update_sigma2 = False, maxiter = 100)\n",
    "print (mrash_r.coef)"
   ]
  },
  {
   "cell_type": "code",
   "execution_count": 7,
   "id": "118ec523",
   "metadata": {},
   "outputs": [
    {
     "name": "stdout",
     "output_type": "stream",
     "text": [
      "Mr.ASH terminated at iteration 6139.\n",
      "[0.10318978 0.10316636]\n",
      "mr.ash.pen terminated at iteration 2.\n",
      "[0.10316498 0.10316498]\n"
     ]
    }
   ],
   "source": [
    "mrash_r = MrASHR(option = \"r2py\", debug = True)\n",
    "mrash_r.fit(X, y, sk, s2init = 1, winit = wk, update_pi = False, update_sigma2 = False, maxiter = 8000)\n",
    "print (mrash_r.coef)\n",
    "\n",
    "plr_lbfgs = PLR(method = 'L-BFGS-B', optimize_w = False, optimize_s = False, is_prior_scaled = True,\n",
    "                debug = False, display_progress = False, calculate_elbo = False)\n",
    "plr_lbfgs.fit(X, y, sk, binit = None, winit = wk, s2init = 1)\n",
    "print(plr_lbfgs.coef)"
   ]
  },
  {
   "cell_type": "code",
   "execution_count": 8,
   "id": "fdbc7985",
   "metadata": {},
   "outputs": [
    {
     "name": "stdout",
     "output_type": "stream",
     "text": [
      "Mr.ASH terminated at iteration 23.\n",
      "[2.06233570e-01 6.26480391e-06]\n",
      "mr.ash.pen terminated at iteration 28.\n",
      "[0.10315504 0.10315504]\n"
     ]
    }
   ],
   "source": [
    "mrash_r = MrASHR(option = \"r2py\", debug = True)\n",
    "mrash_r.fit(X, y, sk, s2init = 1, winit = wk, update_pi = True, update_sigma2 = True, maxiter = 8000)\n",
    "print (mrash_r.coef)\n",
    "\n",
    "plr_lbfgs = PLR(method = 'L-BFGS-B', optimize_w = True, optimize_s = True, is_prior_scaled = True,\n",
    "                debug = False, display_progress = False, calculate_elbo = False)\n",
    "plr_lbfgs.fit(X, y, sk, binit = None, winit = wk, s2init = 1)\n",
    "print(plr_lbfgs.coef)"
   ]
  },
  {
   "cell_type": "code",
   "execution_count": null,
   "id": "879ea860",
   "metadata": {},
   "outputs": [],
   "source": []
  }
 ],
 "metadata": {
  "kernelspec": {
   "display_name": "Python 3 (ipykernel)",
   "language": "python",
   "name": "python3"
  },
  "language_info": {
   "codemirror_mode": {
    "name": "ipython",
    "version": 3
   },
   "file_extension": ".py",
   "mimetype": "text/x-python",
   "name": "python",
   "nbconvert_exporter": "python",
   "pygments_lexer": "ipython3",
   "version": "3.9.7"
  }
 },
 "nbformat": 4,
 "nbformat_minor": 5
}
